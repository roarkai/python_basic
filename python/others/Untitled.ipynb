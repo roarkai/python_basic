{
 "cells": [
  {
   "cell_type": "code",
   "execution_count": 1,
   "id": "a919a0ae",
   "metadata": {
    "ExecuteTime": {
     "end_time": "2024-10-29T08:46:28.315246Z",
     "start_time": "2024-10-29T08:46:27.846975Z"
    }
   },
   "outputs": [
    {
     "ename": "TypeError",
     "evalue": "First() takes no arguments",
     "output_type": "error",
     "traceback": [
      "\u001b[0;31m---------------------------------------------------------------------------\u001b[0m",
      "\u001b[0;31mTypeError\u001b[0m                                 Traceback (most recent call last)",
      "Cell \u001b[0;32mIn[1], line 6\u001b[0m\n\u001b[1;32m      4\u001b[0m     \u001b[38;5;28;01mdef\u001b[39;00m \u001b[38;5;21mgetdata\u001b[39m(\u001b[38;5;28mself\u001b[39m):\n\u001b[1;32m      5\u001b[0m         \u001b[38;5;28mprint\u001b[39m(\u001b[38;5;28mself\u001b[39m\u001b[38;5;241m.\u001b[39mdata)\n\u001b[0;32m----> 6\u001b[0m x \u001b[38;5;241m=\u001b[39m \u001b[43mFirst\u001b[49m\u001b[43m(\u001b[49m\u001b[38;5;124;43m'\u001b[39;49m\u001b[38;5;124;43mhello\u001b[39;49m\u001b[38;5;124;43m'\u001b[39;49m\u001b[43m)\u001b[49m\n\u001b[1;32m      7\u001b[0m y \u001b[38;5;241m=\u001b[39m First()\n",
      "\u001b[0;31mTypeError\u001b[0m: First() takes no arguments"
     ]
    }
   ],
   "source": [
    "class First:\n",
    "    def setdata(self, value):\n",
    "        self.data = value\n",
    "    def getdata(self):\n",
    "        print(self.data)\n",
    "x = First()\n",
    "y = First()"
   ]
  },
  {
   "cell_type": "code",
   "execution_count": 6,
   "id": "f425a643",
   "metadata": {
    "ExecuteTime": {
     "end_time": "2024-10-29T07:16:49.212630Z",
     "start_time": "2024-10-29T07:16:49.208455Z"
    }
   },
   "outputs": [
    {
     "name": "stdout",
     "output_type": "stream",
     "text": [
      "3\n"
     ]
    }
   ],
   "source": [
    "First.setdata(x, 3)\n",
    "x.getdata()"
   ]
  }
 ],
 "metadata": {
  "kernelspec": {
   "display_name": "Python 3 (ipykernel)",
   "language": "python",
   "name": "python3"
  },
  "language_info": {
   "codemirror_mode": {
    "name": "ipython",
    "version": 3
   },
   "file_extension": ".py",
   "mimetype": "text/x-python",
   "name": "python",
   "nbconvert_exporter": "python",
   "pygments_lexer": "ipython3",
   "version": "3.10.14"
  }
 },
 "nbformat": 4,
 "nbformat_minor": 5
}
