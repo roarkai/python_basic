{
 "cells": [
  {
   "cell_type": "code",
   "execution_count": 3,
   "id": "a919a0ae",
   "metadata": {
    "ExecuteTime": {
     "end_time": "2024-10-29T07:16:24.650119Z",
     "start_time": "2024-10-29T07:16:24.644389Z"
    }
   },
   "outputs": [],
   "source": [
    "class First:\n",
    "    def setdata(self, value):\n",
    "        self.data = value\n",
    "    def getdata(self):\n",
    "        print(self.data)\n",
    "x = First()\n",
    "y = First()"
   ]
  },
  {
   "cell_type": "code",
   "execution_count": 6,
   "id": "f425a643",
   "metadata": {
    "ExecuteTime": {
     "end_time": "2024-10-29T07:16:49.212630Z",
     "start_time": "2024-10-29T07:16:49.208455Z"
    }
   },
   "outputs": [
    {
     "name": "stdout",
     "output_type": "stream",
     "text": [
      "3\n"
     ]
    }
   ],
   "source": [
    "First.setdata(x, 3)\n",
    "x.getdata()"
   ]
  }
 ],
 "metadata": {
  "kernelspec": {
   "display_name": "Python 3 (ipykernel)",
   "language": "python",
   "name": "python3"
  },
  "language_info": {
   "codemirror_mode": {
    "name": "ipython",
    "version": 3
   },
   "file_extension": ".py",
   "mimetype": "text/x-python",
   "name": "python",
   "nbconvert_exporter": "python",
   "pygments_lexer": "ipython3",
   "version": "3.10.14"
  }
 },
 "nbformat": 4,
 "nbformat_minor": 5
}
