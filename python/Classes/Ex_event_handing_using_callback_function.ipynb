{
 "cells": [
  {
   "cell_type": "markdown",
   "id": "c49a6dcc",
   "metadata": {},
   "source": [
    "## Ex: event handing using call back function"
   ]
  },
  {
   "cell_type": "markdown",
   "id": "f1137f72",
   "metadata": {},
   "source": [
    "1. The EventSystem class manages event subscriptions and emissions:\n",
    "   - subscribe: Registers a callback function for a specific event\n",
    "   - unsubscribe: Removes a callback function\n",
    "   - emit: Triggers all callbacks registered for an event\n",
    "2. The ShoppingCart class uses the event system to:\n",
    "   - Emit events when items are added/removed\n",
    "   - Emit a checkout event with cart data\n",
    "3. Callback functions (on_item_added, on_item_removed, on_cart_checkout) handle specific events"
   ]
  },
  {
   "cell_type": "code",
   "execution_count": 1,
   "id": "cf1cf839",
   "metadata": {
    "ExecuteTime": {
     "end_time": "2024-10-29T05:43:23.855529Z",
     "start_time": "2024-10-29T05:43:23.835963Z"
    },
    "collapsed": true
   },
   "outputs": [
    {
     "name": "stdout",
     "output_type": "stream",
     "text": [
      "=== Starting Shopping Session ===\n",
      "Item added to cart: Laptop\n",
      "Sending notification to inventory system...\n",
      "Item added to cart: Mouse\n",
      "Sending notification to inventory system...\n",
      "Item removed from cart: Mouse\n",
      "Updating inventory count...\n",
      "Item added to cart: Keyboard\n",
      "Sending notification to inventory system...\n",
      "Checkout completed!\n",
      "Items purchased: ['Laptop', 'Keyboard']\n",
      "Total amount: $20\n"
     ]
    }
   ],
   "source": [
    "class EventSystem:\n",
    "    def __init__(self):\n",
    "        # Dictionary to store event types and their subscribers (callbacks)\n",
    "        self.subscribers = {}\n",
    "    \n",
    "    def subscribe(self, event_type, callback):\n",
    "        \"\"\"Subscribe a callback function to an event type\"\"\"\n",
    "        if event_type not in self.subscribers:\n",
    "            self.subscribers[event_type] = []\n",
    "        self.subscribers[event_type].append(callback)\n",
    "        \n",
    "    def unsubscribe(self, event_type, callback):\n",
    "        \"\"\"Remove a callback function from an event type\"\"\"\n",
    "        if event_type in self.subscribers:\n",
    "            self.subscribers[event_type].remove(callback)\n",
    "            \n",
    "    def emit(self, event_type, data=None):\n",
    "        \"\"\"Emit an event, triggering all subscribed callbacks\"\"\"\n",
    "        if event_type in self.subscribers:\n",
    "            for callback in self.subscribers[event_type]:\n",
    "                callback(data)\n",
    "\n",
    "# Example usage with a simple shopping cart system\n",
    "def on_item_added(item):\n",
    "    print(f\"Item added to cart: {item}\")\n",
    "    print(f\"Sending notification to inventory system...\")\n",
    "\n",
    "def on_item_removed(item):\n",
    "    print(f\"Item removed from cart: {item}\")\n",
    "    print(f\"Updating inventory count...\")\n",
    "\n",
    "def on_cart_checkout(data):\n",
    "    items, total = data\n",
    "    print(f\"Checkout completed!\")\n",
    "    print(f\"Items purchased: {items}\")\n",
    "    print(f\"Total amount: ${total}\")\n",
    "\n",
    "class ShoppingCart:\n",
    "    def __init__(self, event_system):\n",
    "        self.items = []\n",
    "        self.events = event_system\n",
    "        \n",
    "    def add_item(self, item):\n",
    "        self.items.append(item)\n",
    "        self.events.emit('item_added', item)\n",
    "        \n",
    "    def remove_item(self, item):\n",
    "        if item in self.items:\n",
    "            self.items.remove(item)\n",
    "            self.events.emit('item_removed', item)\n",
    "            \n",
    "    def checkout(self):\n",
    "        total = len(self.items) * 10  # Simplified price calculation\n",
    "        self.events.emit('checkout', (self.items, total))\n",
    "        self.items = []  # Clear cart after checkout\n",
    "\n",
    "# Demo of the event system\n",
    "def run_demo():\n",
    "    # Create event system\n",
    "    events = EventSystem()\n",
    "    \n",
    "    # Create shopping cart\n",
    "    cart = ShoppingCart(events)\n",
    "    \n",
    "    # Subscribe to events\n",
    "    events.subscribe('item_added', on_item_added)\n",
    "    events.subscribe('item_removed', on_item_removed)\n",
    "    events.subscribe('checkout', on_cart_checkout)\n",
    "    \n",
    "    # Simulate shopping activities\n",
    "    print(\"=== Starting Shopping Session ===\")\n",
    "    cart.add_item(\"Laptop\")\n",
    "    cart.add_item(\"Mouse\")\n",
    "    cart.remove_item(\"Mouse\")\n",
    "    cart.add_item(\"Keyboard\")\n",
    "    cart.checkout()\n",
    "\n",
    "if __name__ == \"__main__\":\n",
    "    run_demo()"
   ]
  }
 ],
 "metadata": {
  "kernelspec": {
   "display_name": "Python 3 (ipykernel)",
   "language": "python",
   "name": "python3"
  },
  "language_info": {
   "codemirror_mode": {
    "name": "ipython",
    "version": 3
   },
   "file_extension": ".py",
   "mimetype": "text/x-python",
   "name": "python",
   "nbconvert_exporter": "python",
   "pygments_lexer": "ipython3",
   "version": "3.10.14"
  }
 },
 "nbformat": 4,
 "nbformat_minor": 5
}
