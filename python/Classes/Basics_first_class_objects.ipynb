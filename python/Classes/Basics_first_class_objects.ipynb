{
 "cells": [
  {
   "cell_type": "markdown",
   "id": "76aef214",
   "metadata": {},
   "source": [
    "# First-class objects in Python"
   ]
  },
  {
   "cell_type": "markdown",
   "id": "4f65492e",
   "metadata": {},
   "source": [
    "## I. 概念和特征\n",
    "### I.1 概念\n",
    "#### 1. 什么是first class objects\n",
    "- first class objects就是支持所有basic operations available to other objects的objects。\n",
    "1. Assigned to variables\n",
    "2. Passed as arguments to functions\n",
    "3. Returned from functions\n",
    "4. Stored in data structures"
   ]
  },
  {
   "cell_type": "markdown",
   "id": "cd00a418",
   "metadata": {},
   "source": [
    "#### 2. 为什么这些对象类型被称为'first-class'\n",
    "- The term \"first-class\" comes from computer science theory, where it means these objects are treated as \"first-class citizens\" - they have all the rights and privileges that any other object has. \n",
    "- 比如说，在有的语言中，functions就是\"second-class citizens\"。因为他们不能做为参数传递，也不能stored like regular data。"
   ]
  },
  {
   "cell_type": "markdown",
   "id": "b8f22e8e",
   "metadata": {},
   "source": [
    "#### 3. python中所有对象都是first-class objects\n",
    "- In Python, actually, there aren't any non-first-class objects! This is one of Python's key features - everything in Python is an object, and all objects are first-class. This is why Python is said to have \"first-class everything.\""
   ]
  },
  {
   "cell_type": "markdown",
   "id": "5c4a0f5b",
   "metadata": {},
   "source": [
    "### I.2 功能和典型用途\n",
    "1. Functional programming paradigms\n",
    "   - 含义理解：emphasizes the use of functions to construct software. It treats computation as the evaluation of mathematical functions and avoids changing state and mutable data. (vs. OOP是另一种理念，它强调使用class，此时就会直接改变state和data。)\n",
    "   - python既使用了functional programming paradigm又用了OOP。\n",
    "```python\n",
    "\n",
    "```\n",
    "2. Decorator patterns\n",
    "```python\n",
    "\n",
    "```\n",
    "3. Callback functions\n",
    "```python\n",
    "\n",
    "```\n",
    "4. Higher-order functions\n",
    "```python\n",
    "# use function as argument\n",
    "def apply_function(func, value):\n",
    "    return func(value)\n",
    "\n",
    "# return a function\n",
    "def make_multiplier(factor):\n",
    "    def multiply(x):\n",
    "        return x * factor\n",
    "    return multiply\n",
    "```\n",
    "5. Dynamic behavior at runtime\n",
    "```python\n",
    "def act(f, *args, **kargs):\n",
    "    return f(*args, **kargs)\n",
    "```"
   ]
  },
  {
   "cell_type": "code",
   "execution_count": 3,
   "id": "18933e8d",
   "metadata": {
    "ExecuteTime": {
     "end_time": "2024-10-29T06:10:55.498409Z",
     "start_time": "2024-10-29T06:10:55.487045Z"
    }
   },
   "outputs": [
    {
     "data": {
      "text/plain": [
       "8"
      ]
     },
     "execution_count": 3,
     "metadata": {},
     "output_type": "execute_result"
    }
   ],
   "source": [
    "def act(f, *args, **kargs):\n",
    "    return f(*args, **kargs)\n",
    "act(pow, 2, 3)"
   ]
  },
  {
   "cell_type": "markdown",
   "id": "6f4b851b",
   "metadata": {},
   "source": [
    "### I.2 python中的first-class objects\n",
    "1. Numbers (integers, floats, complex numbers)\n",
    "```python\n",
    "x = 42  # integer\n",
    "y = 3.14  # float\n",
    "z = 1 + 2j  # complex\n",
    "```\n",
    "\n",
    "2. Strings\n",
    "```python\n",
    "text = \"Hello, World!\"\n",
    "```\n",
    "\n",
    "3. Functions\n",
    "```python\n",
    "def greet(name):\n",
    "    return f\"Hello {name}\"\n",
    "    \n",
    "# Function assigned to variable\n",
    "say_hello = greet\n",
    "```\n",
    "\n",
    "4. Classes\n",
    "```python\n",
    "class MyClass:\n",
    "    pass\n",
    "    \n",
    "# Class assigned to variable\n",
    "MyClassAlias = MyClass\n",
    "```\n",
    "\n",
    "5. Methods\n",
    "```python\n",
    "class Example:\n",
    "    def method(self):\n",
    "        pass\n",
    "        \n",
    "obj = Example()\n",
    "method_reference = obj.method\n",
    "```\n",
    "\n",
    "6. Modules\n",
    "```python\n",
    "import math\n",
    "math_module = math\n",
    "```\n",
    "\n",
    "7. Lists, Tuples, Sets, Dictionaries\n",
    "```python\n",
    "my_list = [1, 2, 3]\n",
    "my_tuple = (1, 2, 3)\n",
    "my_set = {1, 2, 3}\n",
    "my_dict = {\"a\": 1, \"b\": 2}\n",
    "```\n",
    "\n",
    "8. Type objects\n",
    "```python\n",
    "string_type = str\n",
    "number_type = int\n",
    "```\n",
    "\n",
    "9. None (Python's null object)\n",
    "```python\n",
    "result = None\n",
    "```\n",
    "\n",
    "10. Boolean values\n",
    "```python\n",
    "flag = True\n",
    "```\n",
    "\n",
    "11. Generators\n",
    "```python\n",
    "def gen():\n",
    "    yield 1\n",
    "    yield 2\n",
    "```\n",
    "\n",
    "12. Lambdas (anonymous functions)\n",
    "```python\n",
    "square = lambda x: x**2\n",
    "```\n",
    "\n",
    "13. Iterators\n",
    "```python\n",
    "iterator = iter([1, 2, 3])\n",
    "```"
   ]
  },
  {
   "cell_type": "code",
   "execution_count": null,
   "id": "394a6504",
   "metadata": {},
   "outputs": [],
   "source": []
  },
  {
   "cell_type": "markdown",
   "id": "71d63ac5",
   "metadata": {},
   "source": []
  },
  {
   "cell_type": "markdown",
   "id": "de057b6a",
   "metadata": {},
   "source": []
  },
  {
   "cell_type": "code",
   "execution_count": 1,
   "id": "d50589ce",
   "metadata": {
    "ExecuteTime": {
     "end_time": "2024-10-29T04:07:41.280788Z",
     "start_time": "2024-10-29T04:07:41.274653Z"
    }
   },
   "outputs": [
    {
     "name": "stdout",
     "output_type": "stream",
     "text": [
      "bob\n"
     ]
    }
   ],
   "source": [
    "class C1():\n",
    "    def setname(self, name):\n",
    "        self.name = name\n",
    "    def printname(self):\n",
    "        print(self.name)\n",
    "mem1 = C1()\n",
    "mem1.setname('bob')\n",
    "mem1.printname()"
   ]
  }
 ],
 "metadata": {
  "kernelspec": {
   "display_name": "Python 3 (ipykernel)",
   "language": "python",
   "name": "python3"
  },
  "language_info": {
   "codemirror_mode": {
    "name": "ipython",
    "version": 3
   },
   "file_extension": ".py",
   "mimetype": "text/x-python",
   "name": "python",
   "nbconvert_exporter": "python",
   "pygments_lexer": "ipython3",
   "version": "3.10.14"
  }
 },
 "nbformat": 4,
 "nbformat_minor": 5
}
