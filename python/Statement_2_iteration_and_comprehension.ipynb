{
 "cells": [
  {
   "cell_type": "markdown",
   "id": "2a22a5c8",
   "metadata": {},
   "source": [
    "# Iterations and comprehensions\n",
    "## I. 基本概念\n",
    "### I.1 相关对象和工具\n",
    "1.  <font color=blue>**iterable**</font>: \n",
    "   - 支持iter call的对象，也就是定义了<code>\\_\\_iter__</code> mehtod，且其返回值是一个iterator类型的对象。<code>iter(obj)</code>会invoke <code>obj.\\_\\_iter__() </code>\n",
    "   - 包括：\n",
    "     1. 属于sequence的那些类型，如：list, string, tuple\n",
    "     2. file object\n",
    "     3. <font color=orange>**dictionary, keys of dictionary, range**</font>, 以及<font color=orange>**map, zip, emumerate, filter的返回值**</font>，等\n",
    "2. <font color=blue>**iterator**</font>: \n",
    "   - 按下面规则定义了<code>\\_\\_next__</code> method的对象都是iterator。\n",
    "     - <font color=blue>**规则**：<code>\\_\\_next__</code>每次返回对象中的一个元素，直到遍历所有元素后raise <code>StopIteration exception</code></font>\n",
    "   - built-in iterable在被iter()invoke之后得到的返回值就是典型的iterator\n",
    "   - 自定义iterable时，必须定义对应的iterator"
   ]
  },
  {
   "cell_type": "markdown",
   "id": "855c4170",
   "metadata": {},
   "source": [
    "3. <font color=blue>**既是iterable又是iterator**</font>: \n",
    "   - 如果一个iterable对象的<code>\\_\\_iter__</code>method返回值是它自身，且又定义了<code>\\_\\_next__</code>method，且那么它**既是iterable又是iterator**。"
   ]
  },
  {
   "cell_type": "markdown",
   "id": "c4c0d511",
   "metadata": {},
   "source": [
    "#### <font color=deeppink>概念再区分：</font>\n",
    "1. <font color=green>**既是iterable又是iterator：**</font>\n",
    "   - 定义了<code>\\_\\_iter__</code> method的iterable对象。如果且它还同时定义了<code>\\_\\_next__</code> method，那么该iterable也是iterator。\n",
    "2. <font color=green>**单iterable：**</font>\n",
    "   - 定义了<code>\\_\\_iter__</code> method的iterable对象。如果<code>\\_\\_iter__</code> method的返回值是一个新的iterator对象，该对象中定义了<code>\\_\\_next__</code> method。\n",
    "3. <font color=green>**单iterator：**</font>\n",
    "   - 定义了<code>\\_\\_next__</code> method，但没有定义<code>\\_\\_iter__</code> method。"
   ]
  },
  {
   "cell_type": "code",
   "execution_count": 16,
   "id": "6f43d739",
   "metadata": {
    "ExecuteTime": {
     "end_time": "2024-10-28T03:02:02.498885Z",
     "start_time": "2024-10-28T03:02:02.491234Z"
    }
   },
   "outputs": [
    {
     "name": "stdout",
     "output_type": "stream",
     "text": [
      "[1, 2, 3]\n",
      "[1, 2, 3]\n"
     ]
    }
   ],
   "source": [
    "# 定义一般的iterable\n",
    "class CountUpToIterable:\n",
    "    def __init__(self, limit):\n",
    "        self.limit = limit\n",
    "    \n",
    "    def __iter__(self):\n",
    "        return CountUpToIterator(self.limit)  # Returns new iterator\n",
    "\n",
    "# 定义对应的iterator\n",
    "class CountUpToIterator:\n",
    "    def __init__(self, limit):\n",
    "        self.limit = limit\n",
    "        self.current = 0\n",
    "    \n",
    "    def __next__(self):\n",
    "        if self.current >= self.limit:\n",
    "            raise StopIteration\n",
    "        self.current += 1\n",
    "        return self.current\n",
    "\n",
    "# Can iterate multiple times\n",
    "counter = CountUpToIterable(3)\n",
    "print(list(counter))  # [1, 2, 3]\n",
    "print(list(counter))  # [1, 2, 3] - works again!"
   ]
  },
  {
   "cell_type": "markdown",
   "id": "acecb5b9",
   "metadata": {},
   "source": [
    "- <font color=blue>**iteration tools**</font>: \n",
    "  - 是使用iterable对象的工具。他们根据**iteration protocol**中的规则来用iterable构造iterator，并执行遍历。\n",
    "    - <font color=red>**iterable**是遍历的对象，而**iterator**是为了执行遍历而由iteration tool生成的临时对象。</font>\n",
    "  - 包括：for loop, list comprehension, map, zip, range, etc\n",
    "- <font color=green>**特点：通常情况下，在实现遍历的不同方式中，一些built-in iterable + iteration tool用C实现，运行效率高。**</font>\n",
    "  - **fast**：比如list comprehension和map的实现就做了优化，runs at C language sppeed inside Python.\n",
    "    - 同样的代码内容，list comprehension和map都比for loop快\n",
    "    - list comprehension又比map快\n",
    "  - <font color=norange>**memory efficient**</font>: iterator的迭代是lazy的，因为每次call<code>\\_\\_next__</code>才会提供下一个结果，不会一次生成所有element sequence来占用存储空间。"
   ]
  },
  {
   "cell_type": "markdown",
   "id": "4e5dc159",
   "metadata": {},
   "source": [
    "### I.2 iteration tool的工作方式\n",
    "#### 1. iteration protocol\n",
    "- 由两个主要的组件：<code>\\_\\_iter__</code> method和<code>\\_\\_next__</code> method\n",
    "- protocol工作的规则是：\n",
    "  1. iteration tool会先call <code>iter(iterable)</code>，得到其返回值iterator\n",
    "     - <font color=orange>有的iterable自身就是iterator，此时<code>iter(iterable)</code>的返回值是<code>self</code>，就是对象自身。比如：file object</font>\n",
    "     - <font color=orange>**list, dictionary**等常规的iterable都返回新的iterator对象。</font>\n",
    "  2. 开始遍历后：iteration tool会反复call <code>iterator.\\_\\_next__()</code>，得到其返回的object。\n",
    "     - 如果返回正常的object，则按照代码中的需要将其用于计算过程，并继续下一次遍历。\n",
    "     - 如果返回了<code>StopIteration exception</code>则结束遍历。"
   ]
  },
  {
   "cell_type": "markdown",
   "id": "4f94daaa",
   "metadata": {},
   "source": [
    "#### 2. iteration tool用在iterable和iterator上的不同结果\n",
    "- <font color=green>**非iterator的iterable支持反复遍历，iterator只能做一次遍历。**</font>\n",
    "  - <font color=blue>**非iterator的iterable对象**</font>：\n",
    "    - 每次iteration tool invoke <code>iter(iterable)</code>的时候，都会返回一个新的iterator对象，每个iterator都可以遍历一次。\n",
    "  - <font color=blue>**iterable同时是iterator**</font>：\n",
    "    - iteration tool invoke <code>iter(iterator)</code>的时候，返回该对象自己。每次call<code>\\_\\_next__</code>也是在对象自己的元素中遍历，直到遇到<code>StopIteration</code>之后遍历结束。\n",
    "    - 再次invoke<code>iter(iterator)</code>不会重启遍历"
   ]
  },
  {
   "cell_type": "code",
   "execution_count": 2,
   "id": "7853aab9",
   "metadata": {
    "ExecuteTime": {
     "end_time": "2024-10-27T15:33:33.382859Z",
     "start_time": "2024-10-27T15:33:33.373710Z"
    }
   },
   "outputs": [
    {
     "name": "stdout",
     "output_type": "stream",
     "text": [
      "[1, 2, 3]\n",
      "[]\n",
      "[1, 2, 3]\n"
     ]
    }
   ],
   "source": [
    "# 既是iterable，又是iterator\n",
    "class CountUpTo:\n",
    "    def __init__(self, limit):\n",
    "        self.limit = limit\n",
    "        self.current = 0\n",
    "    \n",
    "    def __iter__(self):\n",
    "        return self  # Returns self, making it an iterator\n",
    "    \n",
    "    def __next__(self):\n",
    "        if self.current >= self.limit:\n",
    "            raise StopIteration\n",
    "        self.current += 1\n",
    "        return self.current\n",
    "\n",
    "# Can only iterate once\n",
    "counter = CountUpTo(3)\n",
    "print(list(counter))  # [1, 2, 3]\n",
    "print(list(counter))  # [] - already exhausted!\n",
    "\n",
    "# Need to create new instance for another iteration\n",
    "counter2 = CountUpTo(3)\n",
    "print(list(counter2))  # [1, 2, 3]"
   ]
  },
  {
   "cell_type": "markdown",
   "id": "e9acac04",
   "metadata": {},
   "source": [
    "### I.3 iteration tool的适用对象\n",
    "- 所有支持iteration protocol的对象: iterable和generator\n",
    "  1. <font color=green>**iterable**</font>\n",
    "     - 单iterable或者同时是iterator的iterable都可以\n",
    "     - 但是<font color=red>单iterator</font>不行，因为iteration protocol需要<code>\\_\\_iter__</code> method\n",
    "  2. <font color=green>**generator**</font>\n",
    "     - 在用yield作为返回值定义function时，python会自动帮generator加上<code>\\_\\_iter__</code> 和<code>\\_\\_next__</code>这两个method，设置<code>\\_\\_iter__</code>的返回值为对象本身，并根据函数体中的code内容<font color=orange>(从yield后一行到再次执行完yield)</font>来设置<code>\\_\\_next__</code>的返回值。"
   ]
  },
  {
   "cell_type": "code",
   "execution_count": 18,
   "id": "69c59721",
   "metadata": {
    "ExecuteTime": {
     "end_time": "2024-10-28T03:17:14.035299Z",
     "start_time": "2024-10-28T03:17:14.030261Z"
    }
   },
   "outputs": [
    {
     "name": "stdout",
     "output_type": "stream",
     "text": [
      "<method-wrapper '__iter__' of generator object at 0x76b221255ee0> <method-wrapper '__next__' of generator object at 0x76b221255ee0>\n"
     ]
    }
   ],
   "source": [
    "def count_up_to(n):\n",
    "    count = 1\n",
    "    while count <= n:\n",
    "        yield count\n",
    "        count += 1\n",
    "\n",
    "counter = count_up_to(4)\n",
    "print(counter.__iter__, counter.__next__)"
   ]
  },
  {
   "cell_type": "markdown",
   "id": "bf9532b6",
   "metadata": {},
   "source": [
    "## II. 典型的iterable"
   ]
  },
  {
   "cell_type": "markdown",
   "id": "1d1e9c06",
   "metadata": {},
   "source": [
    "### II.1 string, list, tuple, dictionary和range等只是iterable\n",
    "- iteration tool工作方式：\n",
    "  - for loop会将iterable，这里的file object，传给<code>iter()</code>。\n",
    "  - <code>iter(file_obj)</code>返回一个iterator。iterator自带了<code>next()</code> method.\n",
    "  - for会在每次遍历中invoke <code>next()</code> method来执行遍历的内容。"
   ]
  },
  {
   "cell_type": "markdown",
   "id": "0412f10e",
   "metadata": {},
   "source": [
    "### II.2 file object, generator以及<code>map(), zip()和filter()</code>等函数的返回值既是iterable，又是iterator\n",
    "- <code>for line in file: ...</code>\n",
    "- iteration tool工作方式：\n",
    "  - file作为iterator自带了<code>next()</code> method.\n",
    "  - for会在每次遍历中invoke <code>next()</code> method来执行遍历的内容。"
   ]
  },
  {
   "cell_type": "code",
   "execution_count": 3,
   "id": "7e6fd5ce",
   "metadata": {
    "ExecuteTime": {
     "end_time": "2024-10-27T15:33:33.390576Z",
     "start_time": "2024-10-27T15:33:33.385177Z"
    }
   },
   "outputs": [
    {
     "name": "stdout",
     "output_type": "stream",
     "text": [
      "True\n",
      "# -*- CODING: UTF-8\n",
      "IMPORT SYS\n",
      "PRINT(SYS.PATH)\n",
      "\n",
      "X = '文本'\n",
      "Y = '\\XC4\\XE8'\n",
      "FOR I IN X, Y:\n",
      "    PRINT(F'{I}, {LEN(I)},{I.ENCODE()},  {I.ENCODE(''UTF-8)}')\n",
      "\n"
     ]
    }
   ],
   "source": [
    "# 用for loop按行读文件\n",
    "with open('script.py', 'r') as f:\n",
    "    print(iter(f) is f)\n",
    "    for line in f:\n",
    "        print(line.upper(), end='') # 文档每行结尾有'\\n'，所以要suppress print中默认结尾加'\\n'"
   ]
  },
  {
   "cell_type": "markdown",
   "id": "1e5e0b14",
   "metadata": {},
   "source": [
    "## III. 典型的iteration tools\n",
    "- \n"
   ]
  },
  {
   "cell_type": "markdown",
   "id": "54d9f335",
   "metadata": {},
   "source": [
    "### III.1 for loop\n",
    "略"
   ]
  },
  {
   "cell_type": "markdown",
   "id": "d3053ac3",
   "metadata": {},
   "source": [
    "### III.2 各种形式的comprehension\n",
    "- 常见形态：\n",
    "  - <font color=blue>**list comprehension**</font>: <code>[expression(i) for i in iterable]</code>\n",
    "  - <font color=blue>**dict comprehension**</font>: <code>{key: v for key, v in zip(x, y)}</code>\n",
    "  - <font color=blue>**generator comprehension**</font>: <code>(expression(i) for i in iterable)</code>\n",
    "    - <font color=orange>注：用'()'得到的是generator comprehension，不是tuple comprehension</font>。\n",
    "  - <font color=blue>**tuple comprehension**</font>: <code>tuple(expression(i) for i in iterable)</code>\n",
    "    - <font color=green>用tuple comprehension的场景：生成的tuple sequence是immutable</font>\n",
    "#### III.2.1 list comprehension\n",
    "- 用法\n",
    "  - 形态：<code>[func(i) for i in iterable]</code>\n",
    "  - 以file为例：\n",
    "    - <code>[func(line) for line in open('file_name')]</code>\n",
    "    - 特点是不会一开始就读出来整个文档，而是处理一行读取一行。\n",
    "    - 下面这种方式就是要先读出来整个文档，然后再逐行处理：\n",
    "    ```python\n",
    "    lines = open('file_name').readlines()\n",
    "    [func(line) for line in lines]         # 虽然都是list comprehension，但执行效果不同\n",
    "    ```"
   ]
  },
  {
   "cell_type": "markdown",
   "id": "124af619",
   "metadata": {},
   "source": [
    "- 扩展形态\n",
    "  - <font color=green>**嵌套方式依据python从左到右执行statement的原则来判断。**</font>\n",
    "  1. 加条件\n",
    "     - 形式：<code>[expression(i) for i in iterable if func(i)]</code>\n",
    "  2. 双层遍历：\n",
    "     - 形式1：<code>[expression(j)  for i in iterable for j in i]</code>\n",
    "     - 形式2：<code>[expression(i,j)  for i in iterable_1 for j in iterable_2]</code>"
   ]
  },
  {
   "cell_type": "markdown",
   "id": "49ded7cb",
   "metadata": {},
   "source": [
    "#### III.2.2  generator comprehension\n",
    "- **generator comprehension和其他几种常见comprehension的最主要区别**：\n",
    "  - generator comprehension的返回值是一个generator，它在遍历的时候是lazy的\n",
    "  - list, dict, tuple comprehension的返回值是对应的sequence object。"
   ]
  },
  {
   "cell_type": "code",
   "execution_count": 4,
   "id": "c2d12cdd",
   "metadata": {
    "ExecuteTime": {
     "end_time": "2024-10-27T15:33:33.398492Z",
     "start_time": "2024-10-27T15:33:33.393695Z"
    }
   },
   "outputs": [
    {
     "name": "stdout",
     "output_type": "stream",
     "text": [
      "[5, 9, 6]\n",
      "<generator object <genexpr> at 0x76b22c3802e0>\n"
     ]
    }
   ],
   "source": [
    "my_list = [1, 3, 5, 9, 2, 6]\n",
    "filtered_list = [item for item in my_list if item > 3]\n",
    "filtered_generator = (item for item in my_list if item > 3)\n",
    "print(filtered_list)\n",
    "print(filtered_generator)"
   ]
  },
  {
   "cell_type": "markdown",
   "id": "8e466a3b",
   "metadata": {},
   "source": []
  },
  {
   "cell_type": "markdown",
   "id": "b79cfe63",
   "metadata": {},
   "source": []
  }
 ],
 "metadata": {
  "kernelspec": {
   "display_name": "Python 3 (ipykernel)",
   "language": "python",
   "name": "python3"
  },
  "language_info": {
   "codemirror_mode": {
    "name": "ipython",
    "version": 3
   },
   "file_extension": ".py",
   "mimetype": "text/x-python",
   "name": "python",
   "nbconvert_exporter": "python",
   "pygments_lexer": "ipython3",
   "version": "3.10.14"
  }
 },
 "nbformat": 4,
 "nbformat_minor": 5
}
