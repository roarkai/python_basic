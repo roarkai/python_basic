{
 "cells": [
  {
   "cell_type": "markdown",
   "id": "cecab714",
   "metadata": {},
   "source": [
    "# Function scope and closure\n",
    "## I. scope\n",
    "### I.1 基本概念\n",
    "#### 1. scope和namespace\n",
    "- **定义**：\n",
    "  - 在python代码中使用name的时候，python在create, change,look up这个name的时候都是在对应的namespace中进行操作。<font color=blue>namespace就是python存放name的地方。</font>\n",
    "  - name赋值的位置(assignment location)决定了name所在的namespace，也就决定了name的visibility scope\n",
    "- **namespace的层次**：\n",
    "  - 以module为界限，以function的定义为分层标准，代码结构被分成了不同的namespace layer\n",
    "    - <font color=blue>**global**</font>：如果name赋值在所有的def 外面，则name是<font color=blue>**global**</font> to <font color=orange>**the entire file(module)**</font>\n",
    "      - 所有的global都是相对于module而言的，指的是name定义在module的top-level，没有定义在module中的function里面。\n",
    "      - 一个module file对应一个global scope\n",
    "    - <font color=blue>**nonlocal**</font>：如果name定义在一个enclosing function对应的def里面，则name是<font color=blue>**nonlocal**</font> to <font color=orange>**nested functions**</font>\n",
    "    - <font color=blue>**local**</font>：如果name的赋值是在function对应的def里面，则name是<font color=blue>**local**</font> to <font color=orange>**the function**</font>"
   ]
  },
  {
   "cell_type": "markdown",
   "id": "98a825aa",
   "metadata": {},
   "source": [
    "#### 2. late binding\n",
    "- **含义**：python为了支持dynamic typin而采用的一种变量赋值策略，也就是resolution of function, method calls and property accesses at runtime而不是compile time。也就是说，函数在运行时才会invoke，因此相应的变量才会根据当时的条件赋值。"
   ]
  },
  {
   "cell_type": "code",
   "execution_count": 1,
   "id": "55a44dc8",
   "metadata": {
    "ExecuteTime": {
     "end_time": "2024-10-26T09:09:38.228431Z",
     "start_time": "2024-10-26T09:09:38.215945Z"
    }
   },
   "outputs": [
    {
     "name": "stdout",
     "output_type": "stream",
     "text": [
      "Woof!\n",
      "Meow!\n"
     ]
    }
   ],
   "source": [
    "class Animal:\n",
    "    def speak(self):\n",
    "        raise NotImplementedError(\"Subclasses should implement this method!\")\n",
    "\n",
    "class Dog(Animal):\n",
    "    def speak(self):\n",
    "        return \"Woof!\"\n",
    "\n",
    "class Cat(Animal):\n",
    "    def speak(self):\n",
    "        return \"Meow!\"\n",
    "\n",
    "def make_animal_speak(animal):\n",
    "    print(animal.speak())\n",
    "\n",
    "dog = Dog()\n",
    "cat = Cat()\n",
    "\n",
    "make_animal_speak(dog)  # speak method is resolved at runtime \n",
    "make_animal_speak(cat)  # based on the actual type of the object (Dog or Cat)"
   ]
  },
  {
   "cell_type": "markdown",
   "id": "18bc5910",
   "metadata": {},
   "source": [
    "- **带来的问题**：late binding problem\n",
    "  - <font color=red>这个问题特别容易在closure中出现</font>[closure定义见后文]\n",
    "    - 因为closure中的nonlocal variable在所有nested function之间share，在同一时间点，所有nested function拿到的都是相同取值"
   ]
  },
  {
   "cell_type": "code",
   "execution_count": 2,
   "id": "fc5fc9ff",
   "metadata": {
    "ExecuteTime": {
     "end_time": "2024-10-26T09:09:38.241362Z",
     "start_time": "2024-10-26T09:09:38.231033Z"
    }
   },
   "outputs": [
    {
     "name": "stdout",
     "output_type": "stream",
     "text": [
      "[4, 4, 4]\n"
     ]
    }
   ],
   "source": [
    "# late binding problem\n",
    "functions = []\n",
    "for n in range(3):\n",
    "    def func(x):\n",
    "        return n * x\n",
    "    functions.append(func)\n",
    "\n",
    "results = [function(2) for function in functions]\n",
    "print(results) "
   ]
  },
  {
   "cell_type": "code",
   "execution_count": 3,
   "id": "debd50f7",
   "metadata": {
    "ExecuteTime": {
     "end_time": "2024-10-26T09:09:38.248792Z",
     "start_time": "2024-10-26T09:09:38.244028Z"
    }
   },
   "outputs": [
    {
     "name": "stdout",
     "output_type": "stream",
     "text": [
      "[0, 2, 4]\n"
     ]
    }
   ],
   "source": [
    "# 解决方式:\n",
    "# 直接把每次迭代时x的取值通过default value赋值，此时参数会先取走值，不用等函数call之后\n",
    "functions = []\n",
    "for n in range(3):\n",
    "    def func(x, n=n):\n",
    "        return n * x\n",
    "    functions.append(func)\n",
    "\n",
    "results = [function(2) for function in functions]\n",
    "print(results) "
   ]
  },
  {
   "cell_type": "code",
   "execution_count": 4,
   "id": "d6b473eb",
   "metadata": {
    "ExecuteTime": {
     "end_time": "2024-10-26T09:09:38.255621Z",
     "start_time": "2024-10-26T09:09:38.252148Z"
    }
   },
   "outputs": [],
   "source": [
    "# 用lambda函数也有同样问题\n",
    "functions = []\n",
    "for n in range(3):\n",
    "    functions.append(lambda x: n * x)"
   ]
  },
  {
   "cell_type": "code",
   "execution_count": 5,
   "id": "58eb7e13",
   "metadata": {
    "ExecuteTime": {
     "end_time": "2024-10-26T09:09:38.262784Z",
     "start_time": "2024-10-26T09:09:38.257625Z"
    }
   },
   "outputs": [
    {
     "name": "stdout",
     "output_type": "stream",
     "text": [
      "[0, 2, 4]\n"
     ]
    }
   ],
   "source": [
    "# 解决方式: 和前面一样\n",
    "functions = []\n",
    "for n in range(3):\n",
    "    functions.append(lambda x, n=n: n * x)\n",
    "\n",
    "results = [function(2) for function in functions]\n",
    "print(results)"
   ]
  },
  {
   "cell_type": "markdown",
   "id": "cd9d70ef",
   "metadata": {},
   "source": [
    "### I.2 the LEGB scope lookup rule\n",
    "#### 1. 规则\n",
    "- 使用name的规则是：按照四个层次从内向外找，使用找到的第一个name。如果都没有，报错。\n",
    "- 这里要注意的是'E'层可能是多层嵌套，比如“函数中的函数中的函数”，那么前两个都属于'E'层。\n",
    "<img src=\"pics/legb.png\" style=\"width:60%;\">"
   ]
  },
  {
   "cell_type": "markdown",
   "id": "8d819c4e",
   "metadata": {},
   "source": [
    "#### 2. 三种没有在LEGB rule中的特殊对象，他们的name规则可以视为LEGB的扩展\n",
    "- **comprehension构造的临时变量**\n",
    "   - 实例：<code>[expr(i) for i in iterable]</code>中的i。\n",
    "   - 这个变量只在comprehension expression中有效，name reference明确。\n",
    "- **exception handler的try block中使用的临时变量**\n",
    "   - 该变量只在try block中有效，name reference明确。\n",
    "```python\n",
    "try:\n",
    "    x = 5//0      # 这里的x\n",
    "except ZeroDivisionError:\n",
    "    print(\"Can't divide by zero\")\n",
    "   ```\n",
    "- **class中定义的name**\n",
    "   - class可以视为function，class和def一样会创建一个local scope(for names assigned inside the top level of it).所以可以将class中的name视为LEGB中'L'层的name。\n",
    "   - 但是和function有所不同：\n",
    "     - function会在每次被call的时候创建一套local name，但class不会这样。\n",
    "     - 每次call class会新建一个instance，它会继承class中命名(也即赋值)的names。而LEGB规则这时候就会用来处理class中top-level的name和class中定义的method function中的name。[待详述]"
   ]
  },
  {
   "cell_type": "markdown",
   "id": "a3f0b636",
   "metadata": {},
   "source": [
    "## II. global names"
   ]
  },
  {
   "cell_type": "markdown",
   "id": "f05aeecd",
   "metadata": {},
   "source": [
    "### II.1 基本特征\n",
    "- **功能**：是程序之间shared state information的方式。相比使用class和nested scope closure，global name是最简单的方法。\n",
    "  - 一个很常见的用途是在用多线程处理并行执行的程序时，经常用global names作为shared memory between functions running in parallel threads。承担了communication device的角色。\n",
    "- <font color=blue>**scope resolve规则：**</font>\n",
    "  1. <font color=red>如果函数中要要给global name赋值，那么必须先声明namespace，后赋值。</font>\n",
    "     - <font color=green>python的variable不需要声明类型，但是有一种声明，就是声明namespace</font>\n",
    "  2. 如果函数中只是reference name，不赋值，在没有命名冲突的条件下，可以不声明直接使用。\n",
    "     - 按照LEGB四层结构从内向外找各层namespace中的name，只要local和enclosing function层没有同名name，就可以找到global name。"
   ]
  },
  {
   "cell_type": "code",
   "execution_count": 6,
   "id": "2b2404ea",
   "metadata": {
    "ExecuteTime": {
     "end_time": "2024-10-26T09:09:38.274862Z",
     "start_time": "2024-10-26T09:09:38.265487Z"
    }
   },
   "outputs": [
    {
     "data": {
      "text/plain": [
       "(16, 4)"
      ]
     },
     "execution_count": 6,
     "metadata": {},
     "output_type": "execute_result"
    }
   ],
   "source": [
    "## global name的常规用法\n",
    "EXP_POW = 3\n",
    "def foo(x):\n",
    "    global EXP_POW        # 只能declare，不能赋值\n",
    "    EXP_POW += 1          # 如果要改变值，需要declare后重赋值\n",
    "    return x ** EXP_POW\n",
    "foo(2), EXP_POW"
   ]
  },
  {
   "cell_type": "code",
   "execution_count": 7,
   "id": "9a34c976",
   "metadata": {
    "ExecuteTime": {
     "end_time": "2024-10-26T09:09:38.283737Z",
     "start_time": "2024-10-26T09:09:38.277217Z"
    }
   },
   "outputs": [
    {
     "data": {
      "text/plain": [
       "[96, 128, 168]"
      ]
     },
     "execution_count": 7,
     "metadata": {},
     "output_type": "execute_result"
    }
   ],
   "source": [
    "## 如果没有同名冲突，name可以定位到global name的话，使用global name可以不声明\n",
    "# 但是最好不要这样，标记global name可以让代码有更好的可读性，不容易出错\n",
    "Height_CAP = 250\n",
    "Height_FLOOR = 80\n",
    "\n",
    "def delete_outlier(x):\n",
    "    normal_x = [i for i in x if Height_FLOOR < i < Height_CAP]\n",
    "    return normal_x\n",
    "x = [96, 300, 50, 128, 168]\n",
    "delete_outlier(x)"
   ]
  },
  {
   "cell_type": "markdown",
   "id": "ac80685e",
   "metadata": {},
   "source": [
    "- <font color=blue>**注意代码习惯：**</font>\n",
    "  - 很多程序会有一个单独的module来放所有的global names。\n",
    "  - 使用global最好加上declare。这样可以增加可读性。\n",
    "  - 除非global变量本身的功能需求，否则不要轻易改变global的值。在局部位置改变global可能会影响别的位置的程序，引起混乱。<font color=red>一定不要跨module直接assignment new value改变别的module中的global name取值。</font>因为其他import该module的代码根本没法知道那个值已经改变了。\n",
    "    - <font color=green>**最好各个module管理自己定义的names。**</font>\n",
    "    - 如果功能上需要改变，就在定义global name的那个module里面定义一个function，专门负责设置该global name的value。这样别的程序员在看该module内容的时候看到有这么一个function，就能知道这个值可能被别的代码改过。"
   ]
  },
  {
   "cell_type": "code",
   "execution_count": 8,
   "id": "713f9f2b",
   "metadata": {
    "ExecuteTime": {
     "end_time": "2024-10-26T09:09:38.289875Z",
     "start_time": "2024-10-26T09:09:38.286206Z"
    }
   },
   "outputs": [],
   "source": [
    "## 改变global name取值的正确方式\n",
    "#  - 在imported module中，为可能改变取值的global name设置专门function\n",
    "CHANGABLE_X = 100\n",
    "\n",
    "def setX(new_v):           # 用这个函数来设置相应的name值\n",
    "    global CHANGABLE_X\n",
    "    CHANGABLE_X = new_v"
   ]
  },
  {
   "cell_type": "markdown",
   "id": "40dfdff9",
   "metadata": {},
   "source": [
    "## III. nonlocal names and closure\n",
    "### III.1 基本特征\n",
    "- **功能**：<font color=green>保存函数state信息，实现函数之间的communication。</font>\n",
    "- **scope resolve规则**：\n",
    "  - 和global name一样，nonlocal name如果只是用于name reference，也可以不声明。python会只在enclosing function中找name，用从内向外遇到的第一个该name的值。\n",
    "  - 如果是name assignment，就必须先声明后使用。当E的各层中有这个name，那么就assign最近的那个。如果enclosing function的各层中没有这个name，会报错。<font color=red>这点和global name不同，如果nonlocal names在enclosing function中不存在，不能通过\"先声明，再赋值\"的方式在nest function scope中新建nonlocal name</font>"
   ]
  },
  {
   "cell_type": "code",
   "execution_count": 9,
   "id": "e1c69cf4",
   "metadata": {
    "ExecuteTime": {
     "end_time": "2024-10-26T09:09:38.297345Z",
     "start_time": "2024-10-26T09:09:38.292499Z"
    }
   },
   "outputs": [
    {
     "name": "stdout",
     "output_type": "stream",
     "text": [
      "nonlocal_xnonlocal_x\n"
     ]
    }
   ],
   "source": [
    "x = 'global_x'\n",
    "def f1():                    # 外面这个是enclosing function\n",
    "    x = 'nonlocal_x'\n",
    "    def f2():                # 运行call f1才会生成name f2，refer到函数对象，f2只在f1内可见\n",
    "        nonlocal x\n",
    "        x *= 2\n",
    "        print(x)\n",
    "    f2()\n",
    "f1()"
   ]
  },
  {
   "cell_type": "markdown",
   "id": "b43f3944",
   "metadata": {},
   "source": [
    "### III.2 工作原理：利用closure中变量存储机制实现跨函数通信\n",
    "#### 1. python实现nonlocal variable reference的方式：构造closure\n",
    "- **什么是closure**：<font color=green>nested function和一个容纳了nonlocal variable的extended scope一起构成了closure。</font>\n",
    "  - 这里的extended scope不是外层function的enclosing scope，因为当外层function运行结束返回nested function时，它对应的enclosing scope也就随之消失了。\n",
    "- **为什么要有closure**：\n",
    "  - 当函数返回值是nested function时，如果nested function中使用了(refer或者assign)enclosing scope中的变量对象，那么需要在外层函数退出，从而function scope消失后保留原本属于其scope的变量。\n",
    "  - 这个变量不能是nested function的local variable，因为在python的function call规则中，每次call function都会建立新的local scope，不同call的scope互不相关。而这里的nonlocal variable的目的本来就是要实现function之间的通信，所以local variable实现不了。\n",
    "  - <font color=green>python的处理方式是：closure</font>"
   ]
  },
  {
   "cell_type": "code",
   "execution_count": 10,
   "id": "e10460b9",
   "metadata": {
    "ExecuteTime": {
     "end_time": "2024-10-26T09:09:38.307284Z",
     "start_time": "2024-10-26T09:09:38.301846Z"
    }
   },
   "outputs": [
    {
     "name": "stdout",
     "output_type": "stream",
     "text": [
      "1\n",
      "2\n"
     ]
    }
   ],
   "source": [
    "# nonlocal variable保留了每次nested function call后的信息变化，实现了function communication\n",
    "def make_counter():\n",
    "    count = 0\n",
    "    def counter():\n",
    "        nonlocal count\n",
    "        count += 1\n",
    "        return count\n",
    "    return counter\n",
    "\n",
    "counter_1 = make_counter()\n",
    "print(counter_1())\n",
    "print(counter_1()) # 两次call nested function后nonlocal variable的值在累加"
   ]
  },
  {
   "cell_type": "markdown",
   "id": "666c1d0d",
   "metadata": {},
   "source": [
    "#### 2. closure的工作方式\n",
    "- python中定义的function都有一个<code>\\_\\_closure__</code> attribute。\n",
    "  - <font color=orange>用<code>dir(func_name)</code>可以查看。</font>\n",
    "- 在用def statement定义函数后，<font color=green>**每次**</font>call函数时，如果函数定义中有nested function和nonlocal variable，则python会对应每个nonlocal variable新建一个<font color=blue>**cell类型的object**</font>。再将他们合并装到一个tuple中，并将该tuple object赋值给returned nested function的<code>\\_\\_closure__</code> attribute。\n",
    "  - <font color=orange>可以用<code>nested_func.\\_\\_closure__</code>来查看cell。</font>\n",
    "  - cell的作用只有一个，就是作为link来让外层function和nested function都能refer到所有的nonlocal variables。\n",
    "- 当外层function执行完毕退出后，它的local scope消失，但是nested function还能通过<code>\\_\\_closure__</code> attribute中的cell object来link到nonlocal variable。\n",
    "  - 这时候的nested function和一般的function不同的地方在于，除了function本身，它的<code>\\_\\_closure__</code> attribute值不为None，而是tuple of cell object，因此他们可以link到的nonlocal variable.\n",
    "  - <font color=deeppink>**这个<code>\\_\\_closure__</code> attribute值不为None的returned nested function就是closure。** 如果将cell object视为存放了nonlocal variable的environment（因为它存放了nonlocal variable的address信息），那么可以将closure理解为function+environment这一整体。</font>\n",
    "- <font color=blue>之后每次call returned nested function，他们都共享同一个<code>\\_\\_closure__</code> attribute（也就是同一个tuple of cell object），从而实现了nonlocal variable的共享。</font>"
   ]
  },
  {
   "cell_type": "code",
   "execution_count": 11,
   "id": "825633ea",
   "metadata": {
    "ExecuteTime": {
     "end_time": "2024-10-26T09:09:38.314962Z",
     "start_time": "2024-10-26T09:09:38.309295Z"
    }
   },
   "outputs": [
    {
     "name": "stdout",
     "output_type": "stream",
     "text": [
      "<class 'function'>\n",
      "2 <class 'cell'>\n",
      "<cell at 0x771b13cbb8e0: int object at 0x771b16e64210>\n",
      "('x', 'y')\n"
     ]
    }
   ],
   "source": [
    "def outer(x, y):\n",
    "    def inner():\n",
    "        return x, y\n",
    "    return inner\n",
    "\n",
    "f = outer(10, 'hello')                  \n",
    "print(type(f))                 # f是函数对象\n",
    "print(len(f.__closure__), type(f.__closure__[0]))  # closure属性赋值为tuple of cells\n",
    "print(f.__closure__[0])        # 每个cell refer到1个nonlocal object  \n",
    "print(f.__code__.co_freevars)  # 在closure属性中可以查看nonlocal variables的name"
   ]
  },
  {
   "cell_type": "code",
   "execution_count": 12,
   "id": "58530965",
   "metadata": {
    "ExecuteTime": {
     "end_time": "2024-10-26T09:09:38.322624Z",
     "start_time": "2024-10-26T09:09:38.317069Z"
    },
    "scrolled": true
   },
   "outputs": [
    {
     "name": "stdout",
     "output_type": "stream",
     "text": [
      "None None None\n"
     ]
    }
   ],
   "source": [
    "## 没有nested function时，__closure__的值是None\n",
    "## 有nested function但没有nonlocal name时，__closure__的值也是None\n",
    "def foo(x):\n",
    "    y = x ** 2\n",
    "    return y\n",
    "\n",
    "def outer(x, y):\n",
    "    def inner():\n",
    "        return 10\n",
    "    return inner\n",
    "\n",
    "b = lambda x: x if x>0 else -x  # lambda函数的规则也一样\n",
    "\n",
    "print(foo.__closure__, outer.__closure__, b.__closure__)"
   ]
  },
  {
   "cell_type": "markdown",
   "id": "d50abf19",
   "metadata": {},
   "source": [
    "### III.3 典型应用\n",
    "#### 1. 将closure中的nonlocal variable做为函数通信方式\n",
    "- 特点：所有nested functions可以通过shared nonlocal variable来<font color=green>**分享状态，完成协作**</font>。\n",
    "  1. 多个nested function共享同样的nonlocal variables\n",
    "  2. 这些函数都可以读取和修改nonlocal variables的值\n",
    "  3. 在这些函数使用了nonlocal variable之后，state的变化会被保留下来，所以函数共享新值"
   ]
  },
  {
   "cell_type": "code",
   "execution_count": 13,
   "id": "7e6ee869",
   "metadata": {
    "ExecuteTime": {
     "end_time": "2024-10-26T09:09:38.333426Z",
     "start_time": "2024-10-26T09:09:38.324903Z"
    },
    "collapsed": true
   },
   "outputs": [
    {
     "name": "stdout",
     "output_type": "stream",
     "text": [
      "Current balance: $1000\n",
      "Deposited $500. New balance: $1500\n",
      "Withdrew $200. New balance: $1300\n",
      "Insufficient funds\n",
      "Current balance: $1300\n"
     ]
    }
   ],
   "source": [
    "def create_bank_account(initial_balance):\n",
    "    balance = initial_balance\n",
    "    transaction_history = [] \n",
    "    \n",
    "    def deposit(amount):\n",
    "        nonlocal balance\n",
    "        balance += amount\n",
    "        transaction_history.append(f\"Deposit: +${amount}\")\n",
    "        return f\"Deposited ${amount}. New balance: ${balance}\"\n",
    "    \n",
    "    def withdraw(amount):\n",
    "        nonlocal balance\n",
    "        if amount > balance:\n",
    "            return \"Insufficient funds\"\n",
    "        balance -= amount\n",
    "        transaction_history.append(f\"Withdrawal: -${amount}\")\n",
    "        return f\"Withdrew ${amount}. New balance: ${balance}\"\n",
    "    \n",
    "    def get_balance():\n",
    "        return f\"Current balance: ${balance}\"\n",
    "    \n",
    "    # Return dictionary of functions that share the same closure\n",
    "    return {\n",
    "        \"deposit\": deposit,\n",
    "        \"withdraw\": withdraw,\n",
    "        \"balance\": get_balance\n",
    "    }\n",
    "\n",
    "# Usage example:\n",
    "account_sam = create_bank_account(1000)\n",
    "\n",
    "# These functions all share and modify the same nonlocal variables\n",
    "print(account_sam[\"balance\"]())      # Current balance: $1000\n",
    "print(account_sam[\"deposit\"](500))   # Deposited $500. New balance: $1500\n",
    "print(account_sam[\"withdraw\"](200))  # Withdrew $200. New balance: $1300\n",
    "print(account_sam[\"withdraw\"](2000)) # Insufficient funds\n",
    "print(account_sam[\"balance\"]())      # Current balance: $1300"
   ]
  },
  {
   "cell_type": "markdown",
   "id": "24854174",
   "metadata": {},
   "source": [
    "- share信息的方式\n",
    "  1. 凡是有nonlocal variable的nested function都会构建对应的closure\n",
    "  2. 不同的nested function可以按需使用不同的nonlocal variable\n",
    "  3. 如果他们用了相同的nonlocal variable，那么他们的closure attribute会用同一个cell object，从而实现share and coordinate\n",
    "     - 下面cell object的地址相同可以看出来"
   ]
  },
  {
   "cell_type": "code",
   "execution_count": 14,
   "id": "873134ba",
   "metadata": {
    "ExecuteTime": {
     "end_time": "2024-10-26T09:09:38.340633Z",
     "start_time": "2024-10-26T09:09:38.335484Z"
    }
   },
   "outputs": [
    {
     "name": "stdout",
     "output_type": "stream",
     "text": [
      "deposit closure: (<cell at 0x771b13cbb310: int object at 0x771b13e454b0>, <cell at 0x771b13cba890: list object at 0x771b13cc23c0>)\n",
      "deposit free vars: ('balance', 'transaction_history')\n",
      "\n",
      "get_balance closure: (<cell at 0x771b13cbb310: int object at 0x771b13e454b0>,)\n",
      "get_balance free vars: ('balance',)\n"
     ]
    }
   ],
   "source": [
    "print(\"deposit closure:\", account_sam[\"deposit\"].__closure__)\n",
    "print(\"deposit free vars:\", account_sam[\"deposit\"].__code__.co_freevars)\n",
    "\n",
    "print(\"\\nget_balance closure:\", account_sam[\"balance\"].__closure__)\n",
    "print(\"get_balance free vars:\", account_sam[\"balance\"].__code__.co_freevars)"
   ]
  },
  {
   "cell_type": "markdown",
   "id": "0f164c5b",
   "metadata": {},
   "source": [
    "#### 2. 将closure作为function factory，nonlocal variable作为被生成函数的配置参数\n",
    "- 特征：\n",
    "  1. 此时使用nonlocal variable的方式是reference，而不会去做assignment。因为 这里closure的功能不是share information，而是作为配置信息用于nested function的功能设定\n",
    "  2. 非常适用于创建families of related functions，每个function的行为在创建的时候就设定下来"
   ]
  },
  {
   "cell_type": "markdown",
   "id": "7f066a51",
   "metadata": {},
   "source": [
    "- 简单的例子：具有不同参数的乘法计算器"
   ]
  },
  {
   "cell_type": "code",
   "execution_count": 15,
   "id": "ef14b3df",
   "metadata": {
    "ExecuteTime": {
     "end_time": "2024-10-26T09:09:38.349304Z",
     "start_time": "2024-10-26T09:09:38.343129Z"
    },
    "collapsed": true
   },
   "outputs": [
    {
     "name": "stdout",
     "output_type": "stream",
     "text": [
      "10\n",
      "15\n",
      "50\n",
      "2\n",
      "3\n",
      "10\n"
     ]
    }
   ],
   "source": [
    "def create_multiplier(factor):\n",
    "    def multiplier(x):\n",
    "        return x * factor\n",
    "    return multiplier\n",
    "\n",
    "# Create different multiplier functions\n",
    "double = create_multiplier(2)\n",
    "triple = create_multiplier(3)\n",
    "times_ten = create_multiplier(10)\n",
    "\n",
    "# Each function has its own closure with different 'factor' values\n",
    "print(double(5))    # 10\n",
    "print(triple(5))    # 15\n",
    "print(times_ten(5)) # 50\n",
    "\n",
    "# We can inspect their closures\n",
    "print(double.__closure__[0].cell_contents)    # 2\n",
    "print(triple.__closure__[0].cell_contents)    # 3\n",
    "print(times_ten.__closure__[0].cell_contents) # 10"
   ]
  },
  {
   "cell_type": "markdown",
   "id": "9205d4a9",
   "metadata": {},
   "source": [
    "- 复杂的例子：creating customized formatters for different types of data"
   ]
  },
  {
   "cell_type": "code",
   "execution_count": 16,
   "id": "62f68101",
   "metadata": {
    "ExecuteTime": {
     "end_time": "2024-10-26T09:09:38.364420Z",
     "start_time": "2024-10-26T09:09:38.351399Z"
    },
    "collapsed": true
   },
   "outputs": [
    {
     "name": "stdout",
     "output_type": "stream",
     "text": [
      "Prices: $10.5620.7830.11\n",
      "Percentages: 10.620.830.1%\n",
      "Comma List: 11, 21, 30\n",
      "Bullet List:\n",
      "• 10.6\n",
      "• 20.8\n",
      "• 30.1\n",
      "\n",
      "price_formatter closure variables:\n",
      "precision: 2\n",
      "prefix: $\n",
      "separator: \n",
      "suffix: \n",
      "\n",
      "percentage_formatter closure variables:\n",
      "precision: 1\n",
      "prefix: \n",
      "separator: \n",
      "suffix: %\n",
      "\n",
      "comma_list_formatter closure variables:\n",
      "precision: 0\n",
      "prefix: \n",
      "separator: , \n",
      "suffix: \n",
      "\n",
      "bullet_list_formatter closure variables:\n",
      "precision: 1\n",
      "prefix: • \n",
      "separator: \n",
      "• \n",
      "suffix: \n"
     ]
    }
   ],
   "source": [
    "def create_formatter(prefix=\"\", suffix=\"\", separator=\"\", precision=2):\n",
    "    def format_list(data):\n",
    "        # Format numbers based on closure variables\n",
    "        formatted = []\n",
    "        for item in data:\n",
    "            if isinstance(item, (int, float)):\n",
    "                formatted.append(f\"{item:.{precision}f}\")\n",
    "            else:\n",
    "                formatted.append(str(item))\n",
    "                \n",
    "        # Apply prefix, suffix, and separator from closure\n",
    "        result = separator.join(formatted)\n",
    "        if prefix:\n",
    "            result = f\"{prefix}{result}\"\n",
    "        if suffix:\n",
    "            result = f\"{result}{suffix}\"\n",
    "        return result\n",
    "    \n",
    "    return format_list\n",
    "\n",
    "# Create different formatters\n",
    "price_formatter = create_formatter(prefix=\"$\", precision=2)\n",
    "percentage_formatter = create_formatter(suffix=\"%\", precision=1)\n",
    "comma_list_formatter = create_formatter(separator=\", \", precision=0)\n",
    "bullet_list_formatter = create_formatter(prefix=\"• \", separator=\"\\n• \", precision=1)\n",
    "\n",
    "# Test data\n",
    "numbers = [10.5555, 20.7777, 30.1111]\n",
    "\n",
    "print(\"Prices:\", price_formatter(numbers))\n",
    "# $10.56, $20.78, $30.11\n",
    "\n",
    "print(\"Percentages:\", percentage_formatter(numbers))\n",
    "# 10.6%, 20.8%, 30.1%\n",
    "\n",
    "print(\"Comma List:\", comma_list_formatter(numbers))\n",
    "# 11, 21, 30\n",
    "\n",
    "print(\"Bullet List:\")\n",
    "print(bullet_list_formatter(numbers))\n",
    "# • 10.6, 20.8, 30.1\n",
    "\n",
    "# We can inspect each formatter's closure\n",
    "for name, formatter in [\n",
    "    (\"price_formatter\", price_formatter),\n",
    "    (\"percentage_formatter\", percentage_formatter),\n",
    "    (\"comma_list_formatter\", comma_list_formatter),\n",
    "    (\"bullet_list_formatter\", bullet_list_formatter)\n",
    "]:\n",
    "    print(f\"\\n{name} closure variables:\")\n",
    "    for i, var in enumerate(formatter.__code__.co_freevars):\n",
    "        print(f\"{var}: {formatter.__closure__[i].cell_contents}\")"
   ]
  },
  {
   "cell_type": "markdown",
   "id": "d4aa4f4f",
   "metadata": {},
   "source": [
    "#### 3. 要特别注意loop中的late binding problem\n",
    "- 严格说这里没有closure，但for loop构造了一个enclosing scope，此时如果有nested function refer到了这个enclosing scope中的变量的话，这种情况就很像closure。<font color=red>所以经常看到说late binding problem跟closure有关，实际上讲的是loop场景</font>"
   ]
  },
  {
   "cell_type": "code",
   "execution_count": 17,
   "id": "8ec5de96",
   "metadata": {
    "ExecuteTime": {
     "end_time": "2024-10-26T09:09:38.371140Z",
     "start_time": "2024-10-26T09:09:38.366583Z"
    }
   },
   "outputs": [
    {
     "name": "stdout",
     "output_type": "stream",
     "text": [
      "[9, 9, 9]\n"
     ]
    }
   ],
   "source": [
    "functions = []\n",
    "for num in range(3):      # \n",
    "    def my_function(x):\n",
    "        return x ** num\n",
    "    functions.append(my_function)\n",
    "\n",
    "results = [function(3) for function in functions]\n",
    "print(results)"
   ]
  },
  {
   "cell_type": "code",
   "execution_count": 18,
   "id": "b7d03758",
   "metadata": {
    "ExecuteTime": {
     "end_time": "2024-10-26T09:09:38.378347Z",
     "start_time": "2024-10-26T09:09:38.373256Z"
    }
   },
   "outputs": [
    {
     "name": "stdout",
     "output_type": "stream",
     "text": [
      "[1, 3, 9]\n"
     ]
    }
   ],
   "source": [
    "# 解决方式：用function factory生成不同closure的nested function\n",
    "def make_function(num):\n",
    "    def my_function(x):\n",
    "        return x ** num\n",
    "    return my_function\n",
    "\n",
    "# 返回的3个nested func并没有share cell\n",
    "# 关键点是在于，nested function用的变量正好是外层函数的参数\n",
    "# 每次外层变量被call，就新建了一套enclosing scope\n",
    "functions = [make_function(number) for number in range(3)] \n",
    "results = [function(3) for function in functions]\n",
    "print(results)"
   ]
  },
  {
   "cell_type": "markdown",
   "id": "153a911f",
   "metadata": {},
   "source": [
    "## IV. lambda\n",
    "### IV.1 lambda函数应用一般规则：和普通function一样\n",
    "- lambda 的scope rule，global variable和nonlocal variable的scope resolve方式和一般函数都一样\n",
    "- 有一点区别是，lambda通常只会refer global和nonlocal variable，而不会modity他们。因为modify要做namespace声明，而lambda只有一条expression，没法在单行里面既做namespace声明，又做运算。"
   ]
  },
  {
   "cell_type": "code",
   "execution_count": 19,
   "id": "4f5b3bbe",
   "metadata": {
    "ExecuteTime": {
     "end_time": "2024-10-26T09:09:38.384378Z",
     "start_time": "2024-10-26T09:09:38.380500Z"
    }
   },
   "outputs": [],
   "source": [
    "# 两种等价形式\n",
    "def create_multiplier(factor):\n",
    "    def multiplier(x):\n",
    "        return x * factor\n",
    "    return multiplier\n",
    "\n",
    "def lambda_multiplier(factor):\n",
    "    return lambda x: x * factor"
   ]
  },
  {
   "cell_type": "markdown",
   "id": "c49fbd1f",
   "metadata": {},
   "source": [
    "### IV.2 lambda函数应用要注意：late binding problem\n",
    "#### 1. 用于for loop或者comprehension中要注意late binding带来的计算问题"
   ]
  },
  {
   "cell_type": "code",
   "execution_count": 20,
   "id": "118d718b",
   "metadata": {
    "ExecuteTime": {
     "end_time": "2024-10-26T09:09:38.392907Z",
     "start_time": "2024-10-26T09:09:38.386644Z"
    }
   },
   "outputs": [
    {
     "data": {
      "text/plain": [
       "(4, 4, 4)"
      ]
     },
     "execution_count": 20,
     "metadata": {},
     "output_type": "execute_result"
    }
   ],
   "source": [
    "foos = []\n",
    "for x in range(3):\n",
    "    foos.append(lambda y: x * y)\n",
    "\n",
    "# 问题：x的取值没有随for loop改变\n",
    "foos[0](2), foos[1](2), foos[2](2) "
   ]
  },
  {
   "cell_type": "markdown",
   "id": "1baa87e5",
   "metadata": {},
   "source": [
    "- **late binding**：函数定义的时候并不会bind函数体中定义的变量值，只有被call了之后，函数体中定义的变量才会bind到具体的value object上。\n",
    "- 当lambda作为返回值时，其函数在返回时没有被call，所以函数体中的变量不取值\n",
    "- 上例中，等到lambda函数被call了之后，他们才会取值，这时候取到的是x的当前值'2'，所以三个函数得到的计算结果一样"
   ]
  }
 ],
 "metadata": {
  "kernelspec": {
   "display_name": "Python 3 (ipykernel)",
   "language": "python",
   "name": "python3"
  },
  "language_info": {
   "codemirror_mode": {
    "name": "ipython",
    "version": 3
   },
   "file_extension": ".py",
   "mimetype": "text/x-python",
   "name": "python",
   "nbconvert_exporter": "python",
   "pygments_lexer": "ipython3",
   "version": "3.10.14"
  }
 },
 "nbformat": 4,
 "nbformat_minor": 5
}
