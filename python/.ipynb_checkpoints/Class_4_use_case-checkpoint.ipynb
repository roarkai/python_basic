{
 "cells": [
  {
   "cell_type": "markdown",
   "id": "20ecb8d9",
   "metadata": {},
   "source": [
    "# Design pattern using class"
   ]
  },
  {
   "cell_type": "markdown",
   "id": "3b334969",
   "metadata": {},
   "source": [
    "## I. subclass与superclass的交互基础\n",
    "### I.1 4种典型交互方式 (class interface techs)\n",
    "- subclass有\"inherit, replace, extend, provide\"四种主要方式与superclass做交互\n",
    "1. **inherit**：直接继承method\n",
    "2. **replace**：override部分superclass中的method\n",
    "3. **extend**: 有的method在superclass中已经提供了部分功能，但是subclass还需要补充behavior，那么在用同名method做override的同时又在method中call back superclass中的同名method\n",
    "4. **provide**：有的superclass的method只有不完整的behavior，需要subclass提供更多data或者action才能真的执行。此时subclass的作用是提供有实际的action的method来填补superclass中的空缺。<font color=blue>**这类superclass称为abstract superclass**</font>\n",
    "   - 这类method可能规定了subclass中implement的格式，或者仅仅是用于提醒该名称的method必须提供，但是subclass可以根据自己需要来设定action。\n",
    "   - 整体的logic在superclass中已经确定了，但是空缺的action需要subclass来补充。"
   ]
  },
  {
   "cell_type": "code",
   "execution_count": 1,
   "id": "82517d49",
   "metadata": {
    "ExecuteTime": {
     "end_time": "2024-11-05T02:12:58.692036Z",
     "start_time": "2024-11-05T02:12:58.684595Z"
    }
   },
   "outputs": [],
   "source": [
    "class Super:\n",
    "    def method(self):\n",
    "        print('in super')\n",
    "    def delegate(self):\n",
    "        self.action()   # 这个method必须implement，不然会报错\n",
    "\n",
    "# inheritor：只做继承，理论上并不需要这样的inheritor\n",
    "class Inheritor(Super):  \n",
    "    pass\n",
    "\n",
    "# replacer：override部分功能\n",
    "class Replacer(Super):\n",
    "    def method(self):\n",
    "        print('in replacer')\n",
    "\n",
    "# extender: 扩展已有method的能力，通过call back来reuse code\n",
    "class Extender(Super):\n",
    "    def method(self):\n",
    "        print('add something here')\n",
    "        Super.method(self)\n",
    "        print('add something again')\n",
    "\n",
    "# provider: implement delegate method\n",
    "class Provider(Super):\n",
    "    def action(self):  # 注：implement的是superclass中未定义method\n",
    "        print('in provider')"
   ]
  },
  {
   "cell_type": "code",
   "execution_count": 7,
   "id": "b59018c2",
   "metadata": {
    "ExecuteTime": {
     "end_time": "2024-11-05T02:18:59.840505Z",
     "start_time": "2024-11-05T02:18:59.837503Z"
    },
    "collapsed": true
   },
   "outputs": [
    {
     "name": "stdout",
     "output_type": "stream",
     "text": [
      "\n",
      "Inheritor:\n",
      "in super\n",
      "\n",
      "Replacer:\n",
      "in replacer\n",
      "\n",
      "Extender:\n",
      "add something here\n",
      "in super\n",
      "add something again\n",
      "\n",
      "Provider:\n",
      "in provider\n"
     ]
    }
   ],
   "source": [
    "for cls in (Inheritor, Replacer, Extender):\n",
    "    print('\\n' + cls.__name__ + ':')\n",
    "    cls().method()\n",
    "\n",
    "x = Provider()\n",
    "print('\\n' + Provider.__name__ + ':')\n",
    "x.delegate()\n"
   ]
  },
  {
   "cell_type": "markdown",
   "id": "f44421a6",
   "metadata": {},
   "source": [
    "### I.2 abstract superclass\n",
    "#### I.2.1 什么是abstract superclass\n",
    "- abstract superclass是指class的定义中，其部分method需要subclass来提供。当subclass没有提供这些method时，python会raise NotImplementedError。"
   ]
  },
  {
   "cell_type": "markdown",
   "id": "2759bbfc",
   "metadata": {},
   "source": [
    "#### I.2.2 两种代码方式\n",
    "- 第一种：常规方法，在class中预留空method和exception提示\n",
    "- 第二种：用python自带的decorator：`@abstractmethod`"
   ]
  },
  {
   "cell_type": "code",
   "execution_count": null,
   "id": "67eab997",
   "metadata": {},
   "outputs": [],
   "source": [
    "# 第一种\n",
    "class Super:\n",
    "    def delegate(self):\n",
    "        self.action()\n",
    "    def action(self):\n",
    "        raise NotImplementedError('action must be defined!')"
   ]
  },
  {
   "cell_type": "code",
   "execution_count": null,
   "id": "2e5d7f1d",
   "metadata": {},
   "outputs": [],
   "source": [
    "# 第二种\n",
    "from abc import ABCMeta, abstractmethod\n",
    "class Super(metaclass=ABCMeta):   # 要继承特定的类\n",
    "    def delegate(self):\n",
    "        self.action(self)\n",
    "    \n",
    "    @abstractmethod               # 才能使用decorator\n",
    "    def action(self):\n",
    "        pass"
   ]
  },
  {
   "cell_type": "markdown",
   "id": "89501282",
   "metadata": {},
   "source": [
    "## II. 常见的OOP design Pattern\n",
    "1. **inheritance**: 表达'is a'关系\n",
    "2. **composition**: 表达'has a'关系\n",
    "   - 通常有container object，container中会用到contained object，使用方式是container的methods会以contained objects为处理对象。\n",
    "   - 比如，'餐厅'是container，其中有'服务员'，'厨师'，'顾客'，'菜单'，'订单'等contained object。\n",
    "3. **delegation**: 一种特殊形式的composition\n",
    "   - 通常是单个embedded object外面加了一层wrapper class\n",
    "4. **factories**: "
   ]
  },
  {
   "cell_type": "markdown",
   "id": "89324832",
   "metadata": {},
   "source": []
  },
  {
   "cell_type": "markdown",
   "id": "ba5d3792",
   "metadata": {},
   "source": []
  },
  {
   "cell_type": "markdown",
   "id": "0850a3bd",
   "metadata": {},
   "source": []
  },
  {
   "cell_type": "markdown",
   "id": "c4b48ba1",
   "metadata": {},
   "source": []
  },
  {
   "cell_type": "markdown",
   "id": "817d1b3a",
   "metadata": {},
   "source": []
  },
  {
   "cell_type": "markdown",
   "id": "c342b3d2",
   "metadata": {},
   "source": []
  },
  {
   "cell_type": "markdown",
   "id": "1f5cb519",
   "metadata": {},
   "source": []
  }
 ],
 "metadata": {
  "kernelspec": {
   "display_name": "Python 3 (ipykernel)",
   "language": "python",
   "name": "python3"
  },
  "language_info": {
   "codemirror_mode": {
    "name": "ipython",
    "version": 3
   },
   "file_extension": ".py",
   "mimetype": "text/x-python",
   "name": "python",
   "nbconvert_exporter": "python",
   "pygments_lexer": "ipython3",
   "version": "3.10.14"
  }
 },
 "nbformat": 4,
 "nbformat_minor": 5
}
