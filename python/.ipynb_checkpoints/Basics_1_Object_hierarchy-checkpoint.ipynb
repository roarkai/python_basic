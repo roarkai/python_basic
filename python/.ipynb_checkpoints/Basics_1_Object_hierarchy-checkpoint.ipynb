{
 "cells": [
  {
   "cell_type": "markdown",
   "id": "b442074f-e478-4027-b551-ec3ef247a0b7",
   "metadata": {},
   "source": [
    "# Basic conceptions in Python\n",
    "## I. The Conceptual Hierarchy in Python\n",
    "1. **Programs** 由**modules**构成\n",
    "2. **Modules**由**statements**构成\n",
    "3. **Statements**由**expression**构成\n",
    "4. **Expression**创建和处理**data objects**\n",
    "5. Python中一切皆对象，所以module,statements,expression和各种data objects都是对象，但expression处理的对象是指基础的数据类型对象。"
   ]
  },
  {
   "cell_type": "markdown",
   "id": "83b54f10-7e3c-4bd6-8fe3-0a6e0155e738",
   "metadata": {},
   "source": [
    "## II program和module\n",
    "### II.1 program由一个或多个module构成\n",
    "- 为了重复使用python code，需要将code存放在files中，这些可重复执行的单个file都称为module。\n",
    "- 一个program就是一系列提前写好的存在一个file中的modules(files)。\n",
    "- modules通常又分为两种：\n",
    "  - 一般将top-level直接运行的main file对应的那个module叫做script。<font color=green>通常将这些file的文件名用.py作为后缀，虽然不是必须，但建议这么做，因为大部分代码编辑器看到.py后缀就能根据python语法来提供对应功能，比如高亮和错误识别。</font>\n",
    "  - 将通过import而被其它files load的那些files称为modules。<font color=red>用于被其它files加载的这些module都必须是.py结尾。</font>"
   ]
  },
  {
   "cell_type": "markdown",
   "id": "25e81d05-9c2e-4877-94e3-e17762869fd2",
   "metadata": {},
   "source": [
    "### II.2 作为library的module构成了python的module-based services model\n",
    "- module的一个主要功能就是作为library使用。\n",
    "  - 作为library的module本质上是package of varible names，所以此时每个module都是一个<font color=blue>**namespace**</font>，而module中定义的names称为module的<font color=blue>**attributes**</font>。\n",
    "  - 一个attribute就是一个attached到具体object的name\n",
    "  - 通过<font color=green>**import或者from这两种statement**</font>可以调用该module中定义的attributes。<font color=blue>注意，实际上调用的是module中定义的top-level names。</font>"
   ]
  },
  {
   "cell_type": "code",
   "execution_count": 1,
   "id": "825973b8",
   "metadata": {
    "ExecuteTime": {
     "end_time": "2024-10-21T08:50:20.516583Z",
     "start_time": "2024-10-21T08:50:20.500770Z"
    }
   },
   "outputs": [
    {
     "name": "stdout",
     "output_type": "stream",
     "text": [
      "statements in target are executed!\n"
     ]
    },
    {
     "data": {
      "text/plain": [
       "8"
      ]
     },
     "execution_count": 1,
     "metadata": {},
     "output_type": "execute_result"
    }
   ],
   "source": [
    "import mymd\n",
    "mymd.foo(2)"
   ]
  },
  {
   "cell_type": "markdown",
   "id": "16d0ca66-a2e9-47e4-bda6-a4add342ebb7",
   "metadata": {},
   "source": [
    "- <font color=blue>**module-based services model**</font>\n",
    "  - python中，一个module file A可以通过import operation来load另一个module B。A load B之后就可以access B的attributes。\n",
    "  - lanunch一个top-level module(script)，它可以import别的modules，而这些modules可以继续load其他modules，通过这种方式启用整个program中包含的所有内容。"
   ]
  },
  {
   "cell_type": "markdown",
   "id": "a4e13ca5",
   "metadata": {},
   "source": [
    "- 可以用python的build-in function:<font color=blue>**dir([module_name])**</font>查看module中定义的top-level attributes(names)"
   ]
  },
  {
   "cell_type": "code",
   "execution_count": 7,
   "id": "0cb71452",
   "metadata": {
    "ExecuteTime": {
     "end_time": "2024-10-21T08:51:51.895574Z",
     "start_time": "2024-10-21T08:51:51.891516Z"
    }
   },
   "outputs": [
    {
     "name": "stdout",
     "output_type": "stream",
     "text": [
      "['__builtins__', '__cached__', '__doc__', '__file__', '__loader__', '__name__', '__package__', '__spec__', 'foo']\n"
     ]
    }
   ],
   "source": [
    "print(dir(mymd))"
   ]
  },
  {
   "cell_type": "markdown",
   "id": "51ae37aa-dd50-4e62-8f58-2d392fccce7f",
   "metadata": {},
   "source": [
    "### II.3 两种load module的statement：import和from\n",
    "#### 1. import\n",
    "- statement形式\n",
    "  - <code>import [target_module] </code>\n",
    "- import的工作方式\n",
    "  - 当一个module<font color=red>**第一次**</font>被import时，会执行三步：\n",
    "    1. 找到module file\n",
    "    2. 如果需要的话，将module file compile成byte code\n",
    "    3. 执行module中的statement，build该module中定义的objects\n",
    "  - <font color=blue>如果receiver不是第一次import一个module，那么再次import的时候上述三步都不会发生。只会直接在memory中取已经load的module object。</font>\n"
   ]
  },
  {
   "cell_type": "markdown",
   "id": "a6d560de",
   "metadata": {},
   "source": [
    "#### 2. from\n",
    "  - <code>from [target_module] import [attribute_name] </code>\n",
    "  - 如果只需要确定的少数attributes的话，用from statement更方便。因为它copy的attribute在使用的时候不需要每次都加上前缀，code起来要简单一些。\n",
    "    - 功能：从module中load部分内容\n",
    "    - from实际上做的就是从指定module中复制from statement中指定的attributes的内容\n",
    "    - 虽然只是复制了部分attributes，from statement在执行的最后还是会运行target module中的statements\n",
    "  - 但是from statement带来的一个问题是：name冲突。<font color=green>**很多人因此不用from**</font>\n",
    "    - 用from statement复制过来的name不需要加module name作为前缀，而是直接用object name。如果recipient module中有同名object，就会产生冲突，而且这类重复python不会报错。\n",
    "- <font color=brown>import和from两种statement的主要差异是在namespace构建方式上，实际运行效率差异不大</font>\n",
    "  - 如果imports module foo，会在当前namespace创建一个reference到该module。在需要使用attribute的时候再define completed module path，此时才会access这个attribute。\n",
    "  - from module import bar会在当前namespace直接创建reference到attribute bar。\n",
    "  - 如果大规模的loop中要用target module中的attribute，那么from会效率高一些。原因是它直接就能调用该attribute refer的对象，而用import时python要先在global scope中找到target module，然后从target module的dict中找到对应的attribute。"
   ]
  },
  {
   "cell_type": "markdown",
   "id": "93ebbc54",
   "metadata": {},
   "source": [
    "### II.4 reload\n",
    "- import statement会先构建相关的namespace，在最后还会执行被import的module中的statements\n",
    "  - 如果A中多次import B，那么A的一次运行只会在第一次出现import B时运行B中内容，后面再次出现不会再次运行。即使被import的file中的内容有更新，也不会重新执行。\n",
    "    - <font color=brown>这是因为import operation的执行成本很高。要先find file，compile file然后run the code</font>\n",
    "  - <font color=green>如果要reload，可以重新运行一次A，或者用python标准库中importlib中定义的reload函数</font>。\n",
    "- <font color=red>**最好不要用reload函数**</font>\n",
    "  - 因为reload函数没有'传递性'。如果这个reload的attribute本身也是一个module，并且它还import了下一层的module，那么reload只会更新第一层module，不会自动reload下一层的module。这会带来时间上的复杂性。"
   ]
  },
  {
   "cell_type": "code",
   "execution_count": 3,
   "id": "6d0eb7a9",
   "metadata": {
    "ExecuteTime": {
     "end_time": "2024-10-21T08:50:20.532455Z",
     "start_time": "2024-10-21T08:50:20.527289Z"
    }
   },
   "outputs": [
    {
     "data": {
      "text/plain": [
       "8"
      ]
     },
     "execution_count": 3,
     "metadata": {},
     "output_type": "execute_result"
    }
   ],
   "source": [
    "# 改变mymd中的foo函数定义形式，重新import后输出不变\n",
    "import mymd\n",
    "mymd.foo(2)"
   ]
  },
  {
   "cell_type": "code",
   "execution_count": 4,
   "id": "244ac6ba-417c-4f56-9137-5c6c174099a1",
   "metadata": {
    "ExecuteTime": {
     "end_time": "2024-10-21T08:50:20.541805Z",
     "start_time": "2024-10-21T08:50:20.535422Z"
    }
   },
   "outputs": [
    {
     "name": "stdout",
     "output_type": "stream",
     "text": [
      "statements in target are executed!\n"
     ]
    },
    {
     "data": {
      "text/plain": [
       "8"
      ]
     },
     "execution_count": 4,
     "metadata": {},
     "output_type": "execute_result"
    }
   ],
   "source": [
    "# reload之后输出改变\n",
    "from importlib import reload\n",
    "reload(mymd)            # 注意：reload是function，import是statement\n",
    "mymd.foo(2)"
   ]
  },
  {
   "cell_type": "code",
   "execution_count": 5,
   "id": "b8682f62",
   "metadata": {
    "ExecuteTime": {
     "end_time": "2024-10-21T08:50:20.547327Z",
     "start_time": "2024-10-21T08:50:20.543888Z"
    }
   },
   "outputs": [],
   "source": [
    "from mymd import foo # 注意，前面已经import过了，这里不会再次执行\n",
    "                     # 如果没有import过，会输出: statements in target are executed!"
   ]
  },
  {
   "cell_type": "markdown",
   "id": "2d6d68ca-cd04-44af-91e8-6f3383e4052d",
   "metadata": {},
   "source": [
    "## III. statements\n",
    "### III.1 python常见的statements\n",
    "- 赋值：\n",
    "  - =\n",
    "- 逻辑控制：\n",
    "  - if-elif-else\n",
    "  - while\n",
    "  - for\n",
    "  - pass, break, continue\n",
    "- 函数定义和调用：\n",
    "  - func.()\n",
    "  - def\n",
    "  - return\n",
    "- 对象定义\n",
    "  - class\n",
    "- module access\n",
    "  - import\n",
    "  - from\n",
    "- namespace\n",
    "  - global\n",
    "  - nonlocal\n",
    "- generator\n",
    "  - yield\n",
    "- context manager\n",
    "  - with/as\n",
    "- exception管理\n",
    "  - try/except/finally\n",
    "  - raise\n",
    "- debugging check\n",
    "  - assert\n",
    "- 其他\n",
    "  - print\n",
    "  - type\n",
    "  - del ： 删除reference"
   ]
  },
  {
   "cell_type": "markdown",
   "id": "f1bc8dcd-29c7-4d70-89f0-de6b2897163b",
   "metadata": {},
   "source": [
    "## IV. expressions"
   ]
  },
  {
   "cell_type": "markdown",
   "id": "d3669a24-26e1-4609-9bd2-da80e3fc310d",
   "metadata": {},
   "source": [
    "## V. data type hierarchies\n",
    "<img src=\"pics/types.png\" style=\"width:60%\">"
   ]
  },
  {
   "cell_type": "markdown",
   "id": "2485ff07-3678-484f-b1b7-1ab100bd76b3",
   "metadata": {},
   "source": []
  },
  {
   "cell_type": "markdown",
   "id": "dde40df6-47d6-4288-b20c-b065275f11e7",
   "metadata": {},
   "source": []
  }
 ],
 "metadata": {
  "kernelspec": {
   "display_name": "Python 3 (ipykernel)",
   "language": "python",
   "name": "python3"
  },
  "language_info": {
   "codemirror_mode": {
    "name": "ipython",
    "version": 3
   },
   "file_extension": ".py",
   "mimetype": "text/x-python",
   "name": "python",
   "nbconvert_exporter": "python",
   "pygments_lexer": "ipython3",
   "version": "3.10.14"
  }
 },
 "nbformat": 4,
 "nbformat_minor": 5
}
