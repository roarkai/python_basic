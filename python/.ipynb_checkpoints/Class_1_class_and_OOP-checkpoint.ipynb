{
 "cells": [
  {
   "cell_type": "markdown",
   "id": "fc822255",
   "metadata": {},
   "source": [
    "# Class与OOP\n",
    "## I. class是python实现OOP的主要工具\n",
    "### I.1 OOP的基本概念\n",
    "#### I.1.1 什么是OOP\n",
    "- a programming paradigm that organizes code by bundling related data and behaviors together into \"objects.\"\n",
    "#### I.1.2 OOP的四个基本理念\n",
    "1. <font color=blue>**Encapsulation**</font>：将Data和负责处理该data的methods放在一个工作单元class内，用methods和operator(通过overloading)来执行behavior。\n",
    "\n",
    "2. <font color=blue>**Inheritance**</font>：通过attribute search规则，实现了在已有class基础上构建新class的能力。\n",
    "\n",
    "3. <font color=blue>**Polymorphism**</font>：`obj.attr`中只要改变obj的类型，能自动匹配适合的attr。也就是能用同一个interface来适用于不同类型对象。 \n",
    "\n",
    "4. <font color=blue>**Abstraction**</font>：Hiding complex implementation details and showing only the necessary features"
   ]
  },
  {
   "cell_type": "markdown",
   "id": "1fdeaa4c",
   "metadata": {},
   "source": [
    "#### I.1.3 对多态的一点说明\n",
    "- 不同语言实现多态的方式不同。比如c++是基于function signature实现的。在一个class中定义多个同名method，每个method的arguments不同。在程序执行时，根据收到传参的数量和类型来匹配实际适用的method，从而实现了多态。\n",
    "- 在python中，多态是通过不同的objects中都implement了相同的interface，也就是不同class中定义同名method来实现的。如果想要某个object支持某个运算，只需要在object的class statement中加上对应的method。"
   ]
  },
  {
   "cell_type": "markdown",
   "id": "d3be2d55",
   "metadata": {},
   "source": [
    "### I.2 class和OOP的关系\n",
    "- class是python实现OOP的主要工具"
   ]
  },
  {
   "cell_type": "markdown",
   "id": "d558f626",
   "metadata": {},
   "source": [
    "#### I.2.1 class实现OOP的四种基本特征的例子\n",
    "1. **封装**\n",
    "```python\n",
    "class BankAccount:\n",
    "    def __init__(self):\n",
    "        self._balance = 0 \n",
    "        \n",
    "    def deposit(self, amount): # 将operation logic封装到method中\n",
    "        if amount > 0: \n",
    "            self._balance += amount\n",
    "            \n",
    "    def get_balance(self):  # method是class与用户交互的interface\n",
    "        return self._balance\n",
    "```"
   ]
  },
  {
   "cell_type": "markdown",
   "id": "30a4b5fc",
   "metadata": {},
   "source": [
    "2. **继承**\n",
    "```python\n",
    "class Animal:\n",
    "    def make_sound(self):\n",
    "        pass\n",
    "\n",
    "class Dog(Animal):  # Dog inherits from Animal\n",
    "    def make_sound(self):\n",
    "        return \"Woof!\"\n",
    "\n",
    "class Cat(Animal):  # Cat inherits from Animal\n",
    "    def make_sound(self):\n",
    "        return \"Meow!\"\n",
    "```"
   ]
  },
  {
   "cell_type": "markdown",
   "id": "d0867cc0",
   "metadata": {},
   "source": [
    "3. **多态**\n",
    "```python\n",
    "def animal_sound(animal):\n",
    "    print(animal.make_sound())\n",
    "\n",
    "# Both work with the same interface\n",
    "dog = Dog()\n",
    "cat = Cat()\n",
    "animal_sound(dog)  # Prints: Woof!\n",
    "animal_sound(cat)  # Prints: Meow!\n",
    "```"
   ]
  },
  {
   "cell_type": "markdown",
   "id": "b71eb437",
   "metadata": {},
   "source": [
    "4. **抽象**\n",
    "```python\n",
    "class Car:\n",
    "    def __init__(self):\n",
    "        self.engine = Engine()  # Complex internal component\n",
    "    \n",
    "    def start(self):  # Simple interface\n",
    "        self.engine.inject_fuel()\n",
    "        self.engine.ignite()\n",
    "        self.engine.start_pistons()\n",
    "```"
   ]
  },
  {
   "cell_type": "markdown",
   "id": "5f05a8f9",
   "metadata": {},
   "source": [
    "## II. class与function和module的关键差异\n",
    "- python中用来packaging logic and data的program unit有三种：function, module和class\n",
    "### II.1 class和module的相似之处\n",
    "1. 与function和module一样，class是python中用来packaging logic and data的program unit。他们都可以存储state data，并且提供处理data的工具。\n",
    "   - function：\n",
    "     1. 可以用<font color=blue>local scope</font>存储state，function本身就是处理data的logic。\n",
    "     2. nested function还可以用<font color=blue>enclosing scope(closure)</font>来存储state，然后用nested function作为处理数据的logic。\n",
    "   - module：\n",
    "     - 用<font color=blue>global scope</font>存储state，用function提供理数据的logic\n",
    "   - class：\n",
    "     - 用data attribute来存储state，用method提供处理数据的logic"
   ]
  },
  {
   "cell_type": "markdown",
   "id": "eb9eeb78",
   "metadata": {},
   "source": [
    "2. 他们都会定义namespace"
   ]
  },
  {
   "cell_type": "markdown",
   "id": "f23cc4eb",
   "metadata": {},
   "source": [
    "### II.2 和module的不同之处\n",
    "- class和module有三个主要区别，这几个特征也是class在构建object时非常有用的原因。\n",
    "1. <font color=blue>**multiple instance：class本质上是instance factory**</font>\n",
    "   - 每次call class，都会生成一个新的instance\n",
    "   - 每个instance对象都有自己namespace，用来存放只属于instance的data attributes\n",
    "   - 每个对象都能access class的attributes\n",
    "2. <font color=blue>**通过继承实现customization**</font>\n",
    "   - 可以通过在subclass中重新定义class中的attributes来和定义额外的attributes来扩展class的功能\n",
    "   - 在继承的同时，class也建立了namespace hierarchy。可以通过指定class来access不同层次namespace中的attributes。\n",
    "3. <font color=blue>**operator overloading**</font>\n",
    "   - python提供了特殊的protocol methods，可以在自定义的class中implement这些methods来让对象支持python built-in类型的对象常用的operations"
   ]
  },
  {
   "cell_type": "markdown",
   "id": "33755d75",
   "metadata": {},
   "source": [
    "- 与上述3点相对，module的特征是：\n",
    "  1. 每个module在import到1个program中时，只能import1次。如果想要冲洗import，就要用reload函数。而且imported attribute被所有receiver share，并不能在单个receiver中自定义attribute value。\n",
    "  2. module的所有attributes都在单一一个namespace中，也没有因为继承而产生的层次结构，因此不能支持customization。\n",
    "  3. module不支持operator overloading。\n",
    "- 总的来说，有了上面的能力，class在支持code reuse方面的能力比module更强。有了inheritance能力，就可以通过customizing现有软件来写code。不然的话，扩展新的功能就必须改写现有代码，或者重写新代码。"
   ]
  },
  {
   "cell_type": "markdown",
   "id": "f8b0b9aa",
   "metadata": {},
   "source": [
    "### II.3 实现class所需的两个关键机制\n",
    "- 两个机制使得class成为python实现OOP最核心的工具的底层机制，使其与function和module产生上述差异：\n",
    "  1. 在function中加入了一个特殊的first argument，用来接受the subject of a call\n",
    "  2. 一套inheritance attribute search规则，支撑了programming by customization。\n",
    "- 通过class实现的OOP在python中增加了一层structure，它比(只用function+built-in types+module构建的)flat procedual models对编程的支持更好。\n",
    "- 如果没有这两个机制实现了class based OOP model，python能做的就是functions ultimately process built-in types。\n",
    "\n",
    "- <font color=green>**尽管class实现了比function和module更好的OOP功能，但就class的implement本身而言，它就是在function和data基础上加了一层structure而已。**</font>\n",
    "  - 这层structure layer做了两件事，一是让funciton自动获得instance为第一个参数；二是创建了namespace tree，并让attribute search按照特定规则search tree来获得结果。"
   ]
  }
 ],
 "metadata": {
  "kernelspec": {
   "display_name": "Python 3 (ipykernel)",
   "language": "python",
   "name": "python3"
  },
  "language_info": {
   "codemirror_mode": {
    "name": "ipython",
    "version": 3
   },
   "file_extension": ".py",
   "mimetype": "text/x-python",
   "name": "python",
   "nbconvert_exporter": "python",
   "pygments_lexer": "ipython3",
   "version": "3.10.14"
  }
 },
 "nbformat": 4,
 "nbformat_minor": 5
}
