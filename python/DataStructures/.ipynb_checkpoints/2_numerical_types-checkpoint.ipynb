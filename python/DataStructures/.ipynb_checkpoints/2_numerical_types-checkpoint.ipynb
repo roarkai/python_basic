{
 "cells": [
  {
   "cell_type": "markdown",
   "id": "7c163c20-fd3d-4db5-afda-7ab98b8689e2",
   "metadata": {},
   "source": [
    "# Numerical Types"
   ]
  },
  {
   "cell_type": "markdown",
   "id": "1cca6c4b",
   "metadata": {
    "ExecuteTime": {
     "end_time": "2024-10-21T08:40:12.840457Z",
     "start_time": "2024-10-21T08:40:12.829662Z"
    }
   },
   "source": [
    "# I. 数学运算\n",
    "## I.1 除法"
   ]
  },
  {
   "cell_type": "code",
   "execution_count": 8,
   "id": "b19ef7b6",
   "metadata": {
    "ExecuteTime": {
     "end_time": "2024-10-21T12:55:08.291970Z",
     "start_time": "2024-10-21T12:55:08.286682Z"
    }
   },
   "outputs": [
    {
     "data": {
      "text/plain": [
       "3.3333333333333335"
      ]
     },
     "execution_count": 8,
     "metadata": {},
     "output_type": "execute_result"
    }
   ],
   "source": [
    "# 1. 一般除法\n",
    "10 / 3"
   ]
  },
  {
   "cell_type": "code",
   "execution_count": 12,
   "id": "b5e67784",
   "metadata": {
    "ExecuteTime": {
     "end_time": "2024-10-21T12:56:55.684606Z",
     "start_time": "2024-10-21T12:56:55.678724Z"
    }
   },
   "outputs": [
    {
     "data": {
      "text/plain": [
       "(3, 3.0)"
      ]
     },
     "execution_count": 12,
     "metadata": {},
     "output_type": "execute_result"
    }
   ],
   "source": [
    "# 2. 整除取整\n",
    "# 如果operant中全是int，输出int; 如果operant中有float，输出float\n",
    "10 // 3, 10 // 3.0"
   ]
  },
  {
   "cell_type": "markdown",
   "id": "7874d599-bf5a-4133-ae5b-8e2ad205b922",
   "metadata": {},
   "source": [
    "## I.2 比较运算\n",
    "#### 1. 连续比较\n",
    "<code>x < y < z</code>表示<code>x < y and y < z</code>\n",
    "#### 2. 浮点数不要用: <code>==</code> \n",
    "- 精度会来带计算问题\n",
    "- 如果一定要计算比较关系，那么可以用round()先控制精度再比较"
   ]
  },
  {
   "cell_type": "code",
   "execution_count": 3,
   "id": "fa0aae00",
   "metadata": {
    "ExecuteTime": {
     "end_time": "2024-10-21T12:40:36.157120Z",
     "start_time": "2024-10-21T12:40:36.150252Z"
    }
   },
   "outputs": [
    {
     "data": {
      "text/plain": [
       "(False, True)"
      ]
     },
     "execution_count": 3,
     "metadata": {},
     "output_type": "execute_result"
    }
   ],
   "source": [
    "1.1 + 2.2 == 3.3, round(1.1 + 2.2, ndigits=2) == round(3.3, ndigits=2)"
   ]
  },
  {
   "cell_type": "markdown",
   "id": "334b957f-2e26-4806-a29c-93a8d12056a2",
   "metadata": {},
   "source": [
    "## II. Set\n",
    "### II.1 set的基本特征\n",
    "1. set是collections with numeric operations。\n",
    "   1. 它是unordered collection of unique and immutable objects\n",
    "   2. 它支持数学上对应于集合运算的那些operation\n",
    "   - 它既有collection的特点，又有numerical type object的特点。但总体上numerical的性质更强。\n",
    "2. set有collection的部分特征\n",
    "   - set是unordered的，所以不是sequence\n",
    "   - 没有从key到value的map机制，所以也不是mapping types\n",
    "   - 但是它是iterable\n",
    "3. set中的元素必须是immutable的\n",
    "   - 因为set在python中的implement方式限制了其中的元素必须是hashable的\n",
    "   - string, numerical literals(int, float, boolean), tuple和module可以是set的元素\n",
    "   - set, dict, list不能作为set的元素"
   ]
  },
  {
   "cell_type": "markdown",
   "id": "cb419860",
   "metadata": {},
   "source": [
    "### II.2 创建set类型实例的三种方法"
   ]
  },
  {
   "cell_type": "code",
   "execution_count": 37,
   "id": "e2ed91c7",
   "metadata": {
    "ExecuteTime": {
     "end_time": "2024-10-21T15:00:17.515246Z",
     "start_time": "2024-10-21T15:00:17.508903Z"
    }
   },
   "outputs": [
    {
     "data": {
      "text/plain": [
       "({'e', 'h', 'l', 'o'}, {'hello', 'world'})"
      ]
     },
     "execution_count": 37,
     "metadata": {},
     "output_type": "execute_result"
    }
   ],
   "source": [
    "# 1. 用set()函数\n",
    "#   此时只能有一个argument\n",
    "x = set('hello')\n",
    "#   如果有多个元素，要用[]或者{}\n",
    "y = set(['hello', 'world'])\n",
    "x, y"
   ]
  },
  {
   "cell_type": "code",
   "execution_count": 24,
   "id": "ced5ef43",
   "metadata": {
    "ExecuteTime": {
     "end_time": "2024-10-21T13:58:55.101194Z",
     "start_time": "2024-10-21T13:58:55.095011Z"
    }
   },
   "outputs": [
    {
     "data": {
      "text/plain": [
       "({'bbb'}, set, set)"
      ]
     },
     "execution_count": 24,
     "metadata": {},
     "output_type": "execute_result"
    }
   ],
   "source": [
    "# 2. 用{literals}\n",
    "y = {'bbb'}         # 注，用{}得到的是set，而不是dictionary\n",
    "z = {2, 55}\n",
    "y, type(y), type(z) # 注意这里y的结果和用set函数的不同"
   ]
  },
  {
   "cell_type": "code",
   "execution_count": 31,
   "id": "a503c0d8",
   "metadata": {
    "ExecuteTime": {
     "end_time": "2024-10-21T14:01:11.644621Z",
     "start_time": "2024-10-21T14:01:11.638441Z"
    },
    "scrolled": true
   },
   "outputs": [
    {
     "data": {
      "text/plain": [
       "({0, 1, 2, 3}, set)"
      ]
     },
     "execution_count": 31,
     "metadata": {},
     "output_type": "execute_result"
    }
   ],
   "source": [
    "# 3. 用comprehension\n",
    "w = {i for i in range(4)}\n",
    "w, type(w)"
   ]
  },
  {
   "cell_type": "markdown",
   "id": "9ee5678d",
   "metadata": {},
   "source": [
    "### II.3 set支持的math set operation\n",
    "#### 1. 集合之间的关系运算\n",
    "- difference：-\n",
    "  - x - y,在x中不在y中的元素\n",
    "- union：|\n",
    "  - x | y,x和y的元素汇总\n",
    "- intersection：&\n",
    "  - x & y,同时在x和y中的元素\n",
    "- symmetric differece：^\n",
    "  - x ^ y,仅在x中和仅在y中的元素汇总\n",
    "- superset, subset: >, <\n",
    "  - x > y,x包含了所有y中元素，返回值是boolean类型，True or False\n",
    "- <font color=red>注：operator两边的operant都必须是set object</font>"
   ]
  },
  {
   "cell_type": "markdown",
   "id": "7a2628b9-291c-409e-8ed6-8e09b29cc52c",
   "metadata": {},
   "source": [
    "#### 2. 用method比math operator更灵活\n",
    "- 用set的method不要求operant都是set object"
   ]
  },
  {
   "cell_type": "code",
   "execution_count": 34,
   "id": "61604afc",
   "metadata": {
    "ExecuteTime": {
     "end_time": "2024-10-21T14:15:03.694262Z",
     "start_time": "2024-10-21T14:15:03.689140Z"
    }
   },
   "outputs": [
    {
     "data": {
      "text/plain": [
       "({0, 1, 2, 3, 6, 9}, {3})"
      ]
     },
     "execution_count": 34,
     "metadata": {},
     "output_type": "execute_result"
    }
   ],
   "source": [
    "a = {i for i in range(4)}\n",
    "b = [j for j in range(3, 12, 3)]\n",
    "a.union(b), a.intersection(b)"
   ]
  },
  {
   "cell_type": "markdown",
   "id": "d9c569bc-86c3-4004-9dd5-f3db1273b596",
   "metadata": {},
   "source": [
    "## III. Boolean\n",
    "- numers类型的对象：0是False，非零是True\n",
    "- None是False\n",
    "- 其他类型的对象：值为empty是False，非empty是True"
   ]
  },
  {
   "cell_type": "markdown",
   "id": "6808583f-edc8-4966-845c-4a17ef94e85b",
   "metadata": {},
   "source": [
    "## IV. None\n",
    "- None在python中是一个object，而不是nothing\n",
    "- 可以将它看做一个没有具体给值的place holder，典型用法可以是："
   ]
  },
  {
   "cell_type": "code",
   "execution_count": 38,
   "id": "05ded75b",
   "metadata": {
    "ExecuteTime": {
     "end_time": "2024-10-24T04:01:24.403302Z",
     "start_time": "2024-10-24T04:01:24.396732Z"
    }
   },
   "outputs": [
    {
     "data": {
      "text/plain": [
       "[None, None, None, None, None]"
      ]
     },
     "execution_count": 38,
     "metadata": {},
     "output_type": "execute_result"
    }
   ],
   "source": [
    "L = [None] * 5\n",
    "L"
   ]
  },
  {
   "cell_type": "markdown",
   "id": "ad1e924e-e2bc-49ff-b79e-257ada89c357",
   "metadata": {},
   "source": []
  }
 ],
 "metadata": {
  "kernelspec": {
   "display_name": "Python 3 (ipykernel)",
   "language": "python",
   "name": "python3"
  },
  "language_info": {
   "codemirror_mode": {
    "name": "ipython",
    "version": 3
   },
   "file_extension": ".py",
   "mimetype": "text/x-python",
   "name": "python",
   "nbconvert_exporter": "python",
   "pygments_lexer": "ipython3",
   "version": "3.10.12"
  }
 },
 "nbformat": 4,
 "nbformat_minor": 5
}
