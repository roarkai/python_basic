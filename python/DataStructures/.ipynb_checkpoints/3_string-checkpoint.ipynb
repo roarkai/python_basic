{
 "cells": [
  {
   "cell_type": "markdown",
   "id": "3f8264cd",
   "metadata": {},
   "source": [
    "# String\n",
    "## I. 基本特征\n",
    "1. string本质上是：positionally ordered collection of one-character strings\n",
    "2. 从功能上看，string可以用来表达任意可以encode成text，或者bytes的东西。\n",
    "   - text对应symbol和words\n",
    "   - bytes包括media files，network transfers，encoded和decoded形式的non-ASCII Unicode text"
   ]
  },
  {
   "cell_type": "markdown",
   "id": "ce219ec6",
   "metadata": {},
   "source": [
    "## II. 两种主要的string类型：str和byte\n",
    "- **string有两种主要类型：str和byte。**此外还有一些特定用途的类型，比如用于print的format string。\n",
    "  - <font color=blue>**str**</font>：用<code>\"\"</code>, <code>''</code>, <code>\"\"\" \"\"\"</code>生成的都是str类型的string。通常的unicode text都用str类型表示。\n",
    "  - <font color=blue>**byte**</font>：用<code>b''</code>生成的是byte string。encoded text是byte类型。\n",
    "- **两种string类型分别处理两类不同的files类型。**\n",
    "  - 一类是文本类的files，比如html，txt等。文本的内容可以用unicode编码表示。在python中这类files的内容用str来处理。<font color=red>str类型可能涉及不同编码形态的变换。</font>\n",
    "  - 一类文本的内容是binary raw bytes，比如图片，视频，音频和网络数据包等。在python中，这类files用byte类型来处理。<font color=red>这类文件通常直接处理row bytes，不涉及不同编码性形态之间的转换。</font>"
   ]
  },
  {
   "cell_type": "markdown",
   "id": "3ec9464d",
   "metadata": {},
   "source": [
    "## III. str类型的string\n",
    "### III.1 直接创建str literals的3种方法\n",
    "1. 用<code>\"\"</code>和<code>''</code>\n",
    "   - 如果文本中有character是<code>\"</code>或者<code>'</code>的其中一种，只要把最外层的引号用另一种来标记str类型就可以了。\n",
    "   - 如果两种都有，则用<code>\\\\</code>来escape"
   ]
  },
  {
   "cell_type": "code",
   "execution_count": 1,
   "id": "64e153e4",
   "metadata": {
    "ExecuteTime": {
     "end_time": "2024-10-25T02:55:52.598039Z",
     "start_time": "2024-10-25T02:55:52.582112Z"
    }
   },
   "outputs": [
    {
     "data": {
      "text/plain": [
       "(False, '\"h\", \"w\"', \"'h', 'w'\")"
      ]
     },
     "execution_count": 1,
     "metadata": {},
     "output_type": "execute_result"
    }
   ],
   "source": [
    "a = '\"h\", \"w\"'\n",
    "b = \"'h', 'w'\"\n",
    "a == b, a, b"
   ]
  },
  {
   "cell_type": "code",
   "execution_count": 2,
   "id": "1884744e",
   "metadata": {
    "ExecuteTime": {
     "end_time": "2024-10-25T02:55:52.611772Z",
     "start_time": "2024-10-25T02:55:52.601145Z"
    },
    "scrolled": true
   },
   "outputs": [
    {
     "name": "stdout",
     "output_type": "stream",
     "text": [
      "she said, \"the best word is 'love'.\"\n"
     ]
    },
    {
     "data": {
      "text/plain": [
       "(None, 'she said, \"the best word is \\'love\\'.\"')"
      ]
     },
     "execution_count": 2,
     "metadata": {},
     "output_type": "execute_result"
    }
   ],
   "source": [
    "c = \"she said, \\\"the best word is 'love'.\\\"\" \n",
    "print(c), c # 注意区别"
   ]
  },
  {
   "cell_type": "markdown",
   "id": "615f12ac",
   "metadata": {},
   "source": [
    "2. 在单、双引号前面加r的就是raw string，raw string不会识别escape符号<code>\\\\</code>，会将它视为一个普通character\n",
    "   - raw string实际上就是python把text中所有<code>\\\\</code>自动做了escape然后存成str\n",
    "   - <font color=blue>raw string最常见的用途是作为<code>open()</code>的参数处理files</font>\n",
    "   - <font color=red>注：raw string中引号不会被视为character，规则和前面一样没有变化</font>"
   ]
  },
  {
   "cell_type": "code",
   "execution_count": 3,
   "id": "0a5e7547",
   "metadata": {
    "ExecuteTime": {
     "end_time": "2024-10-25T02:55:52.621162Z",
     "start_time": "2024-10-25T02:55:52.614624Z"
    }
   },
   "outputs": [
    {
     "name": "stdout",
     "output_type": "stream",
     "text": [
      "4 ['I', '\\\\', \"'\", 'm']\n",
      "I\\'m\n"
     ]
    },
    {
     "data": {
      "text/plain": [
       "\"I\\\\'m\""
      ]
     },
     "execution_count": 3,
     "metadata": {},
     "output_type": "execute_result"
    }
   ],
   "source": [
    "e = r'I\\'m'\n",
    "print(len(e), [i for i in e])  # 实际存储的str类型将'\\'做了escape\n",
    "print(e)                       # print(e) 和raw string形态相同\n",
    "e                              # e的输出是python实际存储的character形态"
   ]
  },
  {
   "cell_type": "markdown",
   "id": "27a23335",
   "metadata": {},
   "source": [
    "3. 3个连续双引号<code>\"\"\" \"\"\"</code>表示跨行string，虽然有多行，但整体是1个string\n",
    "   - 此时每行结尾会被自动加上换行符'\\n'"
   ]
  },
  {
   "cell_type": "code",
   "execution_count": 4,
   "id": "c9ac7ec8",
   "metadata": {
    "ExecuteTime": {
     "end_time": "2024-10-25T02:55:52.629514Z",
     "start_time": "2024-10-25T02:55:52.625200Z"
    }
   },
   "outputs": [
    {
     "name": "stdout",
     "output_type": "stream",
     "text": [
      "\n",
      "aa\n",
      "b'c\"\"d'e\n",
      "\n",
      "['\\n', 'a', 'a', '\\n', 'b', \"'\", 'c', '\"', '\"', 'd', \"'\", 'e', '\\n']\n"
     ]
    }
   ],
   "source": [
    "a = \"\"\"\n",
    "aa\n",
    "b'c\"\"d'e\n",
    "\"\"\"\n",
    "print(a)\n",
    "print([i for i in a])"
   ]
  },
  {
   "cell_type": "markdown",
   "id": "c136de58",
   "metadata": {},
   "source": [
    "### III.2 str支持的基本操作\n",
    "主要有3类：\n",
    "1. str作为sequence类型支持sequence的操作\n",
    "2. str自己的method\n",
    "3. 第三方扩展库提供的操作，如：re可以对str做pattern match"
   ]
  },
  {
   "cell_type": "markdown",
   "id": "f12f7449",
   "metadata": {},
   "source": [
    "#### 1. sequence类操作\n",
    "- cantenate：<code> s1 + s2</code>\n",
    "- repeat：<code> s1 * s2</code>\n",
    "- indexing和slicing: <code>s[]</code>\n",
    "- <code>len(s)</code>\n",
    "- 另外做为collection还支持iteration：<code>for i in s: ...</code>"
   ]
  },
  {
   "cell_type": "markdown",
   "id": "68d04c3b",
   "metadata": {},
   "source": [
    "#### 2. str自己的method\n",
    "常见的有：\n",
    "- search: <code>s.find('sub_s')</code>\n",
    "- remove whitespace:<code>s.rstrip()</code>\n",
    "- split on delimiter: <code>s.split(',')</code> # use , as delimiter\n",
    "- replacement: <code>s.replace('sub_s', 'xx')</code>\n",
    "- lower/cap: <code>s.lower()</code>, <code>s.capitaolize()</code>\n",
    "- encode/decode: <code>s.encode('utf-8')</code>, <code>s.decode()</code>\n",
    "- content test: <code>s.isdigit()</code>, <code>s.isalpha()</code>, <code>s.isdecimal()</code>"
   ]
  },
  {
   "cell_type": "markdown",
   "id": "6999f74a",
   "metadata": {},
   "source": [
    "### III.3 str中的escape sequence\n",
    "略"
   ]
  },
  {
   "cell_type": "markdown",
   "id": "487419db",
   "metadata": {},
   "source": [
    "### III.4 str string的编码方式\n",
    "1. python中，str string用unicode编码，因此可以表达各种类型的文本数据。\n",
    "  - 每个str string都是一个sequence of unicode code points.python在内存中将每个character存成它对应的Unicode codepoint。\n",
    "2. 与编码方式对应，<code>len(s)</code>返回的不是str string在内存中占用的bytes数量，而是str string对应的unicode编码的code points数量。\n",
    "   - <font color=red>注意区分python表达文本数据的编码方式(unicode)和python存储数据的方式(不是unicode)。</font>\n",
    "3. python会根据它的escape规则来读取string中的code point\n",
    "   - 比如：<code>'\\u'</code>会连读后面4个digits；<code>'\\U'</code>会连读后面8个digits；<code>'\\x'</code>会连读后面2个digits"
   ]
  },
  {
   "cell_type": "code",
   "execution_count": 5,
   "id": "f5e7cb8e",
   "metadata": {
    "ExecuteTime": {
     "end_time": "2024-10-25T02:55:52.636368Z",
     "start_time": "2024-10-25T02:55:52.631956Z"
    }
   },
   "outputs": [
    {
     "name": "stdout",
     "output_type": "stream",
     "text": [
      "['\\n', 'a', '中', '国']\n"
     ]
    }
   ],
   "source": [
    "# 含有non-ACSII的string\n",
    "x = '\\na中国'\n",
    "print([i for i in x])  # 输出的是这些character对应的unicode code points"
   ]
  },
  {
   "cell_type": "code",
   "execution_count": 6,
   "id": "158c7975",
   "metadata": {
    "ExecuteTime": {
     "end_time": "2024-10-25T02:55:52.643812Z",
     "start_time": "2024-10-25T02:55:52.639122Z"
    },
    "scrolled": true
   },
   "outputs": [
    {
     "name": "stdout",
     "output_type": "stream",
     "text": [
      "['Ǝ', ' ', '=', ' ', 'Ǝ']\n",
      "5\n"
     ]
    }
   ],
   "source": [
    "# 直接用unicode的码值来定义str string\n",
    "y = '\\u018e = Ǝ'\n",
    "print([i for i in y])  # python会将unicode码值转变成对应的symbol输出\n",
    "print(len(y))          # ‘\\u018e’是1个escape sequence，对应unicode编码中的1个code point\n",
    "                       # 所以它的长度是1，而不是5"
   ]
  },
  {
   "cell_type": "code",
   "execution_count": 7,
   "id": "a52fbec4",
   "metadata": {
    "ExecuteTime": {
     "end_time": "2024-10-25T02:55:52.651032Z",
     "start_time": "2024-10-25T02:55:52.645963Z"
    }
   },
   "outputs": [
    {
     "data": {
      "text/plain": [
       "(4, 'V366')"
      ]
     },
     "execution_count": 7,
     "metadata": {},
     "output_type": "execute_result"
    }
   ],
   "source": [
    "# python会根据它的escape规则来读取string中的code point\n",
    "z = '\\x56366'   # 按照escape sequence规则，看到'\\x'就将后面2个digits读成1个escape sequence\n",
    "len(z), z"
   ]
  },
  {
   "cell_type": "markdown",
   "id": "8b6d9943",
   "metadata": {},
   "source": [
    "- python给str提供了将unicode转变成其他编码的method：<code>str.encode('encode_method')</code>。经过编码之后，得到的string就成了byte类型，而不再是str类型。\n",
    "  - 比如：<code>s.encode('utf-8')</code>"
   ]
  },
  {
   "cell_type": "code",
   "execution_count": 8,
   "id": "87949a68",
   "metadata": {
    "ExecuteTime": {
     "end_time": "2024-10-25T02:55:52.656780Z",
     "start_time": "2024-10-25T02:55:52.653119Z"
    },
    "scrolled": true
   },
   "outputs": [
    {
     "name": "stdout",
     "output_type": "stream",
     "text": [
      "<class 'bytes'> b'\\xc6\\x8e = \\xc6\\x8e'\n"
     ]
    }
   ],
   "source": [
    "en_y = y.encode('utf-8')\n",
    "print(type(en_y), en_y)"
   ]
  },
  {
   "cell_type": "markdown",
   "id": "faa609c4",
   "metadata": {},
   "source": [
    "### III.5 区分Python 3在不同场景下处理strings的方式\n",
    "Key points:\n",
    "- UTF-8 is an encoding format used when reading/writing files or network communication\n",
    "- Unicode is the in-memory representation Python uses\n",
    "- Python automatically chooses the most memory-efficient representation based on the actual characters in the string"
   ]
  },
  {
   "cell_type": "markdown",
   "id": "0a49f43c",
   "metadata": {},
   "source": [
    "#### 1. 表示string\n",
    "- str类型用unicode编码方式来表示text，它从输入终端读取的是symbol或者unicode的码值，但处理都统一用unicode。\n",
    "- 所有的这些unicode都要存到memory中，因此python定义了一套存储这些unicode的策略。<font color=red>**基于算法效率考虑而没有用utf-8**</font>"
   ]
  },
  {
   "cell_type": "markdown",
   "id": "57bd8f8c",
   "metadata": {},
   "source": [
    "#### 2. python在memory中存储unicode的storage strategy\n",
    "- Python用一种称为\"flexible string representation\"的方式来存储unicode的不同部分:\n",
    "  - Latin-1 (1 byte per character) for ASCII strings\n",
    "  - UCS-2 (2 bytes per character) for Basic Multilingual Plane\n",
    "  - UCS-4 (4 bytes per character) for characters outside the BMP\n",
    "- <font color=green>当string中有不同size level的character时，则string中的所有character都用bytes最长的那个character的byte size来存储</font>\n",
    "- <font color=norange>**python为什么没有直接用utf-8作为存储策略**</font>\n",
    "  - 因为utf-8虽然可以压缩编码长度，但是由于不同的code point编码长度不同，所以indexing,slicing,统计string length这些操作的效率很低，而这些method在编程中使用频繁。python根据编程中对这些method的效率考虑改用了自己的存储策略。这个策略在index和length calculation的时间复杂度都是O(1)。因为characters are stored in fixed-width units in memory, not in variable-width UTF-8 encoding."
   ]
  },
  {
   "cell_type": "code",
   "execution_count": 9,
   "id": "731587d6",
   "metadata": {
    "ExecuteTime": {
     "end_time": "2024-10-25T02:55:52.663519Z",
     "start_time": "2024-10-25T02:55:52.658900Z"
    }
   },
   "outputs": [
    {
     "name": "stdout",
     "output_type": "stream",
     "text": [
      "1 50\n",
      "2 51\n"
     ]
    }
   ],
   "source": [
    "# Python uses different storage strategies depending on the characters:\n",
    "import sys\n",
    "s1 = 'a'              # ASCII characters - 1 byte per char\n",
    "s12 = 'ah'            # s1和s2的长度差异体现char耗用的byte数，s1值体现overhead\n",
    "print(len(s1), sys.getsizeof(s1))\n",
    "print(len(s12), sys.getsizeof(s12))  "
   ]
  },
  {
   "cell_type": "code",
   "execution_count": 10,
   "id": "f93018f0",
   "metadata": {
    "ExecuteTime": {
     "end_time": "2024-10-25T02:55:52.671816Z",
     "start_time": "2024-10-25T02:55:52.668065Z"
    }
   },
   "outputs": [
    {
     "name": "stdout",
     "output_type": "stream",
     "text": [
      "1 76\n",
      "2 78\n"
     ]
    }
   ],
   "source": [
    "s2 = 'и'         # Unicode characters - 2 bytes per char\n",
    "s22 = 'пи'\n",
    "print(len(s2), sys.getsizeof(s2))\n",
    "print(len(s22), sys.getsizeof(s22)) "
   ]
  },
  {
   "cell_type": "code",
   "execution_count": 11,
   "id": "87ab2542",
   "metadata": {
    "ExecuteTime": {
     "end_time": "2024-10-25T02:55:52.678304Z",
     "start_time": "2024-10-25T02:55:52.674172Z"
    }
   },
   "outputs": [
    {
     "name": "stdout",
     "output_type": "stream",
     "text": [
      "1 80\n",
      "2 84\n"
     ]
    }
   ],
   "source": [
    "s3 = '🐍'                # Characters outside BMP - 4 bytes per char\n",
    "s32 = '🐍🐍'  \n",
    "print(len(s3), sys.getsizeof(s3))\n",
    "print(len(s32), sys.getsizeof(s32)) "
   ]
  },
  {
   "cell_type": "code",
   "execution_count": 12,
   "id": "72d954cb",
   "metadata": {
    "ExecuteTime": {
     "end_time": "2024-10-25T02:55:52.684556Z",
     "start_time": "2024-10-25T02:55:52.680650Z"
    }
   },
   "outputs": [
    {
     "name": "stdout",
     "output_type": "stream",
     "text": [
      "2 84\n",
      "3 88\n"
     ]
    }
   ],
   "source": [
    "s4 = 'a🐍'               # 当string中有不同size level的character时\n",
    "s42 = 'ah🐍'             # 全都用最长的那个character的size来存储\n",
    "print(len(s4), sys.getsizeof(s4))\n",
    "print(len(s42), sys.getsizeof(s42))"
   ]
  },
  {
   "cell_type": "code",
   "execution_count": 13,
   "id": "33dc0f16",
   "metadata": {
    "ExecuteTime": {
     "end_time": "2024-10-25T02:55:52.691129Z",
     "start_time": "2024-10-25T02:55:52.686723Z"
    }
   },
   "outputs": [
    {
     "name": "stdout",
     "output_type": "stream",
     "text": [
      "2\n",
      "6\n",
      "54\n",
      "78\n"
     ]
    }
   ],
   "source": [
    "# 与utf-8的差异\n",
    "s = '你好'\n",
    "print(len(s))                      # 2 (two Unicode characters)\n",
    "print(len(s.encode('utf-8')))      # 6 (six bytes in UTF-8)\n",
    "\n",
    "print(sys.getsizeof('hello'))      # More than 5 bytes due to overhead\n",
    "print(sys.getsizeof('你好'))        # More than 6 bytes (UTF-8 would be)"
   ]
  },
  {
   "cell_type": "markdown",
   "id": "3115c1d8",
   "metadata": {},
   "source": [
    "#### 3. python用utf-8作为reading/writing files和network communication的编码方式\n",
    "- 以读写文件(file I/O)为例：\n",
    "   - <font color=blue>**读文件**</font>\n",
    "     - python从文件中读取文本data时(注，图片这些非文本data不需要解码成string)，需要根据文件本身的编码方式来指定python读入该文件时用什么decode方法，python需要将file中的内容decode成unicode才能作为str处理。\n",
    "       - python的built-in函数<code>open('file_name', encoding='encoding_method')</code>就是具有解码能力的文件读取方法。\n",
    "     - 一个特殊的文件类型是python源代码文件：\n",
    "       - 如果一个.py文档没有特殊的标记编码方式，那么默认它的编码方式是utf-8，在将它读入memory在运行的时候，interpreter会先用decode('utf-8')的方式将它转化为unicode。\n",
    "       - 可以在源代码文件的顶部用<code># -\\*- coding: latin-1 -\\*- </code>，或者<code># coding: latin-1</code>来指定编码方式，这里的<code>'-\\*-'</code>不是必须的，只是从Emacs编辑器规则沿用下来的习惯\n",
    "    - <font color=blue>**写文件**</font>\n",
    "      - 当python将一段str string写入外部文件时，默认写进去的是文本内容对应的UTF-8 encoded bytes而不是Unicode representation。"
   ]
  },
  {
   "cell_type": "code",
   "execution_count": 14,
   "id": "73332c57",
   "metadata": {
    "ExecuteTime": {
     "end_time": "2024-10-25T02:55:52.699385Z",
     "start_time": "2024-10-25T02:55:52.693247Z"
    }
   },
   "outputs": [
    {
     "name": "stdout",
     "output_type": "stream",
     "text": [
      "b'Hello \\xe4\\xbd\\xa0\\xe5\\xa5\\xbd'\n",
      "[72, 101, 108, 108, 111, 32, 228, 189, 160, 229, 165, 189]\n",
      "b'Hello \\xe4\\xbd\\xa0\\xe5\\xa5\\xbd'\n"
     ]
    }
   ],
   "source": [
    "# 新建一个含有non-ASCII characters的str string\n",
    "s = \"Hello 你好\"                             # in memory: s is stored as Unicode\n",
    "print(s.encode('utf-8'))                     # 打印每个character对应的utf-8的码值\n",
    "print(list(s.encode('utf-8')))               # 打印每个码值的10进制值大小\n",
    "\n",
    "# 以可写方式打开文件，并用utf-8的编码方式将字符串s写入file\n",
    "# with open('string_sample.txt', 'w', encoding='utf-8') as f:  \n",
    "with open('string_sample.txt', 'w') as f:   # utf-8是默认encoding方法，所以可以不写该参数\n",
    "    f.write(s)\n",
    "\n",
    "# 用binary mode来查看文本中的raw bytes\n",
    "with open('string_sample.txt', 'rb') as f:  # open in  to see raw bytes\n",
    "    content = f.read()\n",
    "print(content)                              # byte string打印时0-127内值会输出对应ASCII字符\n",
    "\n",
    "# 直接在文本中打开会看到\"Hello 你好\"，这是因为使用的文本编辑器自动做了解码"
   ]
  },
  {
   "cell_type": "markdown",
   "id": "7afce478",
   "metadata": {},
   "source": [
    "## IV. byte类型的string\n",
    "### IV.1 python中bytes string的基本特点\n",
    "1. python用byte string来表示raw binary data(而不是text).也因此，<font color=red>python限制byte string只能包含ASCII characters。如果用non-ASCII characters来定义byte string会报错</font>\n",
    "   - <code>x = b'\\na中国'</code> 这个语句会报错\n",
    "   - 如果含有non-ASCII的text想用byte来处理，可以先创建str类型的object，然后通过encode将他们转化成byte string"
   ]
  },
  {
   "cell_type": "code",
   "execution_count": 15,
   "id": "b6df9601",
   "metadata": {
    "ExecuteTime": {
     "end_time": "2024-10-25T02:55:52.708024Z",
     "start_time": "2024-10-25T02:55:52.701808Z"
    }
   },
   "outputs": [
    {
     "name": "stdout",
     "output_type": "stream",
     "text": [
      "b'abc\\xe4\\xb8\\xad\\xe5\\x9b\\xbd'\n"
     ]
    },
    {
     "data": {
      "text/plain": [
       "[('0b1100001', 97),\n",
       " ('0b1100010', 98),\n",
       " ('0b1100011', 99),\n",
       " ('0b11100100', 228),\n",
       " ('0b10111000', 184),\n",
       " ('0b10101101', 173),\n",
       " ('0b11100101', 229),\n",
       " ('0b10011011', 155),\n",
       " ('0b10111101', 189)]"
      ]
     },
     "execution_count": 15,
     "metadata": {},
     "output_type": "execute_result"
    }
   ],
   "source": [
    "x = 'abc中国'\n",
    "bin_x = x.encode('utf-8')\n",
    "print(bin_x)\n",
    "[(bin(i), int(i)) for i in bin_x]  # byte值在128以内的对应ASCII，超过的用十六进制显示"
   ]
  },
  {
   "cell_type": "markdown",
   "id": "996bccf2",
   "metadata": {},
   "source": [
    "### IV.1 创建bytes的方法\n",
    "1. 用<code>b''</code>\n",
    "2. 通过<code>s.encode('encode_type')</code>，它的方向操作<code>s.decode('encode_type')</code>可以将bytes转化成string\n",
    "   - encode method的参数指定对string进行编码的类型，比如utf-8。python支持100多重编码\n",
    "   - decode method的参数指定byte本身的编码类型，method会用它对应的规则来进行解码"
   ]
  },
  {
   "cell_type": "code",
   "execution_count": 16,
   "id": "d8b40636",
   "metadata": {
    "ExecuteTime": {
     "end_time": "2024-10-25T02:55:52.713854Z",
     "start_time": "2024-10-25T02:55:52.710509Z"
    },
    "scrolled": true
   },
   "outputs": [
    {
     "name": "stdout",
     "output_type": "stream",
     "text": [
      "[10, 97]\n"
     ]
    }
   ],
   "source": [
    "# 直接定义bytes\n",
    "x = b'\\na'\n",
    "print([i for i in x])  # 输出的是这些character对应的ASCII码值"
   ]
  },
  {
   "cell_type": "code",
   "execution_count": 17,
   "id": "584c0cb6",
   "metadata": {
    "ExecuteTime": {
     "end_time": "2024-10-25T02:55:52.719629Z",
     "start_time": "2024-10-25T02:55:52.716389Z"
    }
   },
   "outputs": [
    {
     "name": "stdout",
     "output_type": "stream",
     "text": [
      "b'\\ni\\xe4\\xb8\\xad\\xe5\\x9b\\xbd'\n"
     ]
    }
   ],
   "source": [
    "# 用encode来将text转换成bytes\n",
    "text_bytes = \"\\ni中国\".encode('utf-8')\n",
    "print(text_bytes)"
   ]
  },
  {
   "cell_type": "code",
   "execution_count": 18,
   "id": "0f8c357e",
   "metadata": {
    "ExecuteTime": {
     "end_time": "2024-10-25T02:55:52.725631Z",
     "start_time": "2024-10-25T02:55:52.721756Z"
    }
   },
   "outputs": [
    {
     "name": "stdout",
     "output_type": "stream",
     "text": [
      "\n",
      "i中国 椊룤붛\n"
     ]
    }
   ],
   "source": [
    "# 用decode来将bytes转换成text string\n",
    "orig_string = text_bytes.decode('utf-8')   # 这里的参数要与实际的编码类型一致\n",
    "wrong_string = text_bytes.decode('utf-16') # 错误的参数\n",
    "print(orig_string, wrong_string)"
   ]
  }
 ],
 "metadata": {
  "kernelspec": {
   "display_name": "Python 3 (ipykernel)",
   "language": "python",
   "name": "python3"
  },
  "language_info": {
   "codemirror_mode": {
    "name": "ipython",
    "version": 3
   },
   "file_extension": ".py",
   "mimetype": "text/x-python",
   "name": "python",
   "nbconvert_exporter": "python",
   "pygments_lexer": "ipython3",
   "version": "3.10.12"
  }
 },
 "nbformat": 4,
 "nbformat_minor": 5
}
