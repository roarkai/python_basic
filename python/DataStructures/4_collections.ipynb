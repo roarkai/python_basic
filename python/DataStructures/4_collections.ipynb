{
 "cells": [
  {
   "cell_type": "markdown",
   "id": "b68ab227",
   "metadata": {},
   "source": [
    "# Collections\n",
    "- built-in collections包括：\n",
    "  - **string**: <font color=orange>**immutable**</font> character <font color=norange>**sequence**</font>\n",
    "  - **list**: <font color=norange>**sequence**</font> of anything\n",
    "  - **tuple**: <font color=orange>**immutable**</font> <font color=norange>**sequence**</font> of anything\n",
    "  - **dictionary**: <font color=purple>**unordered**</font>  mapping table of anything\n",
    "  - **set**: <font color=green>**unique**</font> <font color=purple>**unordered**</font> collection of <font color=orange>**immutable**</font> elements\n",
    "## I. collection的性质\n",
    "### I.1 collections的不同类型\n",
    "- ordered or not: \n",
    "  - ordered,也就是sequence: sequence是positionally ordered collection of other objects.\n",
    "    - 包括：<font color=orange>**string, list, tuple**</font>\n",
    "    - 他们都支持sequence操作，都是access by offset\n",
    "  - unordered: index必须hashable才能进行高效search\n",
    "    - <font color=orange>**set**</font>：元素本身immutable，所以用元素本身来做hash\n",
    "    - dictionary：key必须immutable，用key做hash\n",
    "- mutable or not: \n",
    "  - mutable：object value可以发生in-place change\n",
    "    - <font color=orange>**list，dictionary，set**</font>(注意set本身mutable)\n",
    "      - 注：dictionary本身mutable，但是每个item中的key必须是immutable object\n",
    "  - immutable：object value不能发生in-place change，值的变化通过构造新的object来实现。<font color=red>所以这类object的method通常会返回新的object</font>\n",
    "    - <font color=orange>**string，tuple**</font>\n",
    "    - set的element必须是immutable类型的object\n",
    "    - dictionary的key必须是immutable类型的object"
   ]
  },
  {
   "cell_type": "markdown",
   "id": "5db01e7f",
   "metadata": {},
   "source": [
    "### I.2 sequence的operation\n",
    "- sequence的操作建立在collection elements之间的position ordering关系上，包括：\n",
    "  - <font color=blue>**length**</font>:<code>len(s)</code>\n",
    "  - <font color=blue>**indexing and slicing**</font>: <code>s[i], s[i:j]</code>\n",
    "  - <font color=blue>**concatenation**</font>: <code>s1 + s2</code>\n",
    "  - <font color=blue>**repetition**</font>: <code>s * 3</code>"
   ]
  },
  {
   "cell_type": "markdown",
   "id": "85ddc946",
   "metadata": {},
   "source": [
    "## II. Lists\n",
    "### II.1 基本特征\n",
    "1. list是ordered collections of arbitrary objects。\n",
    "2. 本质上是arrays of object references\n",
    "3. 是sequence，因此适用所有的sequence operation\n",
    "4. access by offset"
   ]
  },
  {
   "cell_type": "markdown",
   "id": "3f720e15",
   "metadata": {},
   "source": [
    "### II.2 构造list\n",
    "1. 用<code>list()</code>function\n",
    "   - 此时只接受1个string作为argument\n",
    "   - 如果要构建多个元素的list对象，那么argument要用<code>(),或者[],或者{}</code>合并成一个参数\n",
    "2. 用<code>[literal, literal, ...]</code>\n",
    "3. list comprehension"
   ]
  },
  {
   "cell_type": "code",
   "execution_count": 3,
   "id": "db0c0ad8",
   "metadata": {
    "ExecuteTime": {
     "end_time": "2024-10-21T14:53:35.164613Z",
     "start_time": "2024-10-21T14:53:35.158988Z"
    }
   },
   "outputs": [
    {
     "data": {
      "text/plain": [
       "(['h', 'e', 'l', 'l', 'o'], ['hello'])"
      ]
     },
     "execution_count": 3,
     "metadata": {},
     "output_type": "execute_result"
    }
   ],
   "source": [
    "list('hello'), ['hello'] # 注意这两种方式的结果不一样"
   ]
  },
  {
   "cell_type": "code",
   "execution_count": 8,
   "id": "0c08529b",
   "metadata": {
    "ExecuteTime": {
     "end_time": "2024-10-21T14:57:35.824558Z",
     "start_time": "2024-10-21T14:57:35.819233Z"
    }
   },
   "outputs": [
    {
     "data": {
      "text/plain": [
       "['span', 'world']"
      ]
     },
     "execution_count": 8,
     "metadata": {},
     "output_type": "execute_result"
    }
   ],
   "source": [
    "# 下面两种情况都会报错！！！ TypeError: list expected at most 1 argument, got 2\n",
    "# list('span', 'world')  \n",
    "# list(1, 2, 3)\n",
    "list(['span', 'world'])  "
   ]
  },
  {
   "cell_type": "code",
   "execution_count": 10,
   "id": "7d82f316",
   "metadata": {
    "ExecuteTime": {
     "end_time": "2024-10-21T14:58:04.278948Z",
     "start_time": "2024-10-21T14:58:04.273405Z"
    }
   },
   "outputs": [
    {
     "data": {
      "text/plain": [
       "[\"'\", 's', 'p', 'a', 'n', \"'\", ',', ' ', \"'\", 'w', 'o', 'r', 'l', 'd', \"'\"]"
      ]
     },
     "execution_count": 10,
     "metadata": {},
     "output_type": "execute_result"
    }
   ],
   "source": [
    "list(\"'span', 'world'\")  "
   ]
  },
  {
   "cell_type": "markdown",
   "id": "66fd5464",
   "metadata": {},
   "source": [
    "### II.3 indexing和slicing\n",
    "1. indexing略\n",
    "2. slice assignment\n",
    "   - 可以简单理解成先delete，再insert，但实际上python implement该操作的方式不是这样\n",
    "   - <font color=red>尽量不用slice assignment，因为含义很容易混淆</font>\n",
    "   - <font color=green>如果要调整元素值，最好的方式是用method</font>"
   ]
  },
  {
   "cell_type": "code",
   "execution_count": 11,
   "id": "23bd0103",
   "metadata": {
    "ExecuteTime": {
     "end_time": "2024-10-21T15:18:14.315682Z",
     "start_time": "2024-10-21T15:18:14.310111Z"
    }
   },
   "outputs": [
    {
     "data": {
      "text/plain": [
       "[1, 6, 7, 2, 3]"
      ]
     },
     "execution_count": 11,
     "metadata": {},
     "output_type": "execute_result"
    }
   ],
   "source": [
    "x = [1, 2, 3]\n",
    "x[1:1] = [6, 7] # 实现insert两个元素\n",
    "x"
   ]
  },
  {
   "cell_type": "code",
   "execution_count": 12,
   "id": "1c46a5b5",
   "metadata": {
    "ExecuteTime": {
     "end_time": "2024-10-21T15:18:59.672419Z",
     "start_time": "2024-10-21T15:18:59.666996Z"
    }
   },
   "outputs": [
    {
     "data": {
      "text/plain": [
       "[1, 7, 2, 3]"
      ]
     },
     "execution_count": 12,
     "metadata": {},
     "output_type": "execute_result"
    }
   ],
   "source": [
    "x[1:2] = [] # 实现delete\n",
    "x"
   ]
  },
  {
   "cell_type": "markdown",
   "id": "189e3687",
   "metadata": {},
   "source": [
    "### II.4 list methods\n",
    "- 基本都执行in-place操作\n",
    "#### 1. 增加元素：append，extend，insert\n",
    "- append参数是元素，只接受1个argument\n",
    "- extend的参数是list，只接受1个argument，处理对象是list参数中的元素\n",
    "- insert接受两个参数，1个是插入对象的位置，1个是插入的对象。处理的对象是整个argument，而不是其元素"
   ]
  },
  {
   "cell_type": "code",
   "execution_count": 36,
   "id": "18aae181",
   "metadata": {
    "ExecuteTime": {
     "end_time": "2024-10-21T16:04:40.983387Z",
     "start_time": "2024-10-21T16:04:40.977799Z"
    }
   },
   "outputs": [
    {
     "data": {
      "text/plain": [
       "['hello', 'world', 'learn', 'love']"
      ]
     },
     "execution_count": 36,
     "metadata": {},
     "output_type": "execute_result"
    }
   ],
   "source": [
    "x = ['hello', 'world', 'learn']\n",
    "x.append('love')\n",
    "x"
   ]
  },
  {
   "cell_type": "code",
   "execution_count": 37,
   "id": "c6a67cfc",
   "metadata": {
    "ExecuteTime": {
     "end_time": "2024-10-21T16:04:41.748628Z",
     "start_time": "2024-10-21T16:04:41.743025Z"
    }
   },
   "outputs": [
    {
     "data": {
      "text/plain": [
       "['hello', 'world', 'learn', 'love', 'element1', 'element2']"
      ]
     },
     "execution_count": 37,
     "metadata": {},
     "output_type": "execute_result"
    }
   ],
   "source": [
    "x.extend(['element1', 'element2'])\n",
    "x"
   ]
  },
  {
   "cell_type": "code",
   "execution_count": 38,
   "id": "cd82147e",
   "metadata": {
    "ExecuteTime": {
     "end_time": "2024-10-21T16:04:42.377301Z",
     "start_time": "2024-10-21T16:04:42.371412Z"
    },
    "scrolled": true
   },
   "outputs": [
    {
     "data": {
      "text/plain": [
       "['hello', ['whole', 'list'], 'world', 'learn', 'love', 'element1', 'element2']"
      ]
     },
     "execution_count": 38,
     "metadata": {},
     "output_type": "execute_result"
    }
   ],
   "source": [
    "x.insert(1, ['whole', 'list'])\n",
    "x"
   ]
  },
  {
   "cell_type": "markdown",
   "id": "1580ede4",
   "metadata": {},
   "source": [
    "#### 2. 减少元素：pop，remove\n",
    "- pop(index)： delete by position\n",
    "  - 参数是index integar，如果没有参数，默认删除最后一个元素\n",
    "  - 返回值是被删除的元素\n",
    "- remove(value)： delete by value\n",
    "  - 参数是要删除的目标元素值\n",
    "  - 返回None\n",
    "- 这两个method都只能删除单个元素，如果要删除多个元素，用built-in function: del"
   ]
  },
  {
   "cell_type": "code",
   "execution_count": 39,
   "id": "fcb44453",
   "metadata": {
    "ExecuteTime": {
     "end_time": "2024-10-21T16:04:45.914106Z",
     "start_time": "2024-10-21T16:04:45.908754Z"
    }
   },
   "outputs": [
    {
     "data": {
      "text/plain": [
       "('element2',\n",
       " ['hello', ['whole', 'list'], 'world', 'learn', 'love', 'element1'])"
      ]
     },
     "execution_count": 39,
     "metadata": {},
     "output_type": "execute_result"
    }
   ],
   "source": [
    "x.pop(), x"
   ]
  },
  {
   "cell_type": "code",
   "execution_count": 40,
   "id": "2a3c314d",
   "metadata": {
    "ExecuteTime": {
     "end_time": "2024-10-21T16:04:46.491617Z",
     "start_time": "2024-10-21T16:04:46.486061Z"
    },
    "scrolled": true
   },
   "outputs": [
    {
     "data": {
      "text/plain": [
       "(None, [['whole', 'list'], 'world', 'learn', 'love', 'element1'])"
      ]
     },
     "execution_count": 40,
     "metadata": {},
     "output_type": "execute_result"
    }
   ],
   "source": [
    "x.remove('hello'), x"
   ]
  },
  {
   "cell_type": "code",
   "execution_count": 41,
   "id": "031641f3",
   "metadata": {
    "ExecuteTime": {
     "end_time": "2024-10-21T16:04:47.265846Z",
     "start_time": "2024-10-21T16:04:47.260767Z"
    }
   },
   "outputs": [
    {
     "data": {
      "text/plain": [
       "['learn', 'love', 'element1']"
      ]
     },
     "execution_count": 41,
     "metadata": {},
     "output_type": "execute_result"
    }
   ],
   "source": [
    "del x[0:2]\n",
    "x"
   ]
  },
  {
   "cell_type": "markdown",
   "id": "373b0a40",
   "metadata": {},
   "source": [
    "#### 3. 排序：sort，reverse\n",
    "- sort(key=arg, reverse=True)\n",
    "  - python中有等价的built-in函数sort(list_name, key=arg, reverse=True)\n",
    "- reverse()\n",
    "  - python中有等价的built-in函数reverse(list_name)"
   ]
  },
  {
   "cell_type": "code",
   "execution_count": 43,
   "id": "c70f6ffa",
   "metadata": {
    "ExecuteTime": {
     "end_time": "2024-10-21T16:06:20.635816Z",
     "start_time": "2024-10-21T16:06:20.630920Z"
    }
   },
   "outputs": [
    {
     "name": "stdout",
     "output_type": "stream",
     "text": [
      "['element1', 'learn', 'love']\n",
      "['love', 'learn', 'element1']\n"
     ]
    }
   ],
   "source": [
    "x.sort(key=str.lower, reverse=False)\n",
    "print(x)\n",
    "x.sort(key=len)\n",
    "print(x)"
   ]
  },
  {
   "cell_type": "markdown",
   "id": "74cd1412",
   "metadata": {},
   "source": [
    "#### 4. 统计\n",
    "- count(value),统计元素值在list中出现的次数"
   ]
  },
  {
   "cell_type": "markdown",
   "id": "a05aaacf",
   "metadata": {},
   "source": [
    "## III. Dictionaries\n",
    "### III. 1基本特征\n",
    "1. list是unordered collections of arbitrary objects。\n",
    "2. 本质上是unordered tables of object references。在python内部implement dict的方式是用hash table。也因此<font color=blue>key必须是immutable objects</font>。它们的value必须是hashable的，所以不能变化，不然就无法作为fixed keys。\n",
    "3. 不是sequence，因此不适用sequence operation。<font color=orange>sequence操作（如，concatenation，slicing）要依赖固定的position order来完成。这对于unordered collections就没有意义。</font>\n",
    "4. access by key，这点和list中不同，list是by offset"
   ]
  },
  {
   "cell_type": "markdown",
   "id": "4248ebbc",
   "metadata": {},
   "source": [
    "### III. 2 构造dictionary的三种方式\n",
    "1. 用<code>dict()</code>function，有多种形式\n",
    "   - <code>dict(zip(x, y))</code>\n",
    "   - <code>dict([(k1,v1), (k2,v2), ...])</code>\n",
    "2. 用<code>{k1:v1, k2:v2,...}</code>\n",
    "3. 用dictionary comprehension:<code>{key: v for key, v in zip(x, y)}</code>"
   ]
  },
  {
   "cell_type": "code",
   "execution_count": 67,
   "id": "bdc5ecd2",
   "metadata": {
    "ExecuteTime": {
     "end_time": "2024-10-23T07:05:37.285408Z",
     "start_time": "2024-10-23T07:05:37.278765Z"
    }
   },
   "outputs": [
    {
     "name": "stdout",
     "output_type": "stream",
     "text": [
      "{'a': 1, 'b': 2, 'c': 3}\n",
      "{'a': 1, 'b': 2, 'c': 3}\n"
     ]
    }
   ],
   "source": [
    "x = list('abc')\n",
    "y = [1, 2, 3]\n",
    "d1 = dict(zip(x, y))\n",
    "d2 = {key:v for key, v in zip(x, y)}\n",
    "print(d1)\n",
    "print(d2)"
   ]
  },
  {
   "cell_type": "markdown",
   "id": "3e5b0155",
   "metadata": {},
   "source": [
    "## IV. Tuples\n",
    "### IV. 1 基本特征\n",
    "1. sequence of arbitrary objects.\n",
    "2. 本质上是arrays of object reference\n",
    "3. 和string一样，tuple object一旦创建后长度不变，各个元素对应的target object固定。但是和string不一样的是，tuple中的元素可以是任意类型。因此尽管tuple的长度和对应的object都固定，如果object本身是mutable的，那么这个object的value却可以改变。\n",
    "   - <font color=blue>因为tuple一旦创建后element不变，所以它没有自带的<code>t.sort() </code>method</font>。如果要sort，就用python的built-in function：sort(t)，此时会返回一个新的object"
   ]
  },
  {
   "cell_type": "code",
   "execution_count": 53,
   "id": "5c6742e9",
   "metadata": {
    "ExecuteTime": {
     "end_time": "2024-10-23T06:42:21.130028Z",
     "start_time": "2024-10-23T06:42:21.125209Z"
    }
   },
   "outputs": [
    {
     "name": "stdout",
     "output_type": "stream",
     "text": [
      "([0, 2, 3], 2)\n",
      "([0, 999, 3], 2)\n"
     ]
    }
   ],
   "source": [
    "a = [0, 2, 3]\n",
    "t = (a, 2)     # t的第一个元素和a share reference，这里没有copy发生\n",
    "print(t)\n",
    "t[0][1] = 999\n",
    "print(t)"
   ]
  },
  {
   "cell_type": "code",
   "execution_count": 54,
   "id": "307c1c8f",
   "metadata": {
    "ExecuteTime": {
     "end_time": "2024-10-23T06:42:22.348264Z",
     "start_time": "2024-10-23T06:42:22.344205Z"
    }
   },
   "outputs": [
    {
     "name": "stdout",
     "output_type": "stream",
     "text": [
      "([0, 999, 7], 2)\n"
     ]
    }
   ],
   "source": [
    "a[2] = 7      # 只要a还refer到原来的object，就会同时改变t中的值\n",
    "print(t)"
   ]
  },
  {
   "cell_type": "code",
   "execution_count": 55,
   "id": "8434f3c0",
   "metadata": {
    "ExecuteTime": {
     "end_time": "2024-10-23T06:43:27.110286Z",
     "start_time": "2024-10-23T06:43:27.106096Z"
    }
   },
   "outputs": [
    {
     "name": "stdout",
     "output_type": "stream",
     "text": [
      "([0, 999, 7], 2)\n"
     ]
    }
   ],
   "source": [
    "a = 'hello'  # a如果重新refer到了别的object，t中的元素的refer对象不会跟着变化\n",
    "print(t)"
   ]
  },
  {
   "cell_type": "markdown",
   "id": "3cce984a",
   "metadata": {},
   "source": [
    "### IV. 2 构造tuple的三种方式\n",
    "1. 用<code>tuple()</code>function\n",
    "2. 用<code>(e1, e2, e3, ...)</code>\n",
    "3. 用comprehension:<code>(func(i) for i in ...)</code>"
   ]
  },
  {
   "cell_type": "code",
   "execution_count": 68,
   "id": "f8f251ff",
   "metadata": {
    "ExecuteTime": {
     "end_time": "2024-10-23T07:12:07.239225Z",
     "start_time": "2024-10-23T07:12:07.234547Z"
    }
   },
   "outputs": [
    {
     "name": "stdout",
     "output_type": "stream",
     "text": [
      "('h', 'e', 'l', 'l', 'o')\n"
     ]
    }
   ],
   "source": [
    "a = tuple('hello')  # 和list相似，会切string的element，因为string是sequence\n",
    "print(a)"
   ]
  }
 ],
 "metadata": {
  "kernelspec": {
   "display_name": "Python 3 (ipykernel)",
   "language": "python",
   "name": "python3"
  },
  "language_info": {
   "codemirror_mode": {
    "name": "ipython",
    "version": 3
   },
   "file_extension": ".py",
   "mimetype": "text/x-python",
   "name": "python",
   "nbconvert_exporter": "python",
   "pygments_lexer": "ipython3",
   "version": "3.10.12"
  }
 },
 "nbformat": 4,
 "nbformat_minor": 5
}
