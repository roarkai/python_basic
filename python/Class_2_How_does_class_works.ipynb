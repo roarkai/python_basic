{
 "cells": [
  {
   "cell_type": "markdown",
   "id": "d283d339",
   "metadata": {},
   "source": [
    "# How does class work\n",
    "## I. class and instance\n",
    "- 在python的OOP model中有两类object，class和instance。从功能上看，class用来定义shared data和behavior，并且用来创建instance。instance则代表被程序表示的具体实体，记录属于实体自己的信息。\n",
    "- <font color=blue>**class**</font>\n",
    "  - **功能**：instance factory\n",
    "  - **创建方式**：class statement\n",
    "    - class statement是executable statement。当class statement所在module被import的时候，就会被执行\n",
    "    - 执行class statement时，python会创建一个namespace，然后用name refer到它。一开始namespace是空的，但是存放了到所有superclass的link。\n",
    "    - <font color=green>**也因此说class本质上是一个namespace。存放的link保证了class能继承所有superclass的全部attributes**</font>\n",
    "\n",
    "- class statement block中的first-level assignment会生成class namespace中的attributes。\n",
    "  - **attributes的功能和可用范围**：\n",
    "    - class attributes以data和method的形式分别提供state和behavior。\n",
    "    - class attributes提供了让所有class的instance共享state information和behavior的机会。\n",
    "  - **继承和customization能力**：class继承它所有superclass的attributes\n",
    "    - 如果是<font color=orange>**reference**</font>，也就是当class内外部expression中出现`class_name.attr_name`的时候，python会根据<font color=green>**inheritance attributes search**</font>规则“从下到上，从左到右”查找`attr_name`。使用找到的第一个name对应的对象。<font color=norange>**这是class的继承实现方式**。</font><font color=deeppink>**也就是说，python class的“attribute继承”是通过让可以从namespace的linked superclass objects中查找attribute name来实现的。**</font>\n",
    "    - 如果是<font color=orange>**assignment**</font>，就会在当前class的namespace中新建一个name或者改变已有name的值，但此时不会向上找linked superclass的namespace。该name会override所有superclass中同名name。<font color=norange>**这是class的customization实现方式**</font>\n",
    "      - 实现方式：\n",
    "        1. 如果是data，在class内部top-level scope中用`attr_name=value`；在class外部，用`class_name.attr_name=value`\n",
    "        2. 如果是method，在class内部的top-level scope中用`def` statement；在class外部，用`class_name.method_name=function_name`\n",
    "           - <font color=brown>外部这种方式少见，因为代码可读性差。在外部定义的函数如果要用到instance attribute，那么额外定义的function里面的变量名要一致，很麻烦。</font>\n",
    "           - <font color=brown>这种方式也没有必要，如果需要额外增加method，要么在class中直接增加method，要么用继承class方法，在subclass中增加method两种方式可以解决不同场景下的问题。</font>"
   ]
  },
  {
   "cell_type": "markdown",
   "id": "d0a073bf",
   "metadata": {},
   "source": [
    "- <font color=blue>**instance**</font>: <font color=green>**instance本质上是一个namespace，在创建时就有所属class中attributes的link**</font>\n",
    "  - **功能**：是程序中用来表示specific concrete item的对象。他们对attributes用来记录对应item的data。\n",
    "  - **创建方式**：class call\n",
    "    - 当执行class call时，python会创建一个namespace，并用instance name refer到它。一开始namespace是空的，但是存放了到class的link。\n",
    "    - 也因此说<font color=orange>instance本质上就是一个namespace。</font>存放的link保证了instance能继承它所属class的全部attributes\n",
    "  - **instance attributes的有效范围**：instance自己的namespace中定义的attribute是attach在instance上的，该attribute只与这个instance有关。\n",
    "  - **继承能力**：instance继承它所属class的所有attributes。<font color=red>**python class的“attribute继承”是通过让`instance_name.attr_name`可以从namespace的linked objects中查找attribute name来实现的。**</font>\n",
    "    - class的namespace中有superclass的link\n",
    "    - instance的namespace中有所属class的link\n",
    "    - 这些link可以关联到对应class object的namespace，就可以查看namespace中定义的names\n",
    "  - **instance attributes实现继承和customization的方式**：\n",
    "    - 用`instance_name.attr_name`可以在instance的attribute namespace和它继承的class attribute namespace中查找该attribute name。\n",
    "    - <font color=norange>**在reference时触发继承机制。**</font>此时，python按照自己的<font color=green>**inheritance attributes search**</font>规则来查找attribute。如果能找到，就使用找到的第一个name，如果没有，就报错。\n",
    "    - <font color=norange>**在assignment场景下触发customization机制。**</font>python会在instance自己的namespace中新建或者重新赋值该name。有两种assignment方式：\n",
    "      1. 在method中，用`self.attr_name=attr_value`\n",
    "      2. 在class外面，直接用`instance_name.attr_name=attr_value`"
   ]
  },
  {
   "cell_type": "code",
   "execution_count": 56,
   "id": "02eed2ff",
   "metadata": {
    "ExecuteTime": {
     "end_time": "2024-11-04T12:19:12.256330Z",
     "start_time": "2024-11-04T12:19:12.251535Z"
    }
   },
   "outputs": [
    {
     "name": "stdout",
     "output_type": "stream",
     "text": [
      "3 2\n",
      " name:bob job:teacher pay:1000\n"
     ]
    }
   ],
   "source": [
    "class Person:\n",
    "    numbers = 0             # class attribute\n",
    "    def __init__(self, name):\n",
    "        Person.numbers += 1 # 这里必须指定class name，'Person'\n",
    "        self.name = name    # 关联self的都是instance attribute\n",
    "    def display(self):\n",
    "        att = ''\n",
    "        for k in self.__dict__.keys():\n",
    "            if not k.startswith('__'):\n",
    "                att =' '.join([att, (k + ':' + str(self.__dict__[k]))])\n",
    "        print(att)\n",
    "        \n",
    "class Employee(Person):\n",
    "    numbers = 0          # override superclass中同名name\n",
    "    def __init__(self, name, job, pay):\n",
    "        Person.__init__(self, name)\n",
    "        Employee.numbers += 1\n",
    "        self.job = job   # 关联self的是instance attribute \n",
    "        self.pay = pay\n",
    "        \n",
    "bob = Employee('bob', 'teacher', 1000)\n",
    "tom = Employee('tom', 'programmer', 1999)\n",
    "john = Person('john')\n",
    "\n",
    "print(Person.numbers, Employee.numbers)\n",
    "bob.display()"
   ]
  },
  {
   "cell_type": "code",
   "execution_count": 51,
   "id": "9980af8c",
   "metadata": {
    "ExecuteTime": {
     "end_time": "2024-11-04T12:15:38.844796Z",
     "start_time": "2024-11-04T12:15:38.841348Z"
    }
   },
   "outputs": [
    {
     "name": "stdout",
     "output_type": "stream",
     "text": [
      " name:tom job:programmer pay:1999 height:168\n"
     ]
    }
   ],
   "source": [
    "tom.height = 168 # 在instance的namespace中增加attribute\n",
    "tom.display()"
   ]
  },
  {
   "cell_type": "markdown",
   "id": "4817ed4c",
   "metadata": {},
   "source": [
    "## II. namespace和attribute inheritance search\n",
    "### II.1 namespace的实现方式\n",
    "- 在python中，namespace是用dictionary实现的。\n",
    "- <font color=blue>**class namespace**</font>：class statement执行时，python会在新建的class的namespace dict中存放link来链接superclass的namespace。<font color=green>这种方式也同步构建了**inheritance tree**</font>。\n",
    "  - class的`__bases__`attribute是一个用references to its superclass作为元素的tuple。\n",
    "  - <font color=red>注意是bases，不是base</font>\n",
    "- <font color=blue>**instance namespace**</font>：新建instance时，python会生成一个dictionary，再用instance name来refer到它。这个dictionary中存放了一个reference来链接其所属class的namespace。\n",
    "  - instance的`__class__`attribute就是这个reference，用它可以得到所属class"
   ]
  },
  {
   "cell_type": "code",
   "execution_count": 23,
   "id": "054110dd",
   "metadata": {
    "ExecuteTime": {
     "end_time": "2024-11-04T09:16:29.982726Z",
     "start_time": "2024-11-04T09:16:29.977734Z"
    }
   },
   "outputs": [
    {
     "name": "stdout",
     "output_type": "stream",
     "text": [
      "<class 'object'> <class '__main__.rec'>\n"
     ]
    }
   ],
   "source": [
    "class rec:\n",
    "    name = 'bob'\n",
    "    age = 40\n",
    "x = rec()\n",
    "y = rec()\n",
    "x.name = 'sue'\n",
    "print(rec.__base__, x.__class__)"
   ]
  },
  {
   "cell_type": "code",
   "execution_count": 26,
   "id": "968f96be",
   "metadata": {
    "ExecuteTime": {
     "end_time": "2024-11-04T09:21:32.872838Z",
     "start_time": "2024-11-04T09:21:32.867808Z"
    }
   },
   "outputs": [
    {
     "data": {
      "text/plain": [
       "'bob'"
      ]
     },
     "execution_count": 26,
     "metadata": {},
     "output_type": "execute_result"
    }
   ],
   "source": [
    "x.__class__.name"
   ]
  },
  {
   "cell_type": "code",
   "execution_count": 30,
   "id": "2a510ac4",
   "metadata": {
    "ExecuteTime": {
     "end_time": "2024-11-04T09:25:20.799720Z",
     "start_time": "2024-11-04T09:25:20.793357Z"
    }
   },
   "outputs": [
    {
     "data": {
      "text/plain": [
       "(__main__.First, __main__.Second)"
      ]
     },
     "execution_count": 30,
     "metadata": {},
     "output_type": "execute_result"
    }
   ],
   "source": [
    "class First:\n",
    "    name = 'ace'\n",
    "class Second:\n",
    "    height = 198\n",
    "class Student(First, Second):\n",
    "    pass\n",
    "\n",
    "Student.__bases__"
   ]
  },
  {
   "cell_type": "markdown",
   "id": "40419d68",
   "metadata": {},
   "source": [
    "#### 2. 查看class和instance中的namespace\n",
    "- 一般而言，用`__dict__`可以查看大多数class和instance objects的namespace dictionary。但是有的class定义了`__slots__`属性来存放attributes，这时候dict中可能就找不到对应的attributes。\n",
    "- <font color=red>`__dict__`不会启动inheritance search，它只显示当前对象的namespace dictionary中的值。</font>\n",
    "- 如果想得到不止当前object的namespace结果，同时得到他们继承的attributes，可以用`dir(obj_name)`"
   ]
  },
  {
   "cell_type": "code",
   "execution_count": 15,
   "id": "a23b9a6a",
   "metadata": {
    "ExecuteTime": {
     "end_time": "2024-11-04T08:59:53.680155Z",
     "start_time": "2024-11-04T08:59:53.673655Z"
    }
   },
   "outputs": [
    {
     "data": {
      "text/plain": [
       "['__module__', 'name', 'age', '__dict__', '__weakref__', '__doc__']"
      ]
     },
     "execution_count": 15,
     "metadata": {},
     "output_type": "execute_result"
    }
   ],
   "source": [
    "list(rec.__dict__.keys()) # class的namespace"
   ]
  },
  {
   "cell_type": "code",
   "execution_count": 19,
   "id": "dede615a",
   "metadata": {
    "ExecuteTime": {
     "end_time": "2024-11-04T09:03:02.722626Z",
     "start_time": "2024-11-04T09:03:02.717092Z"
    }
   },
   "outputs": [
    {
     "data": {
      "text/plain": [
       "['name', 'age']"
      ]
     },
     "execution_count": 19,
     "metadata": {},
     "output_type": "execute_result"
    }
   ],
   "source": [
    "# 只看class中自定义的attribute，instance不需要这样处理\n",
    "list(name for name in rec.__dict__.keys() if not name.startswith('__')) "
   ]
  },
  {
   "cell_type": "code",
   "execution_count": 16,
   "id": "7e249904",
   "metadata": {
    "ExecuteTime": {
     "end_time": "2024-11-04T09:00:09.640559Z",
     "start_time": "2024-11-04T09:00:09.634642Z"
    }
   },
   "outputs": [
    {
     "data": {
      "text/plain": [
       "['name']"
      ]
     },
     "execution_count": 16,
     "metadata": {},
     "output_type": "execute_result"
    }
   ],
   "source": [
    "list(x.__dict__.keys()) # x的namespace中只有name"
   ]
  },
  {
   "cell_type": "code",
   "execution_count": 17,
   "id": "69f04a86",
   "metadata": {
    "ExecuteTime": {
     "end_time": "2024-11-04T09:00:58.740202Z",
     "start_time": "2024-11-04T09:00:58.735251Z"
    }
   },
   "outputs": [
    {
     "data": {
      "text/plain": [
       "[]"
      ]
     },
     "execution_count": 17,
     "metadata": {},
     "output_type": "execute_result"
    }
   ],
   "source": [
    "list(y.__dict__.keys()) # y中没有定义attribute，namespace是空的"
   ]
  },
  {
   "cell_type": "markdown",
   "id": "7da448dd",
   "metadata": {},
   "source": [
    "### II.2 attribute search的规则和实现方式\n",
    "#### II.2.1 search规则\n",
    "  - 先找object，然后按照“从下到上，从左到右”的顺序找所有它继承的class中的attribute，第一个出现的attribute就是目标。"
   ]
  },
  {
   "cell_type": "markdown",
   "id": "c991294d",
   "metadata": {},
   "source": [
    "#### II.2.2 实现attribute search的方式\n",
    "  - python实现attribute search的方式是tree search。因为在实现class继承和instance创建的时候，python用的方法就是build up trees of linked objects"
   ]
  },
  {
   "cell_type": "markdown",
   "id": "1e460970",
   "metadata": {},
   "source": [
    "#### II.2.3 search规则对python编程方式的影响\n",
    "- 由于search是“从下到上”进行的，因此，如果subclass中定义了与superclass中同名的attribute，那么先找到的就是subclass中的attribute。因此，可以很方便地在subclass中实现自定义功能(override behavior)。"
   ]
  },
  {
   "cell_type": "markdown",
   "id": "d89b5372",
   "metadata": {},
   "source": [
    "## III. method\n",
    "- 在class中定义的top-level function称为methods\n",
    "- 在实际使用中，有两种method：常规method和用于class的method\n",
    "  - 常规method是最常用的method，他们最主要的作用是维护instance information，class method一般用于维护class information。\n",
    "\n",
    "### III.1 method的功能和特征\n",
    "1. <font color=orange>从用户视角来看</font>，method是class与用户交互的interface。利用method可以实现encapsulate和abstract：\n",
    "   - 通过method来wrap up operation logic也就实现了OOP的一个核心理念<font color=blue>**encapsulate**。</font>\n",
    "   - 复杂的operation logic全部藏在method内部，用户只需要明确input和output的关系直接调用就好，因此也就实现了OOP的另一个核心理念<font color=blue>**abstrion**。</font>\n",
    "2. <font color=orange>从programmer视角来看</font>，method是实现代码复用和方便代码维护的工具。\n",
    "   - 代码复用：只用写一次，instance要进行的同类behavior都可以用它来实现。\n",
    "   - 方便维护：只用维护1个method，所有refer它的位置都会随之修改。\n",
    "3. <font color=orange>作为工具本身</font>，method的作用是处理instance中的state information。\n",
    "   - instance data attributes是method call的处理对象。虽然class attributes也可以用method处理，但前者是最重要的用途。"
   ]
  },
  {
   "cell_type": "markdown",
   "id": "6c0fa77d",
   "metadata": {},
   "source": [
    "### III.2 常规method\n",
    "<font color=red>**注：没有特殊说明时，method和常规method都是指instance method。后面会专门说明class method的用法。**</font>\n",
    "- class的一大功能特征是构建multiple instances。class为instance提供的attributes，包括methods，会被所有instance共享。\n",
    "- method存在的最主要作用就是通过设置instance相关的state来表达instance所代表的entity的behavior。因此，通过instance来invoke method的时候，需要method与instance是关联的。\n",
    "- python用了一种很简单的机制让instance既可以通过method只控制instance自身的state，又让所有instances能共享这些method。<font color=green>**这个机制就是invoke method的时候，其第一个参数(python传统命名为`self`)总是默认receive instance作为value。**</font><font color=brown>**所以，method就是function，也适用function的所有规则。它唯一特殊之处是它的第一个参数会被python自动赋值**。</font>"
   ]
  },
  {
   "cell_type": "markdown",
   "id": "8502f3c2",
   "metadata": {},
   "source": [
    "#### III.2.1 常规method也即instance method的定义方式\n",
    "- 一般的method都是instance method，在定义时，第一个参数是self。<font color=red>**所以，`self`总是出现在method stock里面。所有self都关联到instance，而非class。**</font>  \n",
    "    ```python\n",
    "    class FirstClass:\n",
    "        def setdata(self, value): # 和function的定义方式完全一样\n",
    "            self.data = value\n",
    "        def display(self):        # 只是定义在class里面\n",
    "            print(self.data)\n",
    "    ```\n",
    "- <font color=brown>实际上python关心的是“第一个参数”而不是argument name为“self”的参数。</font>用`self`是python的传统，严格说用其他的比如`xx`也可以，但代码可读性差。\n",
    "     ```python\n",
    "     class UglyClass:\n",
    "        def setdata(xx, value): \n",
    "            xx.data = value     # 使用attribute的符号也要改变\n",
    "     ```"
   ]
  },
  {
   "cell_type": "markdown",
   "id": "7076f97c",
   "metadata": {},
   "source": [
    "#### III.2.2 method中的name resolution\n",
    "1. `self.attr_name`是instance attribute\n",
    "   - method被call时，<font color=red>**不论这个method定义在哪个层次的class中**</font>，它的第一个参数会自动赋值为此时它关联的instance object。<font color=red>**只要看到`self`，那么它总是关联instance**。</font>\n",
    "     ```python\n",
    "     x = FirstClass()\n",
    "     x.setdata('hello') # 会被python转变成下面的等价语句来执行\n",
    "     First.setdata(x, 'world') # 第1个参数是instance obj\n",
    "     ```"
   ]
  },
  {
   "cell_type": "markdown",
   "id": "c5da299e",
   "metadata": {},
   "source": [
    "2. `class_name.attr_name`或者`class_name.method_name`直接获取class attribute\n",
    "   - <font color=red>注意，method和函数不同，如果直接用`name`，method只在local scope中做查找，不会向上到method之外的class statement block中继续查找。</font>\n",
    "```python\n",
    "class Person:\n",
    "    numbers = 0          # class attribute\n",
    "    def __init__(self, name):\n",
    "        numbers += 1\n",
    "        self.name = name\n",
    "x = Person('Bob') # 报错：local variable 'numbers' referenced before assignment\n",
    "\n",
    "```"
   ]
  },
  {
   "cell_type": "markdown",
   "id": "6b4281a5",
   "metadata": {},
   "source": [
    "### III.3 避免method的name在namespace中发生冲突\n",
    "#### III.3.1 可能发生冲突的场景\n",
    "   - 在interface中经常定义一些适用于多种class instance的method作为工具。比如：`gather_attrs(self)`, `display(self)`。很多class自己也会定义这些工具，而且还容易用一样的名字。这时候继承作为interface的class本身的目的就是想用他们的method。但是由于他们是superclass，method会被subclass中的同名method override掉。此时的name collision就会影响interface class功能的发挥。"
   ]
  },
  {
   "cell_type": "markdown",
   "id": "a6383d9e",
   "metadata": {},
   "source": [
    "#### III.3.2 python传统处理方式\n",
    "- 如果class中有仅用于class内部的method，程序员一般会将这些method的name定义成`_method_name`。也就是在name前加上一条`_`。\n",
    "  - 如果superclass和subclass中各有一个`namex`，其中一个是class自用的，将其改为`_namex`，collision就可以避免。\n",
    "- 其他程序员读到代码的时候，一旦看到method name前面有一条`_`就会知道这是class自用，而不提供给用户使用的method。<font color=green>但这只是程序员之间默认的传统，并不涉及python interpreter的执行规则。</font>\n",
    "- <font color=red>这种方式很常见，但更主要的功能是防止用户使用method，而不是collision，因为如果两个class中的这个method都是自用的，大家都定义了`_namex`，还是可能发生冲突。</font>"
   ]
  },
  {
   "cell_type": "markdown",
   "id": "7e37074b",
   "metadata": {},
   "source": [
    "#### III.3.3 pseudoprivate class attributes\n",
    "- python提供了一种自动处理attribute name使其命名唯一的方法。<font color=green>**注意，不仅适用于method，也适用于data attribute。**</font>\n",
    "- **使用方式**：`__methname`\n",
    "  - 在name前面加上`__`，和operator overloading中特殊的builtin method name不同在于只加在前面，后面不加。和程序员们形成的传统代码风格不同的是，这里是两条线，传统风格是一条。\n",
    "- **工作方式**：\n",
    "  - 当python interpreter看到这种形式的name，就会自动将其转换为`_ClassName__methname`，在加上了class name之后，即使有相同的`methname`，也不会被subclass override。<font color=red>原name的attribute已经不存在，存在的只有更该name后的attribute</font>\n",
    "- **并不是真正的private attributes**：使用`_ClassName__methname`仍然能refer到attribute，所以不是真正的private化了attributes。但是提供了一种class内部'隐藏'attribute的工具。"
   ]
  },
  {
   "cell_type": "markdown",
   "id": "0afe0c7d",
   "metadata": {},
   "source": [
    "- <font color=red>**和`_`传统的区别**</font>：\n",
    "  - `_`是给用户信号，不要使用这个attribute，它是class内部工具，特别是method，通常是被内部其他method使用的tool。但是如果在继承时superclass和subclass都定义了相同的`_attrname`，当通过instance调用name(`self._attrname`)时，name collision还是可能发生。\n",
    "  - `__`则不同，在interpreter自动加上了class name之后，superclass和subclass中的同名attributes就不会再有冲突。"
   ]
  },
  {
   "cell_type": "code",
   "execution_count": 70,
   "id": "1a9ad923",
   "metadata": {
    "ExecuteTime": {
     "end_time": "2024-11-07T05:01:09.673764Z",
     "start_time": "2024-11-07T05:01:09.667605Z"
    }
   },
   "outputs": [
    {
     "name": "stdout",
     "output_type": "stream",
     "text": [
      "10\n",
      "10\n",
      "{'x': 10}\n"
     ]
    }
   ],
   "source": [
    "class C1:\n",
    "    def meth1(self):\n",
    "        self.x = 0\n",
    "    def display1(self):\n",
    "        print(self.x)\n",
    "        \n",
    "class C2:\n",
    "    def meth2(self):\n",
    "        self.x = 10\n",
    "    def display2(self):\n",
    "        print(self.x)\n",
    "\n",
    "class B(C1, C2):\n",
    "    pass\n",
    "\n",
    "I = B()\n",
    "I.meth1(), I.meth2() # meth2后执行，所以覆盖了x的结果\n",
    "I.display1(), I.display2()\n",
    "print(I.__dict__)    # 这里instance只有1个x attribute"
   ]
  },
  {
   "cell_type": "code",
   "execution_count": 72,
   "id": "e9189feb",
   "metadata": {
    "ExecuteTime": {
     "end_time": "2024-11-07T05:18:43.444227Z",
     "start_time": "2024-11-07T05:18:43.437878Z"
    }
   },
   "outputs": [
    {
     "name": "stdout",
     "output_type": "stream",
     "text": [
      "0\n",
      "10\n",
      "{'_C1__x': 0, '_C2__x': 10}\n"
     ]
    }
   ],
   "source": [
    "class C1:\n",
    "    def meth1(self):\n",
    "        self.__x = 0\n",
    "    def display1(self):\n",
    "        print(self.__x)\n",
    "        \n",
    "class C2:\n",
    "    def meth2(self):\n",
    "        self.__x = 10\n",
    "    def display2(self):\n",
    "        print(self.__x)\n",
    "\n",
    "class B(C1, C2):\n",
    "    pass\n",
    "\n",
    "I = B()\n",
    "I.meth1(), I.meth2()\n",
    "I.display1(), I.display2() # 两个display分别打印了自己所属metho的attribute\n",
    "print(I.__dict__)          # 这里instance继承了两个不同name的attribute\n",
    "# print(I.__x)             # Error！interpreter已经改写了attribute name"
   ]
  },
  {
   "cell_type": "markdown",
   "id": "6765a834",
   "metadata": {},
   "source": [
    "### III.3 class method和static method\n",
    "#### 1. 应用场景\n",
    "- 从python 3之后，添加了用于处理class data attribute的method。因为功能是用于维护class state，所以这种method不需要关联到具体的instance被invoke。\n",
    "- 在实现方式上，python提供了class method和static method两种不同的工具。"
   ]
  },
  {
   "cell_type": "markdown",
   "id": "abb9f1a3",
   "metadata": {},
   "source": [
    "#### 2. class method\n",
    "- **什么是class method**：\n",
    "  - 第一个参数习惯还是用self，但python interpreter会自动将其绑定为class object而不会绑定常规method中的instance object。\n",
    "  - 在invoke的时候quanlified name的前缀可以是class name `classname.methname`，也可以是instance name `instname.methname`。\n",
    "\n",
    "- **定义形式**\n",
    "  - 不管用instancename还是classname来invoke，class method都需要声明\n",
    "  - 有两种等价的声明方式：\n",
    "    1. `@classmethod`decorator\n",
    "    2. `classmethod(methname)`"
   ]
  },
  {
   "cell_type": "code",
   "execution_count": 83,
   "id": "f1a71a4f",
   "metadata": {
    "ExecuteTime": {
     "end_time": "2024-11-07T14:59:42.508169Z",
     "start_time": "2024-11-07T14:59:42.502971Z"
    }
   },
   "outputs": [
    {
     "name": "stdout",
     "output_type": "stream",
     "text": [
      "2 3\n"
     ]
    }
   ],
   "source": [
    "class Spam:\n",
    "    numInstances = 0\n",
    "    def __init__(self):\n",
    "        Spam.numInstances += 1\n",
    "    \n",
    "    def getNumInstances(cls):  \n",
    "        return cls.numInstances\n",
    "    \n",
    "    # 注意声明形式\n",
    "    getNumInstances = classmethod(getNumInstances)\n",
    "\n",
    "a = Spam()\n",
    "b = Spam()\n",
    "n1 = Spam.getNumInstances()\n",
    "\n",
    "c  = Spam()\n",
    "n2 = c.getNumInstances()\n",
    "print(n1, n2)"
   ]
  },
  {
   "cell_type": "markdown",
   "id": "185728a5",
   "metadata": {},
   "source": [
    "#### 3. staticmethod\n",
    "- **什么是static method**：\n",
    "  - staticmethod定义时第一个参数既不是self，也不是class，不会被python interpreter将第一个参数自动关联为instance。\n",
    "\n",
    "- **定义形式**\n",
    "  - 用`@staticmethod`decorator声明，或者用`staticmethod(methname)`声明\n",
    "  - 如果是以`classname_methname`的形式invoke method，可以不用在定义method时将其声明staticmethod就可行。\n",
    "  - 如果是以`instname_methname`的形式invoke method，则必须在定义method时将其声明staticmethod才行。"
   ]
  },
  {
   "cell_type": "code",
   "execution_count": 81,
   "id": "a76f04b2",
   "metadata": {
    "ExecuteTime": {
     "end_time": "2024-11-07T13:51:14.864961Z",
     "start_time": "2024-11-07T13:51:14.859972Z"
    },
    "scrolled": true
   },
   "outputs": [],
   "source": [
    "class Spam:\n",
    "    numInstances = 0\n",
    "    def __init__(self):\n",
    "        Spam.numInstances += 1\n",
    "    def getNumInstances():  # 没有self参数，且没有声明为staticmethod\n",
    "        return Spam.numInstances\n",
    "\n",
    "a = Spam()\n",
    "b = Spam()\n",
    "\n",
    "# 如果用class name来invoke class method，不需要声明\n",
    "n = Spam.getNumInstances()\n",
    "\n",
    "# 如果用instance name，必须该method的定义中声明为static method\n",
    "# c  = Spam().getNumInstances()  # Error!!!"
   ]
  },
  {
   "cell_type": "code",
   "execution_count": 80,
   "id": "8c0ad1a8",
   "metadata": {
    "ExecuteTime": {
     "end_time": "2024-11-07T13:51:03.184154Z",
     "start_time": "2024-11-07T13:51:03.178758Z"
    }
   },
   "outputs": [
    {
     "name": "stdout",
     "output_type": "stream",
     "text": [
      "2 3\n"
     ]
    }
   ],
   "source": [
    "class Spam:\n",
    "    numInstances = 0\n",
    "    def __init__(self):\n",
    "        Spam.numInstances += 1\n",
    "    \n",
    "    @staticmethod    # 声明后就可以同时被call through class和instance\n",
    "    def getNumInstances():  \n",
    "        return Spam.numInstances\n",
    "\n",
    "a = Spam()\n",
    "b = Spam()\n",
    "n1 = Spam.getNumInstances()\n",
    "\n",
    "c  = Spam()\n",
    "n2 = c.getNumInstances()\n",
    "print(n1, n2)"
   ]
  },
  {
   "cell_type": "markdown",
   "id": "4d8e2203",
   "metadata": {},
   "source": []
  },
  {
   "cell_type": "markdown",
   "id": "e62c8062",
   "metadata": {},
   "source": []
  },
  {
   "cell_type": "markdown",
   "id": "ba2a9037",
   "metadata": {},
   "source": []
  }
 ],
 "metadata": {
  "kernelspec": {
   "display_name": "Python 3 (ipykernel)",
   "language": "python",
   "name": "python3"
  },
  "language_info": {
   "codemirror_mode": {
    "name": "ipython",
    "version": 3
   },
   "file_extension": ".py",
   "mimetype": "text/x-python",
   "name": "python",
   "nbconvert_exporter": "python",
   "pygments_lexer": "ipython3",
   "version": "3.10.14"
  }
 },
 "nbformat": 4,
 "nbformat_minor": 5
}
