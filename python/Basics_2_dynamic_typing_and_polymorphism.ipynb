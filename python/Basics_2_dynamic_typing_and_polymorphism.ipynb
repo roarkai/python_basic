{
 "cells": [
  {
   "cell_type": "markdown",
   "id": "2159670d",
   "metadata": {},
   "source": [
    "# Dynamic typing\n",
    "- Dynamic typing是指在python中，类型会在runtime的时候自动决定，不需要提前声明变量类型，变量的类型可以随着新的赋值而变化。\n",
    "## I. reference\n",
    "#### I.1 varibles(names) refer to objects\n",
    "  1. varible在赋值时创建，其形态是一个refer到给定object的name。后续重新赋值会改变value。不过python会在run之前识别部分names。\n",
    "  2. varible没有type信息，只有它refer to的object有。\n",
    "  3. variable出现在expression中时，在执行时会被替换成它此刻refer to的object。所以variable必须在使用前赋值。\n",
    "#### I.2 implement方式\n",
    "  1. names和objects存在memory上的不同位置，names和objects他们之间用links连接，links是用C语言的pointer实现的。\n",
    "     - names是system table中的entries，table里面放了links信息\n",
    "     - objects存在allocated memory上\n",
    "  2. garbage-collected\n",
    "     - 一旦varible重新赋值，那么它之前refer到的object就会被自动reclaim。\n",
    "#### I.3 reference规则\n",
    "1. refer对象限制\n",
    "   - <font color=red>names只能link to object，names不能link to names</font>\n",
    "   - <font color=red>object也只能link to object。</font>比如：list object会link to所有它包含的elements object\n",
    "2.  上面两个特征决定了<font color=blue>**shared reference的特点**</font>：\n",
    "   - 当用name给另一个name赋值时，实际上是让两个name refer到同一个object\n",
    "   - 如果重新赋值其中一个name，导致其refer到新的对象，并不会改变另一个name的refer值。此后两个name各自的操作都互不影响。\n",
    "  - 但如果两个name还是refer原来的同一个object。那么一旦其中一个name的某个操作改变了object的值，另一个name也会受影响。\n",
    "3. <font color=green>**要注意什么时候name会改变refer到的object，什么时候不变。不变的时候才是更要注意的。**</font>\n",
    "   - 如果name参与运算后生成新的object，则相当于重新赋值。\n",
    "     - 如果refer的对象是<font color=red>**immutable**</font>的，（比如numerical literals，string，tuple），通常都会生成新的object。比如：<code>a = 2, a += 3</code>，这里integer是immutable，之后a会refer到新的object 5。\n",
    "   - 如果name参与运算后没有生成新的object，则两个name继续share ref object。这时候要注意b的value会受a的运算影响\n",
    "     - 如果refer的对象是<font color=red>**mutable**</font>的，（比如list，dict，set），只要发生的运算导致的object值改变是<font color=red>**in-place**</font>的，那么name还是refer到原来的对象，只是对象的value变化。\n",
    "4. 如果不希望一个name的变化影响另一个name，就不要用<code>a = b</code>这样的赋值方式，改用<font color=blue>**复制**</font>。\n",
    "   - <font color=blue>**list**</font>的复制用slice最方便\n",
    "   - <font color=blue>**dict和set**</font>不是sequence，所以不能进行slice操作，改用copy method.\n",
    "     - <font color=green>**b.copy(a)**</font>是浅复制\n",
    "     - <font color=green>**b.deepcopy(a)**</font>是深复制，会复制a中所有的nested parts"
   ]
  },
  {
   "cell_type": "code",
   "execution_count": 3,
   "id": "69df0487",
   "metadata": {
    "ExecuteTime": {
     "end_time": "2024-10-22T03:08:15.461577Z",
     "start_time": "2024-10-22T03:08:15.455996Z"
    }
   },
   "outputs": [
    {
     "data": {
      "text/plain": [
       "(4, 3)"
      ]
     },
     "execution_count": 3,
     "metadata": {},
     "output_type": "execute_result"
    }
   ],
   "source": [
    "# 重新赋值其中一个name，不改变另一个name的refer值\n",
    "a = 3 # assign a name to an object\n",
    "b = a # b指向a所指向的object\n",
    "a = 4 # 改变a所指向的object，b所refer的对象不会随之改变\n",
    "a, b"
   ]
  },
  {
   "cell_type": "code",
   "execution_count": 4,
   "id": "ef8a89e2",
   "metadata": {
    "ExecuteTime": {
     "end_time": "2024-10-22T03:38:52.269324Z",
     "start_time": "2024-10-22T03:38:52.263522Z"
    }
   },
   "outputs": [
    {
     "data": {
      "text/plain": [
       "(5, 3)"
      ]
     },
     "execution_count": 4,
     "metadata": {},
     "output_type": "execute_result"
    }
   ],
   "source": [
    "# 如果name参与运算后生成新的object，则相当于重新赋值\n",
    "a = 3 \n",
    "b = a \n",
    "a = a + 2 # 这种情况也一样，a已经改变了refer的对象\n",
    "          # integer是immutable的，a+2得到新的object 5，而不会change 3 in place\n",
    "a, b"
   ]
  },
  {
   "cell_type": "code",
   "execution_count": 5,
   "id": "2d2364fd",
   "metadata": {
    "ExecuteTime": {
     "end_time": "2024-10-22T04:42:46.731417Z",
     "start_time": "2024-10-22T04:42:46.725611Z"
    }
   },
   "outputs": [
    {
     "data": {
      "text/plain": [
       "[1, 2, ['hello']]"
      ]
     },
     "execution_count": 5,
     "metadata": {},
     "output_type": "execute_result"
    }
   ],
   "source": [
    "# 如果name参与运算后没有生成新的object，则两个name继续share ref object\n",
    "# 这时候要注意b的value会受a的运算影响\n",
    "a = [1, 2, 3]\n",
    "b = a\n",
    "a[2] = ['hello']  # 此时没有生成新的object，a还是refer到原来的object\n",
    "b"
   ]
  },
  {
   "cell_type": "code",
   "execution_count": 7,
   "id": "f1e8e6d9",
   "metadata": {
    "ExecuteTime": {
     "end_time": "2024-10-22T04:56:22.685170Z",
     "start_time": "2024-10-22T04:56:22.679039Z"
    }
   },
   "outputs": [
    {
     "data": {
      "text/plain": [
       "([['hi', 'there'], 2, 3], [1, 2])"
      ]
     },
     "execution_count": 7,
     "metadata": {},
     "output_type": "execute_result"
    }
   ],
   "source": [
    "# 用slice实现list copy\n",
    "a = [1, 2, 3]\n",
    "b = a[:2]\n",
    "a[0] = ['hi', 'there']\n",
    "a, b"
   ]
  },
  {
   "cell_type": "code",
   "execution_count": 11,
   "id": "a31c2df2",
   "metadata": {
    "ExecuteTime": {
     "end_time": "2024-10-22T04:59:33.025348Z",
     "start_time": "2024-10-22T04:59:33.019163Z"
    }
   },
   "outputs": [
    {
     "data": {
      "text/plain": [
       "([['hi', 'wow'], 2, 3], [['hi', 'there'], 2, 3])"
      ]
     },
     "execution_count": 11,
     "metadata": {},
     "output_type": "execute_result"
    }
   ],
   "source": [
    "# shallow copy\n",
    "import copy\n",
    "c = copy.copy(a)\n",
    "d = copy.deepcopy(a)\n",
    "a[0][1] = 'wow'\n",
    "c, d"
   ]
  },
  {
   "cell_type": "markdown",
   "id": "13f10f96",
   "metadata": {},
   "source": []
  }
 ],
 "metadata": {
  "kernelspec": {
   "display_name": "Python 3 (ipykernel)",
   "language": "python",
   "name": "python3"
  },
  "language_info": {
   "codemirror_mode": {
    "name": "ipython",
    "version": 3
   },
   "file_extension": ".py",
   "mimetype": "text/x-python",
   "name": "python",
   "nbconvert_exporter": "python",
   "pygments_lexer": "ipython3",
   "version": "3.10.14"
  }
 },
 "nbformat": 4,
 "nbformat_minor": 5
}
