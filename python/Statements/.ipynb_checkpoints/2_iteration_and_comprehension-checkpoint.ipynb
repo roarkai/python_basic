{
 "cells": [
  {
   "cell_type": "markdown",
   "id": "2a22a5c8",
   "metadata": {},
   "source": [
    "# Iterations and comprehensions\n",
    "## I. 基本概念\n",
    "### I.1 相关对象和工具\n",
    "- <font color=blue>**iterable**</font>: \n",
    "  - 支持iter call的对象，也就是定了<code>\\_\\_iter__</code> mehtod。<code>iter(obj)</code>会invoke <code>obj.\\_\\_iter__() </code>\n",
    "  - 包括：\n",
    "    1. 属于sequence的那些类型，如：list, string, tuple\n",
    "    2. file object\n",
    "    3. <font color=orange>**dictionary, keys of dictionary, range**</font>, 以及<font color=orange>**map, zip, emumerate, filter的返回值**</font>，等\n",
    "- <font color=blue>**iterator**</font>: \n",
    "  - 从定义上讲，任何按下面规则定义了<code>\\_\\_next__</code> method的对象都是iterator。\n",
    "    - <font color=blue>**规则**：<code>\\_\\_next__</code>每次返回对象中的一个元素，直到遍历所有元素后raise <code>StopIteration exception</code></font>\n",
    "  - <code> iter(iterable)</code>的返回值就是典型的iterator\n",
    "- <font color=blue>**iteration tools**</font>: \n",
    "  - 是使用iterable对象的工具。他们根据**iteration protocol**中的规则来用iterable构造iterator，并执行遍历。\n",
    "    - <font color=red>**iterable**是遍历的对象，而**iterator**是为了执行遍历而由iteration tool生成的临时对象。</font>\n",
    "  - 包括：for loop, list comprehension, map, zip, range, etc\n",
    "- <font color=green>**特点：通常情况下，在实现遍历的不同方式中，iterator + iteration tool是运行效率更高的方式。**</font>\n",
    "  - **fast**：比如list comprehension的实现就做了优化，runs at C language sppeed inside Python.\n",
    "  - **memory efficient**: iterator的迭代是lazy的，不使用的时候不会生成所有element sequence来占用存储空间。"
   ]
  },
  {
   "cell_type": "markdown",
   "id": "4e5dc159",
   "metadata": {},
   "source": [
    "### I.2   iteration tool的工作方式：iteration protocol\n",
    "- 一开始的call <code>iter(iterable)</code>，得到其返回值iterator\n",
    "  - <font color=orange>有的iterable自身就是iterator，因此不需要这一步。比如：file object</font>\n",
    "  - <font color=orange>**list, dictionary**等常规的iterable都有这一步。</font>\n",
    "- 开始遍历：持续call <code>iterator.\\_\\_next__()</code>，得到其返回的object。\n",
    "   - 如果返回正常的object，则按照代码中的需要将其用于计算过程，并继续下一次遍历。\n",
    "   - 如果返回了<code>StopIteration exception</code>则结束遍历。"
   ]
  },
  {
   "cell_type": "markdown",
   "id": "bf9532b6",
   "metadata": {},
   "source": [
    "## II. 典型的iterable\n",
    "### II.1 file object, map, zip和filter的返回值既是iterable，又是iterator\n",
    "- <code>for line in file: ...</code>\n",
    "- iteration tool工作方式：\n",
    "  - file作为iterator自带了<code>next()</code> method.\n",
    "  - for会在每次遍历中invoke <code>next()</code> method来执行遍历的内容。"
   ]
  },
  {
   "cell_type": "code",
   "execution_count": 10,
   "id": "7e6fd5ce",
   "metadata": {
    "ExecuteTime": {
     "end_time": "2024-10-24T09:48:10.765075Z",
     "start_time": "2024-10-24T09:48:10.759983Z"
    },
    "collapsed": true
   },
   "outputs": [
    {
     "name": "stdout",
     "output_type": "stream",
     "text": [
      "True\n",
      "IMPORT SYS\n",
      "PRINT(SYS.PATH)\n",
      "X = 2\n",
      "PRINT(X ** 5)\n",
      "\n"
     ]
    }
   ],
   "source": [
    "# 用for loop按行读文件\n",
    "with open('script.py', 'r') as f:\n",
    "    print(iter(f) is f)\n",
    "    for line in f:\n",
    "        print(line.upper(), end='') # 文档每行结尾有'\\n'，所以要suppress print中默认结尾加'\\n'"
   ]
  },
  {
   "cell_type": "markdown",
   "id": "1d1e9c06",
   "metadata": {},
   "source": [
    "### II.2 list, range等只是iterable\n",
    "- iteration tool工作方式：\n",
    "  - for loop会将iterable，这里的file object，传给<code>iter()</code>。\n",
    "  - <code>iter(file_obj)</code>返回一个iterator。iterator自带了<code>next()</code> method.\n",
    "  - for会在每次遍历中invoke <code>next()</code> method来执行遍历的内容。"
   ]
  },
  {
   "cell_type": "markdown",
   "id": "bae23aa8",
   "metadata": {},
   "source": [
    "### II.3 file object和其他built-in iterable的差异来源\n",
    "- file中的元素只能遍历一遍，因此在file object的method里面，直接把<code>\\_\\_iter__ </code>和<code>\\_\\_next__</code>都implement了。\n",
    "- list, dictionary等object支持多次遍历(multiple iteration)，每次call<code>\\_\\_iter__ </code>都要生成一个interator的实例，因此需要另外构建iterator对象，并在其中implement<code> \\_\\_next__</code> method。"
   ]
  },
  {
   "cell_type": "markdown",
   "id": "1e5e0b14",
   "metadata": {},
   "source": [
    "## III. 典型的iteration tools\n",
    "### III.1 for loop\n",
    "略"
   ]
  },
  {
   "cell_type": "markdown",
   "id": "d3053ac3",
   "metadata": {},
   "source": [
    "### III.2 各种形式的comprehension\n",
    "- 常见形态：\n",
    "  - <font color=blue>**list comprehension**</font>: <code>[expression(i) for i in iterable]</code>\n",
    "  - <font color=blue>**dict comprehension**</font>: <code>{key: v for key, v in zip(x, y)}</code>\n",
    "  - <font color=blue>**generator comprehension**</font>: <code>(expression(i) for i in iterable)</code>\n",
    "    - <font color=orange>注：用'()'得到的是generator comprehension，不是tuple comprehension</font>。\n",
    "  - <font color=blue>**tuple comprehension**</font>: <code>tuple(expression(i) for i in iterable)</code>\n",
    "    - <font color=green>用tuple comprehension的场景：生成的tuple sequence是immutable</font>\n",
    "#### III.2.1 list comprehension\n",
    "- 用法\n",
    "  - 形态：<code>[func(i) for i in iterable]</code>\n",
    "  - 以file为例：\n",
    "    - <code>[func(line) for line in open('file_name')]</code>\n",
    "    - 特点是不会一开始就读出来整个文档，而是处理一行读取一行。\n",
    "    - 下面这种方式就是要先读出来整个文档，然后再逐行处理：\n",
    "    ```python\n",
    "    lines = open('file_name').readlines()\n",
    "    [func(line) for line in lines]         # 虽然都是list comprehension，但执行效果不同\n",
    "    ```"
   ]
  },
  {
   "cell_type": "markdown",
   "id": "124af619",
   "metadata": {},
   "source": [
    "- 扩展形态\n",
    "  - <font color=green>**嵌套方式依据python从左到右执行statement的原则来判断。**</font>\n",
    "  1. 加条件\n",
    "     - 形式：<code>[expression(i) for i in iterable if func(i)]</code>\n",
    "  2. 双层遍历：\n",
    "     - 形式1：<code>[expression(j)  for i in iterable for j in i]</code>\n",
    "     - 形式2：<code>[expression(i,j)  for i in iterable_1 for j in iterable_2]</code>"
   ]
  },
  {
   "cell_type": "markdown",
   "id": "49ded7cb",
   "metadata": {},
   "source": [
    "#### III.2.2  generator comprehension\n",
    "- **generator comprehension和其他几种常见comprehension的最主要区别**：\n",
    "  - generator comprehension的返回值是一个generator，它在遍历的时候是lazy的\n",
    "  - list, dict, tuple comprehension的返回值是对应的sequence object。"
   ]
  },
  {
   "cell_type": "code",
   "execution_count": 12,
   "id": "c2d12cdd",
   "metadata": {
    "ExecuteTime": {
     "end_time": "2024-10-25T04:20:07.569189Z",
     "start_time": "2024-10-25T04:20:07.563375Z"
    }
   },
   "outputs": [
    {
     "name": "stdout",
     "output_type": "stream",
     "text": [
      "[5, 9, 6]\n",
      "<generator object <genexpr> at 0x797bbd4ee5e0>\n"
     ]
    }
   ],
   "source": [
    "my_list = [1, 3, 5, 9, 2, 6]\n",
    "filtered_list = [item for item in my_list if item > 3]\n",
    "filtered_generator = (item for item in my_list if item > 3)\n",
    "print(filtered_list)\n",
    "print(filtered_generator)"
   ]
  },
  {
   "cell_type": "markdown",
   "id": "8e466a3b",
   "metadata": {},
   "source": []
  },
  {
   "cell_type": "markdown",
   "id": "b79cfe63",
   "metadata": {},
   "source": []
  }
 ],
 "metadata": {
  "kernelspec": {
   "display_name": "Python 3 (ipykernel)",
   "language": "python",
   "name": "python3"
  },
  "language_info": {
   "codemirror_mode": {
    "name": "ipython",
    "version": 3
   },
   "file_extension": ".py",
   "mimetype": "text/x-python",
   "name": "python",
   "nbconvert_exporter": "python",
   "pygments_lexer": "ipython3",
   "version": "3.10.12"
  }
 },
 "nbformat": 4,
 "nbformat_minor": 5
}
