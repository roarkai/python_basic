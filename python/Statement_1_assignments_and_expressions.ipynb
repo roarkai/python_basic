{
 "cells": [
  {
   "cell_type": "markdown",
   "id": "8173405d",
   "metadata": {},
   "source": [
    "# Assignments and Expressions"
   ]
  },
  {
   "cell_type": "markdown",
   "id": "1157fd85",
   "metadata": {},
   "source": [
    "## I. Assignments\n",
    "### I.1 sequence assignment\n",
    "- python中，任意sequence of names可以assign到任意sequence of values，只要他们的数量一致。\n",
    "- value sequence还可以换成iterable object\n",
    "#### 1. 赋值形式：\n",
    "- <code>sequence of name = sequence of value</code>\n",
    "- <code>sequence of name = iterable</code>\n",
    "- 左边的sequence或者iterable中的那么数量要和右边sequence中的element数量相等"
   ]
  },
  {
   "cell_type": "code",
   "execution_count": 5,
   "id": "6937769b",
   "metadata": {
    "ExecuteTime": {
     "end_time": "2024-10-24T05:35:49.341850Z",
     "start_time": "2024-10-24T05:35:49.336187Z"
    }
   },
   "outputs": [
    {
     "name": "stdout",
     "output_type": "stream",
     "text": [
      "0 1 2\n",
      "0 1 2\n",
      "0 1 2\n"
     ]
    }
   ],
   "source": [
    "# sequence\n",
    "a, b, c = [i for i in range(3)]\n",
    "print(a, b, c)\n",
    "x, y, z = a, b, c  # 右边没有用括号，此时是tuple sequence\n",
    "print(x, y, z)\n",
    "\n",
    "# iterable\n",
    "s, p, q = range(3)\n",
    "print(s, p, q)"
   ]
  },
  {
   "cell_type": "markdown",
   "id": "1741dd06",
   "metadata": {},
   "source": [
    "#### 2. 技巧：swap value\n",
    "- 因为在做sequence assignment的时候，会新建一个临时tuple来refer到右边的value sequence，也因此，python可以直接做variables之间的value swap: <code>a, b = b, a</code>"
   ]
  },
  {
   "cell_type": "markdown",
   "id": "3129499b",
   "metadata": {},
   "source": [
    "### I.2 extended sequence unpacking\n",
    "- 赋值形式：<code>a, *b = sequence vlue或者iterable</code>\n",
    "- <code>a = seq_value[0], b = seq_value[1:]</code>\n",
    "- **赋值规则**：\n",
    "  - 先让没有<code> *</code>的name refer到对应位置的value，剩下的合并到1个list，赋值给带<code> *</code>的name\n",
    "  - 如果最后没有剩下value给带<code>*</code>的name，那么它的值就是empty list <code>[]</code>\n",
    "  - 注意，带<code>*</code>的name最终refer的对象总是list，很可能和其他name不一样\n",
    "  - 最多只能有1个带<code>*</code>的name\n",
    "- <font color=blue>这种方式经常在参数传递时使用</font>"
   ]
  },
  {
   "cell_type": "code",
   "execution_count": 10,
   "id": "0c046cc3",
   "metadata": {
    "ExecuteTime": {
     "end_time": "2024-10-24T05:44:06.163321Z",
     "start_time": "2024-10-24T05:44:06.158394Z"
    }
   },
   "outputs": [
    {
     "name": "stdout",
     "output_type": "stream",
     "text": [
      "0 [1, 2, 3] 4\n",
      "0 [1, 2, 3, 4]\n"
     ]
    }
   ],
   "source": [
    "a, *b, c = (i for i in range(5))\n",
    "print(a, b, c)\n",
    "a, *b = range(5)\n",
    "print(a, b)"
   ]
  },
  {
   "cell_type": "markdown",
   "id": "31c54471",
   "metadata": {},
   "source": [
    "### I.3 augmented assignment\n",
    "- 赋值形式：<code>y += x, y^=x, y>>=x, ...</code>\n",
    "- **augmented assignment和等价operation的赋值运算的区别：**\n",
    "  - <font color=red>如果左边的对象是mutable object</font>，python处于效率考虑，让augmented assignment发生的是in-place assignment。而operation expression都会新建object之后再赋值给左边的name。\n",
    "    - 这会产生另外一些差异：\n",
    "      - 如果有其他name refer到<code>y</code>的原对象上，augmented assignment会影响对应shared reference的取值。但如果用operation expression就不会。\n",
    "      - augmented assignment处于效率考虑会用<code>y</code>所属类型的method来实现对应的operation。<font color=green>因为method一般都是in-place的，通常效率都高。</font>这可能使两种方式处理多左边的<code>x</code>有不一样的要求。(见下例)"
   ]
  },
  {
   "cell_type": "code",
   "execution_count": 17,
   "id": "25d3f3ff",
   "metadata": {
    "ExecuteTime": {
     "end_time": "2024-10-24T06:14:15.634848Z",
     "start_time": "2024-10-24T06:14:15.628563Z"
    }
   },
   "outputs": [
    {
     "data": {
      "text/plain": [
       "(['a', 'b', 'c', 'xx'], ['a', 'b', 'c', 'xx'])"
      ]
     },
     "execution_count": 17,
     "metadata": {},
     "output_type": "execute_result"
    }
   ],
   "source": [
    "y = list('abc')\n",
    "p = y\n",
    "y += 'xx'     # 右边的对象可以不是list，因为list的+=实现用的是list的extend method\n",
    "y, p          # p的值同步改变"
   ]
  },
  {
   "cell_type": "code",
   "execution_count": 19,
   "id": "4d4bad3c",
   "metadata": {
    "ExecuteTime": {
     "end_time": "2024-10-24T06:14:50.602388Z",
     "start_time": "2024-10-24T06:14:50.596821Z"
    }
   },
   "outputs": [
    {
     "data": {
      "text/plain": [
       "(['a', 'b', 'c', 'xx'], ['a', 'b', 'c'])"
      ]
     },
     "execution_count": 19,
     "metadata": {},
     "output_type": "execute_result"
    }
   ],
   "source": [
    "# 用concatenate operator\n",
    "y = list('abc')\n",
    "p = y\n",
    "y = y + ['xx']     # 用concatenate时，+两边operant必须同类型，这里是list，不能是'xx'\n",
    "y, p               # p的值没有同步改变"
   ]
  },
  {
   "cell_type": "markdown",
   "id": "1e2ec74d",
   "metadata": {},
   "source": [
    "## II. Expression statements\n",
    "- 当expression自己独立占一行的时候，expression自己就是一个statement。\n",
    "  - 有两种情况：\n",
    "    - expression有返回值，但因为整个line只有expression，没有赋值操作，结果不会被saved。\n",
    "      - 既然结果不保存，通常只有expression的计算过程有side effect的时候，这个statement才有意义\n",
    "    - expression没有返回值，如没有返回值的function call, 没有返回值的method call。\n",
    "      - 如：<code>print()</code>\n",
    "      "
   ]
  },
  {
   "cell_type": "markdown",
   "id": "3a60a902",
   "metadata": {},
   "source": []
  },
  {
   "cell_type": "markdown",
   "id": "06470e05",
   "metadata": {},
   "source": []
  },
  {
   "cell_type": "markdown",
   "id": "68741a12",
   "metadata": {},
   "source": []
  }
 ],
 "metadata": {
  "kernelspec": {
   "display_name": "Python 3 (ipykernel)",
   "language": "python",
   "name": "python3"
  },
  "language_info": {
   "codemirror_mode": {
    "name": "ipython",
    "version": 3
   },
   "file_extension": ".py",
   "mimetype": "text/x-python",
   "name": "python",
   "nbconvert_exporter": "python",
   "pygments_lexer": "ipython3",
   "version": "3.10.14"
  }
 },
 "nbformat": 4,
 "nbformat_minor": 5
}
