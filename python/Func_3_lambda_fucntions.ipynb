{
 "cells": [
  {
   "cell_type": "markdown",
   "id": "edadcbfe",
   "metadata": {},
   "source": [
    "# Lambda\n",
    "## I. 基本概念\n",
    "- lambda: an expression form that generates function objects.\n",
    "- 和def定义的function的区别：\n",
    "  - 所属类型不同：\n",
    "    - def是statement，lambda是expression，因此lambda可以用在def不能用的地方。\n",
    "      - 比如：lambda可以直接做为list中的元素，也可以作为argument传参。但是def不能直接用，只能用def定义好函数后的函数名。\n",
    "    - 也因为lambda的整个定义必须在一条expression中写完，功能有限，所以只用来表达简单的函数。\n",
    "  - 工作方式不同：\n",
    "    - def的工作方式是在namespace中新建一个name，同时新建一个function object，再将name refer到该function object上。之后可以通过<code>func_name()</code>的方式call function。\n",
    "    - lambda也会新建一个function object，但是不会新建name。如果把lambda新建的funciton对象赋值给一个name，那么也可以通过该name来call function\n",
    "    - <font color=green>lambda通常也是这样用的，但它的优点是整个函数以expression的形式定义在一行中，很方便</font>\n",
    "- 和def相似的地方：\n",
    "  - arguments的scope一样\n",
    "  - 工作方式也一样"
   ]
  },
  {
   "cell_type": "markdown",
   "id": "6706733a",
   "metadata": {},
   "source": [
    "## II. 典型使用场景\n",
    "#### 1. nested function"
   ]
  },
  {
   "cell_type": "code",
   "execution_count": 1,
   "id": "1fa02b4c",
   "metadata": {
    "ExecuteTime": {
     "end_time": "2024-10-25T13:36:23.377156Z",
     "start_time": "2024-10-25T13:36:23.361729Z"
    }
   },
   "outputs": [
    {
     "data": {
      "text/plain": [
       "102"
      ]
     },
     "execution_count": 1,
     "metadata": {},
     "output_type": "execute_result"
    }
   ],
   "source": [
    "def action(x):\n",
    "    return lambda y: x + y\n",
    "act = action(100)\n",
    "act(2)"
   ]
  },
  {
   "cell_type": "markdown",
   "id": "e057697c",
   "metadata": {},
   "source": [
    "#### 2. 结合条件判断"
   ]
  },
  {
   "cell_type": "code",
   "execution_count": 2,
   "id": "f35a3383",
   "metadata": {
    "ExecuteTime": {
     "end_time": "2024-10-25T13:36:23.390788Z",
     "start_time": "2024-10-25T13:36:23.379769Z"
    },
    "scrolled": true
   },
   "outputs": [
    {
     "data": {
      "text/plain": [
       "2"
      ]
     },
     "execution_count": 2,
     "metadata": {},
     "output_type": "execute_result"
    }
   ],
   "source": [
    "lower = lambda x, y: x if x < y else y\n",
    "lower(2, 3)"
   ]
  },
  {
   "cell_type": "markdown",
   "id": "dccea961",
   "metadata": {},
   "source": [
    "#### 3. 结合loops"
   ]
  },
  {
   "cell_type": "code",
   "execution_count": 3,
   "id": "49d8a8e6",
   "metadata": {
    "ExecuteTime": {
     "end_time": "2024-10-25T13:36:23.400395Z",
     "start_time": "2024-10-25T13:36:23.392837Z"
    }
   },
   "outputs": [
    {
     "name": "stdout",
     "output_type": "stream",
     "text": [
      "hello world ! "
     ]
    },
    {
     "data": {
      "text/plain": [
       "[4, 8, 16]"
      ]
     },
     "execution_count": 3,
     "metadata": {},
     "output_type": "execute_result"
    }
   ],
   "source": [
    "s = ['hello', 'world', '!']\n",
    "showall = lambda x: [print(i, end=' ') for i in x]\n",
    "showall(s)\n",
    "\n",
    "# 特例-1\n",
    "M = lambda x: [x**n for n in range(2, 5)]\n",
    "M(2)"
   ]
  },
  {
   "cell_type": "code",
   "execution_count": 4,
   "id": "57e95f75",
   "metadata": {
    "ExecuteTime": {
     "end_time": "2024-10-25T13:36:23.408026Z",
     "start_time": "2024-10-25T13:36:23.403227Z"
    }
   },
   "outputs": [
    {
     "name": "stdout",
     "output_type": "stream",
     "text": [
      "16 16 16 "
     ]
    }
   ],
   "source": [
    "# 特例-2：注意两种形式之间的赋值差异\n",
    "M = [lambda x: x**n for n in range(2, 5)]\n",
    "for f in M:\n",
    "    print(f(2), end=' ')"
   ]
  },
  {
   "cell_type": "markdown",
   "id": "1e7914db",
   "metadata": {},
   "source": [
    "#### 4. 作为loop类型的函数参数\n",
    "- map函数用lambda和iterable为参数，返回iterable\n",
    "  - <code>map(lambda x: expr(x), iterable)</code>\n",
    "- filter函数用lambda和iterable为参数，返回iterable\n",
    "  - <code>filter(lambda x: expr(x), iterable)</code>返回iterable\n",
    "- reduce函数用lambda和iterable为参数，执行遍历计算\n",
    "  - <code>reduce(lambda x: expr(x), iterable)</code>"
   ]
  },
  {
   "cell_type": "code",
   "execution_count": 16,
   "id": "eb29a182",
   "metadata": {
    "ExecuteTime": {
     "end_time": "2024-10-25T13:55:25.182909Z",
     "start_time": "2024-10-25T13:55:25.176359Z"
    }
   },
   "outputs": [
    {
     "name": "stdout",
     "output_type": "stream",
     "text": [
      "25 16 9 4 1 0 1 4 9 16 \n",
      "\n",
      "1 2 3 4 \n",
      "\n",
      "-5\n"
     ]
    }
   ],
   "source": [
    "# map\n",
    "for i in map(lambda x: x**2, range(-5, 5)):\n",
    "    print(i, end=' ')\n",
    "print('\\n')\n",
    "\n",
    "# filter\n",
    "for i in filter(lambda x: x > 0, range(-5, 5)):\n",
    "    print(i, end=' ')\n",
    "print('\\n')\n",
    "\n",
    "# reduce\n",
    "from functools import reduce\n",
    "r = reduce(lambda x, y: x + y, range(-5, 5))\n",
    "print(r)"
   ]
  },
  {
   "cell_type": "markdown",
   "id": "71df0ca8",
   "metadata": {},
   "source": [
    "#### 5. 构造jump tables\n",
    "- 功能：list or dictionary of actions to be performed on demand"
   ]
  },
  {
   "cell_type": "code",
   "execution_count": 5,
   "id": "70591aca",
   "metadata": {
    "ExecuteTime": {
     "end_time": "2024-10-25T13:36:23.415032Z",
     "start_time": "2024-10-25T13:36:23.410502Z"
    }
   },
   "outputs": [
    {
     "name": "stdout",
     "output_type": "stream",
     "text": [
      "4 8 16 \n",
      "\n"
     ]
    }
   ],
   "source": [
    "L = [lambda x: x ** 2, \n",
    "     lambda x: x ** 3, \n",
    "     lambda x: x ** 4]\n",
    "for f in L:\n",
    "    print(f(2), end=' ')\n",
    "print('\\n')"
   ]
  },
  {
   "cell_type": "markdown",
   "id": "876753a8",
   "metadata": {},
   "source": [
    "## III. late binding problem\n",
    "- <font color=blue>**late binding**</font>：python为了支持dynamic typing而采用了late binding的变量赋值策略。也就是resolution of function, method calls and property accesses at runtime而不是compile time。也就是说，函数在运行时才会invoke，因此相应的变量才会根据当时的条件确定names并赋值。\n",
    "- <font color=blue>**binding time problem**</font>：如果函数定义在一个loop里面，并且refer了loop variable, loop遍历过程中函数没有被invoke，等到loop结束之后，生成的函数再被invoke。这时候做function resolution取到的是loop variable迭代到最后时刻的状态值。\n",
    "- <font color=orange>lambda函数在loop iteration时容易出现binding time problem。</font>"
   ]
  },
  {
   "cell_type": "code",
   "execution_count": 20,
   "id": "af28b4b4",
   "metadata": {
    "ExecuteTime": {
     "end_time": "2024-10-27T04:44:19.040993Z",
     "start_time": "2024-10-27T04:44:19.036013Z"
    }
   },
   "outputs": [
    {
     "name": "stdout",
     "output_type": "stream",
     "text": [
      "[4, 4, 4]\n"
     ]
    }
   ],
   "source": [
    "# late binding problem\n",
    "functions = []\n",
    "for n in range(3):\n",
    "    functions.append(lambda x: n * x)\n",
    "    \n",
    "results = [function(2) for function in functions]\n",
    "print(results)"
   ]
  },
  {
   "cell_type": "code",
   "execution_count": 18,
   "id": "5d4632f4",
   "metadata": {
    "ExecuteTime": {
     "end_time": "2024-10-27T04:37:18.787726Z",
     "start_time": "2024-10-27T04:37:18.780662Z"
    }
   },
   "outputs": [
    {
     "name": "stdout",
     "output_type": "stream",
     "text": [
      "[0, 2, 4]\n"
     ]
    }
   ],
   "source": [
    "# 解决方式: \n",
    "# 直接把每次迭代时x的取值通过default value赋值，此时参数会先取走值，不用等函数call之后\n",
    "functions = []\n",
    "for n in range(3):\n",
    "    functions.append(lambda x, n=n: n * x)\n",
    "\n",
    "results = [function(2) for function in functions]\n",
    "print(results)"
   ]
  },
  {
   "cell_type": "code",
   "execution_count": 23,
   "id": "91646a02",
   "metadata": {
    "ExecuteTime": {
     "end_time": "2024-10-27T04:47:55.289612Z",
     "start_time": "2024-10-27T04:47:55.284918Z"
    }
   },
   "outputs": [
    {
     "name": "stdout",
     "output_type": "stream",
     "text": [
      "None\n",
      "()\n"
     ]
    }
   ],
   "source": [
    "functions = []\n",
    "for n in range(3):\n",
    "    functions.append(lambda x: n * x)\n",
    "\n",
    "# n是for loop的enclosing scope中的变量\n",
    "# 这里的scope层次很像nested function的结构\n",
    "# 但是并没有closure生成\n",
    "print(functions[0].__closure__)\n",
    "print(functions[0].__code__.co_freevars)"
   ]
  }
 ],
 "metadata": {
  "kernelspec": {
   "display_name": "Python 3 (ipykernel)",
   "language": "python",
   "name": "python3"
  },
  "language_info": {
   "codemirror_mode": {
    "name": "ipython",
    "version": 3
   },
   "file_extension": ".py",
   "mimetype": "text/x-python",
   "name": "python",
   "nbconvert_exporter": "python",
   "pygments_lexer": "ipython3",
   "version": "3.10.14"
  }
 },
 "nbformat": 4,
 "nbformat_minor": 5
}
