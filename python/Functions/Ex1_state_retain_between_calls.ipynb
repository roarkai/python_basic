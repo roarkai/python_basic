{
 "cells": [
  {
   "cell_type": "markdown",
   "id": "d2c0b0e3",
   "metadata": {},
   "source": [
    "# State retain between calls\n",
    "## I. python function保存state的几种方式\n",
    "1. 用global variable\n",
    "2. 用class instance attributes\n",
    "3. 用enclosing scope reference\n",
    "4. function attributes\n",
    "5. function default"
   ]
  },
  {
   "cell_type": "markdown",
   "id": "1486c38c",
   "metadata": {},
   "source": [
    "## II. 用global variable\n",
    "#### 特点：\n",
    "- 优点是代码和规则都很简单。\n",
    "- 缺点是不适用于要频繁改变变量值的场景。因为很难知道值是否变化，以及变化的含义。因此不适合用于function state retain，\n",
    "- 最好用在constant值上，又简单又不容易出错。\n",
    "#### 典型用法：\n",
    "- 在一个单独的module中保存其他各个module中要共享的global name，一般Global name都用大写字母命名。\n",
    "- 其他各个module import该module后使用该值\n",
    "```python\n",
    "from globalnames import MAX\n",
    "\n",
    "height = [33, 153, 278, 189, 168]\n",
    "normal_height = list(filter(lambda x: x < MAX, height))\n",
    "```"
   ]
  },
  {
   "cell_type": "markdown",
   "id": "ff698950",
   "metadata": {},
   "source": [
    "## III. 用class instance attributes\n",
    "#### 特点：\n",
    "- 适合OOP场景下需要出state retain之外的其他对象功能，（如method）的场景"
   ]
  },
  {
   "cell_type": "markdown",
   "id": "9a95c784",
   "metadata": {},
   "source": []
  },
  {
   "cell_type": "markdown",
   "id": "7df63492",
   "metadata": {},
   "source": [
    "## IV. 用enclosing scope reference\n",
    "#### 特点：\n",
    "- 用在nested function里面，适用于跟踪nested function的状态信息\n",
    "#### 典型用法：\n",
    "- function factory(closure)"
   ]
  },
  {
   "cell_type": "code",
   "execution_count": 17,
   "id": "6eb9f273",
   "metadata": {
    "ExecuteTime": {
     "end_time": "2024-10-26T03:18:16.900324Z",
     "start_time": "2024-10-26T03:18:16.893393Z"
    }
   },
   "outputs": [
    {
     "name": "stdout",
     "output_type": "stream",
     "text": [
      "the 2 power of 5 = 25, have count 1 times.\n",
      "the 2 power of 6 = 36, have count 2 times.\n",
      "the 3 power of 5 = 125, have count 1 times.\n",
      "have count too many times, machine down!\n"
     ]
    }
   ],
   "source": [
    "def n_power(n):\n",
    "    cnt = 0\n",
    "    def power(x):\n",
    "        nonlocal cnt   # cnt记录函数被调用次数\n",
    "        cnt += 1\n",
    "        if cnt < 3:\n",
    "            print(f\"the {n} power of {x} = {x**n}, have count {cnt} times.\")\n",
    "        else:\n",
    "            print(f\"have count too many times, machine down!\")\n",
    "    return power\n",
    "\n",
    "square = n_power(2)\n",
    "cube = n_power(3)\n",
    "\n",
    "square(5)\n",
    "square(6)\n",
    "cube(5)\n",
    "square(2)"
   ]
  },
  {
   "cell_type": "markdown",
   "id": "1cb02e84",
   "metadata": {},
   "source": [
    "## V. 用function attributes"
   ]
  },
  {
   "cell_type": "markdown",
   "id": "334b5af3",
   "metadata": {},
   "source": [
    "#### 特点\n",
    "- \n",
    "#### 典型用法\n",
    "- 如果用在nested function里面时，和enclosing function scope功能一样"
   ]
  },
  {
   "cell_type": "code",
   "execution_count": 1,
   "id": "a1eebe31",
   "metadata": {
    "ExecuteTime": {
     "end_time": "2024-10-25T15:27:19.127954Z",
     "start_time": "2024-10-25T15:27:19.113969Z"
    }
   },
   "outputs": [
    {
     "name": "stdout",
     "output_type": "stream",
     "text": [
      "16 1\n",
      "64 1\n",
      "9 2\n"
     ]
    }
   ],
   "source": [
    "def n_power(n):\n",
    "    def power(x):\n",
    "        power.count += 1\n",
    "        return x ** n\n",
    "    power.count = 0\n",
    "    return power\n",
    "\n",
    "pow2 = n_power(2)\n",
    "pow3 = n_power(3)\n",
    "\n",
    "print(pow2(4), pow2.count)\n",
    "print(pow3(4), pow3.count)\n",
    "print(pow2(3), pow2.count)"
   ]
  },
  {
   "cell_type": "markdown",
   "id": "d8e527c9",
   "metadata": {},
   "source": []
  },
  {
   "cell_type": "markdown",
   "id": "b69ad80e",
   "metadata": {},
   "source": []
  }
 ],
 "metadata": {
  "kernelspec": {
   "display_name": "Python 3 (ipykernel)",
   "language": "python",
   "name": "python3"
  },
  "language_info": {
   "codemirror_mode": {
    "name": "ipython",
    "version": 3
   },
   "file_extension": ".py",
   "mimetype": "text/x-python",
   "name": "python",
   "nbconvert_exporter": "python",
   "pygments_lexer": "ipython3",
   "version": "3.10.12"
  }
 },
 "nbformat": 4,
 "nbformat_minor": 5
}
