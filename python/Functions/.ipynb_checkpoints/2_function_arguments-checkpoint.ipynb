{
 "cells": [
  {
   "cell_type": "markdown",
   "id": "efed156b",
   "metadata": {},
   "source": [
    "# Arguments\n",
    "## I. caller和function中的参数对齐规则\n",
    "### I.1 参数含义\n",
    "<img src=\"../pics/argument_match.png\" style=\"width:75%;\">"
   ]
  },
  {
   "cell_type": "markdown",
   "id": "b8219131",
   "metadata": {},
   "source": [
    "### I.2 function call中的参数排序规则\n",
    "- <font color=red>这部分规则描述暂不考虑keyword only arguments</font>\n",
    "#### 1. 基本规则：按类型排序，不同类型不能混排\n",
    "- step1：先排所有的<code>position arguments</code>\n",
    "- step2：再排所有的<code>key word arguments</code>和<code>\\*iterable</code>形式的参数\n",
    "- step3：最后排<code>\\*\\*dict</code>形式的参数。<font color=orange>不管是在caller还是header中，<code>\\*\\*dict</code>形式的参数都排在最后</font>"
   ]
  },
  {
   "cell_type": "code",
   "execution_count": 3,
   "id": "e3cfac1b",
   "metadata": {
    "ExecuteTime": {
     "end_time": "2024-10-26T14:45:19.954360Z",
     "start_time": "2024-10-26T14:45:19.950243Z"
    }
   },
   "outputs": [],
   "source": [
    "def f(a, b, c):\n",
    "    print(a, b, c)\n",
    "# f(b=3, c=4, 2) # 报错！ position argments必须排在keyword的前面"
   ]
  },
  {
   "cell_type": "markdown",
   "id": "d484e6e9",
   "metadata": {},
   "source": [
    "#### 2. python match caller value和header参数的方式\n",
    "- 第一步，匹配caller中给的值和函数定义中的arguement\n",
    "- 第二步，查看第一步中匹配给每个argument的value只有1个，如果超过1个就报错\n",
    "- 第三步，将match好的name refer到对应的value上"
   ]
  },
  {
   "cell_type": "markdown",
   "id": "ef181843",
   "metadata": {},
   "source": [
    "#### 3. caller中的值与argument匹配的规则(上面‘第一步’使用的规则)\n",
    "1. 先将caller中的position arguments赋值给header中的nonkeyword arguments。\n",
    "   - 如果caller中的position arguments数量更多，这些多出来的暂不赋值\n",
    "2. 再将keyword arguments赋值给header中的keyword argument\n",
    "   - 如果caller中的keyword arguments还有没有匹配上key的，也暂不赋值\n",
    "   - 如果header中有keyword arguments没有找到对应的key，也暂不赋值\n",
    "3. 前面position argument赋值时如果有多余的arguments，将他们赋值给<code>*name</code> tuple\n",
    "4. 前面keyword argument赋值时如果有多余的arguments，将他们赋值给<code>**name</code> dictionary\n",
    "5. 如果header中有keyword arguments没有match到key的，看他们有没有default value，有的话就用default value来match"
   ]
  },
  {
   "cell_type": "markdown",
   "id": "1609eece",
   "metadata": {},
   "source": [
    "### I.3 function def中的参数排序规则\n"
   ]
  },
  {
   "cell_type": "markdown",
   "id": "34260870",
   "metadata": {},
   "source": []
  },
  {
   "cell_type": "markdown",
   "id": "153a5a90",
   "metadata": {},
   "source": []
  }
 ],
 "metadata": {
  "kernelspec": {
   "display_name": "Python 3 (ipykernel)",
   "language": "python",
   "name": "python3"
  },
  "language_info": {
   "codemirror_mode": {
    "name": "ipython",
    "version": 3
   },
   "file_extension": ".py",
   "mimetype": "text/x-python",
   "name": "python",
   "nbconvert_exporter": "python",
   "pygments_lexer": "ipython3",
   "version": "3.10.12"
  }
 },
 "nbformat": 4,
 "nbformat_minor": 5
}
