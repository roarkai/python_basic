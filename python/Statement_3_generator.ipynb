{
 "cells": [
  {
   "cell_type": "markdown",
   "id": "eee06858",
   "metadata": {},
   "source": [
    "# Generator\n",
    "- **要点：**\n",
    "  - 因为generator expression返回的generator支持iteration protocol，所以generator expression的最常见应用场景式直接当iterable用。相比list comprehension，它的memory efficiency高。"
   ]
  },
  {
   "cell_type": "markdown",
   "id": "a9519fe8",
   "metadata": {},
   "source": [
    "## I. 功能和实现方式\n",
    "\n",
    "### I.1 两种使用形式\n",
    "#### 1. generator expression\n",
    "- 形态：\n",
    "  1. 和list comprehension很像，只是将<code>[]</code>改成<code>()</code>。\n",
    "     - 比如：<code>g = (i for i in range(4))</code>\n",
    "  2. 如果是用在函数里面，常见如：<code>list(), join()</code>,那么generator本身的<code>'()' </code>可以省略。<font color=orange>也就是不用写两层括号。</font>\n",
    "     - <code>list(i for i in range(4))</code>就是<code>list((i for i in range(4)))</code>\n",
    "- 功能和用法：\n",
    "  1. 从使用方法上看，generator expression和list comprehension基本一样。都支持if条件判断，也都支持nested for loops。\n",
    "  2. 从功能上看的本质区别在于：list comprehension一次生成了所有elements，而generator expression是lazy的，不会一次将所有结果都build到memory中，所以<font color=green>当生成的object很大的时候，generator expression会有明显的**memory efficiency**</font>。"
   ]
  },
  {
   "cell_type": "code",
   "execution_count": 19,
   "id": "2785343d",
   "metadata": {
    "ExecuteTime": {
     "end_time": "2024-10-28T04:25:52.346689Z",
     "start_time": "2024-10-28T04:25:52.341241Z"
    }
   },
   "outputs": [
    {
     "name": "stdout",
     "output_type": "stream",
     "text": [
      "[0, 1, 4, 9]\n",
      "<generator object <genexpr> at 0x7775050d2dc0>\n"
     ]
    }
   ],
   "source": [
    "print([x ** 2 for x in range(4)])\n",
    "print((x ** 2 for x in range(4)))"
   ]
  },
  {
   "cell_type": "markdown",
   "id": "d5d591c2",
   "metadata": {},
   "source": [
    "#### 2. generator function\n",
    "- 有两种等价形态：\n",
    "  1. 用<code>yield</code> statement来返回result的funtion。\n",
    "     - 比如：\n",
    "  ```python\n",
    "  def gen(N):\n",
    "        for i in range(N):\n",
    "            yield i\n",
    "  ```\n",
    "  2. 用<code>yield from</code> statement来返回result的funtion。\n",
    "     - 比如：\n",
    "  ```python\n",
    "  def gen(N):\n",
    "        yield from range(N)\n",
    "  ```"
   ]
  },
  {
   "cell_type": "code",
   "execution_count": 20,
   "id": "4be17fa2",
   "metadata": {
    "ExecuteTime": {
     "end_time": "2024-10-28T04:29:51.356487Z",
     "start_time": "2024-10-28T04:29:51.351902Z"
    }
   },
   "outputs": [
    {
     "name": "stdout",
     "output_type": "stream",
     "text": [
      "<generator object gen at 0x7775050d03c0>\n"
     ]
    }
   ],
   "source": [
    "def gen():\n",
    "    for i in range(5):\n",
    "        yield i\n",
    "g = gen()\n",
    "print(g)"
   ]
  },
  {
   "cell_type": "markdown",
   "id": "5eb3ad39",
   "metadata": {},
   "source": [
    "### I.2 iteration tool + generator如何工作\n",
    "- generator在计算的时候不会一次完成所有计算，被iteration tool call的时候只会执行到yield statement，此时yield会返回本轮计算的结果，然后保存当前状态，暂停运行。直到再被iteration tool call的时候重新在上次暂停的位置和状态上进行新的一轮计算。\n",
    "#### I.2.1 generator function的工作过程：iteration tool + generator\n",
    "1. 在用yield作为返回值定义的function被call之后，会返回一个generator对象。\n",
    "2. python自动帮generator加上了<code>\\_\\_iter__</code> 和<code>\\_\\_next__</code>method，设置<code>\\_\\_iter__</code>的返回值为对象本身，并根据函数体中的code内容<font color=orange>(从yield后一行到再次执行完yield)</font>来设置<code>\\_\\_next__</code>的返回值。因此，generator对象支持iteration protocol，使用于所有iteration tools。\n",
    "3. 每次iteration tool invoke该generator的<code>\\_\\_next__</code> method后，就会从保存的state信息中调取代码位置和local variable value，并从“上一次执行完的yield statement下一行的位置”重新开始执行函数体中的代码，直到再次遇到<code>yield</code>时，将此次迭代的计算结果返回，然后自动暂停，并存储当前state。\n",
    "   - 这里存储的state中包括： \n",
    "     1. 函数的code location，后面每次generator中的<code>\\_\\_next__</code> method被call的时候，都还要用到函数定义来执行新的运算。\n",
    "     2. local scope，函数中的local variable value，每次遍历的时候都要使用。\n",
    "3. 直到所有的结果都生成完后，generator会自动raise <code>StopIteration</code> exception。"
   ]
  },
  {
   "cell_type": "code",
   "execution_count": 18,
   "id": "edd3f788",
   "metadata": {
    "ExecuteTime": {
     "end_time": "2024-10-28T03:47:12.856603Z",
     "start_time": "2024-10-28T03:47:12.850963Z"
    }
   },
   "outputs": [
    {
     "name": "stdout",
     "output_type": "stream",
     "text": [
      "<generator object gensquares at 0x7775050d1540>\n",
      "0 1 4 9 16 "
     ]
    }
   ],
   "source": [
    "def gensquares(N):\n",
    "    for i in range(N):\n",
    "        yield i ** 2\n",
    "\n",
    "gs = gensquares(5)\n",
    "print(gs)\n",
    "\n",
    "for i in gs:\n",
    "    print(i, end=' ')"
   ]
  },
  {
   "cell_type": "markdown",
   "id": "b5d54832",
   "metadata": {
    "ExecuteTime": {
     "end_time": "2024-10-27T13:42:28.944641Z",
     "start_time": "2024-10-27T13:42:28.938438Z"
    }
   },
   "source": [
    "#### I.2.2 generator expression的工作过程：\n",
    "- 虽然没有yield statement，但执行<code>(func(i) for i in iterable [if cond(i)])</code>的形式的expression的时候，也会返回一个generator object。它在iteration context中的工作方式和generator function返回的generator一样。\n",
    "- 和generator function的区别在于：\n",
    "  1. generator expression中函数体部分<code>func(i)</code>只能表达很简单的程序，复杂的程序逻辑还是要用function。\n",
    "     - <font color=orange>比如：生成fibonacci数列的函数要同时保持两个变量值，这在geberator expression中就不能直接做到。这种情况就应该用generator function，不用expression。</font>\n",
    "  2. generator expression是一个expression，所以它可以用在一些函数不能用的地方。\n",
    "     - 比如：下面例子中也可以用list comprehension，但是list会一次生成sequence，当sequence很大的时候，太占memory。\n",
    "  ```python\n",
    "  for i in (x ** 2 for x in range(10000)):\n",
    "        print(2 * i)\n",
    "  ```"
   ]
  },
  {
   "cell_type": "markdown",
   "id": "9d03b43c",
   "metadata": {},
   "source": [
    "## II. generator的典型应用\n",
    "- generator function与generator expression的关系：类似于一般function与lambda function的关系\n",
    "  1. 用function得到的是statement，用expression得到的是expression。expression可以用在statement无法使用的地方\n",
    "  2. expression适合简单的代码，不适合复杂的代码逻辑"
   ]
  },
  {
   "cell_type": "markdown",
   "id": "43148c90",
   "metadata": {},
   "source": [
    "### II.1 generator expression\n",
    "- 虽然map和filter可以在很多场景下替代generator expression，但后者的代码写起来更简单也更好读。\n",
    "- 在memory efficiency上，generator expression与map + filter的差异不大，因为map和filter返回的对象也是lazy的\n",
    "- <font color=green>**因为generator expression返回的generator支持iteration protocol，所以generator expression的最常见应用场景式直接当iterable用。**</font><font color=deeppink>**相比list comprehension，它的memory efficiency高。**</font>\n",
    "#### 1. map功能\n",
    "- 两种等价形式：\n",
    "  - <code>(func for i in iterable)</code>\n",
    "  - <code>map(func, iterable)</code>"
   ]
  },
  {
   "cell_type": "code",
   "execution_count": 27,
   "id": "0e42b53a",
   "metadata": {
    "ExecuteTime": {
     "end_time": "2024-10-28T05:25:07.620151Z",
     "start_time": "2024-10-28T05:25:07.612770Z"
    }
   },
   "outputs": [
    {
     "name": "stdout",
     "output_type": "stream",
     "text": [
      "<map object at 0x777504fd1870>\n",
      "<generator object <genexpr> at 0x777504f77d80>\n"
     ]
    },
    {
     "data": {
      "text/plain": [
       "True"
      ]
     },
     "execution_count": 27,
     "metadata": {},
     "output_type": "execute_result"
    }
   ],
   "source": [
    "# 简单例子\n",
    "m = map(abs, range(-2, 3))\n",
    "print(m)\n",
    "\n",
    "g = (abs(i) for i in range(-2, 3))\n",
    "print(g)\n",
    "\n",
    "list(m) == list(g)"
   ]
  },
  {
   "cell_type": "code",
   "execution_count": 26,
   "id": "05f32b77",
   "metadata": {
    "ExecuteTime": {
     "end_time": "2024-10-28T05:24:28.152597Z",
     "start_time": "2024-10-28T05:24:28.146015Z"
    }
   },
   "outputs": [
    {
     "data": {
      "text/plain": [
       "True"
      ]
     },
     "execution_count": 26,
     "metadata": {},
     "output_type": "execute_result"
    }
   ],
   "source": [
    "# 需要额外定义函数的例子\n",
    "m = map(lambda x: x ** 2, range(-2, 3))\n",
    "g = (i ** 2 for i in range(-2, 3))\n",
    "list(m) == list(g)"
   ]
  },
  {
   "cell_type": "markdown",
   "id": "51ebd53e",
   "metadata": {},
   "source": [
    "#### 2. filter功能\n",
    "- 两种等价形式：\n",
    "  - <code>(i for i in iterable if cond(i))</code>\n",
    "  - <code>filter(cond(i), iterable)</code> <font color=red>注：filter第1个参数是function object</font>"
   ]
  },
  {
   "cell_type": "code",
   "execution_count": 38,
   "id": "0d7de059",
   "metadata": {
    "ExecuteTime": {
     "end_time": "2024-10-28T05:51:19.790139Z",
     "start_time": "2024-10-28T05:51:19.783308Z"
    }
   },
   "outputs": [
    {
     "data": {
      "text/plain": [
       "([], ['aa', 'ccc'])"
      ]
     },
     "execution_count": 38,
     "metadata": {},
     "output_type": "execute_result"
    }
   ],
   "source": [
    "line = 'aa b\\n ccc d\\n\\n'\n",
    "\n",
    "# 将长度大于1的word取出来存为list\n",
    "f = filter(lambda x: len(x)>1, line.split()) # split()会自动去掉'\\n'\n",
    "g = (i for i in line.split() if len(i) > 1)\n",
    "\n",
    "list(mf), list(g)"
   ]
  },
  {
   "cell_type": "markdown",
   "id": "40d9e37c",
   "metadata": {},
   "source": [
    "#### 3. map + filter功能\n",
    "- 两种等价形式：\n",
    "  - <code>(func(i) for i in iterable if cond(i))</code>\n",
    "  - <code>map(func, filter(cond(i), iterable))</code>"
   ]
  },
  {
   "cell_type": "code",
   "execution_count": 40,
   "id": "bbc9eb33",
   "metadata": {
    "ExecuteTime": {
     "end_time": "2024-10-28T05:53:03.203998Z",
     "start_time": "2024-10-28T05:53:03.195857Z"
    }
   },
   "outputs": [
    {
     "data": {
      "text/plain": [
       "(['AA', 'CCC'], ['AA', 'CCC'])"
      ]
     },
     "execution_count": 40,
     "metadata": {},
     "output_type": "execute_result"
    }
   ],
   "source": [
    "# 将长度大于1的word取出来，换成大写字母，再存为list\n",
    "mf = map(str.upper, filter(lambda x: len(x)>1, line.split()))\n",
    "g = (i.upper() for i in line.split() if len(i) > 1)\n",
    "\n",
    "list(mf), list(g)"
   ]
  },
  {
   "cell_type": "markdown",
   "id": "f6f1bef8",
   "metadata": {},
   "source": []
  },
  {
   "cell_type": "markdown",
   "id": "59a9b4fd",
   "metadata": {},
   "source": []
  }
 ],
 "metadata": {
  "kernelspec": {
   "display_name": "Python 3 (ipykernel)",
   "language": "python",
   "name": "python3"
  },
  "language_info": {
   "codemirror_mode": {
    "name": "ipython",
    "version": 3
   },
   "file_extension": ".py",
   "mimetype": "text/x-python",
   "name": "python",
   "nbconvert_exporter": "python",
   "pygments_lexer": "ipython3",
   "version": "3.10.14"
  }
 },
 "nbformat": 4,
 "nbformat_minor": 5
}
