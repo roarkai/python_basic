{
 "cells": [
  {
   "cell_type": "markdown",
   "id": "7853039e",
   "metadata": {},
   "source": [
    "# Operator overloading"
   ]
  },
  {
   "cell_type": "markdown",
   "id": "ed956d8f",
   "metadata": {},
   "source": [
    "## I. 理解operator overloading\n",
    "### I.1 什么是operator overloading\n",
    "- python为built-in types定义了一些operation。如：`+`, `-`, `*`, `/`, slicing, concatenation, printing。这些operation的实现方式是，当它们在expression中出现时，python会自动invoke对应operant class中的特定method来执行实际的计算。\n",
    "- 这些method的特殊之处在于他们的name形态都是：`__method_name__`。\n",
    "  - 如：遇到`+`，python会自动invoke operant class中的`__add__`method。\n",
    "- 如果在自定以的class中定义了这些名称特殊的method，遇到对应的operator，python也会自动invoke这些method。这就是operator overloading。\n",
    "  - 如：自定义class中如果定义了`__str__`，那么`print(instance_name)`就会invoke该method。"
   ]
  },
  {
   "cell_type": "markdown",
   "id": "5bed54da",
   "metadata": {},
   "source": [
    "### I.2 用途\n",
    "- operator overloading不是必须的。用它的好处只是让自定义的class用起来更像python built-in types而已。也就是在操作上和python的built-in types的interface具有更好的一致性，因此更符合python style。\n",
    "- 也因此，<font color=green>**这个功能更多是开发工具的程序员用得更多，因为这样可以让他们写出来的工具与python本身的一致性更好，用户更方便上手。但是除了特定的常见method（比如：`__init__`,`__repr__`）之外，那些直接写application的程序员用得相对少。**</font>\n",
    "- 注意：<font color=red>除非自定义的class有需要模仿built-in types的interface，否则不要用overloading，直接用简单的method name就好。</font>"
   ]
  },
  {
   "cell_type": "markdown",
   "id": "1a24f7f5",
   "metadata": {},
   "source": [
    "### I.3 implement时要注意返回值\n",
    "- 下面例子中，只有第一种方式是和python interface一致的方式。尽管可以自己选择哪种方式，但是如果用了operator overloading，最好的建议是选择和python built-in datatype一致的返回值方式。"
   ]
  },
  {
   "cell_type": "code",
   "execution_count": null,
   "id": "055a17e3",
   "metadata": {},
   "outputs": [],
   "source": [
    "class Emulate:\n",
    "    def __init__(self, data):\n",
    "        self.data = data\n",
    "    def __add__(self, other):\n",
    "        return Emulate(self.data + other)# 返回新建的同类instance obj\n",
    "    def __mul__(self, other):\n",
    "        return self.data + other         # 返回新obj，但类型信息丢失\n",
    "    def __sub__(self, other):\n",
    "        self.data -= other    # in-place value change，不返回新的obj"
   ]
  },
  {
   "cell_type": "markdown",
   "id": "611acfc1",
   "metadata": {},
   "source": [
    "## II. 常见的operator overloading"
   ]
  },
  {
   "cell_type": "markdown",
   "id": "3cf62140",
   "metadata": {},
   "source": [
    "### II.1 constructor: \\_\\_init__\n",
    "#### 1. 用途\n",
    "- 应用场景：如果一个class想要确保一些attributes总是在instance中被设定，那么就可以将这些attributes在创建instance的construction time时就被设定好。可以用`\\_\\_init__`来实现。\n",
    "#### 2. 使用方式\n",
    "```python\n",
    "class C(SuperC):\n",
    "    def __init__(self, who):\n",
    "        self.name = who\n",
    "```\n",
    "#### 3. 在python中的工作方式\n",
    "- 只要定义了`__init__` method或者从super class中继承了`__init__`，那么每次创建instance的时候，python会：\n",
    "  1. 创建instance\n",
    "  2. 将新建好的instance作为argument传给 `__init__` method\n",
    "  3. 执行method call"
   ]
  },
  {
   "cell_type": "markdown",
   "id": "8da83904",
   "metadata": {},
   "source": [
    "### II.2 \\_\\_repr__ 和 \\_\\_str__"
   ]
  },
  {
   "cell_type": "markdown",
   "id": "2a5222b0",
   "metadata": {},
   "source": [
    "#### 1. 功能差异\n",
    "- 如果定义了`__str__`，`print()`和`str()`会执行`__str__`。其他如编辑器中交互输出的output，nested appearance等会执行`__repr__`。\n",
    "- 如果没有定义`__str__`，上述两个函数和其他和display format相关的函数都会执行`__repr__`。除了上述两个函数之外，还有典型的：\n",
    "  - <font color=blue>**iterative echos**</font>：\n",
    "  - <font color=blue>**`repr()`函数**</font>：\n",
    "  - <font color=blue>**nested appearance**</font>：\n",
    "#### 2. python传统\n",
    "- 通常`__str__`中定义的是用户友好的阅读方式，`__repr__`中定义的是详细的可供程序员参考的信息。"
   ]
  },
  {
   "cell_type": "markdown",
   "id": "3901ee21",
   "metadata": {},
   "source": [
    "#### 3. 用法中的注意事项\n",
    "- `__repr__`和`__str__`的返回值必须是string类型的对象\n",
    "- 如果被打印的对象是在container中，比如是elements of a list。此时`__repr__`可以在打印整个container的时候被调用，而`__str__`不行。所以这时候最好用`__repr__`。"
   ]
  },
  {
   "cell_type": "code",
   "execution_count": 12,
   "id": "38250a5d",
   "metadata": {
    "ExecuteTime": {
     "end_time": "2024-11-06T10:10:07.310342Z",
     "start_time": "2024-11-06T10:10:07.305091Z"
    }
   },
   "outputs": [
    {
     "name": "stdout",
     "output_type": "stream",
     "text": [
      "13\n",
      "9\n",
      "[<__main__.Printer object at 0x7a9710265900>, <__main__.Printer object at 0x7a9710266bc0>]\n"
     ]
    }
   ],
   "source": [
    "class Printer:\n",
    "    def __init__(self, data):\n",
    "        self.data = data\n",
    "    def __str__(self):\n",
    "        return str(self.data)\n",
    "    \n",
    "x = [Printer(13), Printer(9)]\n",
    "for e in x:\n",
    "    print(e)\n",
    "print(x)"
   ]
  },
  {
   "cell_type": "code",
   "execution_count": 14,
   "id": "6c40be72",
   "metadata": {
    "ExecuteTime": {
     "end_time": "2024-11-06T10:10:56.548745Z",
     "start_time": "2024-11-06T10:10:56.543066Z"
    }
   },
   "outputs": [
    {
     "name": "stdout",
     "output_type": "stream",
     "text": [
      "13\n",
      "9\n",
      "[13, 9]\n"
     ]
    }
   ],
   "source": [
    "class NewPrinter:\n",
    "    def __init__(self, data):\n",
    "        self.data = data\n",
    "    def __repr__(self):\n",
    "        return str(self.data)\n",
    "    \n",
    "x = [NewPrinter(13), NewPrinter(9)]\n",
    "for e in x:\n",
    "    print(e)\n",
    "print(x)  # 这里可以正确输出container"
   ]
  },
  {
   "cell_type": "markdown",
   "id": "c726d862",
   "metadata": {},
   "source": [
    "### II.3 \\_\\_getitem__\n",
    "#### 1. 用途\n",
    "1. `__getitem__`最基本的功能：indexing\n",
    "   - 这是。当python interpreter遇到`x[ind]`形态的expression时，会自动将其转变为`__getitem__(x, ind)`形态来invoke`__getitem__` method。\n",
    "   - 这里instance对象不一定是sequence，index规则也是自定义的"
   ]
  },
  {
   "cell_type": "code",
   "execution_count": 9,
   "id": "d45d4d2d",
   "metadata": {
    "ExecuteTime": {
     "end_time": "2024-11-06T09:27:34.435178Z",
     "start_time": "2024-11-06T09:27:34.429594Z"
    }
   },
   "outputs": [
    {
     "data": {
      "text/plain": [
       "'xzxz'"
      ]
     },
     "execution_count": 9,
     "metadata": {},
     "output_type": "execute_result"
    }
   ],
   "source": [
    "# 一个没有意义的例子，说明对象类型没有限制\n",
    "class Indexer:\n",
    "    def __getitem__(self, index):\n",
    "        return index * 2\n",
    "\n",
    "class OddData(Indexer):\n",
    "    def __init__(self, data):\n",
    "        self.data = data\n",
    "\n",
    "w = OddData('meaningless')\n",
    "w['xz']"
   ]
  },
  {
   "cell_type": "code",
   "execution_count": 10,
   "id": "ef6676a0",
   "metadata": {
    "ExecuteTime": {
     "end_time": "2024-11-06T09:34:00.719325Z",
     "start_time": "2024-11-06T09:34:00.715375Z"
    }
   },
   "outputs": [
    {
     "data": {
      "text/plain": [
       "4"
      ]
     },
     "execution_count": 10,
     "metadata": {},
     "output_type": "execute_result"
    }
   ],
   "source": [
    "# 一个有意义的例子\n",
    "class DoubleIndex:\n",
    "    def __getitem__(self, index):\n",
    "        return self.data[index * 2]\n",
    "\n",
    "class OddData(DoubleIndex):\n",
    "    def __init__(self, data):\n",
    "        self.data = data\n",
    "        \n",
    "x = OddData(list(range(12)))\n",
    "x[2]"
   ]
  },
  {
   "cell_type": "markdown",
   "id": "71bbbbc8",
   "metadata": {},
   "source": [
    "2. slicing\n",
    "- 略"
   ]
  },
  {
   "cell_type": "markdown",
   "id": "d9f078fd",
   "metadata": {},
   "source": [
    "3. index iteration：\n",
    "   - 如果class不是iterable，也就是没有提供`__iter__`，以及对应的有`__next__`method的iterator class，那么for statement会用`__getitem__`来完成sequence的遍历。\n",
    "   - 具体方式：for会自己设置index number从0到更大值为参数来invoke `__getitem__`，直到raise IndexError。相当于for在getitem的基础上加了一层wrapper功能，利用getitem的index能力来实现了iteration。\n",
    "   - <font color=blue>条件是此时object本身得是sequence，才能支持按顺序做indexing。</font>\n",
    "   - 由于for statement可以用`__getitem__`来完成遍历。<font color=green>所有其他基于for的遍历能力来实现其他功能的statement或者函数都可以用这个method。比如：`in` test, `map` function, list和tuple的assignment等。</font>"
   ]
  },
  {
   "cell_type": "code",
   "execution_count": 3,
   "id": "2330d466",
   "metadata": {
    "ExecuteTime": {
     "end_time": "2024-11-06T09:06:41.481516Z",
     "start_time": "2024-11-06T09:06:41.476230Z"
    }
   },
   "outputs": [
    {
     "name": "stdout",
     "output_type": "stream",
     "text": [
      "h e l l o "
     ]
    }
   ],
   "source": [
    "class IndexInterface:\n",
    "    def __getitem__(self, i):\n",
    "        return self.data[i]  # 这里前提是data要支持index取值\n",
    "\n",
    "class MyWord(IndexInterface):\n",
    "    def __init__(self, data):\n",
    "        self.data = data\n",
    "\n",
    "w = MyWord('hello')\n",
    "for item in w:\n",
    "    print(item, end=' ')"
   ]
  },
  {
   "cell_type": "markdown",
   "id": "445005f3",
   "metadata": {},
   "source": [
    "### II.4 \\_\\_call__\n",
    "#### 1. 用途\n",
    "- 加上`__call__`之后，构建的instance可以模仿function那样被invoke，同时还能保留class本身的其他功能。"
   ]
  }
 ],
 "metadata": {
  "kernelspec": {
   "display_name": "Python 3 (ipykernel)",
   "language": "python",
   "name": "python3"
  },
  "language_info": {
   "codemirror_mode": {
    "name": "ipython",
    "version": 3
   },
   "file_extension": ".py",
   "mimetype": "text/x-python",
   "name": "python",
   "nbconvert_exporter": "python",
   "pygments_lexer": "ipython3",
   "version": "3.10.14"
  }
 },
 "nbformat": 4,
 "nbformat_minor": 5
}
