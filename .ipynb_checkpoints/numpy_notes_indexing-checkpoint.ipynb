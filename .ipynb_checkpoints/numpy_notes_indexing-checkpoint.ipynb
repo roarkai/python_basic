{
 "cells": [
  {
   "cell_type": "code",
   "execution_count": 1,
   "id": "5c0155ec-05ed-4da6-9e47-dc5a42e2ef50",
   "metadata": {
    "ExecuteTime": {
     "end_time": "2024-07-22T07:48:06.006529Z",
     "start_time": "2024-07-22T07:48:05.634528Z"
    }
   },
   "outputs": [],
   "source": [
    "import numpy as np\n",
    "import matplotlib.pyplot as plt\n",
    "import sys"
   ]
  },
  {
   "cell_type": "markdown",
   "id": "1a2b50a8-d389-4090-bf23-1f1e6e2fadc1",
   "metadata": {},
   "source": [
    "## numpy array的基本操作: indexing"
   ]
  },
  {
   "cell_type": "markdown",
   "id": "3b6222e1-ccd9-4cdd-a27e-bddb2093ff69",
   "metadata": {},
   "source": [
    "### 第3类操作：索引 indexing"
   ]
  },
  {
   "cell_type": "markdown",
   "id": "ae445d64",
   "metadata": {},
   "source": [
    "#### 3.1 普通索引\n",
    "1. 每个dim一个index，反向索引时index用负数\n",
    "2. 多维索引用‘,‘隔开\n",
    "3. 索引维度d<=原array维度D，如果d==D，那么每个维度都根据索引取值；如果d<D，那么原array的最后(D-d)个维度上取所有数据。如果要取后面的维度，缺省前面或者中间的维度，用‘...’。x[1, 2, ...] 相当于x[1, 2, :, :, :],x[4, ..., 5, :] 相当于x[4, :, :, 5, :]\n",
    "4. 直接用index取单个元素，提出来的是该元素本身的数据类型；如果用start:stop:step，即使实际上提取的也是一个元素，但是得到的是array"
   ]
  },
  {
   "cell_type": "code",
   "execution_count": 13,
   "id": "a75f61bc-76e2-44b5-bf2f-8ed919213c32",
   "metadata": {
    "ExecuteTime": {
     "end_time": "2024-07-22T07:48:06.095659Z",
     "start_time": "2024-07-22T07:48:06.090770Z"
    }
   },
   "outputs": [
    {
     "data": {
      "text/plain": [
       "array([  0,   1,   8,  27,  64, 125, 216, 343, 512, 729])"
      ]
     },
     "execution_count": 13,
     "metadata": {},
     "output_type": "execute_result"
    }
   ],
   "source": [
    "a = np.arange(10)**3\n",
    "a"
   ]
  },
  {
   "cell_type": "code",
   "execution_count": 14,
   "id": "1bd4bd9f-286e-4936-86db-855632d87c44",
   "metadata": {
    "ExecuteTime": {
     "end_time": "2024-07-22T07:48:06.101335Z",
     "start_time": "2024-07-22T07:48:06.097337Z"
    }
   },
   "outputs": [
    {
     "data": {
      "text/plain": [
       "array([1000,    1, 1000,   27, 1000,  125,  216,  343,  512,  729])"
      ]
     },
     "execution_count": 14,
     "metadata": {},
     "output_type": "execute_result"
    }
   ],
   "source": [
    "a[:6:2] = 1000\n",
    "a"
   ]
  },
  {
   "cell_type": "code",
   "execution_count": 94,
   "id": "75c9169a-0c07-4347-8e08-3e2b9e4e579e",
   "metadata": {
    "ExecuteTime": {
     "end_time": "2024-07-22T08:05:50.190841Z",
     "start_time": "2024-07-22T08:05:50.184441Z"
    }
   },
   "outputs": [
    {
     "data": {
      "text/plain": [
       "(6, array([6]))"
      ]
     },
     "execution_count": 94,
     "metadata": {},
     "output_type": "execute_result"
    }
   ],
   "source": [
    "# 直接用index取单个元素，提出来的是该元素本身的数据类型；\n",
    "# 如果用start:stop:step，即使实际上提取的也是一个元素，但是得到的是array\n",
    "a[6], a[6:7]"
   ]
  },
  {
   "cell_type": "code",
   "execution_count": 16,
   "id": "8f29b671-def2-4a71-9e4b-d0c727a85471",
   "metadata": {
    "ExecuteTime": {
     "end_time": "2024-07-22T07:48:06.113219Z",
     "start_time": "2024-07-22T07:48:06.109376Z"
    }
   },
   "outputs": [
    {
     "data": {
      "text/plain": [
       "array([ 729,  512,  343,  216,  125, 1000,   27, 1000,    1, 1000])"
      ]
     },
     "execution_count": 16,
     "metadata": {},
     "output_type": "execute_result"
    }
   ],
   "source": [
    "a[::-1]  # reversed a"
   ]
  },
  {
   "cell_type": "code",
   "execution_count": 17,
   "id": "50458307-ceab-46c1-88b9-ea475561c4ad",
   "metadata": {
    "ExecuteTime": {
     "end_time": "2024-07-22T07:48:06.118001Z",
     "start_time": "2024-07-22T07:48:06.114905Z"
    }
   },
   "outputs": [],
   "source": [
    "b = np.array([[ 0,  1,  2,  3],\n",
    "       [10, 11, 12, 13],\n",
    "       [20, 21, 22, 23],\n",
    "       [30, 31, 32, 33],\n",
    "       [40, 41, 42, 43]])"
   ]
  },
  {
   "cell_type": "code",
   "execution_count": 18,
   "id": "1df672fe-cbbf-4c09-b3f1-200a0c98f6fd",
   "metadata": {
    "ExecuteTime": {
     "end_time": "2024-07-22T07:48:06.123642Z",
     "start_time": "2024-07-22T07:48:06.119789Z"
    }
   },
   "outputs": [
    {
     "data": {
      "text/plain": [
       "(23, array([ 1, 11, 21, 31, 41]))"
      ]
     },
     "execution_count": 18,
     "metadata": {},
     "output_type": "execute_result"
    }
   ],
   "source": [
    "b[2, 3], b[:5, 1]"
   ]
  },
  {
   "cell_type": "code",
   "execution_count": 19,
   "id": "28b27c94-95d5-47e9-b37a-802d3fe8c1bb",
   "metadata": {
    "ExecuteTime": {
     "end_time": "2024-07-22T07:48:06.128798Z",
     "start_time": "2024-07-22T07:48:06.125263Z"
    }
   },
   "outputs": [
    {
     "data": {
      "text/plain": [
       "array([40, 41, 42, 43])"
      ]
     },
     "execution_count": 19,
     "metadata": {},
     "output_type": "execute_result"
    }
   ],
   "source": [
    "# 索引维度d=1，元数据维度D=2，取整个dim2\n",
    "b[-1]   # the last row，相当于b[-1, :]"
   ]
  },
  {
   "cell_type": "code",
   "execution_count": 98,
   "id": "eda9caf4-0cab-4b39-ade7-b8d052e09943",
   "metadata": {
    "ExecuteTime": {
     "end_time": "2024-07-22T08:09:11.379525Z",
     "start_time": "2024-07-22T08:09:11.373461Z"
    }
   },
   "outputs": [
    {
     "data": {
      "text/plain": [
       "(2, 2, 3)"
      ]
     },
     "execution_count": 98,
     "metadata": {},
     "output_type": "execute_result"
    }
   ],
   "source": [
    "# 索引维度d=2，元数据维度D=3，可以用'...'来表示缺省的维度\n",
    "c = np.array([[[  0,  1,  2], \n",
    "               [ 10, 12, 13]],\n",
    "              [[100, 101, 102],\n",
    "               [110, 112, 113]]])\n",
    "c.shape"
   ]
  },
  {
   "cell_type": "code",
   "execution_count": 99,
   "id": "def314e0-3b05-4b10-abe2-f35551e97b7a",
   "metadata": {
    "ExecuteTime": {
     "end_time": "2024-07-22T08:09:12.190230Z",
     "start_time": "2024-07-22T08:09:12.184482Z"
    }
   },
   "outputs": [
    {
     "data": {
      "text/plain": [
       "array([[100, 101, 102],\n",
       "       [110, 112, 113]])"
      ]
     },
     "execution_count": 99,
     "metadata": {},
     "output_type": "execute_result"
    }
   ],
   "source": [
    "# 取整个dim2和dim3\n",
    "c[1, ...]  # same as c[1, :, :] or c[1]"
   ]
  },
  {
   "cell_type": "code",
   "execution_count": 22,
   "id": "4cd04783-f92e-49c2-b1bd-6b4845246bac",
   "metadata": {
    "ExecuteTime": {
     "end_time": "2024-07-22T07:48:06.144647Z",
     "start_time": "2024-07-22T07:48:06.141052Z"
    }
   },
   "outputs": [
    {
     "data": {
      "text/plain": [
       "array([[  2,  13],\n",
       "       [102, 113]])"
      ]
     },
     "execution_count": 22,
     "metadata": {},
     "output_type": "execute_result"
    }
   ],
   "source": [
    "# 取整个dim1和dim2\n",
    "c[..., 2]  # same as c[:, :, 2]"
   ]
  },
  {
   "cell_type": "markdown",
   "id": "1e8bfd17",
   "metadata": {},
   "source": [
    "#### 3.2 advanced indexing\n",
    "1. 如果index是一下情况，会触发advanced indexing规则：\\\n",
    "(1) non-tuple sequence \\\n",
    "(2) index本身是ndarray \\\n",
    "(3) tuple中至少一个元素是sequence或者ndarray\n",
    "2. 有两种类型的advanced indexing：整数索引和布尔索引"
   ]
  },
  {
   "cell_type": "code",
   "execution_count": null,
   "id": "5f524852",
   "metadata": {},
   "outputs": [],
   "source": []
  },
  {
   "cell_type": "code",
   "execution_count": null,
   "id": "8169cbdc",
   "metadata": {},
   "outputs": [],
   "source": []
  },
  {
   "cell_type": "code",
   "execution_count": null,
   "id": "092755a6",
   "metadata": {},
   "outputs": [],
   "source": []
  },
  {
   "cell_type": "markdown",
   "id": "e8de858a-aaa6-4101-b98b-5fc0d2f5878c",
   "metadata": {},
   "source": [
    "#### 3.3 fancy indexing\n",
    "1. 用arrays of indices来做indexing\n",
    " - 如果index是array，即使它有多维，也被视为单一index，每个元素都检索原始array的dim1\n",
    " - 如果index是两个独立的index，那么分别作为row和col的index，此时两个index的shape要相同，如果不同，必须符合broadcast规则。他们的元素pair提取原始array对应$(row_i, col_i)$位置的元素\n",
    "2. 常见用途\n",
    " - 用indexing来改变特定维度的排序\n",
    " - 用mask=argmax, argmin等方式定位特征元素的位置，然后用index[mask]提取特征元素\n",
    " - 用boolean函数做mask，然后用index[mask]提取特征元素"
   ]
  },
  {
   "cell_type": "code",
   "execution_count": 23,
   "id": "86d6e497-fa36-45d7-93fc-731c80133176",
   "metadata": {
    "ExecuteTime": {
     "end_time": "2024-07-22T07:48:06.150345Z",
     "start_time": "2024-07-22T07:48:06.146196Z"
    }
   },
   "outputs": [
    {
     "data": {
      "text/plain": [
       "array([ 2,  2,  6, 16, 10])"
      ]
     },
     "execution_count": 23,
     "metadata": {},
     "output_type": "execute_result"
    }
   ],
   "source": [
    "# 例1：一维索引和一维原始array\n",
    "a1 = np.arange(12)*2\n",
    "ind = np.array([1, 1, 3, 8, 5]) \n",
    "a1[ind] "
   ]
  },
  {
   "cell_type": "code",
   "execution_count": 24,
   "id": "28abd122-0541-47ea-94e0-1605744682a2",
   "metadata": {
    "ExecuteTime": {
     "end_time": "2024-07-22T07:48:06.155682Z",
     "start_time": "2024-07-22T07:48:06.151899Z"
    }
   },
   "outputs": [
    {
     "data": {
      "text/plain": [
       "array([[0, 1, 2],\n",
       "       [3, 4, 5]])"
      ]
     },
     "execution_count": 24,
     "metadata": {},
     "output_type": "execute_result"
    }
   ],
   "source": [
    "# 例2：利用索引功能改变位置\n",
    "a = np.arange(6).reshape(2, 3)\n",
    "a"
   ]
  },
  {
   "cell_type": "code",
   "execution_count": 25,
   "id": "e3d29b6d-b0b8-4e54-a83f-ff6028ce669c",
   "metadata": {
    "ExecuteTime": {
     "end_time": "2024-07-22T07:48:06.160845Z",
     "start_time": "2024-07-22T07:48:06.157228Z"
    }
   },
   "outputs": [
    {
     "data": {
      "text/plain": [
       "array([[3, 4, 5],\n",
       "       [0, 1, 2]])"
      ]
     },
     "execution_count": 25,
     "metadata": {},
     "output_type": "execute_result"
    }
   ],
   "source": [
    "ind_move_dim1 = [1, 0] # 改变第一个维度\n",
    "a[ind_move_dim1]"
   ]
  },
  {
   "cell_type": "code",
   "execution_count": 26,
   "id": "1a4430c5-708a-43b3-bc4c-894f722356e1",
   "metadata": {
    "ExecuteTime": {
     "end_time": "2024-07-22T07:48:06.166003Z",
     "start_time": "2024-07-22T07:48:06.162324Z"
    }
   },
   "outputs": [
    {
     "data": {
      "text/plain": [
       "array([[2, 1, 0],\n",
       "       [5, 4, 3]])"
      ]
     },
     "execution_count": 26,
     "metadata": {},
     "output_type": "execute_result"
    }
   ],
   "source": [
    "a[:,[2, 1, 0]]       # 改变第二个维度"
   ]
  },
  {
   "cell_type": "code",
   "execution_count": 27,
   "id": "a66fe7db-b809-46f4-b5d8-b1f2d67e326c",
   "metadata": {
    "ExecuteTime": {
     "end_time": "2024-07-22T07:48:06.171443Z",
     "start_time": "2024-07-22T07:48:06.167569Z"
    }
   },
   "outputs": [
    {
     "data": {
      "text/plain": [
       "array([[ 6,  8],\n",
       "       [18, 14]])"
      ]
     },
     "execution_count": 27,
     "metadata": {},
     "output_type": "execute_result"
    }
   ],
   "source": [
    "# 例3：索引和mask配合\n",
    "mask = np.array([[3, 4], [9, 7]])\n",
    "a1[mask]"
   ]
  },
  {
   "cell_type": "code",
   "execution_count": 28,
   "id": "47e67c60-df91-40a0-a09b-412731811728",
   "metadata": {
    "ExecuteTime": {
     "end_time": "2024-07-22T07:48:06.182529Z",
     "start_time": "2024-07-22T07:48:06.178060Z"
    }
   },
   "outputs": [
    {
     "data": {
      "text/plain": [
       "(5, 3)"
      ]
     },
     "execution_count": 28,
     "metadata": {},
     "output_type": "execute_result"
    }
   ],
   "source": [
    "# 例4：不同形态索引的index效果不同\n",
    "palette = np.array([[0, 0, 0],    \n",
    "                    [254, 0, 0],  \n",
    "                    [0, 253, 0],  \n",
    "                    [0, 0, 252],  \n",
    "                    [251, 205, 225]])\n",
    "palette.shape"
   ]
  },
  {
   "cell_type": "code",
   "execution_count": 29,
   "id": "17895ff0-9e6d-4f46-96bb-983e7823482c",
   "metadata": {
    "ExecuteTime": {
     "end_time": "2024-07-22T07:48:06.188480Z",
     "start_time": "2024-07-22T07:48:06.184151Z"
    }
   },
   "outputs": [
    {
     "data": {
      "text/plain": [
       "(array([[[  0,   0,   0],\n",
       "         [254,   0,   0],\n",
       "         [  0, 253,   0],\n",
       "         [  0,   0,   0]],\n",
       " \n",
       "        [[  0,   0,   0],\n",
       "         [  0,   0, 252],\n",
       "         [251, 205, 225],\n",
       "         [  0,   0,   0]]]),\n",
       " (2, 4),\n",
       " (2, 4, 3))"
      ]
     },
     "execution_count": 29,
     "metadata": {},
     "output_type": "execute_result"
    }
   ],
   "source": [
    "# (1)单一index\n",
    "# 如果一个index是array，即使它有多维，也被视为单一index，每个元素都检索原始array的dim1\n",
    "ind = np.array([[0, 1, 2, 0],   # 如果索引是单个array，则索引中每个元素对应提取原始array的第一个dim\n",
    "                  [0, 3, 4, 0]])\n",
    "x = palette[ind]\n",
    "x, ind.shape, x.shape"
   ]
  },
  {
   "cell_type": "code",
   "execution_count": 30,
   "id": "5a048d41-c47a-4171-ba35-8acca9e8e8f1",
   "metadata": {
    "ExecuteTime": {
     "end_time": "2024-07-22T07:48:06.194283Z",
     "start_time": "2024-07-22T07:48:06.190084Z"
    }
   },
   "outputs": [
    {
     "data": {
      "text/plain": [
       "array([  0,   0, 225,   0])"
      ]
     },
     "execution_count": 30,
     "metadata": {},
     "output_type": "execute_result"
    }
   ],
   "source": [
    "# (2)两个index，一维\n",
    "row_ind = [0, 3, 4, 0]     # 如果索引index是两个一维array，则他们的元素分别作为dim1和dim2的index\n",
    "col_ind = [0, 1, 2, 0]     # 提取出来的结果是一维array\n",
    "y = palette[row_ind, col_ind]\n",
    "y"
   ]
  },
  {
   "cell_type": "code",
   "execution_count": 31,
   "id": "347a390c-32c4-44ad-a9f3-8140dae5414d",
   "metadata": {
    "ExecuteTime": {
     "end_time": "2024-07-22T07:48:06.199563Z",
     "start_time": "2024-07-22T07:48:06.195892Z"
    }
   },
   "outputs": [
    {
     "data": {
      "text/plain": [
       "array([[[  0,   0,   0],\n",
       "        [  0,   0, 252],\n",
       "        [251, 205, 225],\n",
       "        [  0,   0,   0]],\n",
       "\n",
       "       [[  0,   0,   0],\n",
       "        [254,   0,   0],\n",
       "        [  0, 253,   0],\n",
       "        [  0,   0,   0]]])"
      ]
     },
     "execution_count": 31,
     "metadata": {},
     "output_type": "execute_result"
    }
   ],
   "source": [
    "ind_2D = [row_ind, col_ind] # 如果把他们合并成一个list，就会和index是单一array一样，提取原始array的dim1\n",
    "palette[ind_2D]"
   ]
  },
  {
   "cell_type": "code",
   "execution_count": 32,
   "id": "ac7c18f3-fed5-4be6-8cbc-e102c7868734",
   "metadata": {
    "ExecuteTime": {
     "end_time": "2024-07-22T07:48:06.204250Z",
     "start_time": "2024-07-22T07:48:06.200999Z"
    }
   },
   "outputs": [
    {
     "name": "stdout",
     "output_type": "stream",
     "text": [
      "([0, 3, 4, 0], [0, 1, 2, 0])\n",
      "[  0   0 225   0]\n"
     ]
    }
   ],
   "source": [
    "ind_2D_tuple = (row_ind, col_ind) # 但如果把他们合并成一个tuple, 此时和两个index效果一致\n",
    "print(ind_2D_tuple)\n",
    "print(palette[ind_2D_tuple])"
   ]
  },
  {
   "cell_type": "code",
   "execution_count": 33,
   "id": "f3a3a028-f99c-4b5e-859b-590489af21d3",
   "metadata": {
    "ExecuteTime": {
     "end_time": "2024-07-22T07:48:06.210577Z",
     "start_time": "2024-07-22T07:48:06.205930Z"
    }
   },
   "outputs": [
    {
     "data": {
      "text/plain": [
       "(array([[0],\n",
       "        [1],\n",
       "        [2]]),\n",
       " array([[2, 1, 0]]))"
      ]
     },
     "execution_count": 33,
     "metadata": {},
     "output_type": "execute_result"
    }
   ],
   "source": [
    "# (3)两个index，二维\n",
    "row_ind = np.array([0, 1, 2])\n",
    "col_ind = np.array([2, 1, 0])\n",
    "row_ind_2D = row_ind[:,np.newaxis] # 相当于row_ind.reshape(3, 1)\n",
    "col_ind_2D = col_ind[np.newaxis, :] # 相当于col_ind.reshape(1, 3)\n",
    "row_ind_2D, col_ind_2D"
   ]
  },
  {
   "cell_type": "code",
   "execution_count": 34,
   "id": "d39f5f3f-35b6-4298-812d-38c44ee977a3",
   "metadata": {
    "ExecuteTime": {
     "end_time": "2024-07-22T07:48:06.215812Z",
     "start_time": "2024-07-22T07:48:06.212041Z"
    }
   },
   "outputs": [
    {
     "data": {
      "text/plain": [
       "array([[  0,   0,   0],\n",
       "       [  0,   0, 254],\n",
       "       [  0, 253,   0]])"
      ]
     },
     "execution_count": 34,
     "metadata": {},
     "output_type": "execute_result"
    }
   ],
   "source": [
    "# 如果两个index分别是多维矩阵，当他们形状不同时，用broadcast规则将他们扩展成相同的形状\n",
    "# 扩展完后，提取原array元素的方式与index形状相同时一致，见下例\n",
    "palette[row_ind_2D, col_ind_2D] "
   ]
  },
  {
   "cell_type": "code",
   "execution_count": 35,
   "id": "0eeae036-d4c5-4256-a149-b372e7a41b72",
   "metadata": {
    "ExecuteTime": {
     "end_time": "2024-07-22T07:48:06.221685Z",
     "start_time": "2024-07-22T07:48:06.217349Z"
    }
   },
   "outputs": [
    {
     "data": {
      "text/plain": [
       "(array([[0, 0, 0],\n",
       "        [1, 1, 1],\n",
       "        [2, 2, 2]]),\n",
       " array([[2, 1, 0],\n",
       "        [2, 1, 0],\n",
       "        [2, 1, 0]]))"
      ]
     },
     "execution_count": 35,
     "metadata": {},
     "output_type": "execute_result"
    }
   ],
   "source": [
    "# 如果两个index分别是多维矩阵，如果他们shape相同，那么他们最后两个维度分别是row和col的index\n",
    "row = row_ind_2D[:, (0,0,0)]    \n",
    "col = col_ind_2D[[0, 0, 0], :]  \n",
    "row, col"
   ]
  },
  {
   "cell_type": "code",
   "execution_count": 36,
   "id": "3a01cf4a-65ad-4861-8d83-f98aa7936f0f",
   "metadata": {
    "ExecuteTime": {
     "end_time": "2024-07-22T07:48:06.226945Z",
     "start_time": "2024-07-22T07:48:06.223206Z"
    }
   },
   "outputs": [
    {
     "data": {
      "text/plain": [
       "array([[  0,   0,   0],\n",
       "       [  0,   0, 254],\n",
       "       [  0, 253,   0]])"
      ]
     },
     "execution_count": 36,
     "metadata": {},
     "output_type": "execute_result"
    }
   ],
   "source": [
    "palette[row, col] "
   ]
  },
  {
   "cell_type": "code",
   "execution_count": 37,
   "id": "a5e42bda-b47f-4e66-9342-b5f88b4d2c75",
   "metadata": {
    "ExecuteTime": {
     "end_time": "2024-07-22T07:48:06.233077Z",
     "start_time": "2024-07-22T07:48:06.228524Z"
    }
   },
   "outputs": [
    {
     "data": {
      "text/plain": [
       "(array([12, 14, 16, 18, 20]),\n",
       " array([[0.        , 0.70807342, 0.82682181, 0.01991486],\n",
       "        [0.57275002, 0.91953576, 0.07807302, 0.43163139],\n",
       "        [0.97882974, 0.16984165, 0.29595897, 0.99998041],\n",
       "        [0.2879105 , 0.17654034, 0.98130293, 0.42287428],\n",
       "        [0.08288832, 0.92428514, 0.56398184, 0.02246318]]))"
      ]
     },
     "execution_count": 37,
     "metadata": {},
     "output_type": "execute_result"
    }
   ],
   "source": [
    "# 例5：配合argmax得到的特征mask提取元素\n",
    "time = np.arange(5)*2 + 12# 从12点到20点举行了5场比赛\n",
    "data = np.sin(np.arange(20)).reshape(5, 4)**2  # 5个时点上4个人的成绩\n",
    "time, data"
   ]
  },
  {
   "cell_type": "code",
   "execution_count": 38,
   "id": "3fd1578e-5437-4d5d-a26a-636f1c2826d6",
   "metadata": {
    "ExecuteTime": {
     "end_time": "2024-07-22T07:48:06.238336Z",
     "start_time": "2024-07-22T07:48:06.234532Z"
    }
   },
   "outputs": [
    {
     "data": {
      "text/plain": [
       "array([2, 4, 3, 2])"
      ]
     },
     "execution_count": 38,
     "metadata": {},
     "output_type": "execute_result"
    }
   ],
   "source": [
    "ind = data.argmax(axis=0) # 每个人最好的成绩发生在第几场\n",
    "ind"
   ]
  },
  {
   "cell_type": "code",
   "execution_count": 39,
   "id": "2a9796ba-f98c-4104-8cc1-7ad46dec6f5f",
   "metadata": {
    "ExecuteTime": {
     "end_time": "2024-07-22T07:48:06.243347Z",
     "start_time": "2024-07-22T07:48:06.239838Z"
    }
   },
   "outputs": [
    {
     "data": {
      "text/plain": [
       "array([16, 20, 18, 16])"
      ]
     },
     "execution_count": 39,
     "metadata": {},
     "output_type": "execute_result"
    }
   ],
   "source": [
    "best_time = time[ind]    # 查出这些场次对应的具体时间\n",
    "best_time"
   ]
  },
  {
   "cell_type": "markdown",
   "id": "9c217a4b-df66-4394-befd-26d667c59999",
   "metadata": {},
   "source": [
    "### 第4类操作：切片 slicing\n",
    "1. 每个维度都用一组start:stop:step, 各个维度之间用','隔开，反向时step取负数\n",
    "2. slice是引用而非复制，改变slice中的value会同时改变原array中对应位置的值。\n",
    "3. 如果slice得到结果之后原array不需要使用，最好用copy()。这样可以释放原array占用的空间"
   ]
  },
  {
   "cell_type": "code",
   "execution_count": 40,
   "id": "ff2779b7-ba81-4f70-b932-a797db930e47",
   "metadata": {
    "ExecuteTime": {
     "end_time": "2024-07-22T07:48:06.365529Z",
     "start_time": "2024-07-22T07:48:06.244879Z"
    }
   },
   "outputs": [],
   "source": [
    "a = np.arange(int(1e8))\n",
    "b = a[:100].copy()\n",
    "del a  # the memory of ``a`` can be released."
   ]
  }
 ],
 "metadata": {
  "kernelspec": {
   "display_name": "cs224nhw",
   "language": "python",
   "name": "cs224nhw"
  },
  "language_info": {
   "codemirror_mode": {
    "name": "ipython",
    "version": 3
   },
   "file_extension": ".py",
   "mimetype": "text/x-python",
   "name": "python",
   "nbconvert_exporter": "python",
   "pygments_lexer": "ipython3",
   "version": "3.10.13"
  }
 },
 "nbformat": 4,
 "nbformat_minor": 5
}
