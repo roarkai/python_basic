{
 "cells": [
  {
   "cell_type": "code",
   "execution_count": 1,
   "id": "5c0155ec-05ed-4da6-9e47-dc5a42e2ef50",
   "metadata": {
    "ExecuteTime": {
     "end_time": "2024-07-22T01:16:44.374925Z",
     "start_time": "2024-07-22T01:16:43.970502Z"
    }
   },
   "outputs": [],
   "source": [
    "import numpy as np\n",
    "import matplotlib.pyplot as plt\n",
    "import sys"
   ]
  },
  {
   "cell_type": "markdown",
   "id": "1a2b50a8-d389-4090-bf23-1f1e6e2fadc1",
   "metadata": {},
   "source": [
    "## I. numpy array的六类基本操作"
   ]
  },
  {
   "cell_type": "markdown",
   "id": "70e2dc9e-7155-4dc3-bf50-b825c9065914",
   "metadata": {
    "jp-MarkdownHeadingCollapsed": true
   },
   "source": [
    "### 第1类操作：创建\n",
    "1. 有3种常用的创建方式：\\\n",
    "   (1) 直接用sequence \\\n",
    "   (2) 指定shape和初始值 \\\n",
    "   (3) 用arange或者linspace设置起始值和分割数量\n",
    "2. 创建时可以直接指定数据类型 \\\n",
    "   <font color=orange>如果不指定，整数默认是int64，浮点数默认是float64</font>"
   ]
  },
  {
   "cell_type": "markdown",
   "id": "5a49b1fb-1e59-4755-a43e-8f4c5e324703",
   "metadata": {
    "jp-MarkdownHeadingCollapsed": true
   },
   "source": [
    "#### 创建例子\n",
    "1. 直接用sequence创建\n",
    " - <font color=orange>array transforms sequences of sequences into two-dimensional arrays, sequences of sequences of sequences into three-dimensional arrays, and so on.</font>"
   ]
  },
  {
   "cell_type": "code",
   "execution_count": 2,
   "id": "78124707-3696-41ae-b728-006c0b997060",
   "metadata": {
    "ExecuteTime": {
     "end_time": "2024-07-22T01:16:44.379596Z",
     "start_time": "2024-07-22T01:16:44.376786Z"
    }
   },
   "outputs": [],
   "source": [
    "a = np.array([1, 2, 3, 4])\n",
    "# a = np.array(1, 2, 3, 4)    # WRONG 要用sequence"
   ]
  },
  {
   "cell_type": "code",
   "execution_count": 3,
   "id": "50bad883-6609-40ed-8fd8-3a1af35d37ca",
   "metadata": {
    "ExecuteTime": {
     "end_time": "2024-07-22T01:16:44.386747Z",
     "start_time": "2024-07-22T01:16:44.380890Z"
    }
   },
   "outputs": [
    {
     "data": {
      "text/plain": [
       "array([[1.5, 2. , 3. ],\n",
       "       [4. , 5. , 6. ]])"
      ]
     },
     "execution_count": 3,
     "metadata": {},
     "output_type": "execute_result"
    }
   ],
   "source": [
    "b = np.array([(1.5, 2, 3), (4, 5, 6)])\n",
    "b"
   ]
  },
  {
   "cell_type": "code",
   "execution_count": 4,
   "id": "9c6c047f-ca20-4dfe-bb6b-3bf87f0cf30c",
   "metadata": {
    "ExecuteTime": {
     "end_time": "2024-07-22T01:16:44.392562Z",
     "start_time": "2024-07-22T01:16:44.388656Z"
    }
   },
   "outputs": [
    {
     "data": {
      "text/plain": [
       "(dtype('float32'), dtype('float64'), dtype('int64'))"
      ]
     },
     "execution_count": 4,
     "metadata": {},
     "output_type": "execute_result"
    }
   ],
   "source": [
    "c = np.array([[1, 2], [3, 4]], dtype=np.float32)\n",
    "c.dtype, b.dtype, a.dtype"
   ]
  },
  {
   "cell_type": "markdown",
   "id": "c0b59e92-0bbd-4ddf-a072-777f9859ea99",
   "metadata": {},
   "source": [
    "2. 指定shape来初始化矩阵 \\\n",
    "   (1) np.zeros, np.ones, np.empty \\\n",
    "   (2) np.zeros_like, np.ones_like, np.empty_like \\\n",
    "   (3) 默认数据类型是float64，可以直接指定类型"
   ]
  },
  {
   "cell_type": "code",
   "execution_count": 5,
   "id": "021e109b-34e4-4d1d-b0f0-a660c900ed53",
   "metadata": {
    "ExecuteTime": {
     "end_time": "2024-07-22T01:16:44.397793Z",
     "start_time": "2024-07-22T01:16:44.393731Z"
    }
   },
   "outputs": [
    {
     "data": {
      "text/plain": [
       "(array([[0, 0, 0],\n",
       "        [0, 0, 0]], dtype=int16),\n",
       " array([[1.5, 2. , 3. ],\n",
       "        [4. , 5. , 6. ]]))"
      ]
     },
     "execution_count": 5,
     "metadata": {},
     "output_type": "execute_result"
    }
   ],
   "source": [
    "x, y = np.zeros((2, 3), dtype=np.int16), np.empty((2, 3))\n",
    "x, y"
   ]
  },
  {
   "cell_type": "code",
   "execution_count": 6,
   "id": "cedff1ce-0a75-46fd-9c3b-dc6993a48266",
   "metadata": {
    "ExecuteTime": {
     "end_time": "2024-07-22T01:16:44.402333Z",
     "start_time": "2024-07-22T01:16:44.398888Z"
    }
   },
   "outputs": [
    {
     "data": {
      "text/plain": [
       "array([[1, 1, 1],\n",
       "       [1, 1, 1]], dtype=int16)"
      ]
     },
     "execution_count": 6,
     "metadata": {},
     "output_type": "execute_result"
    }
   ],
   "source": [
    "z = np.ones_like(y, dtype=np.int16)\n",
    "z"
   ]
  },
  {
   "cell_type": "markdown",
   "id": "722bed5a-6911-46ef-8d8d-cbc574003880",
   "metadata": {},
   "source": [
    "3. 设置起始值和分割数量 \\\n",
    "   (1) arange(start, stop, step)，生成的数据范围是[start, stop) \\\n",
    "   (2) linspace(start, stop, number_of_point)，生成的数据范围是[start, stop]\n",
    "    - <font color=orange>arange能提前知道前后两个point之间的step size，不知道生成的point数量。linspace直接指定生成的point数量</font>"
   ]
  },
  {
   "cell_type": "code",
   "execution_count": 7,
   "id": "39d249df-9d6c-44ba-b48b-94ded7de1c46",
   "metadata": {
    "ExecuteTime": {
     "end_time": "2024-07-22T01:16:44.406980Z",
     "start_time": "2024-07-22T01:16:44.403704Z"
    }
   },
   "outputs": [
    {
     "data": {
      "text/plain": [
       "(array([ 0,  5, 10, 15]), array([20, 15, 10,  5]))"
      ]
     },
     "execution_count": 7,
     "metadata": {},
     "output_type": "execute_result"
    }
   ],
   "source": [
    "p, q = np.arange(0, 20, 5), np.arange(20, 0, -5) # reverse的时候，step size要设为负数\n",
    "p, q"
   ]
  },
  {
   "cell_type": "code",
   "execution_count": 8,
   "id": "17f84856-53ce-4077-b3b7-9e2bfb5eec98",
   "metadata": {
    "ExecuteTime": {
     "end_time": "2024-07-22T01:16:44.411838Z",
     "start_time": "2024-07-22T01:16:44.408168Z"
    }
   },
   "outputs": [
    {
     "data": {
      "text/plain": [
       "(array([0.  , 0.25, 0.5 , 0.75, 1.  , 1.25, 1.5 , 1.75, 2.  ]),\n",
       " array([0.    , 0.2856, 0.5713, 0.857 , 1.143 , 1.429 , 1.714 , 2.    ],\n",
       "       dtype=float16))"
      ]
     },
     "execution_count": 8,
     "metadata": {},
     "output_type": "execute_result"
    }
   ],
   "source": [
    "s, t = np.linspace(0, 2, 9), np.linspace(0, 2, 8, dtype=np.float16)\n",
    "s, t"
   ]
  },
  {
   "cell_type": "code",
   "execution_count": 9,
   "id": "1e6443ac-a566-407d-ac93-4fc4e02ac0d3",
   "metadata": {
    "ExecuteTime": {
     "end_time": "2024-07-22T01:16:44.415393Z",
     "start_time": "2024-07-22T01:16:44.412989Z"
    }
   },
   "outputs": [],
   "source": [
    "# linspace常用于函数自变量取值范围分割\n",
    "x = np.linspace(0, 2*np.pi, 100)\n",
    "f = np.sin(s)"
   ]
  },
  {
   "cell_type": "markdown",
   "id": "8caf7892-3363-40a2-914d-d365cc22e068",
   "metadata": {},
   "source": [
    "4. 打印numpy array"
   ]
  },
  {
   "cell_type": "code",
   "execution_count": 10,
   "id": "55b1c2fa-bbce-43e2-a06e-6cd91b37a37c",
   "metadata": {
    "ExecuteTime": {
     "end_time": "2024-07-22T01:16:44.421607Z",
     "start_time": "2024-07-22T01:16:44.418021Z"
    }
   },
   "outputs": [
    {
     "name": "stdout",
     "output_type": "stream",
     "text": [
      "[[ 0  1  2  3  4]\n",
      " [ 5  6  7  8  9]\n",
      " [10 11 12 13 14]\n",
      " [15 16 17 18 19]\n",
      " [20 21 22 23 24]\n",
      " [25 26 27 28 29]\n",
      " [30 31 32 33 34]\n",
      " [35 36 37 38 39]\n",
      " [40 41 42 43 44]\n",
      " [45 46 47 48 49]]\n"
     ]
    }
   ],
   "source": [
    "# 当array太大的时候，默认的print会省略一部分内容。如果想打印全部，可以用np.set_printoptions()\n",
    "np.set_printoptions(threshold=sys.maxsize)\n",
    "print(np.arange(50).reshape(10, 5))"
   ]
  },
  {
   "cell_type": "code",
   "execution_count": 11,
   "id": "ca3e27ae-1610-4a7e-9180-c43add96f6a8",
   "metadata": {
    "ExecuteTime": {
     "end_time": "2024-07-22T01:16:44.425808Z",
     "start_time": "2024-07-22T01:16:44.422781Z"
    }
   },
   "outputs": [
    {
     "name": "stdout",
     "output_type": "stream",
     "text": [
      "[[ 0  1  2  3  4]\n",
      " [ 5  6  7  8  9]\n",
      " [10 11 12 13 14]\n",
      " ...\n",
      " [35 36 37 38 39]\n",
      " [40 41 42 43 44]\n",
      " [45 46 47 48 49]]\n"
     ]
    }
   ],
   "source": [
    "# 通常还是设置为只打印部分\n",
    "np.set_printoptions(threshold=10)\n",
    "print(np.arange(50).reshape(10, 5))"
   ]
  },
  {
   "cell_type": "markdown",
   "id": "e66835ef-53dd-4995-80e1-ef08785c718c",
   "metadata": {
    "jp-MarkdownHeadingCollapsed": true
   },
   "source": [
    "### 第2类操作：属性\n",
    "1. 属性不是函数，是实例的变量\n",
    "2. 主要的属性有：\\\n",
    "   (1) A.ndim，A.dtype，A.shape \\\n",
    "   (2) A.size是number of elements, A.itemsize是byte size of one elements \\\n",
    "   (3) A.data是数据存储地址"
   ]
  },
  {
   "cell_type": "code",
   "execution_count": 12,
   "id": "b3bb6095-2b69-41bd-b36a-31c2366cb480",
   "metadata": {
    "ExecuteTime": {
     "end_time": "2024-07-22T01:16:44.430125Z",
     "start_time": "2024-07-22T01:16:44.427063Z"
    }
   },
   "outputs": [
    {
     "name": "stdout",
     "output_type": "stream",
     "text": [
      "2 (2, 3) 6\n",
      "float64 8\n",
      "<memory at 0x770cf1ce3370>\n"
     ]
    }
   ],
   "source": [
    "a = np.array([[1., 0., 0.],[0., 1., 2.]])\n",
    "print(a.ndim, a.shape, a.size)\n",
    "print(a.dtype, a.itemsize)\n",
    "print(a.data)"
   ]
  },
  {
   "cell_type": "markdown",
   "id": "3b6222e1-ccd9-4cdd-a27e-bddb2093ff69",
   "metadata": {},
   "source": [
    "### 第3类操作：索引 indexing"
   ]
  },
  {
   "cell_type": "markdown",
   "id": "ae445d64",
   "metadata": {},
   "source": [
    "#### 普通索引\n",
    "1. 每个dim一个index，反向索引时index用负数\n",
    "2. 多维索引用‘,‘隔开\n",
    "3. ‘...’用于表示缺省值是连续多个冒号':'，x[1, 2, ...] 相当于x[1, 2, :, :, :],x[4, ..., 5, :] 相当于x[4, :, :, 5, :]\n",
    "4. 直接用index取单个元素，提出来的是该元素本身的数据类型；如果用start:stop:step，即使实际上提取的也是一个元素，但是得到的是array"
   ]
  },
  {
   "cell_type": "code",
   "execution_count": 137,
   "id": "a75f61bc-76e2-44b5-bf2f-8ed919213c32",
   "metadata": {
    "ExecuteTime": {
     "end_time": "2024-07-22T01:16:44.434571Z",
     "start_time": "2024-07-22T01:16:44.431714Z"
    }
   },
   "outputs": [
    {
     "data": {
      "text/plain": [
       "array([  0,   1,   8,  27,  64, 125, 216, 343, 512, 729])"
      ]
     },
     "execution_count": 137,
     "metadata": {},
     "output_type": "execute_result"
    }
   ],
   "source": [
    "a = np.arange(10)**3\n",
    "a"
   ]
  },
  {
   "cell_type": "code",
   "execution_count": 138,
   "id": "1bd4bd9f-286e-4936-86db-855632d87c44",
   "metadata": {
    "ExecuteTime": {
     "end_time": "2024-07-22T01:16:44.438928Z",
     "start_time": "2024-07-22T01:16:44.435710Z"
    }
   },
   "outputs": [
    {
     "data": {
      "text/plain": [
       "array([1000,    1, 1000,   27, 1000,  125,  216,  343,  512,  729])"
      ]
     },
     "execution_count": 138,
     "metadata": {},
     "output_type": "execute_result"
    }
   ],
   "source": [
    "a[:6:2] = 1000\n",
    "a"
   ]
  },
  {
   "cell_type": "code",
   "execution_count": 143,
   "id": "75c9169a-0c07-4347-8e08-3e2b9e4e579e",
   "metadata": {},
   "outputs": [
    {
     "data": {
      "text/plain": [
       "(216, array([216]))"
      ]
     },
     "execution_count": 143,
     "metadata": {},
     "output_type": "execute_result"
    }
   ],
   "source": [
    "a[6], a[6:7] # 注意这种结果差异"
   ]
  },
  {
   "cell_type": "code",
   "execution_count": 15,
   "id": "8f29b671-def2-4a71-9e4b-d0c727a85471",
   "metadata": {
    "ExecuteTime": {
     "end_time": "2024-07-22T01:16:44.443282Z",
     "start_time": "2024-07-22T01:16:44.440106Z"
    }
   },
   "outputs": [
    {
     "data": {
      "text/plain": [
       "array([ 729,  512,  343,  216,  125, 1000,   27, 1000,    1, 1000])"
      ]
     },
     "execution_count": 15,
     "metadata": {},
     "output_type": "execute_result"
    }
   ],
   "source": [
    "a[::-1]  # reversed a"
   ]
  },
  {
   "cell_type": "code",
   "execution_count": 16,
   "id": "50458307-ceab-46c1-88b9-ea475561c4ad",
   "metadata": {
    "ExecuteTime": {
     "end_time": "2024-07-22T01:16:44.446681Z",
     "start_time": "2024-07-22T01:16:44.444311Z"
    }
   },
   "outputs": [],
   "source": [
    "b = np.array([[ 0,  1,  2,  3],\n",
    "       [10, 11, 12, 13],\n",
    "       [20, 21, 22, 23],\n",
    "       [30, 31, 32, 33],\n",
    "       [40, 41, 42, 43]])"
   ]
  },
  {
   "cell_type": "code",
   "execution_count": 17,
   "id": "1df672fe-cbbf-4c09-b3f1-200a0c98f6fd",
   "metadata": {
    "ExecuteTime": {
     "end_time": "2024-07-22T01:16:44.451606Z",
     "start_time": "2024-07-22T01:16:44.448304Z"
    }
   },
   "outputs": [
    {
     "data": {
      "text/plain": [
       "(23, array([ 1, 11, 21, 31, 41]))"
      ]
     },
     "execution_count": 17,
     "metadata": {},
     "output_type": "execute_result"
    }
   ],
   "source": [
    "b[2, 3], b[:5, 1]"
   ]
  },
  {
   "cell_type": "code",
   "execution_count": 18,
   "id": "28b27c94-95d5-47e9-b37a-802d3fe8c1bb",
   "metadata": {
    "ExecuteTime": {
     "end_time": "2024-07-22T01:16:44.455974Z",
     "start_time": "2024-07-22T01:16:44.452967Z"
    }
   },
   "outputs": [
    {
     "data": {
      "text/plain": [
       "array([40, 41, 42, 43])"
      ]
     },
     "execution_count": 18,
     "metadata": {},
     "output_type": "execute_result"
    }
   ],
   "source": [
    "b[-1]   # the last row，相当于b[-1, :]"
   ]
  },
  {
   "cell_type": "code",
   "execution_count": 135,
   "id": "eda9caf4-0cab-4b39-ade7-b8d052e09943",
   "metadata": {
    "ExecuteTime": {
     "end_time": "2024-07-22T01:16:44.460205Z",
     "start_time": "2024-07-22T01:16:44.457357Z"
    }
   },
   "outputs": [
    {
     "data": {
      "text/plain": [
       "(2, 2, 3)"
      ]
     },
     "execution_count": 135,
     "metadata": {},
     "output_type": "execute_result"
    }
   ],
   "source": [
    "c = np.array([[[  0,  1,  2], \n",
    "               [ 10, 12, 13]],\n",
    "              [[100, 101, 102],\n",
    "               [110, 112, 113]]])\n",
    "c.shape"
   ]
  },
  {
   "cell_type": "code",
   "execution_count": 20,
   "id": "def314e0-3b05-4b10-abe2-f35551e97b7a",
   "metadata": {
    "ExecuteTime": {
     "end_time": "2024-07-22T01:16:44.465542Z",
     "start_time": "2024-07-22T01:16:44.462140Z"
    }
   },
   "outputs": [
    {
     "data": {
      "text/plain": [
       "array([[100, 101, 102],\n",
       "       [110, 112, 113]])"
      ]
     },
     "execution_count": 20,
     "metadata": {},
     "output_type": "execute_result"
    }
   ],
   "source": [
    "c[1, ...]  # same as c[1, :, :] or c[1]"
   ]
  },
  {
   "cell_type": "code",
   "execution_count": 21,
   "id": "4cd04783-f92e-49c2-b1bd-6b4845246bac",
   "metadata": {
    "ExecuteTime": {
     "end_time": "2024-07-22T01:16:44.470419Z",
     "start_time": "2024-07-22T01:16:44.466994Z"
    }
   },
   "outputs": [
    {
     "data": {
      "text/plain": [
       "array([[  2,  13],\n",
       "       [102, 113]])"
      ]
     },
     "execution_count": 21,
     "metadata": {},
     "output_type": "execute_result"
    }
   ],
   "source": [
    "c[..., 2]  # same as c[:, :, 2]"
   ]
  },
  {
   "cell_type": "markdown",
   "id": "e8de858a-aaa6-4101-b98b-5fc0d2f5878c",
   "metadata": {},
   "source": [
    "#### fancy indexing\n",
    "1. 用arrays of indices来做indexing\n",
    " - 如果index是array，即使它有多维，也被视为单一index，每个元素都检索原始array的dim1\n",
    " - 如果index是两个独立的index，那么分别作为row和col的index，此时两个index的shape要相同，如果不同，必须符合broadcast规则。他们的元素pair提取原始array对应$(row_i, col_i)$位置的元素\n",
    "2. 常见用途\n",
    " - 用indexing来改变特定维度的排序\n",
    " - 用mask=argmax, argmin等方式定位特征元素的位置，然后用index[mask]提取特征元素\n",
    " - 用boolean函数做mask，然后用index[mask]提取特征元素"
   ]
  },
  {
   "cell_type": "code",
   "execution_count": 179,
   "id": "86d6e497-fa36-45d7-93fc-731c80133176",
   "metadata": {
    "ExecuteTime": {
     "end_time": "2024-07-22T01:18:34.665772Z",
     "start_time": "2024-07-22T01:18:34.658270Z"
    }
   },
   "outputs": [
    {
     "data": {
      "text/plain": [
       "array([ 2,  2,  6, 16, 10])"
      ]
     },
     "execution_count": 179,
     "metadata": {},
     "output_type": "execute_result"
    }
   ],
   "source": [
    "# 例1：一维索引和一维原始array\n",
    "a1 = np.arange(12)*2\n",
    "ind = np.array([1, 1, 3, 8, 5]) \n",
    "a1[ind] "
   ]
  },
  {
   "cell_type": "code",
   "execution_count": 175,
   "id": "28abd122-0541-47ea-94e0-1605744682a2",
   "metadata": {},
   "outputs": [
    {
     "data": {
      "text/plain": [
       "array([[0, 1, 2],\n",
       "       [3, 4, 5]])"
      ]
     },
     "execution_count": 175,
     "metadata": {},
     "output_type": "execute_result"
    }
   ],
   "source": [
    "# 例2：利用索引功能改变位置\n",
    "a = np.arange(6).reshape(2, 3)\n",
    "a"
   ]
  },
  {
   "cell_type": "code",
   "execution_count": 176,
   "id": "e3d29b6d-b0b8-4e54-a83f-ff6028ce669c",
   "metadata": {},
   "outputs": [
    {
     "data": {
      "text/plain": [
       "array([[3, 4, 5],\n",
       "       [0, 1, 2]])"
      ]
     },
     "execution_count": 176,
     "metadata": {},
     "output_type": "execute_result"
    }
   ],
   "source": [
    "ind_move_dim1 = [1, 0] # 改变第一个维度\n",
    "a[ind_move_dim1]"
   ]
  },
  {
   "cell_type": "code",
   "execution_count": 177,
   "id": "1a4430c5-708a-43b3-bc4c-894f722356e1",
   "metadata": {},
   "outputs": [
    {
     "data": {
      "text/plain": [
       "array([[2, 1, 0],\n",
       "       [5, 4, 3]])"
      ]
     },
     "execution_count": 177,
     "metadata": {},
     "output_type": "execute_result"
    }
   ],
   "source": [
    "a[:,[2, 1, 0]]       # 改变第二个维度"
   ]
  },
  {
   "cell_type": "code",
   "execution_count": 180,
   "id": "a66fe7db-b809-46f4-b5d8-b1f2d67e326c",
   "metadata": {
    "ExecuteTime": {
     "end_time": "2024-07-22T01:16:44.481167Z",
     "start_time": "2024-07-22T01:16:44.477484Z"
    }
   },
   "outputs": [
    {
     "data": {
      "text/plain": [
       "array([[ 6,  8],\n",
       "       [18, 14]])"
      ]
     },
     "execution_count": 180,
     "metadata": {},
     "output_type": "execute_result"
    }
   ],
   "source": [
    "# 例3：索引和mask配合\n",
    "mask = np.array([[3, 4], [9, 7]])\n",
    "a1[mask]"
   ]
  },
  {
   "cell_type": "code",
   "execution_count": 155,
   "id": "47e67c60-df91-40a0-a09b-412731811728",
   "metadata": {
    "ExecuteTime": {
     "end_time": "2024-07-22T01:19:01.961249Z",
     "start_time": "2024-07-22T01:19:01.952401Z"
    }
   },
   "outputs": [
    {
     "data": {
      "text/plain": [
       "(5, 3)"
      ]
     },
     "execution_count": 155,
     "metadata": {},
     "output_type": "execute_result"
    }
   ],
   "source": [
    "# 例4：不同形态索引的index效果不同\n",
    "palette = np.array([[0, 0, 0],    \n",
    "                    [254, 0, 0],  \n",
    "                    [0, 253, 0],  \n",
    "                    [0, 0, 252],  \n",
    "                    [251, 205, 225]])\n",
    "palette.shape"
   ]
  },
  {
   "cell_type": "code",
   "execution_count": 156,
   "id": "17895ff0-9e6d-4f46-96bb-983e7823482c",
   "metadata": {
    "ExecuteTime": {
     "end_time": "2024-07-22T01:17:34.225808Z",
     "start_time": "2024-07-22T01:17:34.219123Z"
    }
   },
   "outputs": [
    {
     "data": {
      "text/plain": [
       "(array([[[  0,   0,   0],\n",
       "         [254,   0,   0],\n",
       "         [  0, 253,   0],\n",
       "         [  0,   0,   0]],\n",
       " \n",
       "        [[  0,   0,   0],\n",
       "         [  0,   0, 252],\n",
       "         [251, 205, 225],\n",
       "         [  0,   0,   0]]]),\n",
       " (2, 4),\n",
       " (2, 4, 3))"
      ]
     },
     "execution_count": 156,
     "metadata": {},
     "output_type": "execute_result"
    }
   ],
   "source": [
    "# (1)单一index\n",
    "# 如果一个index是array，即使它有多维，也被视为单一index，每个元素都检索原始array的dim1\n",
    "ind = np.array([[0, 1, 2, 0],   # 如果索引是单个array，则索引中每个元素对应提取原始array的第一个dim\n",
    "                  [0, 3, 4, 0]])\n",
    "x = palette[ind]\n",
    "x, ind.shape, x.shape"
   ]
  },
  {
   "cell_type": "code",
   "execution_count": 182,
   "id": "5a048d41-c47a-4171-ba35-8acca9e8e8f1",
   "metadata": {},
   "outputs": [
    {
     "data": {
      "text/plain": [
       "array([  0,   0, 225,   0])"
      ]
     },
     "execution_count": 182,
     "metadata": {},
     "output_type": "execute_result"
    }
   ],
   "source": [
    "# (2)两个index，一维\n",
    "row_ind = [0, 3, 4, 0]     # 如果索引index是两个一维array，则他们的元素分别作为dim1和dim2的index\n",
    "col_ind = [0, 1, 2, 0]     # 提取出来的结果是一维array\n",
    "y = palette[row_ind, col_ind]\n",
    "y"
   ]
  },
  {
   "cell_type": "code",
   "execution_count": 191,
   "id": "347a390c-32c4-44ad-a9f3-8140dae5414d",
   "metadata": {},
   "outputs": [
    {
     "data": {
      "text/plain": [
       "array([[[  0,   0,   0],\n",
       "        [  0,   0, 252],\n",
       "        [251, 205, 225],\n",
       "        [  0,   0,   0]],\n",
       "\n",
       "       [[  0,   0,   0],\n",
       "        [254,   0,   0],\n",
       "        [  0, 253,   0],\n",
       "        [  0,   0,   0]]])"
      ]
     },
     "execution_count": 191,
     "metadata": {},
     "output_type": "execute_result"
    }
   ],
   "source": [
    "ind_2D = [row_ind, col_ind] # 如果把他们合并成一个list，就会和index是单一array一样，提取原始array的dim1\n",
    "palette[ind_2D]"
   ]
  },
  {
   "cell_type": "code",
   "execution_count": 192,
   "id": "ac7c18f3-fed5-4be6-8cbc-e102c7868734",
   "metadata": {},
   "outputs": [
    {
     "name": "stdout",
     "output_type": "stream",
     "text": [
      "([0, 3, 4, 0], [0, 1, 2, 0])\n",
      "[  0   0 225   0]\n"
     ]
    }
   ],
   "source": [
    "ind_2D_tuple = (row_ind, col_ind) # 但如果把他们合并成一个tuple, 此时和两个index效果一致\n",
    "print(ind_2D_tuple)\n",
    "print(palette[ind_2D_tuple])"
   ]
  },
  {
   "cell_type": "code",
   "execution_count": 149,
   "id": "f3a3a028-f99c-4b5e-859b-590489af21d3",
   "metadata": {},
   "outputs": [
    {
     "data": {
      "text/plain": [
       "(array([[0],\n",
       "        [1],\n",
       "        [2]]),\n",
       " array([[2, 1, 0]]))"
      ]
     },
     "execution_count": 149,
     "metadata": {},
     "output_type": "execute_result"
    }
   ],
   "source": [
    "# (3)两个index，二维\n",
    "row_ind = np.array([0, 1, 2])\n",
    "col_ind = np.array([2, 1, 0])\n",
    "row_ind_2D = row_ind[:,np.newaxis] # 相当于row_ind.reshape(3, 1)\n",
    "col_ind_2D = col_ind[np.newaxis, :] # 相当于col_ind.reshape(1, 3)\n",
    "row_ind_2D, col_ind_2D"
   ]
  },
  {
   "cell_type": "code",
   "execution_count": 189,
   "id": "d39f5f3f-35b6-4298-812d-38c44ee977a3",
   "metadata": {},
   "outputs": [
    {
     "data": {
      "text/plain": [
       "array([[  0,   0,   0],\n",
       "       [  0,   0, 254],\n",
       "       [  0, 253,   0]])"
      ]
     },
     "execution_count": 189,
     "metadata": {},
     "output_type": "execute_result"
    }
   ],
   "source": [
    "# 如果两个index分别是多维矩阵，当他们形状不同时，用broadcast规则将他们扩展成相同的形状\n",
    "# 扩展完后，提取原array元素的方式与index形状相同时一致，见下例\n",
    "palette[row_ind_2D, col_ind_2D] "
   ]
  },
  {
   "cell_type": "code",
   "execution_count": 153,
   "id": "0eeae036-d4c5-4256-a149-b372e7a41b72",
   "metadata": {},
   "outputs": [
    {
     "data": {
      "text/plain": [
       "(array([[0, 0, 0],\n",
       "        [1, 1, 1],\n",
       "        [2, 2, 2]]),\n",
       " array([[2, 1, 0],\n",
       "        [2, 1, 0],\n",
       "        [2, 1, 0]]))"
      ]
     },
     "execution_count": 153,
     "metadata": {},
     "output_type": "execute_result"
    }
   ],
   "source": [
    "# 如果两个index分别是多维矩阵，如果他们shape相同，那么他们最后两个维度分别是row和col的index\n",
    "row = row_ind_2D[:, (0,0,0)]    \n",
    "col = col_ind_2D[[0, 0, 0], :]  \n",
    "row, col"
   ]
  },
  {
   "cell_type": "code",
   "execution_count": 116,
   "id": "3a01cf4a-65ad-4861-8d83-f98aa7936f0f",
   "metadata": {},
   "outputs": [
    {
     "data": {
      "text/plain": [
       "array([[  0,   0,   0],\n",
       "       [  0,   0, 254],\n",
       "       [  0, 253,   0]])"
      ]
     },
     "execution_count": 116,
     "metadata": {},
     "output_type": "execute_result"
    }
   ],
   "source": [
    "palette[row, col] "
   ]
  },
  {
   "cell_type": "code",
   "execution_count": 199,
   "id": "a5e42bda-b47f-4e66-9342-b5f88b4d2c75",
   "metadata": {},
   "outputs": [
    {
     "data": {
      "text/plain": [
       "(array([12, 14, 16, 18, 20]),\n",
       " array([[0.        , 0.70807342, 0.82682181, 0.01991486],\n",
       "        [0.57275002, 0.91953576, 0.07807302, 0.43163139],\n",
       "        [0.97882974, 0.16984165, 0.29595897, 0.99998041],\n",
       "        [0.2879105 , 0.17654034, 0.98130293, 0.42287428],\n",
       "        [0.08288832, 0.92428514, 0.56398184, 0.02246318]]))"
      ]
     },
     "execution_count": 199,
     "metadata": {},
     "output_type": "execute_result"
    }
   ],
   "source": [
    "# 例5：配合argmax得到的特征mask提取元素\n",
    "time = np.arange(5)*2 + 12# 从12点到20点举行了5场比赛\n",
    "data = np.sin(np.arange(20)).reshape(5, 4)**2  # 5个时点上4个人的成绩\n",
    "time, data"
   ]
  },
  {
   "cell_type": "code",
   "execution_count": 195,
   "id": "3fd1578e-5437-4d5d-a26a-636f1c2826d6",
   "metadata": {},
   "outputs": [
    {
     "data": {
      "text/plain": [
       "array([2, 4, 3, 2])"
      ]
     },
     "execution_count": 195,
     "metadata": {},
     "output_type": "execute_result"
    }
   ],
   "source": [
    "ind = data.argmax(axis=0) # 每个人最好的成绩发生在第几场\n",
    "ind"
   ]
  },
  {
   "cell_type": "code",
   "execution_count": 201,
   "id": "2a9796ba-f98c-4104-8cc1-7ad46dec6f5f",
   "metadata": {},
   "outputs": [
    {
     "data": {
      "text/plain": [
       "array([16, 20, 18, 16])"
      ]
     },
     "execution_count": 201,
     "metadata": {},
     "output_type": "execute_result"
    }
   ],
   "source": [
    "best_time = time[ind]    # 查出这些场次对应的具体时间\n",
    "best_time"
   ]
  },
  {
   "cell_type": "markdown",
   "id": "9c217a4b-df66-4394-befd-26d667c59999",
   "metadata": {},
   "source": [
    "### 第4类操作：切片 slicing\n",
    "1. 每个维度都用一组start:stop:step, 各个维度之间用','隔开，反向时step取负数\n",
    "2. slice是引用而非复制，改变slice中的value会同时改变原array中对应位置的值。\n",
    "3. 如果slice得到结果之后原array不需要使用，最好用copy()。这样可以释放原array占用的空间"
   ]
  },
  {
   "cell_type": "code",
   "execution_count": 27,
   "id": "ff2779b7-ba81-4f70-b932-a797db930e47",
   "metadata": {
    "ExecuteTime": {
     "end_time": "2024-07-22T01:16:44.614520Z",
     "start_time": "2024-07-22T01:16:44.492461Z"
    }
   },
   "outputs": [],
   "source": [
    "a = np.arange(int(1e8))\n",
    "b = a[:100].copy()\n",
    "del a  # the memory of ``a`` can be released."
   ]
  },
  {
   "cell_type": "markdown",
   "id": "4f0ce3c9-dc48-440f-b973-fcf537124855",
   "metadata": {},
   "source": [
    "### 第5类操作：变形 reshaping"
   ]
  },
  {
   "cell_type": "markdown",
   "id": "1f4a7c3a-0e67-4049-b553-aaff51f5da6b",
   "metadata": {},
   "source": [
    "1. 用A.reshape(dim1, dim2, ..., dimN)\n",
    "   - reshape前后的size要一样，二维条件下size = row * column\n",
    "   - reshape得到的新array是新建的array，原array形状不变\n",
    "   - 一维numpy array的shape是(n,)，在broadcast规则中，会被扩展为(1, n)。但它不同于二维shape取(1, n)的场景。"
   ]
  },
  {
   "cell_type": "code",
   "execution_count": 28,
   "id": "3e936cb4-38a1-4665-bd2d-351d51bd99d0",
   "metadata": {
    "ExecuteTime": {
     "end_time": "2024-07-22T01:16:44.619728Z",
     "start_time": "2024-07-22T01:16:44.615822Z"
    }
   },
   "outputs": [
    {
     "name": "stdout",
     "output_type": "stream",
     "text": [
      "[0 1 2 3 4 5] [[0 1 2 3 4 5]]\n",
      "(6,) (1, 6)\n"
     ]
    }
   ],
   "source": [
    "a = np.arange(6)\n",
    "b = np.arange(6).reshape(1, -1)\n",
    "print(a, b)\n",
    "print(a.shape, b.shape)"
   ]
  },
  {
   "cell_type": "code",
   "execution_count": 29,
   "id": "62e19372-0192-4ce3-8673-6626fdb6a686",
   "metadata": {
    "ExecuteTime": {
     "end_time": "2024-07-22T01:16:44.632517Z",
     "start_time": "2024-07-22T01:16:44.624667Z"
    }
   },
   "outputs": [
    {
     "data": {
      "text/plain": [
       "array([[0, 1, 2, 3, 4, 5]])"
      ]
     },
     "execution_count": 29,
     "metadata": {},
     "output_type": "execute_result"
    }
   ],
   "source": [
    "b.reshape(2, 3)\n",
    "b"
   ]
  },
  {
   "cell_type": "markdown",
   "id": "f8576817-990a-4d01-b702-1d6c3c0c3459",
   "metadata": {},
   "source": [
    "2. A.resize(dim1, dim2, ..., dimN)直接改变原array的形状"
   ]
  },
  {
   "cell_type": "code",
   "execution_count": 30,
   "id": "3ecbc32b-a46f-4822-bb64-16458b4d0f18",
   "metadata": {
    "ExecuteTime": {
     "end_time": "2024-07-22T01:16:44.639101Z",
     "start_time": "2024-07-22T01:16:44.634120Z"
    }
   },
   "outputs": [
    {
     "data": {
      "text/plain": [
       "array([[0, 1, 2],\n",
       "       [3, 4, 5]])"
      ]
     },
     "execution_count": 30,
     "metadata": {},
     "output_type": "execute_result"
    }
   ],
   "source": [
    "b.resize(2, 3)\n",
    "b"
   ]
  },
  {
   "cell_type": "markdown",
   "id": "cf0bfad3-b1ca-4769-9653-491c58a8a1c4",
   "metadata": {},
   "source": [
    "3. A.ravel()会将矩阵flattened"
   ]
  },
  {
   "cell_type": "code",
   "execution_count": 31,
   "id": "1546fce2-c82f-418a-bf66-457a47ee1aeb",
   "metadata": {
    "ExecuteTime": {
     "end_time": "2024-07-22T01:16:44.645730Z",
     "start_time": "2024-07-22T01:16:44.640468Z"
    }
   },
   "outputs": [
    {
     "data": {
      "text/plain": [
       "array([0, 1, 2, 3, 4, 5])"
      ]
     },
     "execution_count": 31,
     "metadata": {},
     "output_type": "execute_result"
    }
   ],
   "source": [
    "b.ravel()"
   ]
  },
  {
   "cell_type": "markdown",
   "id": "f202d926-6fab-49d6-b785-f3e222913335",
   "metadata": {},
   "source": [
    "4. 让矩阵增加一个维度，但没有新增元素时，用None或者它的alias：np.newaxis"
   ]
  },
  {
   "cell_type": "code",
   "execution_count": 120,
   "id": "63b55563-33ef-452a-8bb3-5b1455feedc6",
   "metadata": {},
   "outputs": [
    {
     "data": {
      "text/plain": [
       "True"
      ]
     },
     "execution_count": 120,
     "metadata": {},
     "output_type": "execute_result"
    }
   ],
   "source": [
    "np.newaxis is None"
   ]
  },
  {
   "cell_type": "code",
   "execution_count": 123,
   "id": "cd3d60c7-d647-4e86-b94d-525431178110",
   "metadata": {},
   "outputs": [
    {
     "data": {
      "text/plain": [
       "((3,), array([0, 1, 2]))"
      ]
     },
     "execution_count": 123,
     "metadata": {},
     "output_type": "execute_result"
    }
   ],
   "source": [
    "x = np.arange(3)\n",
    "x.shape, x"
   ]
  },
  {
   "cell_type": "code",
   "execution_count": 133,
   "id": "3f26c56f-8e4b-4e20-aaba-13734a23cf2a",
   "metadata": {},
   "outputs": [
    {
     "data": {
      "text/plain": [
       "array([[0, 1, 2]])"
      ]
     },
     "execution_count": 133,
     "metadata": {},
     "output_type": "execute_result"
    }
   ],
   "source": [
    "x[np.newaxis, :]"
   ]
  },
  {
   "cell_type": "code",
   "execution_count": 127,
   "id": "d20d5fd0-050c-48eb-b25e-17bd545ec214",
   "metadata": {},
   "outputs": [
    {
     "data": {
      "text/plain": [
       "array([[[0]],\n",
       "\n",
       "       [[1]],\n",
       "\n",
       "       [[2]]])"
      ]
     },
     "execution_count": 127,
     "metadata": {},
     "output_type": "execute_result"
    }
   ],
   "source": [
    "x[:, np.newaxis, None] # None就是np.newaxis"
   ]
  },
  {
   "cell_type": "markdown",
   "id": "481695f6-7b7b-4928-8f54-a386b3705bfc",
   "metadata": {
    "jp-MarkdownHeadingCollapsed": true
   },
   "source": [
    "### 第6类操作：合并分割: joining and splitting"
   ]
  },
  {
   "cell_type": "markdown",
   "id": "bb1ddb74-6a99-407d-afe0-1e49f510d423",
   "metadata": {
    "jp-MarkdownHeadingCollapsed": true
   },
   "source": [
    "#### stacking\n",
    " - np.vstack(): stacking发生在第一个维度上(first axes)\n",
    " - np.hstack(): stacking发生在第二个维度上(second axes)"
   ]
  },
  {
   "cell_type": "code",
   "execution_count": 32,
   "id": "add12d2f-cf7a-495a-a624-ff1e4007485e",
   "metadata": {
    "ExecuteTime": {
     "end_time": "2024-07-22T01:16:44.651489Z",
     "start_time": "2024-07-22T01:16:44.647085Z"
    }
   },
   "outputs": [
    {
     "data": {
      "text/plain": [
       "array([[4., 2.],\n",
       "       [3., 8.]])"
      ]
     },
     "execution_count": 32,
     "metadata": {},
     "output_type": "execute_result"
    }
   ],
   "source": [
    "a = np.array([4., 2.])\n",
    "b = np.array([3., 8.])\n",
    "np.vstack((a, b))"
   ]
  },
  {
   "cell_type": "code",
   "execution_count": 33,
   "id": "e65263e1-c82d-440c-bffc-720b24d42ef5",
   "metadata": {
    "ExecuteTime": {
     "end_time": "2024-07-22T01:16:44.656754Z",
     "start_time": "2024-07-22T01:16:44.652836Z"
    }
   },
   "outputs": [
    {
     "data": {
      "text/plain": [
       "array([4., 2., 3., 8.])"
      ]
     },
     "execution_count": 33,
     "metadata": {},
     "output_type": "execute_result"
    }
   ],
   "source": [
    "np.hstack((a, b))"
   ]
  },
  {
   "cell_type": "code",
   "execution_count": 34,
   "id": "8152d576-af12-4850-9abe-85e122517bae",
   "metadata": {
    "ExecuteTime": {
     "end_time": "2024-07-22T01:16:44.661963Z",
     "start_time": "2024-07-22T01:16:44.658044Z"
    }
   },
   "outputs": [
    {
     "data": {
      "text/plain": [
       "array([[[ 0,  1],\n",
       "        [ 2,  3],\n",
       "        [ 4,  5]],\n",
       "\n",
       "       [[ 6,  7],\n",
       "        [ 8,  9],\n",
       "        [10, 11]]])"
      ]
     },
     "execution_count": 34,
     "metadata": {},
     "output_type": "execute_result"
    }
   ],
   "source": [
    "c = np.arange(12).reshape(2, 3, 2)\n",
    "c"
   ]
  },
  {
   "cell_type": "code",
   "execution_count": 35,
   "id": "79aa8a01-6a35-4c6c-a8f1-686298520935",
   "metadata": {
    "ExecuteTime": {
     "end_time": "2024-07-22T01:16:44.665734Z",
     "start_time": "2024-07-22T01:16:44.663147Z"
    }
   },
   "outputs": [],
   "source": [
    "d = np.ones((2, 3, 2))"
   ]
  },
  {
   "cell_type": "code",
   "execution_count": 36,
   "id": "be443e2b-359f-452d-bcfe-56ac6ce6087e",
   "metadata": {
    "ExecuteTime": {
     "end_time": "2024-07-22T01:16:44.670991Z",
     "start_time": "2024-07-22T01:16:44.666879Z"
    }
   },
   "outputs": [
    {
     "data": {
      "text/plain": [
       "((2, 6, 2), (4, 3, 2))"
      ]
     },
     "execution_count": 36,
     "metadata": {},
     "output_type": "execute_result"
    }
   ],
   "source": [
    "np.hstack((c, d)).shape, np.vstack((c, d)).shape"
   ]
  },
  {
   "cell_type": "markdown",
   "id": "2d63050f-7937-4ddc-ab33-764fc3e4893c",
   "metadata": {},
   "source": [
    "#### concatenate\n",
    " - np.concatenate((a, b, ...), axis=0)可以自定义stacking发生的维度"
   ]
  },
  {
   "cell_type": "code",
   "execution_count": 37,
   "id": "ca14ca54-8ac6-44e2-9afa-22d7fc8ca185",
   "metadata": {
    "ExecuteTime": {
     "end_time": "2024-07-22T01:16:44.676475Z",
     "start_time": "2024-07-22T01:16:44.672114Z"
    }
   },
   "outputs": [
    {
     "data": {
      "text/plain": [
       "((2, 3, 4),\n",
       " array([[[ 0.,  1.,  1.,  1.],\n",
       "         [ 2.,  3.,  1.,  1.],\n",
       "         [ 4.,  5.,  1.,  1.]],\n",
       " \n",
       "        [[ 6.,  7.,  1.,  1.],\n",
       "         [ 8.,  9.,  1.,  1.],\n",
       "         [10., 11.,  1.,  1.]]]))"
      ]
     },
     "execution_count": 37,
     "metadata": {},
     "output_type": "execute_result"
    }
   ],
   "source": [
    "s = np.concatenate((c, d), axis=2)\n",
    "s.shape, s"
   ]
  },
  {
   "cell_type": "markdown",
   "id": "a405e162-c611-4eda-95a9-cd0287a43a65",
   "metadata": {
    "jp-MarkdownHeadingCollapsed": true
   },
   "source": [
    "#### split\n",
    " - np.hsplit(array, indices or section): 在axis=1上分割。\n",
    " - np.vsplit(array, indices or section):在axis=1上分割。\n",
    " - np.split(array, axis=0, indices or section): 对应前面的concatenate，自定义分割的维度\n",
    " - 如果第二个参数是1个整数n，分为n份；如果是tuple，那么tuple中的数字就是分割位置\n",
    " - <font color=norange>注：他们返回的结果都是list of arrays.</font>"
   ]
  },
  {
   "cell_type": "code",
   "execution_count": 38,
   "id": "5f49e6f7-41cd-41e5-97d5-14447bd56280",
   "metadata": {
    "ExecuteTime": {
     "end_time": "2024-07-22T01:16:44.681593Z",
     "start_time": "2024-07-22T01:16:44.677801Z"
    }
   },
   "outputs": [
    {
     "data": {
      "text/plain": [
       "array([[[ 0,  1,  2],\n",
       "        [ 3,  4,  5],\n",
       "        [ 6,  7,  8],\n",
       "        [ 9, 10, 11]],\n",
       "\n",
       "       [[12, 13, 14],\n",
       "        [15, 16, 17],\n",
       "        [18, 19, 20],\n",
       "        [21, 22, 23]]])"
      ]
     },
     "execution_count": 38,
     "metadata": {},
     "output_type": "execute_result"
    }
   ],
   "source": [
    "x = np.arange(24).reshape(2, 4, 3)\n",
    "x"
   ]
  },
  {
   "cell_type": "code",
   "execution_count": 39,
   "id": "ae984608-7dbd-41fa-a882-92646148d9cd",
   "metadata": {
    "ExecuteTime": {
     "end_time": "2024-07-22T01:16:44.686620Z",
     "start_time": "2024-07-22T01:16:44.682888Z"
    }
   },
   "outputs": [
    {
     "data": {
      "text/plain": [
       "[array([[[ 0,  1,  2],\n",
       "         [ 3,  4,  5]],\n",
       " \n",
       "        [[12, 13, 14],\n",
       "         [15, 16, 17]]]),\n",
       " array([[[ 6,  7,  8],\n",
       "         [ 9, 10, 11]],\n",
       " \n",
       "        [[18, 19, 20],\n",
       "         [21, 22, 23]]])]"
      ]
     },
     "execution_count": 39,
     "metadata": {},
     "output_type": "execute_result"
    }
   ],
   "source": [
    "np.hsplit(x, 2)"
   ]
  },
  {
   "cell_type": "code",
   "execution_count": 40,
   "id": "5c0d563d-16a6-4f46-bd84-f403406009cf",
   "metadata": {
    "ExecuteTime": {
     "end_time": "2024-07-22T01:16:44.691823Z",
     "start_time": "2024-07-22T01:16:44.687895Z"
    }
   },
   "outputs": [
    {
     "data": {
      "text/plain": [
       "[array([[[ 0,  1,  2]],\n",
       " \n",
       "        [[12, 13, 14]]]),\n",
       " array([[[ 3,  4,  5],\n",
       "         [ 6,  7,  8]],\n",
       " \n",
       "        [[15, 16, 17],\n",
       "         [18, 19, 20]]]),\n",
       " array([[[ 9, 10, 11]],\n",
       " \n",
       "        [[21, 22, 23]]])]"
      ]
     },
     "execution_count": 40,
     "metadata": {},
     "output_type": "execute_result"
    }
   ],
   "source": [
    "np.hsplit(x, (1, 3))"
   ]
  },
  {
   "cell_type": "code",
   "execution_count": 41,
   "id": "2bde4c22-f7a3-4994-b8dc-f4c30c57d3a3",
   "metadata": {
    "ExecuteTime": {
     "end_time": "2024-07-22T01:16:44.697487Z",
     "start_time": "2024-07-22T01:16:44.693374Z"
    }
   },
   "outputs": [
    {
     "data": {
      "text/plain": [
       "[array([[[ 0,  1,  2],\n",
       "         [ 3,  4,  5],\n",
       "         [ 6,  7,  8],\n",
       "         [ 9, 10, 11]]]),\n",
       " array([[[12, 13, 14],\n",
       "         [15, 16, 17],\n",
       "         [18, 19, 20],\n",
       "         [21, 22, 23]]])]"
      ]
     },
     "execution_count": 41,
     "metadata": {},
     "output_type": "execute_result"
    }
   ],
   "source": [
    "np.vsplit(x, 2)"
   ]
  },
  {
   "cell_type": "markdown",
   "id": "55fdab04-337b-4e28-9bc4-0d7c306f3017",
   "metadata": {
    "jp-MarkdownHeadingCollapsed": true
   },
   "source": [
    "## II. 数学运算\n",
    "numpy中针对ndarray的运算基本都是用universal functions来执行的。这些universal function的特点是：\n",
    "1. operate element-wise on arrays。比如$A*2$是将A中每个元素都*2\n",
    "2. 支持broadcasting\n",
    "3. 支持type casting\n",
    "- <font color=norange>本质上，ufunc是一般function的一个wrapper，把一般function运算改造成了适用于矩阵的运算。</font>"
   ]
  },
  {
   "cell_type": "markdown",
   "id": "dd93111b-1bd0-4cf0-9f01-d507876e688f",
   "metadata": {
    "jp-MarkdownHeadingCollapsed": true
   },
   "source": [
    "### II.1 数学运算的基本规则"
   ]
  },
  {
   "cell_type": "markdown",
   "id": "ae4431b0-6ba9-4b20-b397-1c21bc7fd20e",
   "metadata": {},
   "source": [
    "1. 数学运算符在numpy中基本都已经处理成了universal function。所以一般数学运算在numpy array上都是elementwise的。"
   ]
  },
  {
   "cell_type": "code",
   "execution_count": 42,
   "id": "2cee144a-be44-4577-957e-45badbb4aee1",
   "metadata": {
    "ExecuteTime": {
     "end_time": "2024-07-22T01:16:44.703535Z",
     "start_time": "2024-07-22T01:16:44.699153Z"
    }
   },
   "outputs": [
    {
     "data": {
      "text/plain": [
       "array([ True,  True, False, False])"
      ]
     },
     "execution_count": 42,
     "metadata": {},
     "output_type": "execute_result"
    }
   ],
   "source": [
    "# elementwise\n",
    "a = np.array([20, 30, 40, 50])\n",
    "a < 35"
   ]
  },
  {
   "cell_type": "code",
   "execution_count": 43,
   "id": "7809d7df-c853-48fa-84f8-36879ccdc587",
   "metadata": {
    "ExecuteTime": {
     "end_time": "2024-07-22T01:16:44.709600Z",
     "start_time": "2024-07-22T01:16:44.705359Z"
    }
   },
   "outputs": [
    {
     "data": {
      "text/plain": [
       "array([0, 1, 4, 9])"
      ]
     },
     "execution_count": 43,
     "metadata": {},
     "output_type": "execute_result"
    }
   ],
   "source": [
    "b = np.arange(4)\n",
    "b ** 2"
   ]
  },
  {
   "cell_type": "code",
   "execution_count": 44,
   "id": "688c61db-51bb-41ac-8a14-979954537008",
   "metadata": {
    "ExecuteTime": {
     "end_time": "2024-07-22T01:16:44.715319Z",
     "start_time": "2024-07-22T01:16:44.711281Z"
    }
   },
   "outputs": [
    {
     "data": {
      "text/plain": [
       "array([20, 29, 38, 47])"
      ]
     },
     "execution_count": 44,
     "metadata": {},
     "output_type": "execute_result"
    }
   ],
   "source": [
    "a - b"
   ]
  },
  {
   "cell_type": "markdown",
   "id": "3e282b23-edea-40fd-881c-bd23f602c0e2",
   "metadata": {},
   "source": [
    "2. 正常执行数学expression之后，会生成新的numpy array。但如果用的是+=,-=等operator，那么不会生成新的array，等号左边的变量的变化是in place的。\\\n",
    "   <font color=deeppink>**要注意数据类型变化**：\n",
    "   - 如果两个operant的dtype不一样，会自动做数据类型变换，规则是upcasting，resulting array的类型是更general or precise的那种\n",
    "   - 如果是+=,-=等operator，发生的是in place赋值，那么要注意左边operant的数据类型无法自动upcast。</font>"
   ]
  },
  {
   "cell_type": "code",
   "execution_count": 45,
   "id": "ff77e53b-bb94-4211-bf25-3ff7f87cb12c",
   "metadata": {
    "ExecuteTime": {
     "end_time": "2024-07-22T01:16:44.721180Z",
     "start_time": "2024-07-22T01:16:44.717094Z"
    }
   },
   "outputs": [
    {
     "name": "stdout",
     "output_type": "stream",
     "text": [
      "int16 float64 int16\n",
      "float64\n"
     ]
    }
   ],
   "source": [
    "# dtype\n",
    "b = np.random.randn(6)\n",
    "a, c = np.ones(6, dtype=np.int16), np.ones(6, dtype=np.int16)\n",
    "print(a.dtype, b.dtype, c.dtype)\n",
    "b += a\n",
    "print(b.dtype)"
   ]
  },
  {
   "cell_type": "code",
   "execution_count": 46,
   "id": "ea8cec91-6c48-4f82-94fe-2f96a2d72951",
   "metadata": {
    "ExecuteTime": {
     "end_time": "2024-07-22T01:16:44.725490Z",
     "start_time": "2024-07-22T01:16:44.722848Z"
    }
   },
   "outputs": [],
   "source": [
    "# c += b # 报错，UFuncTypeError: Cannot cast ufunc 'add' output from dtype('float64') to dtype('int16') "
   ]
  },
  {
   "cell_type": "markdown",
   "id": "2b5ae5d1-7255-4a7b-a652-4f040e4b43c8",
   "metadata": {},
   "source": [
    "3. 二元运算的时候，两个operator array的shape要一样。如果不一样，那么要遵守broadcast规则的要求 \\\n",
    "   <font color=norange>**broadcast的两个规则**：\n",
    "   - 如果两个矩阵的ndims不同，运算的时候自动将它的最左边缺的维度上的size扩展为1，使两个矩阵的ndims相同。比如：一个shape是(n,)的array A与另一个二维array B做运算，会先扩展为(1, n)\n",
    "   - 两个ndims相同的array做运算，如果它们的shape不同，那么不同的维度上至少其中一个的size必须为1，在size=1的维度上copy，直到两个array的size相同。如果前面例子中array B的shape是(3, n)，那么A会在第一个维度上自我复制，扩展为形状是(3, n)后再跟B做elementwise的运算。</font>"
   ]
  },
  {
   "cell_type": "markdown",
   "id": "f971f840-4b6b-4471-8ba7-2daa4de188e1",
   "metadata": {
    "jp-MarkdownHeadingCollapsed": true
   },
   "source": [
    "### II.2 常见ufun运算"
   ]
  },
  {
   "cell_type": "markdown",
   "id": "a1718d9c-0207-4b5f-a108-9a82f9debc06",
   "metadata": {},
   "source": [
    "1. 一般数学运算：+, -, *, /, //, %, **"
   ]
  },
  {
   "cell_type": "code",
   "execution_count": 47,
   "id": "927546b9-2235-41cd-b212-86555ec59080",
   "metadata": {
    "ExecuteTime": {
     "end_time": "2024-07-22T01:16:44.731240Z",
     "start_time": "2024-07-22T01:16:44.727096Z"
    }
   },
   "outputs": [
    {
     "name": "stdout",
     "output_type": "stream",
     "text": [
      "[[1 0]\n",
      " [1 2]]\n",
      "[[0 0]\n",
      " [1 0]]\n"
     ]
    }
   ],
   "source": [
    "A = np.array([[2, 0],\n",
    "              [3, 4]])\n",
    "print(A // 2)\n",
    "print(A % 2)"
   ]
  },
  {
   "cell_type": "markdown",
   "id": "026a6ace-3e02-4129-9d24-2239164c97f6",
   "metadata": {},
   "source": [
    "2. 三角运算：sin, cos, tan, arcsin, arccos, arctan, sinh, cosh, tanh ...\n",
    "3. 比较运算：>, >=, <, <=, ==, !=\n",
    "4. 位运算和逻辑运算：&(and), |(or), ^(xor)和~(not)\n",
    "   - 如果operant是int类型，上述operator会执行位运算\n",
    "   - 如果operant是boolean类型，上述operator会执行逻辑运算。\n",
    "   - <font color=norange>逻辑运算经常用来做mask</font>"
   ]
  },
  {
   "cell_type": "code",
   "execution_count": 48,
   "id": "6bd23420-b4ac-45f9-9c92-88d02fd7b6ea",
   "metadata": {
    "ExecuteTime": {
     "end_time": "2024-07-22T01:16:44.736481Z",
     "start_time": "2024-07-22T01:16:44.732847Z"
    }
   },
   "outputs": [
    {
     "name": "stdout",
     "output_type": "stream",
     "text": [
      "[-2 -3 -4 -5] [False  True False  True]\n"
     ]
    }
   ],
   "source": [
    "B = np.array([1, 2, 3, 4])\n",
    "b = np.array([True, False, True, False])\n",
    "print(~B, ~b)"
   ]
  },
  {
   "cell_type": "code",
   "execution_count": 49,
   "id": "b0691abb-02ef-462d-b786-dbb295b59663",
   "metadata": {
    "ExecuteTime": {
     "end_time": "2024-07-22T01:16:44.741645Z",
     "start_time": "2024-07-22T01:16:44.737950Z"
    }
   },
   "outputs": [
    {
     "name": "stdout",
     "output_type": "stream",
     "text": [
      "[9 4 5] [12  3]\n"
     ]
    }
   ],
   "source": [
    "c = np.array([9, 12, 3, 4, 5])\n",
    "mask = (c > 3) & (c < 10)\n",
    "print(c[mask], c[~mask])"
   ]
  },
  {
   "cell_type": "markdown",
   "id": "413b837b-4f84-4e16-9e7b-dca7378fb365",
   "metadata": {},
   "source": [
    "4. 统计摘要: \\\n",
    "   (1) 返回value：sum, min, max, std, var, mean, median, percentile\\\n",
    "   (2) 返回value index：argmin, argmax\\\n",
    "   (3) any, all：范围boolean scalar\\\n",
    "   (4) prod：返回所有元素相乘的结果scalar"
   ]
  },
  {
   "cell_type": "code",
   "execution_count": 50,
   "id": "51377447-8f65-4bd8-b2d7-2c8ed446d273",
   "metadata": {
    "ExecuteTime": {
     "end_time": "2024-07-22T01:16:44.747637Z",
     "start_time": "2024-07-22T01:16:44.743296Z"
    }
   },
   "outputs": [
    {
     "data": {
      "text/plain": [
       "array([[ 2.07986062, -1.77728059,  0.48135172],\n",
       "       [ 0.47497251,  0.46570305, -0.53527223]])"
      ]
     },
     "execution_count": 50,
     "metadata": {},
     "output_type": "execute_result"
    }
   ],
   "source": [
    "a = np.random.randn(2, 3)\n",
    "a"
   ]
  },
  {
   "cell_type": "code",
   "execution_count": 51,
   "id": "94ae7f7f-f425-4737-a935-03506c28b749",
   "metadata": {
    "ExecuteTime": {
     "end_time": "2024-07-22T01:16:44.752564Z",
     "start_time": "2024-07-22T01:16:44.749330Z"
    }
   },
   "outputs": [
    {
     "data": {
      "text/plain": [
       "(1.1893350931151254, 2.079860623535624)"
      ]
     },
     "execution_count": 51,
     "metadata": {},
     "output_type": "execute_result"
    }
   ],
   "source": [
    "a.sum(), a.max()"
   ]
  },
  {
   "cell_type": "code",
   "execution_count": 52,
   "id": "695653ce-b2f0-482f-96e3-f1b4609f79f3",
   "metadata": {
    "ExecuteTime": {
     "end_time": "2024-07-22T01:16:44.758086Z",
     "start_time": "2024-07-22T01:16:44.754078Z"
    }
   },
   "outputs": [
    {
     "data": {
      "text/plain": [
       "array([ 2.55483314, -1.31157754, -0.05392051])"
      ]
     },
     "execution_count": 52,
     "metadata": {},
     "output_type": "execute_result"
    }
   ],
   "source": [
    "# 指定axia：规则被指定的dim会被reduce掉\n",
    "a.sum(axis=0)"
   ]
  },
  {
   "cell_type": "code",
   "execution_count": 53,
   "id": "4c5c9d0f-fb00-411d-bb2b-f261013c5164",
   "metadata": {
    "ExecuteTime": {
     "end_time": "2024-07-22T01:16:44.763728Z",
     "start_time": "2024-07-22T01:16:44.759547Z"
    }
   },
   "outputs": [
    {
     "data": {
      "text/plain": [
       "(True, False)"
      ]
     },
     "execution_count": 53,
     "metadata": {},
     "output_type": "execute_result"
    }
   ],
   "source": [
    "np.any(a>0), np.all(a>0)"
   ]
  },
  {
   "cell_type": "code",
   "execution_count": 54,
   "id": "4ab86a7a-d1c6-4bb1-b67d-4857349bb988",
   "metadata": {
    "ExecuteTime": {
     "end_time": "2024-07-22T01:16:44.769690Z",
     "start_time": "2024-07-22T01:16:44.765359Z"
    }
   },
   "outputs": [
    {
     "data": {
      "text/plain": [
       "array([9, 6, 5, 1, 2])"
      ]
     },
     "execution_count": 54,
     "metadata": {},
     "output_type": "execute_result"
    }
   ],
   "source": [
    "b = np.arange(10)\n",
    "c = np.random.choice(b, size=5, replace=True)\n",
    "c"
   ]
  },
  {
   "cell_type": "code",
   "execution_count": 55,
   "id": "d5c8d0bf-16c7-44a5-bf79-60c5ab18aad8",
   "metadata": {
    "ExecuteTime": {
     "end_time": "2024-07-22T01:16:44.775877Z",
     "start_time": "2024-07-22T01:16:44.771186Z"
    }
   },
   "outputs": [
    {
     "data": {
      "text/plain": [
       "(0, 3, 1.16)"
      ]
     },
     "execution_count": 55,
     "metadata": {},
     "output_type": "execute_result"
    }
   ],
   "source": [
    "c.argmax(), c.argmin(), np.percentile(c, 4)"
   ]
  },
  {
   "cell_type": "markdown",
   "id": "d84c68ff-fc03-4dc8-aeca-5a98e454128a",
   "metadata": {},
   "source": [
    "5. 2种规则不同的矩阵inner product \\\n",
    "   (1) matmul, 也就是@ \\\n",
    "   (2) dot\n",
    "- 在两个二维矩阵求内积的时候他们效果一样，两者的差异是：\n",
    "  - matmul不能用scalar做乘法。 比如不能用：A @ 2\n",
    "  - matmul中，Stacks of matrices are broadcast together as if the matrices were elements, respecting the signature (n,k),(k,m)->(n,m)"
   ]
  },
  {
   "cell_type": "code",
   "execution_count": 56,
   "id": "c89e1465-f1f6-4977-a7b0-09e776ad4eb5",
   "metadata": {
    "ExecuteTime": {
     "end_time": "2024-07-22T01:16:44.782463Z",
     "start_time": "2024-07-22T01:16:44.777337Z"
    }
   },
   "outputs": [
    {
     "data": {
      "text/plain": [
       "(array([[ True,  True,  True],\n",
       "        [ True,  True,  True]]),\n",
       " (2, 3))"
      ]
     },
     "execution_count": 56,
     "metadata": {},
     "output_type": "execute_result"
    }
   ],
   "source": [
    "x = np.ones([2, 4])\n",
    "y = np.ones([4, 3])\n",
    "z = x @ y\n",
    "w = np.dot(x, y)\n",
    "z==w, z.shape"
   ]
  },
  {
   "cell_type": "code",
   "execution_count": 57,
   "id": "31703bdf-fbd4-4f0b-9e91-ef94e927d4fe",
   "metadata": {
    "ExecuteTime": {
     "end_time": "2024-07-22T01:16:44.788015Z",
     "start_time": "2024-07-22T01:16:44.783936Z"
    }
   },
   "outputs": [
    {
     "data": {
      "text/plain": [
       "(6, 5, 2, 3)"
      ]
     },
     "execution_count": 57,
     "metadata": {},
     "output_type": "execute_result"
    }
   ],
   "source": [
    "a = np.ones([6, 5, 2, 4])\n",
    "b = np.ones([6, 5, 4, 3])\n",
    "c = a @ b # 在最后两个维度上做(2, 4),(4, 3)的inner product，前面的维度视为stack\n",
    "c.shape"
   ]
  },
  {
   "cell_type": "code",
   "execution_count": 58,
   "id": "45b0dd56-6720-41c8-a748-d20ced71cd8e",
   "metadata": {
    "ExecuteTime": {
     "end_time": "2024-07-22T01:16:44.793036Z",
     "start_time": "2024-07-22T01:16:44.789473Z"
    }
   },
   "outputs": [
    {
     "data": {
      "text/plain": [
       "(6, 5, 2, 6, 5, 3)"
      ]
     },
     "execution_count": 58,
     "metadata": {},
     "output_type": "execute_result"
    }
   ],
   "source": [
    "d = np.dot(a, b)\n",
    "d.shape"
   ]
  },
  {
   "cell_type": "markdown",
   "id": "5f4fce70-6c74-491b-81b8-88d6936e6381",
   "metadata": {},
   "source": [
    "5. ufunc提供的一些功能性method \\\n",
    "   (1) reduce：在指定维度上执行ufunc运算，同时将该维度reduce掉 \\\n",
    "   (2) accumulate：在指定维度上执行ufunc运算，该维度上保留运算执行到每个elements时候的中间值 \\\n",
    "   (3) outer：外积运算   "
   ]
  },
  {
   "cell_type": "code",
   "execution_count": 59,
   "id": "00ca37a1-fd3b-45c0-a7e7-1c93574654c1",
   "metadata": {
    "ExecuteTime": {
     "end_time": "2024-07-22T01:16:44.798864Z",
     "start_time": "2024-07-22T01:16:44.794548Z"
    }
   },
   "outputs": [
    {
     "data": {
      "text/plain": [
       "(10, 30)"
      ]
     },
     "execution_count": 59,
     "metadata": {},
     "output_type": "execute_result"
    }
   ],
   "source": [
    "a = np.array([2,3,5])\n",
    "np.add.reduce(a), np.multiply.reduce(a)"
   ]
  },
  {
   "cell_type": "code",
   "execution_count": 60,
   "id": "076999d5-bee4-4c6a-9321-ee4673492c59",
   "metadata": {
    "ExecuteTime": {
     "end_time": "2024-07-22T01:16:44.805255Z",
     "start_time": "2024-07-22T01:16:44.800485Z"
    }
   },
   "outputs": [
    {
     "data": {
      "text/plain": [
       "(array([ 6,  9, 15]), array([ 30, 240]))"
      ]
     },
     "execution_count": 60,
     "metadata": {},
     "output_type": "execute_result"
    }
   ],
   "source": [
    "b = np.array([[2,3,5],\n",
    "              [4, 6, 10]])\n",
    "np.add.reduce(b, axis=0), np.multiply.reduce(b, axis=1)"
   ]
  },
  {
   "cell_type": "code",
   "execution_count": 61,
   "id": "8a93b730-d13c-4f1b-bc6f-d755862a5d17",
   "metadata": {
    "ExecuteTime": {
     "end_time": "2024-07-22T01:16:44.811298Z",
     "start_time": "2024-07-22T01:16:44.806943Z"
    }
   },
   "outputs": [
    {
     "data": {
      "text/plain": [
       "(array([ 2,  5, 10]), array([ 2,  6, 30]))"
      ]
     },
     "execution_count": 61,
     "metadata": {},
     "output_type": "execute_result"
    }
   ],
   "source": [
    "a = np.array([2,3,5])\n",
    "np.add.accumulate(a), np.multiply.accumulate(a)"
   ]
  },
  {
   "cell_type": "markdown",
   "id": "bfccd862-6c5b-4bff-a42f-306a443aa47e",
   "metadata": {},
   "source": [
    "## III. View和copy"
   ]
  },
  {
   "cell_type": "markdown",
   "id": "6dbb702e-0646-498a-99bf-c7421d334f20",
   "metadata": {},
   "source": [
    "### view\n",
    "1. 一般赋值不会发生复制\n",
    "2. ndarray做为参数传递给函数的时候，也不会复制\n",
    "3. slicing得到的也不是复制\n",
    "上面三种情况返回的都是原array的View"
   ]
  },
  {
   "cell_type": "code",
   "execution_count": 62,
   "id": "df5b2709-0eb7-455d-8e69-3632231bda34",
   "metadata": {
    "ExecuteTime": {
     "end_time": "2024-07-22T01:16:44.817578Z",
     "start_time": "2024-07-22T01:16:44.813074Z"
    }
   },
   "outputs": [
    {
     "data": {
      "text/plain": [
       "True"
      ]
     },
     "execution_count": 62,
     "metadata": {},
     "output_type": "execute_result"
    }
   ],
   "source": [
    "a = np.array([[ 0,  1,  2,  3],\n",
    "              [ 4,  5,  6,  7],\n",
    "              [ 8,  9, 10, 11]])\n",
    "b = a            # no new object is created\n",
    "b is a           # a and b are two names for the same ndarray object"
   ]
  },
  {
   "cell_type": "code",
   "execution_count": 63,
   "id": "bc2dee17-c62b-4495-ae8a-70bf57aeb764",
   "metadata": {
    "ExecuteTime": {
     "end_time": "2024-07-22T01:16:44.824252Z",
     "start_time": "2024-07-22T01:16:44.819204Z"
    }
   },
   "outputs": [
    {
     "name": "stdout",
     "output_type": "stream",
     "text": [
      "130897476022800\n"
     ]
    },
    {
     "data": {
      "text/plain": [
       "(130897476022800, None)"
      ]
     },
     "execution_count": 63,
     "metadata": {},
     "output_type": "execute_result"
    }
   ],
   "source": [
    "def f(x):\n",
    "    print(id(x))\n",
    "\n",
    "id(a), f(a) # id is a unique identifier of an object "
   ]
  },
  {
   "cell_type": "markdown",
   "id": "a9610ca0-12d0-45dc-984b-e4cbdb5f13b6",
   "metadata": {},
   "source": [
    "### copy\n",
    "如果要copy的话，直接用A.copy"
   ]
  }
 ],
 "metadata": {
  "kernelspec": {
   "display_name": "cs224nhw",
   "language": "python",
   "name": "cs224nhw"
  },
  "language_info": {
   "codemirror_mode": {
    "name": "ipython",
    "version": 3
   },
   "file_extension": ".py",
   "mimetype": "text/x-python",
   "name": "python",
   "nbconvert_exporter": "python",
   "pygments_lexer": "ipython3",
   "version": "3.10.13"
  }
 },
 "nbformat": 4,
 "nbformat_minor": 5
}
