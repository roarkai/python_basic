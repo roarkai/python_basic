{
 "cells": [
  {
   "cell_type": "code",
   "execution_count": 1,
   "id": "5c0155ec-05ed-4da6-9e47-dc5a42e2ef50",
   "metadata": {
    "ExecuteTime": {
     "end_time": "2024-07-22T14:55:12.071314Z",
     "start_time": "2024-07-22T14:55:11.991298Z"
    }
   },
   "outputs": [],
   "source": [
    "import numpy as np"
   ]
  },
  {
   "cell_type": "markdown",
   "id": "bfccd862-6c5b-4bff-a42f-306a443aa47e",
   "metadata": {},
   "source": [
    "## III. View和copy"
   ]
  },
  {
   "cell_type": "markdown",
   "id": "b45bc32e",
   "metadata": {},
   "source": [
    "### numpy array数据结构\n",
    " - numpy array的数据结构中包括两部分内容，一是contiguous data buffer，这里连续存储着data elements，另一部分是metadata，metadata中记录了data type，strides(seperation for dims)和其他帮助呈现ndarray形态的信息等。\n",
    " - 不改变data buffer，仅仅改变metadata中的部分信息就可以形成新的ndarray，这些新的ndarray是databuffer的一个View，因为它只改变了buffer中数据的呈现形式。\n",
    " - 这种设计使得ndarray的运算效率很高，因为不用频繁复制原始数据。"
   ]
  },
  {
   "cell_type": "markdown",
   "id": "6dbb702e-0646-498a-99bf-c7421d334f20",
   "metadata": {},
   "source": [
    "### view\n",
    "1. 如果只通过改变原ndarray的metadata信息中的offsets和strides就能得到目标new array的话，会创建View。不然的话就会做copy。\n",
    "2. 改变view中元素的值同时也会改变base array中的data buffer\n",
    "3. 常见的创建view的场景:通常indexing、slicing和reshape得到的都是View\n",
    "4. 可以用base attribute的值来判断是View还是copy, 如果是View，那么A.base会输出真实的data。如果是copy，输出为None\n",
    "5. 但是要注意View是新建了metadata，要区别于python里面新建reference。\\\n",
    "(1) 一般赋值没有新建view，也不发生copy，只是将新的varible reference到已经存在的array上 \\\n",
    "(2) ndarray做为参数传递给函数的时候，得到的也是View"
   ]
  },
  {
   "cell_type": "code",
   "execution_count": 2,
   "id": "aee9995c",
   "metadata": {
    "ExecuteTime": {
     "end_time": "2024-07-22T14:55:12.081180Z",
     "start_time": "2024-07-22T14:55:12.073757Z"
    }
   },
   "outputs": [
    {
     "data": {
      "text/plain": [
       "(array([0, 1, 2, 3, 4, 5]), array([0, 1, 2, 3, 4, 5]))"
      ]
     },
     "execution_count": 2,
     "metadata": {},
     "output_type": "execute_result"
    }
   ],
   "source": [
    "x = np.arange(6)\n",
    "y = x[1:3]           # slicing\n",
    "z = x.reshape(2, 3)  # reshape\n",
    "y.base, z.base"
   ]
  },
  {
   "cell_type": "code",
   "execution_count": 3,
   "id": "df5b2709-0eb7-455d-8e69-3632231bda34",
   "metadata": {
    "ExecuteTime": {
     "end_time": "2024-07-22T14:55:12.087108Z",
     "start_time": "2024-07-22T14:55:12.082910Z"
    }
   },
   "outputs": [
    {
     "data": {
      "text/plain": [
       "True"
      ]
     },
     "execution_count": 3,
     "metadata": {},
     "output_type": "execute_result"
    }
   ],
   "source": [
    "# 变量赋值\n",
    "a = np.array([[ 0,  1,  2,  3],\n",
    "              [ 4,  5,  6,  7],\n",
    "              [ 8,  9, 10, 11]])\n",
    "b = a            # no new object is created\n",
    "b.base is None         # a and b are two names for the same ndarray object"
   ]
  },
  {
   "cell_type": "code",
   "execution_count": 4,
   "id": "bc2dee17-c62b-4495-ae8a-70bf57aeb764",
   "metadata": {
    "ExecuteTime": {
     "end_time": "2024-07-22T14:55:12.094918Z",
     "start_time": "2024-07-22T14:55:12.089499Z"
    }
   },
   "outputs": [
    {
     "name": "stdout",
     "output_type": "stream",
     "text": [
      "131069992141424\n"
     ]
    },
    {
     "data": {
      "text/plain": [
       "(131069992141424, None)"
      ]
     },
     "execution_count": 4,
     "metadata": {},
     "output_type": "execute_result"
    }
   ],
   "source": [
    "# 函数传参\n",
    "def f(x):\n",
    "    print(id(x))\n",
    "\n",
    "id(a), f(a) # id is a unique identifier of an object "
   ]
  },
  {
   "cell_type": "markdown",
   "id": "a9610ca0-12d0-45dc-984b-e4cbdb5f13b6",
   "metadata": {
    "jp-MarkdownHeadingCollapsed": true
   },
   "source": [
    "### copy\n",
    "1. 如果一般的indexing、slicing和reshape等如果要copy的话，直接用A.copy()\n",
    "2. advanced indexing会直接得到copy"
   ]
  },
  {
   "cell_type": "markdown",
   "id": "e8e4b35c",
   "metadata": {},
   "source": [
    "#### 发生copy的reshape\n",
    " - 大多数情况下，只要改变stride(dim之间的分界距离)就能为reshape创建新的View，但是有时候reshape无法通过简单改变stride来实现。\n",
    " - 比如，array如果先做了transpose，再做reshape，新的array的元素位置在原始array的data buffer里面可能就不连续了。这时候会自动做copy\n",
    " - 注意，发生copy的时候，不见得新生成的array就是base"
   ]
  },
  {
   "cell_type": "code",
   "execution_count": 5,
   "id": "0485d3ef",
   "metadata": {
    "ExecuteTime": {
     "end_time": "2024-07-22T14:55:12.100532Z",
     "start_time": "2024-07-22T14:55:12.096559Z"
    }
   },
   "outputs": [
    {
     "data": {
      "text/plain": [
       "(True,\n",
       " array([[ 0,  1,  2],\n",
       "        [ 3,  4,  5],\n",
       "        [ 6,  7,  8],\n",
       "        [ 9, 10, 11]]),\n",
       " array([ 0,  1,  2,  3,  4,  5,  6,  7,  8,  9, 10, 11]))"
      ]
     },
     "execution_count": 5,
     "metadata": {},
     "output_type": "execute_result"
    }
   ],
   "source": [
    "a = np.arange(12)\n",
    "b = a.reshape(4, 3)\n",
    "b.base is a, b, b.ravel()"
   ]
  },
  {
   "cell_type": "code",
   "execution_count": 6,
   "id": "f868feed",
   "metadata": {
    "ExecuteTime": {
     "end_time": "2024-07-22T14:55:12.105237Z",
     "start_time": "2024-07-22T14:55:12.102508Z"
    }
   },
   "outputs": [
    {
     "data": {
      "text/plain": [
       "(True,\n",
       " array([[ 0,  3,  6,  9],\n",
       "        [ 1,  4,  7, 10],\n",
       "        [ 2,  5,  8, 11]]),\n",
       " array([ 0,  3,  6,  9,  1,  4,  7, 10,  2,  5,  8, 11]))"
      ]
     },
     "execution_count": 6,
     "metadata": {},
     "output_type": "execute_result"
    }
   ],
   "source": [
    "c = b.T\n",
    "c.base is a, c, c.ravel()"
   ]
  },
  {
   "cell_type": "code",
   "execution_count": 7,
   "id": "62fc808e",
   "metadata": {
    "ExecuteTime": {
     "end_time": "2024-07-22T14:55:12.109423Z",
     "start_time": "2024-07-22T14:55:12.106392Z"
    }
   },
   "outputs": [
    {
     "data": {
      "text/plain": [
       "(True,\n",
       " array([[[ 0,  3],\n",
       "         [ 6,  9]],\n",
       " \n",
       "        [[ 1,  4],\n",
       "         [ 7, 10]],\n",
       " \n",
       "        [[ 2,  5],\n",
       "         [ 8, 11]]]),\n",
       " array([ 0,  3,  6,  9,  1,  4,  7, 10,  2,  5,  8, 11]))"
      ]
     },
     "execution_count": 7,
     "metadata": {},
     "output_type": "execute_result"
    }
   ],
   "source": [
    "d = c.reshape(3, 2, 2)\n",
    "d.base is a, d, d.ravel()"
   ]
  },
  {
   "cell_type": "code",
   "execution_count": 8,
   "id": "efb676de",
   "metadata": {
    "ExecuteTime": {
     "end_time": "2024-07-22T14:55:12.113830Z",
     "start_time": "2024-07-22T14:55:12.110735Z"
    }
   },
   "outputs": [
    {
     "data": {
      "text/plain": [
       "(False,\n",
       " False,\n",
       " array([[[ 0,  3],\n",
       "         [ 6,  9],\n",
       "         [ 1,  4]],\n",
       " \n",
       "        [[ 7, 10],\n",
       "         [ 2,  5],\n",
       "         [ 8, 11]]]),\n",
       " array([[ 0,  3,  6,  9],\n",
       "        [ 1,  4,  7, 10],\n",
       "        [ 2,  5,  8, 11]]),\n",
       " array([ 0,  3,  6,  9,  1,  4,  7, 10,  2,  5,  8, 11]))"
      ]
     },
     "execution_count": 8,
     "metadata": {},
     "output_type": "execute_result"
    }
   ],
   "source": [
    "e = c.reshape(2, 3, 2)       # e发生了copy，但是e自己本身并不是base\n",
    "e.base is a, e.base is None, e, e.base, e.ravel()"
   ]
  },
  {
   "cell_type": "code",
   "execution_count": 9,
   "id": "9b0c8c6f",
   "metadata": {
    "ExecuteTime": {
     "end_time": "2024-07-22T14:55:12.117642Z",
     "start_time": "2024-07-22T14:55:12.114964Z"
    }
   },
   "outputs": [
    {
     "data": {
      "text/plain": [
       "(array([[[100,   3],\n",
       "         [  6,   9],\n",
       "         [  1,   4]],\n",
       " \n",
       "        [[  7,  10],\n",
       "         [  2,   5],\n",
       "         [  8,  11]]]),\n",
       " array([ 0,  1,  2,  3,  4,  5,  6,  7,  8,  9, 10, 11]))"
      ]
     },
     "execution_count": 9,
     "metadata": {},
     "output_type": "execute_result"
    }
   ],
   "source": [
    "e[0, 0, 0] = 100\n",
    "e, a"
   ]
  },
  {
   "cell_type": "code",
   "execution_count": 10,
   "id": "3fcdfaf4",
   "metadata": {
    "ExecuteTime": {
     "end_time": "2024-07-22T14:55:12.122101Z",
     "start_time": "2024-07-22T14:55:12.119431Z"
    }
   },
   "outputs": [
    {
     "data": {
      "text/plain": [
       "(False,\n",
       " True,\n",
       " array([[[100,   7],\n",
       "         [  6,   2],\n",
       "         [  1,   8]],\n",
       " \n",
       "        [[  3,  10],\n",
       "         [  9,   5],\n",
       "         [  4,  11]]]))"
      ]
     },
     "execution_count": 10,
     "metadata": {},
     "output_type": "execute_result"
    }
   ],
   "source": [
    "f = e.T        # f只是View，f的base不是e, 但f和e有共同的base\n",
    "f.base is e, f.base is e.base, f"
   ]
  },
  {
   "cell_type": "code",
   "execution_count": 11,
   "id": "6ef3ab00",
   "metadata": {
    "ExecuteTime": {
     "end_time": "2024-07-22T14:55:12.125903Z",
     "start_time": "2024-07-22T14:55:12.123151Z"
    }
   },
   "outputs": [
    {
     "data": {
      "text/plain": [
       "(array([[[100,  99],\n",
       "         [  6,   2],\n",
       "         [  1,   8]],\n",
       " \n",
       "        [[  3,  10],\n",
       "         [  9,   5],\n",
       "         [  4,  11]]]),\n",
       " array([[[100,   3],\n",
       "         [  6,   9],\n",
       "         [  1,   4]],\n",
       " \n",
       "        [[ 99,  10],\n",
       "         [  2,   5],\n",
       "         [  8,  11]]]))"
      ]
     },
     "execution_count": 11,
     "metadata": {},
     "output_type": "execute_result"
    }
   ],
   "source": [
    "f[0, 0, 1] = 99  # 改变f中的元素，也会改变e中对应位置元素的值 \n",
    "f, e"
   ]
  }
 ],
 "metadata": {
  "kernelspec": {
   "display_name": "cs224nhw",
   "language": "python",
   "name": "cs224nhw"
  },
  "language_info": {
   "codemirror_mode": {
    "name": "ipython",
    "version": 3
   },
   "file_extension": ".py",
   "mimetype": "text/x-python",
   "name": "python",
   "nbconvert_exporter": "python",
   "pygments_lexer": "ipython3",
   "version": "3.10.13"
  }
 },
 "nbformat": 4,
 "nbformat_minor": 5
}
