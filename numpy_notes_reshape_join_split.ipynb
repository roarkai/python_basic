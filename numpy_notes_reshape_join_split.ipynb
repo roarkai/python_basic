{
 "cells": [
  {
   "cell_type": "code",
   "execution_count": 1,
   "id": "5c0155ec-05ed-4da6-9e47-dc5a42e2ef50",
   "metadata": {
    "ExecuteTime": {
     "end_time": "2024-07-22T14:57:06.163077Z",
     "start_time": "2024-07-22T14:57:06.083528Z"
    }
   },
   "outputs": [],
   "source": [
    "import numpy as np"
   ]
  },
  {
   "cell_type": "markdown",
   "id": "1a2b50a8-d389-4090-bf23-1f1e6e2fadc1",
   "metadata": {},
   "source": [
    "## numpy array的基本操作: reshape, join, split"
   ]
  },
  {
   "cell_type": "markdown",
   "id": "1f4a7c3a-0e67-4049-b553-aaff51f5da6b",
   "metadata": {},
   "source": [
    "### I. reshape\n",
    "1. 用A.reshape(dim1, dim2, ..., dimN)\n",
    "   - reshape前后的size要一样，二维条件下size = row * column\n",
    "   - reshape得到的新array是新建的array，原array形状不变\n",
    "   - 一维numpy array的shape是(n,)，在broadcast规则中，会被扩展为(1, n)。但它不同于二维shape取(1, n)的场景。"
   ]
  },
  {
   "cell_type": "code",
   "execution_count": 2,
   "id": "3e936cb4-38a1-4665-bd2d-351d51bd99d0",
   "metadata": {
    "ExecuteTime": {
     "end_time": "2024-07-22T14:57:06.168844Z",
     "start_time": "2024-07-22T14:57:06.165326Z"
    }
   },
   "outputs": [
    {
     "name": "stdout",
     "output_type": "stream",
     "text": [
      "[0 1 2 3 4 5] [[0 1 2 3 4 5]]\n",
      "(6,) (1, 6)\n"
     ]
    }
   ],
   "source": [
    "a = np.arange(6)\n",
    "b = np.arange(6).reshape(1, -1)\n",
    "print(a, b)\n",
    "print(a.shape, b.shape)"
   ]
  },
  {
   "cell_type": "code",
   "execution_count": 3,
   "id": "62e19372-0192-4ce3-8673-6626fdb6a686",
   "metadata": {
    "ExecuteTime": {
     "end_time": "2024-07-22T14:57:06.175965Z",
     "start_time": "2024-07-22T14:57:06.170606Z"
    }
   },
   "outputs": [
    {
     "data": {
      "text/plain": [
       "array([[0, 1, 2, 3, 4, 5]])"
      ]
     },
     "execution_count": 3,
     "metadata": {},
     "output_type": "execute_result"
    }
   ],
   "source": [
    "b.reshape(2, 3)\n",
    "b"
   ]
  },
  {
   "cell_type": "markdown",
   "id": "f8576817-990a-4d01-b702-1d6c3c0c3459",
   "metadata": {},
   "source": [
    "2. A.resize(dim1, dim2, ..., dimN)直接改变原array的形状"
   ]
  },
  {
   "cell_type": "code",
   "execution_count": 4,
   "id": "3ecbc32b-a46f-4822-bb64-16458b4d0f18",
   "metadata": {
    "ExecuteTime": {
     "end_time": "2024-07-22T14:57:06.181361Z",
     "start_time": "2024-07-22T14:57:06.178383Z"
    }
   },
   "outputs": [
    {
     "data": {
      "text/plain": [
       "array([[0, 1, 2],\n",
       "       [3, 4, 5]])"
      ]
     },
     "execution_count": 4,
     "metadata": {},
     "output_type": "execute_result"
    }
   ],
   "source": [
    "b.resize(2, 3)\n",
    "b"
   ]
  },
  {
   "cell_type": "markdown",
   "id": "cf0bfad3-b1ca-4769-9653-491c58a8a1c4",
   "metadata": {},
   "source": [
    "3. A.ravel()和A.flatten()会将矩阵flatten。区别是ravel得到的是原始array的View，flatten是copy"
   ]
  },
  {
   "cell_type": "code",
   "execution_count": 5,
   "id": "1546fce2-c82f-418a-bf66-457a47ee1aeb",
   "metadata": {
    "ExecuteTime": {
     "end_time": "2024-07-22T14:57:06.186441Z",
     "start_time": "2024-07-22T14:57:06.183046Z"
    }
   },
   "outputs": [
    {
     "data": {
      "text/plain": [
       "(array([[0, 1, 2],\n",
       "        [3, 4, 5]]),\n",
       " array([100,   1,   2,   3,   4,   5]))"
      ]
     },
     "execution_count": 5,
     "metadata": {},
     "output_type": "execute_result"
    }
   ],
   "source": [
    "c = b.ravel()\n",
    "d = b.flatten()\n",
    "d[0] = 100\n",
    "b, d"
   ]
  },
  {
   "cell_type": "code",
   "execution_count": 6,
   "id": "137300e1",
   "metadata": {
    "ExecuteTime": {
     "end_time": "2024-07-22T14:57:06.191140Z",
     "start_time": "2024-07-22T14:57:06.188101Z"
    }
   },
   "outputs": [
    {
     "data": {
      "text/plain": [
       "(array([[100,   1,   2],\n",
       "        [  3,   4,   5]]),\n",
       " array([100,   1,   2,   3,   4,   5]))"
      ]
     },
     "execution_count": 6,
     "metadata": {},
     "output_type": "execute_result"
    }
   ],
   "source": [
    "c[0] = 100\n",
    "b, c"
   ]
  },
  {
   "cell_type": "markdown",
   "id": "f202d926-6fab-49d6-b785-f3e222913335",
   "metadata": {},
   "source": [
    "4. 让矩阵增加一个维度，但没有新增元素时，用None或者它的alias：np.newaxis"
   ]
  },
  {
   "cell_type": "code",
   "execution_count": 7,
   "id": "63b55563-33ef-452a-8bb3-5b1455feedc6",
   "metadata": {
    "ExecuteTime": {
     "end_time": "2024-07-22T14:57:06.195458Z",
     "start_time": "2024-07-22T14:57:06.192791Z"
    }
   },
   "outputs": [
    {
     "data": {
      "text/plain": [
       "True"
      ]
     },
     "execution_count": 7,
     "metadata": {},
     "output_type": "execute_result"
    }
   ],
   "source": [
    "np.newaxis is None"
   ]
  },
  {
   "cell_type": "code",
   "execution_count": 8,
   "id": "cd3d60c7-d647-4e86-b94d-525431178110",
   "metadata": {
    "ExecuteTime": {
     "end_time": "2024-07-22T14:57:06.199181Z",
     "start_time": "2024-07-22T14:57:06.196726Z"
    }
   },
   "outputs": [
    {
     "data": {
      "text/plain": [
       "((3,), array([0, 1, 2]))"
      ]
     },
     "execution_count": 8,
     "metadata": {},
     "output_type": "execute_result"
    }
   ],
   "source": [
    "x = np.arange(3)\n",
    "x.shape, x"
   ]
  },
  {
   "cell_type": "code",
   "execution_count": 9,
   "id": "3f26c56f-8e4b-4e20-aaba-13734a23cf2a",
   "metadata": {
    "ExecuteTime": {
     "end_time": "2024-07-22T14:57:06.202734Z",
     "start_time": "2024-07-22T14:57:06.200281Z"
    }
   },
   "outputs": [
    {
     "data": {
      "text/plain": [
       "array([[0, 1, 2]])"
      ]
     },
     "execution_count": 9,
     "metadata": {},
     "output_type": "execute_result"
    }
   ],
   "source": [
    "x[np.newaxis, :]"
   ]
  },
  {
   "cell_type": "code",
   "execution_count": 10,
   "id": "d20d5fd0-050c-48eb-b25e-17bd545ec214",
   "metadata": {
    "ExecuteTime": {
     "end_time": "2024-07-22T14:57:06.207376Z",
     "start_time": "2024-07-22T14:57:06.204791Z"
    }
   },
   "outputs": [
    {
     "data": {
      "text/plain": [
       "array([[[0]],\n",
       "\n",
       "       [[1]],\n",
       "\n",
       "       [[2]]])"
      ]
     },
     "execution_count": 10,
     "metadata": {},
     "output_type": "execute_result"
    }
   ],
   "source": [
    "x[:, np.newaxis, None] # None就是np.newaxis"
   ]
  },
  {
   "cell_type": "markdown",
   "id": "481695f6-7b7b-4928-8f54-a386b3705bfc",
   "metadata": {
    "jp-MarkdownHeadingCollapsed": true
   },
   "source": [
    "### II. 合并分割: joining and splitting"
   ]
  },
  {
   "cell_type": "markdown",
   "id": "bb1ddb74-6a99-407d-afe0-1e49f510d423",
   "metadata": {
    "jp-MarkdownHeadingCollapsed": true
   },
   "source": [
    "#### stacking\n",
    " - np.vstack(): stacking发生在第一个维度上(first axes)\n",
    " - np.hstack(): stacking发生在第二个维度上(second axes)"
   ]
  },
  {
   "cell_type": "code",
   "execution_count": 11,
   "id": "add12d2f-cf7a-495a-a624-ff1e4007485e",
   "metadata": {
    "ExecuteTime": {
     "end_time": "2024-07-22T14:57:06.211617Z",
     "start_time": "2024-07-22T14:57:06.208404Z"
    }
   },
   "outputs": [
    {
     "data": {
      "text/plain": [
       "array([[4., 2.],\n",
       "       [3., 8.]])"
      ]
     },
     "execution_count": 11,
     "metadata": {},
     "output_type": "execute_result"
    }
   ],
   "source": [
    "a = np.array([4., 2.])\n",
    "b = np.array([3., 8.])\n",
    "np.vstack((a, b))"
   ]
  },
  {
   "cell_type": "code",
   "execution_count": 12,
   "id": "e65263e1-c82d-440c-bffc-720b24d42ef5",
   "metadata": {
    "ExecuteTime": {
     "end_time": "2024-07-22T14:57:06.216349Z",
     "start_time": "2024-07-22T14:57:06.213116Z"
    }
   },
   "outputs": [
    {
     "data": {
      "text/plain": [
       "array([4., 2., 3., 8.])"
      ]
     },
     "execution_count": 12,
     "metadata": {},
     "output_type": "execute_result"
    }
   ],
   "source": [
    "np.hstack((a, b))"
   ]
  },
  {
   "cell_type": "code",
   "execution_count": 13,
   "id": "8152d576-af12-4850-9abe-85e122517bae",
   "metadata": {
    "ExecuteTime": {
     "end_time": "2024-07-22T14:57:06.221051Z",
     "start_time": "2024-07-22T14:57:06.217741Z"
    }
   },
   "outputs": [
    {
     "data": {
      "text/plain": [
       "array([[[ 0,  1],\n",
       "        [ 2,  3],\n",
       "        [ 4,  5]],\n",
       "\n",
       "       [[ 6,  7],\n",
       "        [ 8,  9],\n",
       "        [10, 11]]])"
      ]
     },
     "execution_count": 13,
     "metadata": {},
     "output_type": "execute_result"
    }
   ],
   "source": [
    "c = np.arange(12).reshape(2, 3, 2)\n",
    "c"
   ]
  },
  {
   "cell_type": "code",
   "execution_count": 14,
   "id": "79aa8a01-6a35-4c6c-a8f1-686298520935",
   "metadata": {
    "ExecuteTime": {
     "end_time": "2024-07-22T14:57:06.225155Z",
     "start_time": "2024-07-22T14:57:06.222950Z"
    }
   },
   "outputs": [],
   "source": [
    "d = np.ones((2, 3, 2))"
   ]
  },
  {
   "cell_type": "code",
   "execution_count": 15,
   "id": "be443e2b-359f-452d-bcfe-56ac6ce6087e",
   "metadata": {
    "ExecuteTime": {
     "end_time": "2024-07-22T14:57:06.229969Z",
     "start_time": "2024-07-22T14:57:06.226721Z"
    }
   },
   "outputs": [
    {
     "data": {
      "text/plain": [
       "((2, 6, 2), (4, 3, 2))"
      ]
     },
     "execution_count": 15,
     "metadata": {},
     "output_type": "execute_result"
    }
   ],
   "source": [
    "np.hstack((c, d)).shape, np.vstack((c, d)).shape"
   ]
  },
  {
   "cell_type": "markdown",
   "id": "2d63050f-7937-4ddc-ab33-764fc3e4893c",
   "metadata": {},
   "source": [
    "#### concatenate\n",
    " - np.concatenate((a, b, ...), axis=0)可以自定义stacking发生的维度"
   ]
  },
  {
   "cell_type": "code",
   "execution_count": 16,
   "id": "ca14ca54-8ac6-44e2-9afa-22d7fc8ca185",
   "metadata": {
    "ExecuteTime": {
     "end_time": "2024-07-22T14:57:06.234671Z",
     "start_time": "2024-07-22T14:57:06.231196Z"
    }
   },
   "outputs": [
    {
     "data": {
      "text/plain": [
       "((2, 3, 4),\n",
       " array([[[ 0.,  1.,  1.,  1.],\n",
       "         [ 2.,  3.,  1.,  1.],\n",
       "         [ 4.,  5.,  1.,  1.]],\n",
       " \n",
       "        [[ 6.,  7.,  1.,  1.],\n",
       "         [ 8.,  9.,  1.,  1.],\n",
       "         [10., 11.,  1.,  1.]]]))"
      ]
     },
     "execution_count": 16,
     "metadata": {},
     "output_type": "execute_result"
    }
   ],
   "source": [
    "s = np.concatenate((c, d), axis=2)\n",
    "s.shape, s"
   ]
  },
  {
   "cell_type": "markdown",
   "id": "a405e162-c611-4eda-95a9-cd0287a43a65",
   "metadata": {
    "jp-MarkdownHeadingCollapsed": true
   },
   "source": [
    "#### split\n",
    " - np.hsplit(array, indices or section): 在axis=1上分割。\n",
    " - np.vsplit(array, indices or section):在axis=1上分割。\n",
    " - np.split(array, axis=0, indices or section): 对应前面的concatenate，自定义分割的维度\n",
    " - 如果第二个参数是1个整数n，分为n份；如果是tuple，那么tuple中的数字就是分割位置\n",
    " - <font color=norange>注：他们返回的结果都是list of arrays.</font>"
   ]
  },
  {
   "cell_type": "code",
   "execution_count": 17,
   "id": "5f49e6f7-41cd-41e5-97d5-14447bd56280",
   "metadata": {
    "ExecuteTime": {
     "end_time": "2024-07-22T14:57:06.239029Z",
     "start_time": "2024-07-22T14:57:06.235953Z"
    }
   },
   "outputs": [
    {
     "data": {
      "text/plain": [
       "array([[[ 0,  1,  2],\n",
       "        [ 3,  4,  5],\n",
       "        [ 6,  7,  8],\n",
       "        [ 9, 10, 11]],\n",
       "\n",
       "       [[12, 13, 14],\n",
       "        [15, 16, 17],\n",
       "        [18, 19, 20],\n",
       "        [21, 22, 23]]])"
      ]
     },
     "execution_count": 17,
     "metadata": {},
     "output_type": "execute_result"
    }
   ],
   "source": [
    "x = np.arange(24).reshape(2, 4, 3)\n",
    "x"
   ]
  },
  {
   "cell_type": "code",
   "execution_count": 18,
   "id": "ae984608-7dbd-41fa-a882-92646148d9cd",
   "metadata": {
    "ExecuteTime": {
     "end_time": "2024-07-22T14:57:06.243217Z",
     "start_time": "2024-07-22T14:57:06.240168Z"
    }
   },
   "outputs": [
    {
     "data": {
      "text/plain": [
       "[array([[[ 0,  1,  2],\n",
       "         [ 3,  4,  5]],\n",
       " \n",
       "        [[12, 13, 14],\n",
       "         [15, 16, 17]]]),\n",
       " array([[[ 6,  7,  8],\n",
       "         [ 9, 10, 11]],\n",
       " \n",
       "        [[18, 19, 20],\n",
       "         [21, 22, 23]]])]"
      ]
     },
     "execution_count": 18,
     "metadata": {},
     "output_type": "execute_result"
    }
   ],
   "source": [
    "np.hsplit(x, 2)"
   ]
  },
  {
   "cell_type": "code",
   "execution_count": 19,
   "id": "5c0d563d-16a6-4f46-bd84-f403406009cf",
   "metadata": {
    "ExecuteTime": {
     "end_time": "2024-07-22T14:57:06.247511Z",
     "start_time": "2024-07-22T14:57:06.244381Z"
    }
   },
   "outputs": [
    {
     "data": {
      "text/plain": [
       "[array([[[ 0,  1,  2]],\n",
       " \n",
       "        [[12, 13, 14]]]),\n",
       " array([[[ 3,  4,  5],\n",
       "         [ 6,  7,  8]],\n",
       " \n",
       "        [[15, 16, 17],\n",
       "         [18, 19, 20]]]),\n",
       " array([[[ 9, 10, 11]],\n",
       " \n",
       "        [[21, 22, 23]]])]"
      ]
     },
     "execution_count": 19,
     "metadata": {},
     "output_type": "execute_result"
    }
   ],
   "source": [
    "np.hsplit(x, (1, 3))"
   ]
  },
  {
   "cell_type": "code",
   "execution_count": 20,
   "id": "2bde4c22-f7a3-4994-b8dc-f4c30c57d3a3",
   "metadata": {
    "ExecuteTime": {
     "end_time": "2024-07-22T14:57:06.251547Z",
     "start_time": "2024-07-22T14:57:06.248610Z"
    }
   },
   "outputs": [
    {
     "data": {
      "text/plain": [
       "[array([[[ 0,  1,  2],\n",
       "         [ 3,  4,  5],\n",
       "         [ 6,  7,  8],\n",
       "         [ 9, 10, 11]]]),\n",
       " array([[[12, 13, 14],\n",
       "         [15, 16, 17],\n",
       "         [18, 19, 20],\n",
       "         [21, 22, 23]]])]"
      ]
     },
     "execution_count": 20,
     "metadata": {},
     "output_type": "execute_result"
    }
   ],
   "source": [
    "np.vsplit(x, 2)"
   ]
  }
 ],
 "metadata": {
  "kernelspec": {
   "display_name": "cs224nhw",
   "language": "python",
   "name": "cs224nhw"
  },
  "language_info": {
   "codemirror_mode": {
    "name": "ipython",
    "version": 3
   },
   "file_extension": ".py",
   "mimetype": "text/x-python",
   "name": "python",
   "nbconvert_exporter": "python",
   "pygments_lexer": "ipython3",
   "version": "3.10.13"
  }
 },
 "nbformat": 4,
 "nbformat_minor": 5
}
