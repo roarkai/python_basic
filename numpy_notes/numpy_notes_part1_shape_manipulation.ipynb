{
 "cells": [
  {
   "cell_type": "code",
   "execution_count": 1,
   "id": "5c0155ec-05ed-4da6-9e47-dc5a42e2ef50",
   "metadata": {
    "ExecuteTime": {
     "end_time": "2024-08-04T02:26:17.716070Z",
     "start_time": "2024-08-04T02:26:17.648780Z"
    }
   },
   "outputs": [],
   "source": [
    "import numpy as np"
   ]
  },
  {
   "cell_type": "markdown",
   "id": "1a2b50a8-d389-4090-bf23-1f1e6e2fadc1",
   "metadata": {},
   "source": [
    "## Part1. numpy array的基本操作: reshape, join, split, delete, squeeze"
   ]
  },
  {
   "cell_type": "markdown",
   "id": "1f4a7c3a-0e67-4049-b553-aaff51f5da6b",
   "metadata": {},
   "source": [
    "### I. reshape"
   ]
  },
  {
   "cell_type": "markdown",
   "id": "746ebb0a",
   "metadata": {},
   "source": [
    "#### I.1 用A.reshape(dim1, dim2, ..., dimN)\n",
    "   - reshape前后的size要一样，二维条件下size = row * column\n",
    "   - reshape得到的新array是新建的array，原array形状不变\n",
    "   - 一维numpy array的shape是(n,)，在broadcast规则中，会被扩展为(1, n)。但它不同于二维shape取(1, n)的场景。"
   ]
  },
  {
   "cell_type": "code",
   "execution_count": 2,
   "id": "3e936cb4-38a1-4665-bd2d-351d51bd99d0",
   "metadata": {
    "ExecuteTime": {
     "end_time": "2024-08-04T02:26:17.723912Z",
     "start_time": "2024-08-04T02:26:17.718644Z"
    }
   },
   "outputs": [
    {
     "name": "stdout",
     "output_type": "stream",
     "text": [
      "[0 1 2 3 4 5] [[0 1 2 3 4 5]]\n",
      "(6,) (1, 6)\n"
     ]
    }
   ],
   "source": [
    "a = np.arange(6)\n",
    "b = np.arange(6).reshape(1, -1)\n",
    "print(a, b)\n",
    "print(a.shape, b.shape)"
   ]
  },
  {
   "cell_type": "code",
   "execution_count": 3,
   "id": "62e19372-0192-4ce3-8673-6626fdb6a686",
   "metadata": {
    "ExecuteTime": {
     "end_time": "2024-08-04T02:26:17.731861Z",
     "start_time": "2024-08-04T02:26:17.725385Z"
    }
   },
   "outputs": [
    {
     "data": {
      "text/plain": [
       "array([[0, 1, 2, 3, 4, 5]])"
      ]
     },
     "execution_count": 3,
     "metadata": {},
     "output_type": "execute_result"
    }
   ],
   "source": [
    "b.reshape(2, 3)\n",
    "b"
   ]
  },
  {
   "cell_type": "markdown",
   "id": "f8576817-990a-4d01-b702-1d6c3c0c3459",
   "metadata": {},
   "source": [
    "#### I.2 A.resize(dim1, dim2, ..., dimN)直接改变原array的形状"
   ]
  },
  {
   "cell_type": "code",
   "execution_count": 4,
   "id": "3ecbc32b-a46f-4822-bb64-16458b4d0f18",
   "metadata": {
    "ExecuteTime": {
     "end_time": "2024-08-04T02:26:17.738663Z",
     "start_time": "2024-08-04T02:26:17.734343Z"
    }
   },
   "outputs": [
    {
     "data": {
      "text/plain": [
       "array([[0, 1, 2],\n",
       "       [3, 4, 5]])"
      ]
     },
     "execution_count": 4,
     "metadata": {},
     "output_type": "execute_result"
    }
   ],
   "source": [
    "b.resize(2, 3)\n",
    "b"
   ]
  },
  {
   "cell_type": "markdown",
   "id": "cf0bfad3-b1ca-4769-9653-491c58a8a1c4",
   "metadata": {},
   "source": [
    "#### I.3 A.ravel()和A.flatten()\n",
    " - 功能都是将矩阵flatten。区别是ravel得到的是原始array的View，flatten是copy"
   ]
  },
  {
   "cell_type": "code",
   "execution_count": 5,
   "id": "1546fce2-c82f-418a-bf66-457a47ee1aeb",
   "metadata": {
    "ExecuteTime": {
     "end_time": "2024-08-04T02:26:17.745242Z",
     "start_time": "2024-08-04T02:26:17.740522Z"
    }
   },
   "outputs": [
    {
     "data": {
      "text/plain": [
       "(array([[0, 1, 2],\n",
       "        [3, 4, 5]]),\n",
       " array([100,   1,   2,   3,   4,   5]))"
      ]
     },
     "execution_count": 5,
     "metadata": {},
     "output_type": "execute_result"
    }
   ],
   "source": [
    "c = b.ravel()\n",
    "d = b.flatten()\n",
    "d[0] = 100\n",
    "b, d"
   ]
  },
  {
   "cell_type": "code",
   "execution_count": 6,
   "id": "137300e1",
   "metadata": {
    "ExecuteTime": {
     "end_time": "2024-08-04T02:26:17.751750Z",
     "start_time": "2024-08-04T02:26:17.746992Z"
    }
   },
   "outputs": [
    {
     "data": {
      "text/plain": [
       "(array([[100,   1,   2],\n",
       "        [  3,   4,   5]]),\n",
       " array([100,   1,   2,   3,   4,   5]))"
      ]
     },
     "execution_count": 6,
     "metadata": {},
     "output_type": "execute_result"
    }
   ],
   "source": [
    "c[0] = 100\n",
    "b, c"
   ]
  },
  {
   "cell_type": "code",
   "execution_count": 49,
   "id": "96ad2556",
   "metadata": {
    "ExecuteTime": {
     "end_time": "2024-08-04T02:37:47.661361Z",
     "start_time": "2024-08-04T02:37:47.657361Z"
    }
   },
   "outputs": [
    {
     "data": {
      "text/plain": [
       "True"
      ]
     },
     "execution_count": 49,
     "metadata": {},
     "output_type": "execute_result"
    }
   ],
   "source": [
    "a = np.arange(12).reshape(3, 2, 2)\n",
    "b = a.reshape(2, 2, 3)\n",
    "a.base is b.base"
   ]
  },
  {
   "cell_type": "code",
   "execution_count": 47,
   "id": "a96a287c",
   "metadata": {
    "ExecuteTime": {
     "end_time": "2024-08-04T02:37:06.571215Z",
     "start_time": "2024-08-04T02:37:06.566612Z"
    }
   },
   "outputs": [
    {
     "name": "stdout",
     "output_type": "stream",
     "text": [
      "[ 0  1  2  3  4  5  6  7  8  9 10 11]\n",
      "[ 0  4  8  1  5  9  2  6 10  3  7 11]\n"
     ]
    }
   ],
   "source": [
    "print(a.flatten())\n",
    "print(b.flatten())"
   ]
  },
  {
   "cell_type": "markdown",
   "id": "f202d926-6fab-49d6-b785-f3e222913335",
   "metadata": {},
   "source": [
    "#### I.4 expand dims\n",
    "1. np.newaxis:让矩阵增加一个维度，但没有新增元素时，用None或者它的alias：np.newaxis\n",
    "2. np.expand_dims(array, axis)，这里axis参数可以是tuple，此时同时扩展多个dims\n",
    "- 他们都不改变原array的形状"
   ]
  },
  {
   "cell_type": "code",
   "execution_count": 7,
   "id": "63b55563-33ef-452a-8bb3-5b1455feedc6",
   "metadata": {
    "ExecuteTime": {
     "end_time": "2024-08-04T02:26:17.755361Z",
     "start_time": "2024-08-04T02:26:17.752911Z"
    }
   },
   "outputs": [
    {
     "data": {
      "text/plain": [
       "True"
      ]
     },
     "execution_count": 7,
     "metadata": {},
     "output_type": "execute_result"
    }
   ],
   "source": [
    "# 用np.newaxis\n",
    "np.newaxis is None"
   ]
  },
  {
   "cell_type": "code",
   "execution_count": 8,
   "id": "cd3d60c7-d647-4e86-b94d-525431178110",
   "metadata": {
    "ExecuteTime": {
     "end_time": "2024-08-04T02:26:17.760308Z",
     "start_time": "2024-08-04T02:26:17.756379Z"
    }
   },
   "outputs": [
    {
     "data": {
      "text/plain": [
       "((3,), array([0, 1, 2]))"
      ]
     },
     "execution_count": 8,
     "metadata": {},
     "output_type": "execute_result"
    }
   ],
   "source": [
    "x = np.arange(3)\n",
    "x.shape, x"
   ]
  },
  {
   "cell_type": "code",
   "execution_count": 9,
   "id": "3f26c56f-8e4b-4e20-aaba-13734a23cf2a",
   "metadata": {
    "ExecuteTime": {
     "end_time": "2024-08-04T02:26:17.764535Z",
     "start_time": "2024-08-04T02:26:17.761225Z"
    }
   },
   "outputs": [
    {
     "data": {
      "text/plain": [
       "array([[0, 1, 2]])"
      ]
     },
     "execution_count": 9,
     "metadata": {},
     "output_type": "execute_result"
    }
   ],
   "source": [
    "x[np.newaxis, :] # 等价于np.expand_dims(x, axis=0)"
   ]
  },
  {
   "cell_type": "code",
   "execution_count": 10,
   "id": "d20d5fd0-050c-48eb-b25e-17bd545ec214",
   "metadata": {
    "ExecuteTime": {
     "end_time": "2024-08-04T02:26:17.769855Z",
     "start_time": "2024-08-04T02:26:17.767108Z"
    }
   },
   "outputs": [
    {
     "data": {
      "text/plain": [
       "array([[[0]],\n",
       "\n",
       "       [[1]],\n",
       "\n",
       "       [[2]]])"
      ]
     },
     "execution_count": 10,
     "metadata": {},
     "output_type": "execute_result"
    }
   ],
   "source": [
    "x[:, np.newaxis, None] # None就是np.newaxis"
   ]
  },
  {
   "cell_type": "code",
   "execution_count": 11,
   "id": "97edf354",
   "metadata": {
    "ExecuteTime": {
     "end_time": "2024-08-04T02:26:17.775174Z",
     "start_time": "2024-08-04T02:26:17.772378Z"
    }
   },
   "outputs": [
    {
     "data": {
      "text/plain": [
       "((1, 1, 3), array([[[0, 1, 2]]]))"
      ]
     },
     "execution_count": 11,
     "metadata": {},
     "output_type": "execute_result"
    }
   ],
   "source": [
    "# axis参数是tuple时，同时扩展多个dims\n",
    "y = np.expand_dims(x, axis=(0, 1))\n",
    "y.shape, y"
   ]
  },
  {
   "cell_type": "code",
   "execution_count": 12,
   "id": "620bea1b",
   "metadata": {
    "ExecuteTime": {
     "end_time": "2024-08-04T02:26:17.779211Z",
     "start_time": "2024-08-04T02:26:17.776378Z"
    }
   },
   "outputs": [
    {
     "data": {
      "text/plain": [
       "((1, 3, 1),\n",
       " array([[[0],\n",
       "         [1],\n",
       "         [2]]]))"
      ]
     },
     "execution_count": 12,
     "metadata": {},
     "output_type": "execute_result"
    }
   ],
   "source": [
    "z = np.expand_dims(x, axis=(0, 2))\n",
    "z.shape, z"
   ]
  },
  {
   "cell_type": "markdown",
   "id": "481695f6-7b7b-4928-8f54-a386b3705bfc",
   "metadata": {
    "jp-MarkdownHeadingCollapsed": true
   },
   "source": [
    "### II. joining"
   ]
  },
  {
   "cell_type": "markdown",
   "id": "bb1ddb74-6a99-407d-afe0-1e49f510d423",
   "metadata": {
    "jp-MarkdownHeadingCollapsed": true
   },
   "source": [
    "#### II.1 stacking\n",
    " - np.vstack(): stacking发生在第一个维度上(first axes)\n",
    " - np.hstack(): stacking发生在第二个维度上(second axes)"
   ]
  },
  {
   "cell_type": "code",
   "execution_count": 13,
   "id": "add12d2f-cf7a-495a-a624-ff1e4007485e",
   "metadata": {
    "ExecuteTime": {
     "end_time": "2024-08-04T02:26:17.783421Z",
     "start_time": "2024-08-04T02:26:17.780281Z"
    }
   },
   "outputs": [
    {
     "data": {
      "text/plain": [
       "array([[4., 2.],\n",
       "       [3., 8.]])"
      ]
     },
     "execution_count": 13,
     "metadata": {},
     "output_type": "execute_result"
    }
   ],
   "source": [
    "a = np.array([4., 2.])\n",
    "b = np.array([3., 8.])\n",
    "np.vstack((a, b))"
   ]
  },
  {
   "cell_type": "code",
   "execution_count": 14,
   "id": "e65263e1-c82d-440c-bffc-720b24d42ef5",
   "metadata": {
    "ExecuteTime": {
     "end_time": "2024-08-04T02:26:17.787343Z",
     "start_time": "2024-08-04T02:26:17.784528Z"
    }
   },
   "outputs": [
    {
     "data": {
      "text/plain": [
       "array([4., 2., 3., 8.])"
      ]
     },
     "execution_count": 14,
     "metadata": {},
     "output_type": "execute_result"
    }
   ],
   "source": [
    "np.hstack((a, b))"
   ]
  },
  {
   "cell_type": "code",
   "execution_count": 15,
   "id": "8152d576-af12-4850-9abe-85e122517bae",
   "metadata": {
    "ExecuteTime": {
     "end_time": "2024-08-04T02:26:17.791237Z",
     "start_time": "2024-08-04T02:26:17.788457Z"
    }
   },
   "outputs": [
    {
     "data": {
      "text/plain": [
       "array([[[ 0,  1],\n",
       "        [ 2,  3],\n",
       "        [ 4,  5]],\n",
       "\n",
       "       [[ 6,  7],\n",
       "        [ 8,  9],\n",
       "        [10, 11]]])"
      ]
     },
     "execution_count": 15,
     "metadata": {},
     "output_type": "execute_result"
    }
   ],
   "source": [
    "c = np.arange(12).reshape(2, 3, 2)\n",
    "c"
   ]
  },
  {
   "cell_type": "code",
   "execution_count": 16,
   "id": "79aa8a01-6a35-4c6c-a8f1-686298520935",
   "metadata": {
    "ExecuteTime": {
     "end_time": "2024-08-04T02:26:17.795066Z",
     "start_time": "2024-08-04T02:26:17.792407Z"
    }
   },
   "outputs": [
    {
     "data": {
      "text/plain": [
       "array([[[1., 1.],\n",
       "        [1., 1.],\n",
       "        [1., 1.]],\n",
       "\n",
       "       [[1., 1.],\n",
       "        [1., 1.],\n",
       "        [1., 1.]]])"
      ]
     },
     "execution_count": 16,
     "metadata": {},
     "output_type": "execute_result"
    }
   ],
   "source": [
    "d = np.ones((2, 3, 2))\n",
    "d"
   ]
  },
  {
   "cell_type": "code",
   "execution_count": 17,
   "id": "be443e2b-359f-452d-bcfe-56ac6ce6087e",
   "metadata": {
    "ExecuteTime": {
     "end_time": "2024-08-04T02:26:17.799014Z",
     "start_time": "2024-08-04T02:26:17.796283Z"
    }
   },
   "outputs": [
    {
     "data": {
      "text/plain": [
       "((2, 6, 2), (4, 3, 2))"
      ]
     },
     "execution_count": 17,
     "metadata": {},
     "output_type": "execute_result"
    }
   ],
   "source": [
    "np.hstack((c, d)).shape, np.vstack((c, d)).shape"
   ]
  },
  {
   "cell_type": "markdown",
   "id": "2d63050f-7937-4ddc-ab33-764fc3e4893c",
   "metadata": {},
   "source": [
    "#### II.2 concatenate\n",
    " - np.concatenate((a, b, ...), axis=0)可以自定义stacking发生的维度\n",
    " - 如果axis=None，那么被堆叠的arrays会先被flatten，然后join，得到一个1D array\n",
    " - 如果第一个参数是list，那么concatenate会执行对其元素的合并。常见用途是np.delete返回的是list，对它的返回值做concatenate的时候，直接是对list中的元素做合并"
   ]
  },
  {
   "cell_type": "code",
   "execution_count": 18,
   "id": "ca14ca54-8ac6-44e2-9afa-22d7fc8ca185",
   "metadata": {
    "ExecuteTime": {
     "end_time": "2024-08-04T02:26:17.803177Z",
     "start_time": "2024-08-04T02:26:17.800129Z"
    }
   },
   "outputs": [
    {
     "data": {
      "text/plain": [
       "((2, 3, 4),\n",
       " array([[[ 0.,  1.,  1.,  1.],\n",
       "         [ 2.,  3.,  1.,  1.],\n",
       "         [ 4.,  5.,  1.,  1.]],\n",
       " \n",
       "        [[ 6.,  7.,  1.,  1.],\n",
       "         [ 8.,  9.,  1.,  1.],\n",
       "         [10., 11.,  1.,  1.]]]))"
      ]
     },
     "execution_count": 18,
     "metadata": {},
     "output_type": "execute_result"
    }
   ],
   "source": [
    "s = np.concatenate((c, d), axis=2)\n",
    "s.shape, s"
   ]
  },
  {
   "cell_type": "code",
   "execution_count": 19,
   "id": "49cade5d",
   "metadata": {
    "ExecuteTime": {
     "end_time": "2024-08-04T02:26:17.806943Z",
     "start_time": "2024-08-04T02:26:17.804302Z"
    }
   },
   "outputs": [
    {
     "data": {
      "text/plain": [
       "array([4., 2., 3., 8.])"
      ]
     },
     "execution_count": 19,
     "metadata": {},
     "output_type": "execute_result"
    }
   ],
   "source": [
    "np.concatenate((a, b), axis=None)"
   ]
  },
  {
   "cell_type": "code",
   "execution_count": 20,
   "id": "272334b8",
   "metadata": {
    "ExecuteTime": {
     "end_time": "2024-08-04T02:26:17.810952Z",
     "start_time": "2024-08-04T02:26:17.807945Z"
    }
   },
   "outputs": [
    {
     "data": {
      "text/plain": [
       "array([[1, 2, 3],\n",
       "       [4, 5, 6]])"
      ]
     },
     "execution_count": 20,
     "metadata": {},
     "output_type": "execute_result"
    }
   ],
   "source": [
    "a = [[1, 2, 3]]\n",
    "b = [[4, 5, 6]]\n",
    "np.concatenate([a, b], axis=0)  # 注意，这里第一个参数用'[]'和用‘()’效果一样"
   ]
  },
  {
   "cell_type": "markdown",
   "id": "f359225a",
   "metadata": {},
   "source": [
    "### III. splitting and deleting"
   ]
  },
  {
   "cell_type": "markdown",
   "id": "a405e162-c611-4eda-95a9-cd0287a43a65",
   "metadata": {
    "jp-MarkdownHeadingCollapsed": true
   },
   "source": [
    "#### III.1 split：np.vsplit(), np.hsplit(), np.split()\n",
    "1. 三种method分割的维度不同\n",
    "   - np.vsplit(array, indices or section): 在axis=0上分割。\n",
    "   - np.hsplit(array, indices or section): 在axis=1上分割。\n",
    "   - np.split(array, indices or section, axis=0): 对应前面的concatenate，自定义分割的维度\n",
    "   - np.array_split(array, indices or section, axis=0): 和split功能基本一样，只是array指定的axis的length l不要求整除第二个参数的值，比如n。分割得到n份，前l % n份的size是l // n + 1，后面的是l // n。<font color=red>注，这里分法有点奇怪，是先每份给l // n,再把余数l % n分给前l % n份。</font>\n",
    "2. 如果indices or section参数是1个整数n，分为n份，此时要确保ndim能被n整除；如果是1D array，那么该array中的数字就是分割位置\n",
    "3. 都返回list of splitted array\n",
    "4. 新得到的array的维度数量ndim和原array一样，不会减少维度。"
   ]
  },
  {
   "cell_type": "code",
   "execution_count": 21,
   "id": "5f49e6f7-41cd-41e5-97d5-14447bd56280",
   "metadata": {
    "ExecuteTime": {
     "end_time": "2024-08-04T02:26:17.814927Z",
     "start_time": "2024-08-04T02:26:17.812047Z"
    }
   },
   "outputs": [
    {
     "data": {
      "text/plain": [
       "((2, 4, 3),\n",
       " array([[[ 0,  1,  2],\n",
       "         [ 3,  4,  5],\n",
       "         [ 6,  7,  8],\n",
       "         [ 9, 10, 11]],\n",
       " \n",
       "        [[12, 13, 14],\n",
       "         [15, 16, 17],\n",
       "         [18, 19, 20],\n",
       "         [21, 22, 23]]]))"
      ]
     },
     "execution_count": 21,
     "metadata": {},
     "output_type": "execute_result"
    }
   ],
   "source": [
    "x = np.arange(24).reshape(2, 4, 3)\n",
    "x.shape, x"
   ]
  },
  {
   "cell_type": "code",
   "execution_count": 22,
   "id": "2bde4c22-f7a3-4994-b8dc-f4c30c57d3a3",
   "metadata": {
    "ExecuteTime": {
     "end_time": "2024-08-04T02:26:17.818620Z",
     "start_time": "2024-08-04T02:26:17.816107Z"
    }
   },
   "outputs": [
    {
     "name": "stdout",
     "output_type": "stream",
     "text": [
      "(1, 4, 3)\n",
      "(1, 4, 3)\n",
      "[array([[[ 0,  1,  2],\n",
      "        [ 3,  4,  5],\n",
      "        [ 6,  7,  8],\n",
      "        [ 9, 10, 11]]]), array([[[12, 13, 14],\n",
      "        [15, 16, 17],\n",
      "        [18, 19, 20],\n",
      "        [21, 22, 23]]])]\n"
     ]
    }
   ],
   "source": [
    "# vsplit\n",
    "v = np.vsplit(x, 2)\n",
    "for i in v:\n",
    "    print(i.shape)\n",
    "print(v)"
   ]
  },
  {
   "cell_type": "code",
   "execution_count": 23,
   "id": "ae984608-7dbd-41fa-a882-92646148d9cd",
   "metadata": {
    "ExecuteTime": {
     "end_time": "2024-08-04T02:26:17.822140Z",
     "start_time": "2024-08-04T02:26:17.819737Z"
    }
   },
   "outputs": [
    {
     "name": "stdout",
     "output_type": "stream",
     "text": [
      "(2, 2, 3)\n",
      "(2, 2, 3)\n",
      "[array([[[ 0,  1,  2],\n",
      "        [ 3,  4,  5]],\n",
      "\n",
      "       [[12, 13, 14],\n",
      "        [15, 16, 17]]]), array([[[ 6,  7,  8],\n",
      "        [ 9, 10, 11]],\n",
      "\n",
      "       [[18, 19, 20],\n",
      "        [21, 22, 23]]])]\n"
     ]
    }
   ],
   "source": [
    "# hsplit\n",
    "h = np.hsplit(x, 2)\n",
    "for i in h:\n",
    "    print(i.shape)\n",
    "print(h)"
   ]
  },
  {
   "cell_type": "code",
   "execution_count": 24,
   "id": "5c0d563d-16a6-4f46-bd84-f403406009cf",
   "metadata": {
    "ExecuteTime": {
     "end_time": "2024-08-04T02:26:17.825639Z",
     "start_time": "2024-08-04T02:26:17.823323Z"
    },
    "scrolled": true
   },
   "outputs": [
    {
     "name": "stdout",
     "output_type": "stream",
     "text": [
      "(2, 1, 3)\n",
      "(2, 2, 3)\n",
      "(2, 1, 3)\n",
      "[array([[[ 0,  1,  2]],\n",
      "\n",
      "       [[12, 13, 14]]]), array([[[ 3,  4,  5],\n",
      "        [ 6,  7,  8]],\n",
      "\n",
      "       [[15, 16, 17],\n",
      "        [18, 19, 20]]]), array([[[ 9, 10, 11]],\n",
      "\n",
      "       [[21, 22, 23]]])]\n"
     ]
    }
   ],
   "source": [
    "h_neq = np.hsplit(x, (1, 3))\n",
    "for i in h_neq:\n",
    "    print(i.shape)\n",
    "print(h_neq)"
   ]
  },
  {
   "cell_type": "code",
   "execution_count": 25,
   "id": "47b3651c",
   "metadata": {
    "ExecuteTime": {
     "end_time": "2024-08-04T02:26:17.829853Z",
     "start_time": "2024-08-04T02:26:17.826786Z"
    }
   },
   "outputs": [
    {
     "data": {
      "text/plain": [
       "[array([0., 1., 2.]), array([3., 4., 5.]), array([6., 7.])]"
      ]
     },
     "execution_count": 25,
     "metadata": {},
     "output_type": "execute_result"
    }
   ],
   "source": [
    "# split和array_split\n",
    "# 因为array_split更灵活，所以切cross validation的folds时，用它更合适\n",
    "x = np.arange(8.0)\n",
    "np.array_split(x, 3)  # 因为不能整除，所以np.split(x, 3)  的话会报错"
   ]
  },
  {
   "cell_type": "code",
   "execution_count": 26,
   "id": "5995dc58",
   "metadata": {
    "ExecuteTime": {
     "end_time": "2024-08-04T02:26:17.833815Z",
     "start_time": "2024-08-04T02:26:17.830976Z"
    }
   },
   "outputs": [
    {
     "data": {
      "text/plain": [
       "[array([0, 1, 2]), array([3, 4]), array([5, 6]), array([7, 8])]"
      ]
     },
     "execution_count": 26,
     "metadata": {},
     "output_type": "execute_result"
    }
   ],
   "source": [
    "x = np.arange(9)\n",
    "np.array_split(x, 4)"
   ]
  },
  {
   "cell_type": "markdown",
   "id": "949d2dd1",
   "metadata": {},
   "source": [
    "#### III.2 delete\n",
    " - np.delete(array_name, index, axis=0)删除axis指定维度上，由index指定位置的data\n",
    " - 返回一个新的array，这个array"
   ]
  },
  {
   "cell_type": "code",
   "execution_count": 27,
   "id": "81fa72f2",
   "metadata": {
    "ExecuteTime": {
     "end_time": "2024-08-04T02:26:17.839801Z",
     "start_time": "2024-08-04T02:26:17.837043Z"
    }
   },
   "outputs": [
    {
     "data": {
      "text/plain": [
       "array([2, 4, 6])"
      ]
     },
     "execution_count": 27,
     "metadata": {},
     "output_type": "execute_result"
    }
   ],
   "source": [
    "arr = np.arange(6) + 1\n",
    "np.delete(arr, [0,2,4], axis=0)"
   ]
  },
  {
   "cell_type": "code",
   "execution_count": 28,
   "id": "270f569d",
   "metadata": {
    "ExecuteTime": {
     "end_time": "2024-08-04T02:26:17.844018Z",
     "start_time": "2024-08-04T02:26:17.840898Z"
    }
   },
   "outputs": [
    {
     "data": {
      "text/plain": [
       "(array([1, 2, 3, 4, 5, 6]),\n",
       " array([False,  True, False,  True, False,  True]),\n",
       " array([2, 4, 6]))"
      ]
     },
     "execution_count": 28,
     "metadata": {},
     "output_type": "execute_result"
    }
   ],
   "source": [
    "# 效果相当于用mask执行下面语句\n",
    "mask = np.ones(len(arr), dtype=bool)\n",
    "mask[[0, 2, 4]] = False\n",
    "arr, mask, arr[mask]"
   ]
  },
  {
   "cell_type": "code",
   "execution_count": 29,
   "id": "5648283a",
   "metadata": {
    "ExecuteTime": {
     "end_time": "2024-08-04T02:26:17.847842Z",
     "start_time": "2024-08-04T02:26:17.845104Z"
    }
   },
   "outputs": [
    {
     "data": {
      "text/plain": [
       "array([[ 0,  1,  2,  3],\n",
       "       [ 4,  5,  6,  7],\n",
       "       [ 8,  9, 10, 11]])"
      ]
     },
     "execution_count": 29,
     "metadata": {},
     "output_type": "execute_result"
    }
   ],
   "source": [
    "a = np.arange(12).reshape(3, 4)\n",
    "a"
   ]
  },
  {
   "cell_type": "code",
   "execution_count": 30,
   "id": "70415f9b",
   "metadata": {
    "ExecuteTime": {
     "end_time": "2024-08-04T02:26:17.851576Z",
     "start_time": "2024-08-04T02:26:17.848918Z"
    }
   },
   "outputs": [
    {
     "data": {
      "text/plain": [
       "array([[ 0,  1,  2,  3],\n",
       "       [ 8,  9, 10, 11]])"
      ]
     },
     "execution_count": 30,
     "metadata": {},
     "output_type": "execute_result"
    }
   ],
   "source": [
    "np.delete(a, 1, axis=0)"
   ]
  },
  {
   "cell_type": "code",
   "execution_count": 31,
   "id": "b3276131",
   "metadata": {
    "ExecuteTime": {
     "end_time": "2024-08-04T02:26:17.855294Z",
     "start_time": "2024-08-04T02:26:17.852652Z"
    }
   },
   "outputs": [
    {
     "data": {
      "text/plain": [
       "array([[ 0,  2,  3],\n",
       "       [ 4,  6,  7],\n",
       "       [ 8, 10, 11]])"
      ]
     },
     "execution_count": 31,
     "metadata": {},
     "output_type": "execute_result"
    }
   ],
   "source": [
    "np.delete(a, 1, axis=1)"
   ]
  },
  {
   "cell_type": "markdown",
   "id": "b51bbb26",
   "metadata": {},
   "source": [
    "### IV. squeeze\n",
    "np.squeeze(array, axis=None)的功能是将array中length为1的dim去掉"
   ]
  },
  {
   "cell_type": "code",
   "execution_count": 32,
   "id": "02b94b9c",
   "metadata": {
    "ExecuteTime": {
     "end_time": "2024-08-04T02:26:17.858842Z",
     "start_time": "2024-08-04T02:26:17.856365Z"
    }
   },
   "outputs": [
    {
     "data": {
      "text/plain": [
       "(1, 3, 1)"
      ]
     },
     "execution_count": 32,
     "metadata": {},
     "output_type": "execute_result"
    }
   ],
   "source": [
    "x = np.array([[[0], [1], [2]]])\n",
    "x.shape"
   ]
  },
  {
   "cell_type": "code",
   "execution_count": 33,
   "id": "0edd15b7",
   "metadata": {
    "ExecuteTime": {
     "end_time": "2024-08-04T02:26:17.862310Z",
     "start_time": "2024-08-04T02:26:17.859856Z"
    }
   },
   "outputs": [
    {
     "data": {
      "text/plain": [
       "(3,)"
      ]
     },
     "execution_count": 33,
     "metadata": {},
     "output_type": "execute_result"
    }
   ],
   "source": [
    "np.squeeze(x).shape"
   ]
  },
  {
   "cell_type": "code",
   "execution_count": 34,
   "id": "532af493",
   "metadata": {
    "ExecuteTime": {
     "end_time": "2024-08-04T02:26:17.865710Z",
     "start_time": "2024-08-04T02:26:17.863343Z"
    }
   },
   "outputs": [
    {
     "data": {
      "text/plain": [
       "(1, 3)"
      ]
     },
     "execution_count": 34,
     "metadata": {},
     "output_type": "execute_result"
    }
   ],
   "source": [
    "# 指定特定dim被sequeeze\n",
    "np.squeeze(x, axis=2).shape"
   ]
  },
  {
   "cell_type": "code",
   "execution_count": 35,
   "id": "7bf7465e",
   "metadata": {
    "ExecuteTime": {
     "end_time": "2024-08-04T02:26:17.869466Z",
     "start_time": "2024-08-04T02:26:17.866658Z"
    }
   },
   "outputs": [
    {
     "data": {
      "text/plain": [
       "((), array(1234))"
      ]
     },
     "execution_count": 35,
     "metadata": {},
     "output_type": "execute_result"
    }
   ],
   "source": [
    "# squeeze到极限的时候要注意shape的问题\n",
    "y = np.array([[1234]])\n",
    "s = y.squeeze()\n",
    "s.shape, s"
   ]
  },
  {
   "cell_type": "code",
   "execution_count": 36,
   "id": "2e6ee83b",
   "metadata": {
    "ExecuteTime": {
     "end_time": "2024-08-04T02:26:17.873278Z",
     "start_time": "2024-08-04T02:26:17.870520Z"
    }
   },
   "outputs": [
    {
     "data": {
      "text/plain": [
       "((), (1,))"
      ]
     },
     "execution_count": 36,
     "metadata": {},
     "output_type": "execute_result"
    }
   ],
   "source": [
    "# 注意下面两种array的shape差异\n",
    "a = np.array(1)   # 这个array的dim=0\n",
    "b = np.array([1]) # 这个array的dim=1\n",
    "a.shape, b.shape"
   ]
  },
  {
   "cell_type": "code",
   "execution_count": 37,
   "id": "ccff211c",
   "metadata": {
    "ExecuteTime": {
     "end_time": "2024-08-04T02:26:17.876872Z",
     "start_time": "2024-08-04T02:26:17.874486Z"
    }
   },
   "outputs": [
    {
     "data": {
      "text/plain": [
       "(1, 1)"
      ]
     },
     "execution_count": 37,
     "metadata": {},
     "output_type": "execute_result"
    }
   ],
   "source": [
    "# a[0] # Error\n",
    "a[()], b[0]"
   ]
  }
 ],
 "metadata": {
  "kernelspec": {
   "display_name": "cs224nhw",
   "language": "python",
   "name": "cs224nhw"
  },
  "language_info": {
   "codemirror_mode": {
    "name": "ipython",
    "version": 3
   },
   "file_extension": ".py",
   "mimetype": "text/x-python",
   "name": "python",
   "nbconvert_exporter": "python",
   "pygments_lexer": "ipython3",
   "version": "3.10.13"
  }
 },
 "nbformat": 4,
 "nbformat_minor": 5
}
