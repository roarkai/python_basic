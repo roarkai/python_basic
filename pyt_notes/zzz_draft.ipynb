{
 "cells": [
  {
   "cell_type": "code",
   "execution_count": 1,
   "id": "f37dfbb5",
   "metadata": {
    "ExecuteTime": {
     "end_time": "2024-08-15T01:58:57.286273Z",
     "start_time": "2024-08-15T01:58:55.931889Z"
    }
   },
   "outputs": [],
   "source": [
    "import torch\n",
    "import math\n",
    "import torch.nn as nn\n",
    "import torchviz\n",
    "# 配置\n",
    "device = torch.device('cuda')\n",
    "dtype = torch.float"
   ]
  },
  {
   "cell_type": "code",
   "execution_count": 14,
   "id": "7b0bad6f",
   "metadata": {
    "ExecuteTime": {
     "end_time": "2024-08-15T02:10:44.643623Z",
     "start_time": "2024-08-15T02:10:44.634131Z"
    }
   },
   "outputs": [
    {
     "data": {
      "text/plain": [
       "(tensor([[-0.1468,  0.7861,  0.9468, -1.1143],\n",
       "         [ 1.6908, -0.8948, -0.3556,  1.2324],\n",
       "         [ 0.1382, -1.6822,  0.3177,  0.1328]]),\n",
       " tensor([[0, 1, 1, 0],\n",
       "         [1, 0, 0, 1],\n",
       "         [1, 0, 1, 1]], dtype=torch.int32))"
      ]
     },
     "execution_count": 14,
     "metadata": {},
     "output_type": "execute_result"
    }
   ],
   "source": [
    "torch.manual_seed(7)\n",
    "a = torch.randn((3, 4))\n",
    "mask = (a > 0).to(torch.int)\n",
    "a, mask"
   ]
  },
  {
   "cell_type": "code",
   "execution_count": 41,
   "id": "49e9d8c2",
   "metadata": {
    "ExecuteTime": {
     "end_time": "2024-08-15T03:04:00.339612Z",
     "start_time": "2024-08-15T03:04:00.333431Z"
    }
   },
   "outputs": [],
   "source": [
    "N = 2\n",
    "C = 10\n",
    "torch.manual_seed(7)\n",
    "conv = nn.Conv2d(in_channels=3, out_channels=6, kernel_size=3, padding=0)\n",
    "\n",
    "x = torch.randn((N, 3, 64, 64), requires_grad=True)"
   ]
  },
  {
   "cell_type": "code",
   "execution_count": 43,
   "id": "ab26b597",
   "metadata": {
    "ExecuteTime": {
     "end_time": "2024-08-15T03:05:22.109725Z",
     "start_time": "2024-08-15T03:05:22.103260Z"
    }
   },
   "outputs": [
    {
     "data": {
      "text/plain": [
       "tensor([ 86.9224, 166.3909], grad_fn=<SqueezeBackward0>)"
      ]
     },
     "execution_count": 43,
     "metadata": {},
     "output_type": "execute_result"
    }
   ],
   "source": [
    "scores = conv(x)\n",
    "tar_ind = torch.argmax(s, axis=1).view(-1, 1)\n",
    "tar_score = s.gather(1, tar_ind).squeeze()\n",
    "\n",
    "saliency = y.abs().max(dim=1)\n",
    "\n",
    "tar_score"
   ]
  },
  {
   "cell_type": "code",
   "execution_count": 44,
   "id": "536c22b2",
   "metadata": {
    "ExecuteTime": {
     "end_time": "2024-08-15T03:05:23.359794Z",
     "start_time": "2024-08-15T03:05:23.291149Z"
    }
   },
   "outputs": [
    {
     "data": {
      "text/plain": [
       "tensor([[[[ 1.5142e-01, -7.6450e-02,  7.1000e-01,  ...,  3.1947e-01,\n",
       "            4.9509e-01, -1.3172e-01],\n",
       "          [-1.9960e-01, -3.2566e-01,  5.8060e-01,  ..., -4.1881e-01,\n",
       "            6.2985e-01, -4.4716e-01],\n",
       "          [-2.9260e-01, -9.9773e-01, -6.7041e-01,  ..., -1.3574e+00,\n",
       "           -2.6806e-01,  1.9421e-01],\n",
       "          ...,\n",
       "          [ 1.2233e-01, -1.3666e+00,  5.4411e-01,  ...,  1.8666e-01,\n",
       "           -9.0199e-02,  1.3706e-01],\n",
       "          [-5.5166e-01,  2.9372e-01,  5.4294e-01,  ...,  6.3307e-01,\n",
       "            1.2115e-01, -2.6955e-01],\n",
       "          [ 1.6846e-01, -2.0372e-01,  3.0959e-01,  ...,  1.1556e-01,\n",
       "            1.6999e-01, -6.3866e-02]],\n",
       "\n",
       "         [[ 3.6823e-01,  3.1229e-01, -1.6630e-01,  ..., -2.5525e-01,\n",
       "           -6.6940e-02, -1.9454e-01],\n",
       "          [-1.6650e-01,  3.6783e-01,  6.4801e-01,  ...,  4.8027e-01,\n",
       "            7.0673e-01, -3.1327e-02],\n",
       "          [ 3.4554e-01, -7.4015e-02, -7.6807e-01,  ..., -6.9266e-01,\n",
       "            2.1331e-02,  1.5547e-02],\n",
       "          ...,\n",
       "          [-4.2924e-01,  9.6884e-02, -2.3405e-01,  ..., -1.5757e+00,\n",
       "           -5.7148e-01, -1.2132e-01],\n",
       "          [ 1.5861e-01, -1.5869e-01,  1.4143e-01,  ..., -6.8283e-01,\n",
       "           -3.3706e-01, -7.6309e-01],\n",
       "          [ 3.6323e-02,  5.2967e-01, -1.8202e-01,  ..., -3.4631e-01,\n",
       "            1.0398e-01, -3.1671e-01]],\n",
       "\n",
       "         [[-3.9345e-01, -3.2132e-01,  1.0268e+00,  ...,  2.8694e-01,\n",
       "            4.4148e-01,  2.0665e-02],\n",
       "          [-2.8323e-01,  5.3223e-01, -1.1778e+00,  ...,  7.2283e-03,\n",
       "           -9.4743e-02, -3.8576e-01],\n",
       "          [-6.3822e-01, -3.6873e-02, -1.7284e-01,  ...,  5.8054e-01,\n",
       "            1.2454e-01, -4.0172e-01],\n",
       "          ...,\n",
       "          [-3.3404e-01,  4.4533e-01,  8.8791e-03,  ...,  9.7790e-01,\n",
       "            5.6081e-01,  5.4038e-01],\n",
       "          [ 2.3098e-01,  8.0406e-01,  1.4139e-01,  ..., -1.3575e+00,\n",
       "           -4.3235e-01,  2.6102e-01],\n",
       "          [-1.3935e-01,  4.0686e-01, -8.5637e-01,  ..., -3.2095e-01,\n",
       "            2.9539e-01,  8.4555e-02]]],\n",
       "\n",
       "\n",
       "        [[[ 1.6935e-01, -1.5042e-02, -2.6585e-01,  ...,  4.0217e-01,\n",
       "           -2.4870e-01,  6.4318e-02],\n",
       "          [ 4.3984e-01, -1.3524e+00, -3.1052e-01,  ..., -6.6239e-01,\n",
       "           -7.2586e-04,  4.1420e-01],\n",
       "          [ 2.4925e-02, -1.3418e+00, -1.2151e+00,  ..., -4.6456e-01,\n",
       "           -2.2835e-01,  1.9947e-01],\n",
       "          ...,\n",
       "          [-1.7102e-02,  3.2906e-01,  7.0172e-01,  ..., -4.6537e-01,\n",
       "           -2.9065e-03,  3.1598e-01],\n",
       "          [ 5.2254e-02,  1.4316e-02,  5.4034e-01,  ..., -1.5698e+00,\n",
       "           -6.7536e-01, -4.9654e-01],\n",
       "          [-8.2725e-02,  2.1493e-02,  2.2082e-02,  ...,  3.6033e-01,\n",
       "            1.0104e-01, -5.6071e-02]],\n",
       "\n",
       "         [[ 2.9197e-01,  1.6814e-01,  6.5885e-01,  ..., -6.6983e-01,\n",
       "           -1.8005e-01,  1.2017e-01],\n",
       "          [ 3.8838e-01, -1.1055e-01, -2.6097e-01,  ...,  4.0215e-01,\n",
       "           -3.7533e-01,  6.1585e-02],\n",
       "          [ 3.6191e-02,  1.3123e-01, -1.9331e+00,  ...,  1.3567e-01,\n",
       "           -8.3058e-02,  5.4780e-01],\n",
       "          ...,\n",
       "          [ 1.0769e-01,  4.5250e-01,  2.5930e-01,  ...,  1.1769e+00,\n",
       "            2.7701e-03,  3.9487e-01],\n",
       "          [-1.0470e-01,  1.3099e-01,  7.7250e-02,  ...,  1.7767e-01,\n",
       "            3.9056e-01, -1.3830e-01],\n",
       "          [ 1.1327e-01,  4.6321e-02,  4.8206e-01,  ...,  5.0727e-01,\n",
       "           -2.5614e-01,  2.3680e-01]],\n",
       "\n",
       "         [[-4.5989e-01,  3.0805e-01,  2.3511e-01,  ...,  7.4351e-01,\n",
       "           -7.4661e-03, -3.2875e-01],\n",
       "          [ 3.5565e-01,  4.9567e-01,  2.4138e-01,  ..., -2.8923e-01,\n",
       "            3.5230e-01,  4.2682e-03],\n",
       "          [-1.0579e+00,  6.3828e-01,  1.0432e+00,  ..., -2.0379e-02,\n",
       "            6.3612e-01,  7.3180e-01],\n",
       "          ...,\n",
       "          [-1.0676e-01, -1.8688e-01, -7.5023e-01,  ..., -7.4135e-01,\n",
       "            1.1935e+00,  2.3230e-01],\n",
       "          [ 3.6941e-01, -1.1401e-01, -3.4449e-01,  ...,  5.2603e-01,\n",
       "            4.2674e-01,  8.7481e-02],\n",
       "          [ 2.5351e-01,  1.5098e-01,  4.3425e-01,  ..., -3.9286e-01,\n",
       "           -1.0900e+00, -5.4558e-01]]]])"
      ]
     },
     "execution_count": 44,
     "metadata": {},
     "output_type": "execute_result"
    }
   ],
   "source": [
    "tar_score.sum().backward()\n",
    "x.grad"
   ]
  },
  {
   "cell_type": "code",
   "execution_count": null,
   "id": "af9dfa9c",
   "metadata": {},
   "outputs": [],
   "source": [
    "class rktestModule(nn.Module):\n",
    "    def __init__(self):\n",
    "        super().__init__()\n",
    "        self.aff1 = nn.Linear(20, 100)\n",
    "        self.aff2 = nn.Linear(100, 10)\n",
    "    \n",
    "    def forward(self, x):\n",
    "        x = self.aff1(x)\n",
    "        x = F.relu(x)\n",
    "        y = self.aff2(x)\n",
    "        return y\n",
    "\n",
    "net = rktestModule()\n",
    "torch.manual_seed(2)\n",
    "x = torch.randn(2, 20)\n",
    "y = torch.randn(2, 10)\n",
    "\n",
    "score = net(x)\n",
    "loss = F.cross_entropy(score, y)\n",
    "loss.backward()"
   ]
  }
 ],
 "metadata": {
  "kernelspec": {
   "display_name": "Python [conda env:231n] *",
   "language": "python",
   "name": "conda-env-231n-py"
  },
  "language_info": {
   "codemirror_mode": {
    "name": "ipython",
    "version": 3
   },
   "file_extension": ".py",
   "mimetype": "text/x-python",
   "name": "python",
   "nbconvert_exporter": "python",
   "pygments_lexer": "ipython3",
   "version": "3.10.12"
  }
 },
 "nbformat": 4,
 "nbformat_minor": 5
}
