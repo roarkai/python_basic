{
 "cells": [
  {
   "cell_type": "code",
   "execution_count": 1,
   "id": "f7029e85",
   "metadata": {
    "ExecuteTime": {
     "end_time": "2024-08-13T03:55:20.638527Z",
     "start_time": "2024-08-13T03:55:19.278598Z"
    }
   },
   "outputs": [],
   "source": [
    "import torch\n",
    "import torchviz\n",
    "import torch.nn as nn\n",
    "import torch.nn.functional as F"
   ]
  },
  {
   "cell_type": "markdown",
   "id": "46a5963b",
   "metadata": {},
   "source": [
    "# Hooks\n",
    "官方文档：\n",
    "   - hooks for saved tensors\n",
    "   - autograd mechanics中的Hooks for saved tensors\n",
    "   - modules中的module hooks部分"
   ]
  },
  {
   "cell_type": "markdown",
   "id": "2775b7ec",
   "metadata": {},
   "source": [
    "#### 基本概念\n",
    "- **什么是hook**\n",
    "  - hook是一个特殊函数，它在autograd.Function的forward或backward method被调用前，或者计算结束后被执行。用来在常规的forward/backward pass中执行任意的code。在不调整forward/backward method定义，从而不会影响autograd machine的执行逻辑的条件下，完成hook Function中指定的‘支线任务’。\n",
    "\n",
    "- **hooks的类型**:\n",
    "  - 按照接入autograd过程的位置，可以分为：\n",
    "    - forward hook: 在forward method计算开始前或计算完成后执行\n",
    "    - backward hook：在backward method计算开始前或计算完成后执行\n",
    "  - 按照作用对象，可以分为3种，其中两种都用在tensor对象上：\n",
    "    - 作用在tensor上的tentor.register_hook()，torch.Tensor.register_post_accumulate_grad_hook()，torch.autograd.graph.Node.register_hook()，torch.autograd.graph.Node.register_prehook()\n",
    "    - 专门用在graph中saved_tensor上的torch.autograd.graph.saved_tenors_hooks()\n",
    "    - 作用在module上的torch.nn.module.register_module_(forward_/bacward_)hook\n",
    "\n",
    "- **hook的使用对象**：tensor或者nn.Module\n",
    "  - **on tensor**：用于tensor的hook只有backward hook\n",
    "  - **on nn.Module：** 既有forward又有backward hook"
   ]
  },
  {
   "cell_type": "markdown",
   "id": "aed7879b",
   "metadata": {},
   "source": [
    "- **用法：针对各自特定的对象，做inspect或者modify**\n",
    "  1. <font color=blue>**saved_tensor上的hook**</font>功能明确，一般用于将forward method向backward method传递的tensor转移到GPU之外的存储介质上，以节省memory space\n",
    "  2. <font color=blue>**tensor.register_hook(hookfunc)**</font>只有backward hook，在每次register的tensor在backward pass中计算出gradient值之后被执行。作用的对象是tensor.grad。\n",
    "  3. module类的hook既有forward hook，又有backward hook\n",
    "     1. <font color=blue>**module forward hook**</font>定义方式是hook_name(module, input, output)。可见作用于module的input和output上。\n",
    "     2. <font color=blue>**module backward hook**</font>定义方式是hook_name(module, grad_input, grad_output)。可见作用于module的grad_input和grad_output上。\n",
    "- 具体场景有：\n",
    "  1. 查看gradient或者forward计算的intermediate result，比如activation的信息(value, shape)用来做模型分析。比如：\n",
    "     - debug，比如看gradient有没有vanishing/exploding\n",
    "     - feature visualization：用intermediate activations的值\n",
    "     - get feature map statistics：查看acitvation的mean, std, max/min\n",
    "  2. gradient manipulation。这个可以用来实现：\n",
    "     - gradient clipping\n",
    "     - custom regularization：用自定义的方式限制weight的值"
   ]
  },
  {
   "cell_type": "markdown",
   "id": "1fd58d23",
   "metadata": {},
   "source": [
    "## I. Hooks for generic tensors\n",
    "参考资料：pytorch101系列5，understanding hooks https://blog.paperspace.com/pytorch-hooks-gradient-clipping-debugging/"
   ]
  },
  {
   "cell_type": "markdown",
   "id": "8ec342d1",
   "metadata": {},
   "source": [
    "#### 1. 打印intermediate value的grad信息"
   ]
  },
  {
   "cell_type": "code",
   "execution_count": 2,
   "id": "d1957327",
   "metadata": {
    "ExecuteTime": {
     "end_time": "2024-08-13T03:55:20.643655Z",
     "start_time": "2024-08-13T03:55:20.640665Z"
    }
   },
   "outputs": [],
   "source": [
    "#  定义hook function\n",
    "def printgrad(grad):\n",
    "    return print(grad)"
   ]
  },
  {
   "cell_type": "code",
   "execution_count": 3,
   "id": "291c2df1",
   "metadata": {
    "ExecuteTime": {
     "end_time": "2024-08-13T03:55:20.682225Z",
     "start_time": "2024-08-13T03:55:20.645278Z"
    }
   },
   "outputs": [
    {
     "name": "stdout",
     "output_type": "stream",
     "text": [
      "tensor([-1.8891,  0.5235,  0.4592])\n"
     ]
    }
   ],
   "source": [
    "# 如果不用hook就要设置retain_grad参数，会占用额外的memory\n",
    "torch.manual_seed(2)\n",
    "w = torch.randn(5, requires_grad=True)\n",
    "b = torch.randn(3, requires_grad=True)\n",
    "x = torch.ones((3, 5))\n",
    "y = x @ w + b\n",
    "loss = (y ** 2).sum()\n",
    "\n",
    "y.retain_grad()\n",
    "\n",
    "loss.backward()\n",
    "print(y.grad)"
   ]
  },
  {
   "cell_type": "code",
   "execution_count": 4,
   "id": "f03f98c6",
   "metadata": {
    "ExecuteTime": {
     "end_time": "2024-08-13T03:55:20.689429Z",
     "start_time": "2024-08-13T03:55:20.684330Z"
    }
   },
   "outputs": [
    {
     "name": "stdout",
     "output_type": "stream",
     "text": [
      "tensor([-1.8891,  0.5235,  0.4592])\n"
     ]
    }
   ],
   "source": [
    "# 用了hook就不需要设置\n",
    "torch.manual_seed(2)\n",
    "w = torch.randn(5, requires_grad=True)\n",
    "b = torch.randn(3, requires_grad=True)\n",
    "x = torch.ones((3, 5))\n",
    "y = x @ w + b\n",
    "loss = (y ** 2).sum()\n",
    "\n",
    "y.register_hook(printgrad)\n",
    "\n",
    "loss.backward()"
   ]
  },
  {
   "cell_type": "markdown",
   "id": "ca787427",
   "metadata": {},
   "source": [
    "#### 2. 修改gradient计算方式\n",
    "- 使用hook修改gradient的计算方式后，autograd能自动将修改后的值向前传递"
   ]
  },
  {
   "cell_type": "code",
   "execution_count": 5,
   "id": "13c28f1d",
   "metadata": {
    "ExecuteTime": {
     "end_time": "2024-08-13T03:55:20.693671Z",
     "start_time": "2024-08-13T03:55:20.691100Z"
    }
   },
   "outputs": [],
   "source": [
    "#  定义hook function\n",
    "def doublegrad(grad):\n",
    "    return grad * 2"
   ]
  },
  {
   "cell_type": "code",
   "execution_count": 6,
   "id": "bb50609b",
   "metadata": {
    "ExecuteTime": {
     "end_time": "2024-08-13T03:55:20.700689Z",
     "start_time": "2024-08-13T03:55:20.695041Z"
    },
    "scrolled": true
   },
   "outputs": [
    {
     "name": "stdout",
     "output_type": "stream",
     "text": [
      "tensor([-1.8891,  0.5235,  0.4592])\n",
      "w: tensor([-0.9064, -0.9064, -0.9064, -0.9064, -0.9064])\n"
     ]
    }
   ],
   "source": [
    "# 原函数\n",
    "torch.manual_seed(2)\n",
    "w = torch.randn(5, requires_grad=True)\n",
    "b = torch.randn(3, requires_grad=True)\n",
    "x = torch.ones((3, 5))\n",
    "y = x @ w + b\n",
    "loss = (y ** 2).sum()\n",
    "\n",
    "y.register_hook(printgrad)\n",
    "\n",
    "loss.backward()\n",
    "print('w:', w.grad)"
   ]
  },
  {
   "cell_type": "code",
   "execution_count": 7,
   "id": "b2778a6f",
   "metadata": {
    "ExecuteTime": {
     "end_time": "2024-08-13T03:55:20.707612Z",
     "start_time": "2024-08-13T03:55:20.702068Z"
    }
   },
   "outputs": [
    {
     "name": "stdout",
     "output_type": "stream",
     "text": [
      "y: tensor([-3.7783,  1.0471,  0.9184])\n",
      "w: tensor([-0.9064, -0.9064, -0.9064, -0.9064, -0.9064])\n"
     ]
    }
   ],
   "source": [
    "# 如果不用hook，而是在retain_grad之后直接修改y的gradient：\n",
    "# 修改后的值不会向前传递，forward中前序参数的梯度值没有变化\n",
    "torch.manual_seed(2)\n",
    "w = torch.randn(5, requires_grad=True)\n",
    "b = torch.randn(3, requires_grad=True)\n",
    "x = torch.ones((3, 5))\n",
    "y = x @ w + b\n",
    "loss = (y ** 2).sum()\n",
    "\n",
    "y.retain_grad()\n",
    "\n",
    "loss.backward()\n",
    "\n",
    "y.grad *= 2\n",
    "print('y:', y.grad)\n",
    "print('w:', w.grad)"
   ]
  },
  {
   "cell_type": "code",
   "execution_count": 8,
   "id": "3a733af9",
   "metadata": {
    "ExecuteTime": {
     "end_time": "2024-08-13T03:55:20.714604Z",
     "start_time": "2024-08-13T03:55:20.708964Z"
    },
    "scrolled": true
   },
   "outputs": [
    {
     "name": "stdout",
     "output_type": "stream",
     "text": [
      "tensor([-3.7783,  1.0471,  0.9184])\n",
      "w: tensor([-1.8128, -1.8128, -1.8128, -1.8128, -1.8128])\n"
     ]
    }
   ],
   "source": [
    "# 改成hook之后，hook函数的输出会代替y的grad在autograd执行过程中使用\n",
    "torch.manual_seed(2)\n",
    "w = torch.randn(5, requires_grad=True)\n",
    "b = torch.randn(3, requires_grad=True)\n",
    "x = torch.ones((3, 5))\n",
    "y = x @ w + b\n",
    "loss = (y ** 2).sum()\n",
    "\n",
    "y.register_hook(doublegrad) # hook for gradient manipulation\n",
    "y.register_hook(printgrad) # hook for print\n",
    "\n",
    "loss.backward()\n",
    "\n",
    "print('w:', w.grad)"
   ]
  },
  {
   "cell_type": "markdown",
   "id": "1eb2b5d8",
   "metadata": {},
   "source": [
    "#### 3. 对module中指定的tensor做gradient clipping"
   ]
  },
  {
   "cell_type": "code",
   "execution_count": 9,
   "id": "0750a030",
   "metadata": {
    "ExecuteTime": {
     "end_time": "2024-08-13T03:55:20.725097Z",
     "start_time": "2024-08-13T03:55:20.715974Z"
    }
   },
   "outputs": [
    {
     "name": "stdout",
     "output_type": "stream",
     "text": [
      "torch.Size([5])\n",
      "bias_grad in linear layer: tensor([-0.2000, -0.2000, -0.2000, -0.2000, -0.2000])\n"
     ]
    }
   ],
   "source": [
    "# ----------------  原模型  ----------------\n",
    "class TestNet(nn.Module):\n",
    "    def __init__(self):\n",
    "        super().__init__()\n",
    "        self.conv = nn.Conv2d(3, 10, 2, stride=2)\n",
    "        self.relu = nn.ReLU()\n",
    "        self.flatten = lambda x: x.view(-1)\n",
    "        self.fc = nn.Linear(160, 5)\n",
    "    \n",
    "    def forward(self, x):\n",
    "        x = self.relu(self.conv(x))         \n",
    "        return self.fc(self.flatten(x))\n",
    "\n",
    "torch.manual_seed(2)\n",
    "x = torch.randn(1, 3, 8, 8)\n",
    "net = TestNet()\n",
    "out = net(x)\n",
    "loss = (1 - out).mean()\n",
    "loss.backward()\n",
    "\n",
    "print(out.shape)\n",
    "# bias_grad in linear layer should be -1/out.shape\n",
    "print('bias_grad in linear layer:', net.fc.bias.grad)"
   ]
  },
  {
   "cell_type": "markdown",
   "id": "44fd1605",
   "metadata": {},
   "source": [
    "- <font color=blue>**给tensor加入backward hook后，Backward pass的执行顺序**</font>\n",
    "  1. 从root开始按照chainrule执行backward pass\n",
    "  2. 遇到hook后，对制定tensor的grad执行相应的ops，如果同一位置有多个hook，按他们在module中出现的顺序执行操作，而不是想chainrule那样反向操作。如下例：\\\n",
    "     - fc layer backward method     -> \n",
    "     - flatten layer                ->   \n",
    "     - register for clamp           ->\n",
    "     - register for print shape     -> \n",
    "     - register for check gradient  -> \n",
    "     - relu layer backward method   -> \n",
    "     - conv layer backward method"
   ]
  },
  {
   "cell_type": "code",
   "execution_count": 10,
   "id": "28e03686",
   "metadata": {
    "ExecuteTime": {
     "end_time": "2024-08-13T03:55:20.735878Z",
     "start_time": "2024-08-13T03:55:20.728049Z"
    }
   },
   "outputs": [
    {
     "name": "stdout",
     "output_type": "stream",
     "text": [
      "size of relu output: torch.Size([1, 10, 4, 4])\n",
      "any grad < 0? False\n",
      "bias_grad in linear layer: tensor([0., 0., 0., 0., 0.])\n"
     ]
    }
   ],
   "source": [
    "#    1. 将linear层中bias的梯度改为0\n",
    "#    2. conv layer从downstream拿到的gradient大小都不小于0\n",
    "\n",
    "# ----------------  加入hook  ----------------\n",
    "class TestNet(nn.Module):\n",
    "    def __init__(self):\n",
    "        super().__init__()\n",
    "        self.conv = nn.Conv2d(3, 10, 2, stride=2)\n",
    "        self.relu = nn.ReLU()\n",
    "        self.flatten = lambda x: x.view(-1)\n",
    "        self.fc = nn.Linear(160, 5)\n",
    "    \n",
    "    def forward(self, x):\n",
    "        x = self.conv(x)\n",
    "        \n",
    "        x = self.relu(x)\n",
    "        # 设置hook：让x.grad >= 0\n",
    "        # 处理的是relu的output,因为relu的梯度只有0和1，所以处理relu之后的x即可\n",
    "        x.register_hook(lambda grad: torch.clamp(grad, min=0))\n",
    "        \n",
    "        x.register_hook(lambda grad: print('size of relu output:', grad.shape))\n",
    "        # 再加一个hook确认有没有x.grad是负值\n",
    "        # 这里改变的是relu运算后的x.grad，穿透relu的0，1mask，传给conv的仍然>0\n",
    "        x.register_hook(lambda grad: print('any grad < 0?', \\\n",
    "                                           bool((grad < 0).any())))\n",
    "        x = self.flatten(x)\n",
    "        y = self.fc(x)\n",
    "        return y    \n",
    "    \n",
    "torch.manual_seed(2)\n",
    "x = torch.randn(1, 3, 8, 8)\n",
    "net = TestNet()\n",
    "\n",
    "# 在model外部，给参数tenosr设置hook: 这里将linear层中bias的梯度改为0\n",
    "# 这种方式可以在不改变module定义的条件下设置hook\n",
    "for name, param in net.named_parameters():\n",
    "    if 'fc' in name and 'bias' in name:\n",
    "        param.register_hook(lambda grad: torch.zeros(grad.shape))\n",
    "\n",
    "out = net(x)\n",
    "loss = (1 - out).mean()\n",
    "loss.backward()\n",
    "\n",
    "# 确认bias的grad成功改成了全0\n",
    "print('bias_grad in linear layer:', net.fc.bias.grad)"
   ]
  },
  {
   "cell_type": "markdown",
   "id": "f24aa22e",
   "metadata": {},
   "source": [
    "#### Whether a particular hook will be fired\n",
    "1. **torch.Tensor.register_hook()** 在每次tensor的梯度计算后执行。\n",
    "   - <font color=orange>注，不要求tensor的grad_fn执行。比如，当Tensor被作为inputs参数传给torch.autograd.grad()时, 它的grad_fn不会被执行, 但它上面登记的register_hook会被执行。</font>说明：\n",
    "     - 通常情况下，grad_fn is used to propagate gradients backwards through the computation graph.但是当Tensor被作为inputs参数传给torch.autograd.grad()时, 它在计算图上会被当做leaf node。这就意味着它的grad_fn参数指向的backward method不会被执行来进一步向前传梯度。\n",
    "2. **torch.Tensor.register_post_accumulate_grad_hook()** 在完成梯度累积操作后执行。\n",
    "   - 用torch.Tensor.register_hook()登记的hook在每次gradients计算的时候都要执行, 但用torch.Tensor.register_post_accumulate_grad_hook()登记的hook只在backward pass的最后，完成梯度累积后执行一次。因此，post-accumulate-grad hooks的作用对象只能是leaf Tensors. 登记在非leaf tensor上会报错。"
   ]
  },
  {
   "cell_type": "markdown",
   "id": "09cc89a6",
   "metadata": {},
   "source": [
    "#### The order in which the different hooks are fired\n",
    "1. hooks registered to Tensor are executed\n",
    "2. pre-hooks registered to Node are executed (if Node is executed).\n",
    "3. the .grad field is updated for Tensors that retain_grad\n",
    "4. Node is executed (subject to rules above)\n",
    "5. for leaf Tensors that have .grad accumulated, post-accumulate-grad hooks are executed\n",
    "6. post-hooks registered to Node are executed (if Node is executed)\n",
    "\n",
    "If multiple hooks of the same type are registered on the same Tensor or Node they are executed in the order in which they are registered. "
   ]
  },
  {
   "cell_type": "markdown",
   "id": "0cc33edc",
   "metadata": {},
   "source": [
    "## II. Hooks for nn.Module objects"
   ]
  },
  {
   "cell_type": "markdown",
   "id": "2d19e310",
   "metadata": {},
   "source": [
    "- <font color=norange>hook函数的返回值将代替原input/output用在剩余的forward/backward computation中. </font>\n",
    "- 所以，这些hooks可以：\n",
    "  1. execute arbitrary code along the regular module forward/backward.\n",
    "  2. 修改指定的inputs/outputs而不用改变module的forward() function.\n",
    "- <font color=red>用于nn.Module的hook要注意module中可能涉及多个nn.Function，因此对应多个forward/backward calls，hook的作用会涉及多个call，如果不清楚有的pytorch自定义的module是如何工作的，hook的设置会容易弄错，使用的时候要仔细。</font>"
   ]
  },
  {
   "cell_type": "markdown",
   "id": "9de807d1",
   "metadata": {},
   "source": [
    "### II.1 register hooks\n",
    "#### II.1.1 register forward hooks\n",
    "- forward hook在forward pass中被调用，具体又有两种执行位置，**pre_hook**在forward method之前执行；**hook**在forward method执行完之后执行。\n",
    "- 下面1和2只对当前hook所reigster上的module有效。3和4是global hook，也就是installed for all modules。\n",
    "1. <font color=green>**register_forward_pre_hook(hook_func_name)**</font>\n",
    "   - 对应的hook function定义形式：<font color=norange>forward_pre_hook(m, inputs)</font>\n",
    "2. <font color=green>**register_forward_hook(hook_func_name)**</font>\n",
    "   - 对应的hook function定义形式：<font color=norange>forward_hook(m, inputs, output)</font>\n",
    "3. <font color=green>**register_module_forward_pre_hook(hook_func_name)**</font>\n",
    "4. <font color=green>**register_module_forward_hook(hook_func_name)**</font>："
   ]
  },
  {
   "cell_type": "markdown",
   "id": "40d83818",
   "metadata": {},
   "source": [
    "#### II.1.2 register backward hooks\n",
    "- backward hook都是在backward method执行完后执行。register_full_backward_pre_hook的作用对象只能是grad_outputs。register_full_backward_hook可以同时处理grad_inputs和grad_outputs。<font color=red>grad_intputs是指backward method的inputs，同理，grad_outputs是backward method的outputs。</font>\n",
    "- 下面1和2只对当前hook所reigster上的module有效。3和4是global hook，也就是installed for all modules。"
   ]
  },
  {
   "cell_type": "markdown",
   "id": "8ba66cb8",
   "metadata": {
    "ExecuteTime": {
     "end_time": "2024-08-13T02:35:22.427891Z",
     "start_time": "2024-08-13T02:35:22.423081Z"
    }
   },
   "source": [
    "1. <font color=green>**register_full_backward_pre_hook(hook_func_name)**</font>\n",
    "   - 对应的hook function定义形式：<font color=norange>backward_hook(m, grad_outputs)</font>\n",
    "2. <font color=green>**register_full_backward_hook(hook_func_name)**</font>：这个是原register_backward_hook()\n",
    "   - 对应的hook function定义形式：<font color=norange>backward_hook(m, grad_inputs, grad_outputs)</font>\n",
    "3. <font color=green>**register_module_full_backward_hook(hook_func_name)**</font>\n",
    "4. <font color=green>**register_module_full_backward_pre_hook(hook_func_name)**</font>"
   ]
  },
  {
   "cell_type": "markdown",
   "id": "f87ccc0b",
   "metadata": {},
   "source": [
    "### II.2 用法举例"
   ]
  },
  {
   "cell_type": "code",
   "execution_count": 11,
   "id": "c94ff382",
   "metadata": {
    "ExecuteTime": {
     "end_time": "2024-08-13T03:55:20.740593Z",
     "start_time": "2024-08-13T03:55:20.737264Z"
    }
   },
   "outputs": [],
   "source": [
    "### 例1：定义不同的hooks，看他们的工作方式\n",
    "\n",
    "##  新建module和input\n",
    "m = nn.Linear(3, 3)\n",
    "torch.manual_seed(1)\n",
    "x = torch.randn(2, 3, requires_grad=True)"
   ]
  },
  {
   "cell_type": "code",
   "execution_count": 12,
   "id": "7339d548",
   "metadata": {
    "ExecuteTime": {
     "end_time": "2024-08-13T03:55:20.744394Z",
     "start_time": "2024-08-13T03:55:20.741880Z"
    }
   },
   "outputs": [],
   "source": [
    "## ---------- 定义foreward hook function ----------\n",
    "#  1.用于在forward pass前，检查或者调整inputs\n",
    "def forward_pre_hook(m, inputs):  # 注，inputs都是wrapped成tuple类型的\n",
    "    input = inputs[0]\n",
    "    return input + 1.\n",
    "\n",
    "#  2.用于在forward pass后，检查inputs/outputs或者调整outputs\n",
    "def forward_hook(m, inputs, output):# inputs都wrapped成tuple，output按原类型传\n",
    "    # 按ResNet的方式计算residual\n",
    "    return output + inputs[0]"
   ]
  },
  {
   "cell_type": "code",
   "execution_count": 13,
   "id": "7e0d2a3b",
   "metadata": {
    "ExecuteTime": {
     "end_time": "2024-08-13T03:55:20.748709Z",
     "start_time": "2024-08-13T03:55:20.745770Z"
    }
   },
   "outputs": [
    {
     "name": "stdout",
     "output_type": "stream",
     "text": [
      "tensor([[-0.3552,  0.0191,  0.7350],\n",
      "        [-0.3277,  0.2751,  0.4299]], grad_fn=<AddmmBackward0>)\n"
     ]
    }
   ],
   "source": [
    "## register前的输出\n",
    "print(format(m(x)))"
   ]
  },
  {
   "cell_type": "code",
   "execution_count": 14,
   "id": "8088d594",
   "metadata": {
    "ExecuteTime": {
     "end_time": "2024-08-13T03:55:20.752886Z",
     "start_time": "2024-08-13T03:55:20.750099Z"
    }
   },
   "outputs": [
    {
     "name": "stdout",
     "output_type": "stream",
     "text": [
      "tensor([[-0.6156, -0.1592,  1.2549],\n",
      "        [-0.5881,  0.0968,  0.9498]], grad_fn=<AddmmBackward0>)\n"
     ]
    }
   ],
   "source": [
    "# register forward_pre_hook后会产生不同的output：\n",
    "forward_pre_hook_handle = m.register_forward_pre_hook(forward_pre_hook)\n",
    "print(format(m(x)))"
   ]
  },
  {
   "cell_type": "code",
   "execution_count": 15,
   "id": "3c011d73",
   "metadata": {
    "ExecuteTime": {
     "end_time": "2024-08-13T03:55:20.757080Z",
     "start_time": "2024-08-13T03:55:20.754347Z"
    }
   },
   "outputs": [
    {
     "name": "stdout",
     "output_type": "stream",
     "text": [
      "tensor([[1.0457, 1.1077, 2.3166],\n",
      "        [1.0332, 0.6449, 1.7837]], grad_fn=<AddBackward0>)\n"
     ]
    }
   ],
   "source": [
    "# register forward_hook后会产生另一种不同的output：\n",
    "forward_hook_handle = m.register_forward_hook(forward_hook)\n",
    "print(format(m(x)))"
   ]
  },
  {
   "cell_type": "code",
   "execution_count": 16,
   "id": "7458c052",
   "metadata": {
    "ExecuteTime": {
     "end_time": "2024-08-13T03:55:20.761241Z",
     "start_time": "2024-08-13T03:55:20.758457Z"
    }
   },
   "outputs": [
    {
     "name": "stdout",
     "output_type": "stream",
     "text": [
      "tensor([[-0.3552,  0.0191,  0.7350],\n",
      "        [-0.3277,  0.2751,  0.4299]], grad_fn=<AddmmBackward0>)\n"
     ]
    }
   ],
   "source": [
    "# 去掉hooks之后，output与register hooks之前的值一致\n",
    "forward_pre_hook_handle.remove()\n",
    "forward_hook_handle.remove()\n",
    "\n",
    "print(format(m(x)))"
   ]
  },
  {
   "cell_type": "code",
   "execution_count": 17,
   "id": "5b12f135",
   "metadata": {
    "ExecuteTime": {
     "end_time": "2024-08-13T03:55:20.766088Z",
     "start_time": "2024-08-13T03:55:20.762511Z"
    }
   },
   "outputs": [
    {
     "name": "stdout",
     "output_type": "stream",
     "text": [
      "tensor([[ 0.1376,  0.0587, -0.1150],\n",
      "        [ 0.1376,  0.0587, -0.1150]])\n"
     ]
    }
   ],
   "source": [
    "## ---------- 定义backward hook function ----------\n",
    "#  功能：\n",
    "#     1. 检查grad_inputs/grad_outputs\n",
    "#     2. 调整剩余bp流程中用的grad_inputs\n",
    "#  注，grad_inputs/grad_outputs都wrapped成tuple\n",
    "\n",
    "def backward_hook(m, grad_inputs, grad_outputs): \n",
    "    new_grad_inputs = [torch.ones_like(gi) * 42. for gi in grad_inputs]\n",
    "    return new_grad_inputs\n",
    "\n",
    "## 没有register backward hooks时的输出：\n",
    "m(x).sum().backward()\n",
    "print(format(x.grad))"
   ]
  },
  {
   "cell_type": "code",
   "execution_count": 18,
   "id": "acdf62c8",
   "metadata": {
    "ExecuteTime": {
     "end_time": "2024-08-13T03:55:20.770938Z",
     "start_time": "2024-08-13T03:55:20.767562Z"
    }
   },
   "outputs": [
    {
     "name": "stdout",
     "output_type": "stream",
     "text": [
      "tensor([[42., 42., 42.],\n",
      "        [42., 42., 42.]])\n"
     ]
    }
   ],
   "source": [
    "# 在重做Backward Propagation前要先Clear gradients\n",
    "m.zero_grad()\n",
    "x.grad.zero_()\n",
    "\n",
    "# register了backward hooks之后的输出：\n",
    "backward_hook_handle = m.register_full_backward_hook(backward_hook)\n",
    "m(x).sum().backward()\n",
    "print(format(x.grad))"
   ]
  },
  {
   "cell_type": "code",
   "execution_count": 19,
   "id": "02629b0d",
   "metadata": {
    "ExecuteTime": {
     "end_time": "2024-08-13T03:55:20.775339Z",
     "start_time": "2024-08-13T03:55:20.772340Z"
    }
   },
   "outputs": [
    {
     "name": "stdout",
     "output_type": "stream",
     "text": [
      "tensor([[ 0.1376,  0.0587, -0.1150],\n",
      "        [ 0.1376,  0.0587, -0.1150]])\n"
     ]
    }
   ],
   "source": [
    "# 删除backward hooks之后的输出：\n",
    "backward_hook_handle.remove()\n",
    "\n",
    "m.zero_grad()\n",
    "x.grad.zero_()\n",
    "m(x).sum().backward()\n",
    "print(format(x.grad))"
   ]
  },
  {
   "cell_type": "code",
   "execution_count": 20,
   "id": "5f277a39",
   "metadata": {
    "ExecuteTime": {
     "end_time": "2024-08-13T03:55:20.780175Z",
     "start_time": "2024-08-13T03:55:20.776724Z"
    }
   },
   "outputs": [],
   "source": [
    "## 例2：用forward_hook查看module中activation value的例子\n",
    "\n",
    "class Net(nn.Module):\n",
    "    def __init__(self):\n",
    "        super().__init__() \n",
    "        self.conv = nn.Conv2d(3,8,2)\n",
    "        self.pool = nn.AdaptiveAvgPool2d((4,4))\n",
    "        self.fc = nn.Linear(8*4*4 , 1)\n",
    "    def forward(self, x):\n",
    "          x = F.relu(self.conv(x))\n",
    "          x = self.pool(x)\n",
    "          x = x.view(x.shape[0] , -1)\n",
    "          x = self.fc(x)\n",
    "          return x\n",
    "\n",
    "# 定义hook，用来提取activation的结果，也就是feature\n",
    "features = {} \n",
    "def hook_func(model, input ,output):\n",
    "    features['feature'] = output.detach()"
   ]
  },
  {
   "cell_type": "code",
   "execution_count": 21,
   "id": "4cbda9bb",
   "metadata": {
    "ExecuteTime": {
     "end_time": "2024-08-13T03:55:20.785000Z",
     "start_time": "2024-08-13T03:55:20.781507Z"
    }
   },
   "outputs": [
    {
     "name": "stdout",
     "output_type": "stream",
     "text": [
      "torch.Size([1, 8, 4, 4])\n"
     ]
    }
   ],
   "source": [
    "net = Net()\n",
    "# 在pooling layer上register hook\n",
    "net.pool.register_forward_hook(hook_func)\n",
    "\n",
    "x= torch.randn(1,3,10,10)\n",
    "output = net(x)\n",
    "print(features['feature'].shape)"
   ]
  },
  {
   "cell_type": "markdown",
   "id": "3cf137ed",
   "metadata": {},
   "source": [
    "### II.3 典型应用场景\n",
    "参考资料：Blog, how to Use PyTorch Hooks https://medium.com/the-dl/how-to-use-pytorch-hooks-5041d777f904\n",
    "#### 场景1. 在模型训练过程中打印所需信息\n",
    "**1. 方法：** 给module加wrapper，在wrapper module上加hooks\\\n",
    "**2. 优点：** \\\n",
    "（1）方便debug，避免手动增加和删除print的麻烦 \\\n",
    "（2）不仅可以在自定义module，还可以在pytorch自带的module和第三方module上使用"
   ]
  },
  {
   "cell_type": "code",
   "execution_count": 22,
   "id": "ec4d0f55",
   "metadata": {
    "ExecuteTime": {
     "end_time": "2024-08-13T03:55:20.789949Z",
     "start_time": "2024-08-13T03:55:20.786412Z"
    }
   },
   "outputs": [],
   "source": [
    "## 场景1：在ResNet18上用hooks来打印model信息\n",
    "\n",
    "#  给model加一个wrapper class\n",
    "class VerboseNet(nn.Module):\n",
    "    def __init__(self, model: nn.Module):\n",
    "        super().__init__()\n",
    "        self.model = model\n",
    "        \n",
    "        # register a hook for each layer\n",
    "        for name, layer in self.model.named_children():\n",
    "            # 虽然所有nn.Mudule的实例都继承了__name__属性，但有的module可能没赋值\n",
    "            # 这一步可以明确让layer都有对应的name\n",
    "            layer.__name__ = name\n",
    "            layer.register_forward_hook(\n",
    "                lambda layer, _, output: print(f\"new --->: {layer.__name__}: {output.shape}\")\n",
    "            )\n",
    "    def forward(self, x: torch.Tensor):\n",
    "        return self.model(x)"
   ]
  },
  {
   "cell_type": "code",
   "execution_count": 42,
   "id": "e2506626",
   "metadata": {
    "ExecuteTime": {
     "end_time": "2024-08-13T04:03:15.006821Z",
     "start_time": "2024-08-13T04:03:14.773041Z"
    }
   },
   "outputs": [
    {
     "name": "stdout",
     "output_type": "stream",
     "text": [
      "new --->: conv1: torch.Size([10, 64, 14, 14])\n",
      "new --->: bn1: torch.Size([10, 64, 14, 14])\n",
      "new --->: relu: torch.Size([10, 64, 14, 14])\n",
      "new --->: maxpool: torch.Size([10, 64, 7, 7])\n",
      "new --->: layer1: torch.Size([10, 64, 7, 7])\n",
      "new --->: layer2: torch.Size([10, 128, 4, 4])\n",
      "new --->: layer3: torch.Size([10, 256, 2, 2])\n",
      "new --->: layer4: torch.Size([10, 512, 1, 1])\n",
      "new --->: avgpool: torch.Size([10, 512, 1, 1])\n",
      "new --->: fc: torch.Size([10, 1000])\n"
     ]
    }
   ],
   "source": [
    "from torchvision.models import resnet18, ResNet18_Weights\n",
    "\n",
    "verbose_resnet = VerboseNet(resnet18(weights=ResNet18_Weights.DEFAULT))\n",
    "dummy_input = torch.ones(10, 3, 28, 28)\n",
    "\n",
    "# 这里用了assignment是为了不让jupyter打印函数的output\n",
    "_ = verbose_resnet(dummy_input)"
   ]
  },
  {
   "cell_type": "markdown",
   "id": "635b830b",
   "metadata": {},
   "source": [
    "#### 场景2. Feature extraction\n",
    "**1. 方法：** 给module加wrapper，在wrapper module上加hooks\\\n",
    "**2. 优点：** 在一个预训练好的模型上做transfer learning时，可能想查看该模型摸些layers上得到的feature。hook可以在不改变模型本身的条件下实现这一需求"
   ]
  },
  {
   "cell_type": "code",
   "execution_count": 24,
   "id": "e02ff083",
   "metadata": {
    "ExecuteTime": {
     "end_time": "2024-08-13T03:55:21.502745Z",
     "start_time": "2024-08-13T03:55:21.498055Z"
    }
   },
   "outputs": [],
   "source": [
    "## 场景2：对model中指定layer做Feature extraction\n",
    "\n",
    "class FeatureExt(nn.Module):\n",
    "    def __init__(self, model, layers):\n",
    "        super().__init__()\n",
    "        self.model = model\n",
    "        self.layers = layers\n",
    "        self._features = {layer: torch.empty(0) for layer in layers}\n",
    "        \n",
    "        for layer_i in layers:\n",
    "            # 把named_modules的sub-module list构造成dict，用layer_i索引\n",
    "            layer = dict([*self.model.named_modules()])[layer_i]\n",
    "            \n",
    "            layer.register_forward_hook(self.save_outputs_hook(layer_i))\n",
    "         \n",
    "    def save_outputs_hook(self, layer_i):\n",
    "        def fn(_, __, output):  # 下划线长度不同，因为arguments name不能相同\n",
    "            # 将该layer的output提取出来，存入feature dict\n",
    "            self._features[layer_i] = output\n",
    "        return fn\n",
    "        \n",
    "    def forward(self, x):\n",
    "        _ = self.model(x)\n",
    "        return self._features  # 返回dict存放了指定layers的activation output"
   ]
  },
  {
   "cell_type": "code",
   "execution_count": 25,
   "id": "5432737c",
   "metadata": {
    "ExecuteTime": {
     "end_time": "2024-08-13T03:55:21.839832Z",
     "start_time": "2024-08-13T03:55:21.504698Z"
    }
   },
   "outputs": [],
   "source": [
    "res18 = resnet18(weights=ResNet18_Weights.DEFAULT)\n",
    "## 对resnet.named_modules的说明：\n",
    "#  1. resnet18.named_modules是一个generator\n",
    "#     每次yield返回的是tuple，形如('layer_name', module)\n",
    "#  2. 加'*'来把generator解包成单独的tuples：*res18.named_modules()\n",
    "#  3. 将dict()用到list of tuples上，可以转换成key-value pair，便于用key索引\n",
    "#     这里要先将解包后的tuples打包到一个list里面，所以是用 dict([])\n",
    "\n",
    "#  ----- 打印sample layers 来查看网络的结构  -----\n",
    "# print([*res18.named_modules()][0]) # nest结构的顶层，描绘整个结构\n",
    "# print('-' * 40)\n",
    "# print([*res18.named_modules()][5]) # nest结构的第2层，'layer1'\n",
    "# print('-' * 40)\n",
    "# print([*res18.named_modules()][6]) # nest结构的第3层，'layer1'的sub-module\n",
    "# print('-' * 40)\n",
    "# print([*res18.named_modules()][7]) # nest结构的第4层，..."
   ]
  },
  {
   "cell_type": "code",
   "execution_count": 26,
   "id": "576976ee",
   "metadata": {
    "ExecuteTime": {
     "end_time": "2024-08-13T03:55:21.864710Z",
     "start_time": "2024-08-13T03:55:21.841914Z"
    },
    "scrolled": true
   },
   "outputs": [
    {
     "name": "stdout",
     "output_type": "stream",
     "text": [
      "layer4 -> torch.Size([10, 512, 1, 1])\n",
      "avgpool -> torch.Size([10, 512, 1, 1])\n"
     ]
    }
   ],
   "source": [
    "res18_feats = FeatureExt(res18, layers=['layer4', 'avgpool'])\n",
    "\n",
    "fests = res18_feats(dummy_input)\n",
    "for name, output in fests.items():\n",
    "    print(name, '->', output.shape)"
   ]
  },
  {
   "cell_type": "markdown",
   "id": "c64fbad8",
   "metadata": {},
   "source": [
    "#### 场景3. 用tenosr hook实现对module中parameters的gradient clipping"
   ]
  },
  {
   "cell_type": "code",
   "execution_count": 27,
   "id": "7c735ef9",
   "metadata": {
    "ExecuteTime": {
     "end_time": "2024-08-13T03:55:21.872998Z",
     "start_time": "2024-08-13T03:55:21.866477Z"
    }
   },
   "outputs": [],
   "source": [
    "def clip_grad(model, floor, cap):\n",
    "    for parameter in model.parameters():\n",
    "        parameter.register_hook(lambda grad: grad.clamp_(floor, cap))\n",
    "    return model\n",
    "\n",
    "class AffineReluAffine(nn.Module):\n",
    "    def __init__(self, in_features, hidden_features, out_features):\n",
    "        super().__init__()\n",
    "        self.fc1 = nn.Linear(in_features, hidden_features)\n",
    "        self.relu = nn.ReLU()\n",
    "        self.fc2 = nn.Linear(hidden_features, out_features)\n",
    "        \n",
    "    def forward(self, x):\n",
    "        x = self.fc1(x)\n",
    "        x = self.relu(x)\n",
    "        x = self.fc2(x)\n",
    "        return x\n",
    "\n",
    "model = AffineReluAffine(100, 200, 5)\n",
    "    \n",
    "# Apply gradient clipping with floor = -1.0 and cap = 1.0\n",
    "clipped_dummy_model = clip_grad(model, floor=-1, cap=1)\n",
    "\n",
    "torch.manual_seed(20)\n",
    "input_tensor = torch.randn(1, 100)\n",
    "output = clipped_dummy_model(input_tensor)\n",
    "    \n",
    "loss = output.sum()\n",
    "loss.backward()"
   ]
  },
  {
   "cell_type": "code",
   "execution_count": 28,
   "id": "abac3832",
   "metadata": {
    "ExecuteTime": {
     "end_time": "2024-08-13T03:55:21.879621Z",
     "start_time": "2024-08-13T03:55:21.876501Z"
    }
   },
   "outputs": [
    {
     "name": "stdout",
     "output_type": "stream",
     "text": [
      "tensor([1., 1., 1., 1., 1.])\n"
     ]
    }
   ],
   "source": [
    "print(clipped_dummy_model.fc2.bias.grad[:5])"
   ]
  },
  {
   "cell_type": "code",
   "execution_count": 29,
   "id": "c708d5a9",
   "metadata": {
    "ExecuteTime": {
     "end_time": "2024-08-13T03:55:22.209152Z",
     "start_time": "2024-08-13T03:55:21.881378Z"
    }
   },
   "outputs": [],
   "source": [
    "# 将hook用到现成的model上\n",
    "clipped_resnet = clip_grad(resnet18(), -0.1, 0.1)\n",
    "pred = clipped_resnet(dummy_input)\n",
    "loss = pred.log().mean()\n",
    "loss.backward()"
   ]
  },
  {
   "cell_type": "code",
   "execution_count": 30,
   "id": "e402b4f5",
   "metadata": {
    "ExecuteTime": {
     "end_time": "2024-08-13T03:55:22.214313Z",
     "start_time": "2024-08-13T03:55:22.210950Z"
    }
   },
   "outputs": [
    {
     "name": "stdout",
     "output_type": "stream",
     "text": [
      "tensor([ 0.0259,  0.0355,  0.1000, -0.1000,  0.1000])\n"
     ]
    }
   ],
   "source": [
    "print(clipped_resnet.fc.bias.grad[:5])"
   ]
  },
  {
   "cell_type": "markdown",
   "id": "c3aaff52",
   "metadata": {},
   "source": [
    "## III. hooks for saved tensors\n",
    "\n",
    "**典型应用：** 改变saved tensor pack/unpack方式，<font color=blue>将forward pass中要保存的tensor存到cpu或者disk上，节省GPU memory</font>\n",
    "\n",
    "**方法：** \n",
    "1. 定义两个hook function，一个实现pack，另一个unpack \n",
    "   1. 定义pack_func(tensor): 只接受1个tensor作为argument，返回任意python类型。 \n",
    "   2. 定义unpack_hook_func(output_of_pack_func)：只接受pack_func的返回值作为input argument，返回一个tensor用于后续的backward pass。该返回值的value要跟pack_func中的input的value相同，以达到原本想要从forward向backward传递信息的目的。\n",
    "2. register 上述pack/unpack hooks \n",
    "\n",
    "**基本原则：** \n",
    "1. uppack_func(pack_func(tensor)) = tensor\n",
    "2. pack_func的input不能做in-place modify\n",
    "3. pack_func(tensor)的output可以是tenosr或者任意python type object \n",
    "4. pack_func和unpack_func单独作用于每个saved tensor\n",
    "\n",
    "**执行过程：** \n",
    "1. 每次forward pass执行过程中，pack func在对应operation存储信息的时候被调用，其output会代替原本module中定义的pack func输出的output tensor而被存储。\n",
    "2. 在backward pass中按照chainrule执行到对应operation的backward method的之前，unpack func会被调用，它用pack func的output作为唯一的input来计算一个new tensor。这个new tensor会作为backward method的input之一而被使用。\n",
    "\n",
    "**涉及的3个tensor object的关系：**\n",
    "- pack(x)将x打包成另一个object，unpack输出的x同样也是新的tensor。如果pack(x)=x，那么他们虽然是三个不同的object，比如tensor，但share底层data memory。如果pack(x)不等于x，则x和unpack输出的x会share底层data memory。"
   ]
  },
  {
   "cell_type": "code",
   "execution_count": 43,
   "id": "51d40a61",
   "metadata": {
    "ExecuteTime": {
     "end_time": "2024-08-13T04:05:49.091997Z",
     "start_time": "2024-08-13T04:05:49.087089Z"
    }
   },
   "outputs": [
    {
     "name": "stdout",
     "output_type": "stream",
     "text": [
      "packing: tensor([2., 2., 2., 2., 2.], grad_fn=<MulBackward0>)\n",
      "packing: tensor([1., 1., 1., 1., 1.], requires_grad=True)\n"
     ]
    }
   ],
   "source": [
    "## 例1：saved_tensor_hooks工作过程\n",
    "#  定义hook func\n",
    "def pack(x):\n",
    "    print('packing:', x)\n",
    "    return x\n",
    "def unpack(x):\n",
    "    print('unpacking:', x)\n",
    "    return x\n",
    "\n",
    "a = torch.ones(5, requires_grad=True)\n",
    "b = torch.ones(5, requires_grad=True) * 2\n",
    "\n",
    "# register pack/unpack hooks\n",
    "with torch.autograd.graph.saved_tensors_hooks(pack, unpack):\n",
    "    y = a * b\n",
    "\n",
    "# 从print结果可以看到：\n",
    "# 1.第1个packing的tensor是a\n",
    "# 2.第2个packing的tensor是b，但b不是leaf，它是torch.ones(...)*2的output\n",
    "# torchviz.make_dot(y, params={'a':a, 'b':b})"
   ]
  },
  {
   "cell_type": "code",
   "execution_count": 32,
   "id": "6c9e909a",
   "metadata": {
    "ExecuteTime": {
     "end_time": "2024-08-13T03:55:22.262057Z",
     "start_time": "2024-08-13T03:55:22.258866Z"
    }
   },
   "outputs": [
    {
     "name": "stdout",
     "output_type": "stream",
     "text": [
      "unpacking: tensor([2., 2., 2., 2., 2.], grad_fn=<MulBackward0>)\n",
      "unpacking: tensor([1., 1., 1., 1., 1.], requires_grad=True)\n"
     ]
    }
   ],
   "source": [
    "y.sum().backward()"
   ]
  },
  {
   "cell_type": "code",
   "execution_count": 33,
   "id": "b39d50ec",
   "metadata": {
    "ExecuteTime": {
     "end_time": "2024-08-13T03:55:22.268525Z",
     "start_time": "2024-08-13T03:55:22.263051Z"
    }
   },
   "outputs": [
    {
     "name": "stdout",
     "output_type": "stream",
     "text": [
      "x = tensor([0.8033, 0.1748, 0.0890], requires_grad=True)\n",
      "packing: tensor([3.2131, 0.6993, 0.3559])\n",
      "unpacking: tensor([0.8033, 0.1748, 0.0890])\n"
     ]
    }
   ],
   "source": [
    "## 例2.1：自定义pack和unpack规则：改变tensor大小后恢复\n",
    "#  pack/unpack func满足“unpack(pack(x)) = x”的规则即可\n",
    "\n",
    "# ---> 例2.1和例2.2没有实际意义，只是展示pack和unpack的自定义能力\n",
    "\n",
    "def pack(x):\n",
    "    print('packing:', x * 4)\n",
    "    return x * 4\n",
    "def unpack(x):\n",
    "    print('unpacking:', x / 4)\n",
    "    return x / 4\n",
    "# pack/unpack func满足“unpack(pack(x)) = x”的规则\n",
    "\n",
    "torch.manual_seed(3)\n",
    "x = torch.randn(3, requires_grad=True)\n",
    "print('x =', x)\n",
    "with torch.autograd.graph.saved_tensors_hooks(pack, unpack):\n",
    "    y = x ** 2\n",
    "    \n",
    "y.sum().backward()\n",
    "assert(x.grad.equal(x * 2))"
   ]
  },
  {
   "cell_type": "code",
   "execution_count": 34,
   "id": "39ecda1d",
   "metadata": {
    "ExecuteTime": {
     "end_time": "2024-08-13T03:55:22.276290Z",
     "start_time": "2024-08-13T03:55:22.270168Z"
    }
   },
   "outputs": [],
   "source": [
    "## 例2.2：自定义pack和unpack规则：保存index of a list\n",
    "\n",
    "storage = []\n",
    "\n",
    "def pack(x):\n",
    "    storage.append(x)\n",
    "    return len(storage) - 1\n",
    "\n",
    "def unpack(ind):\n",
    "    return storage[ind]\n",
    "\n",
    "torch.manual_seed(3)\n",
    "x = torch.randn(3, requires_grad=True)\n",
    "with torch.autograd.graph.saved_tensors_hooks(pack, unpack):\n",
    "    y = x ** 2\n",
    "    \n",
    "y.sum().backward()\n",
    "assert(x.grad.equal(x * 2))"
   ]
  },
  {
   "cell_type": "markdown",
   "id": "8adbf8fc",
   "metadata": {},
   "source": [
    "#### 用pack/unpack将tensor存到GPU之外的地方\n",
    "1. 这是GPU memory和time的trade off。官方样例中，用A100GPU测试，把ResNet152(batch size=256)存到cpu上，可以将gpu内存使用量从48G降低到5G,但是耗时增加6倍\n",
    "2. 一种折中是只把部分layer的tensor传到cpu或者其他位置。方法是，define a special nn.Module，用来wraps module and save its tensors to cpu"
   ]
  },
  {
   "cell_type": "code",
   "execution_count": 35,
   "id": "fa8b94c3",
   "metadata": {
    "ExecuteTime": {
     "end_time": "2024-08-13T03:55:22.285184Z",
     "start_time": "2024-08-13T03:55:22.277945Z"
    }
   },
   "outputs": [
    {
     "data": {
      "text/plain": [
       "True"
      ]
     },
     "execution_count": 35,
     "metadata": {},
     "output_type": "execute_result"
    }
   ],
   "source": [
    "## 例3：saving tensor to cpu\n",
    "\n",
    "#  1.人工手写\n",
    "def pack(x):\n",
    "    return (x.device, x.cpu())\n",
    "\n",
    "def unpack(package):\n",
    "    device, x = package\n",
    "    return x.to(device)\n",
    "\n",
    "torch.manual_seed(3)\n",
    "x = torch.randn(3, requires_grad=True)\n",
    "with torch.autograd.graph.saved_tensors_hooks(pack, unpack):\n",
    "    y = x ** 2\n",
    "    \n",
    "y.sum().backward()\n",
    "# assert(x.grad.equal(x * 2))\n",
    "torch.allclose(x.grad, (2 * x))  # x.grad与2x值的差异在默认区间内"
   ]
  },
  {
   "cell_type": "code",
   "execution_count": 36,
   "id": "d37fbb5b",
   "metadata": {
    "ExecuteTime": {
     "end_time": "2024-08-13T03:55:22.433493Z",
     "start_time": "2024-08-13T03:55:22.286807Z"
    }
   },
   "outputs": [],
   "source": [
    "#  2.pytorch已经实现了上述功能\n",
    "\n",
    "class Model(nn.Module):\n",
    "    def __init__(self):\n",
    "        super().__init__()\n",
    "        self.w = nn.Parameter(torch.randn(5))\n",
    "    \n",
    "    def forward(self, x):\n",
    "        with torch.autograd.graph.save_on_cpu(pin_memory=True):\n",
    "            return self.w * x\n",
    "\n",
    "x = torch.randn(5)\n",
    "model = Model()\n",
    "loss = model(x).sum()\n",
    "loss.backward()"
   ]
  },
  {
   "cell_type": "code",
   "execution_count": 37,
   "id": "3bad29cf",
   "metadata": {
    "ExecuteTime": {
     "end_time": "2024-08-13T03:55:22.439895Z",
     "start_time": "2024-08-13T03:55:22.434875Z"
    }
   },
   "outputs": [],
   "source": [
    "#  3.module wrapper\n",
    "\n",
    "class SaveToCpu(nn.Module):\n",
    "    def __init__(self, module):\n",
    "        super().__init__()\n",
    "        self.module = module\n",
    "    \n",
    "    def forward(self, *args, **kwargs):\n",
    "        with torch.autograd.graph.save_on_cpu(pin_memory=True):\n",
    "            return self.module(*args, **kwargs)\n",
    "        \n",
    "model = nn.Sequential(\n",
    "    nn.Linear(10, 100), \n",
    "    nn.ReLU(), \n",
    "    SaveToCpu(nn.Linear(100, 100)), \n",
    "    nn.ReLU(), \n",
    "    nn.Linear(100, 10),\n",
    ")\n",
    "\n",
    "x = torch.randn(10)\n",
    "loss = model(x).sum()\n",
    "loss.backward()"
   ]
  },
  {
   "cell_type": "code",
   "execution_count": 38,
   "id": "98459c50",
   "metadata": {
    "ExecuteTime": {
     "end_time": "2024-08-13T03:55:22.449937Z",
     "start_time": "2024-08-13T03:55:22.441055Z"
    }
   },
   "outputs": [
    {
     "name": "stdout",
     "output_type": "stream",
     "text": [
      "tensor([1., 1., 1., 1., 1.], requires_grad=True)\n",
      "Double access failed!\n"
     ]
    },
    {
     "name": "stderr",
     "output_type": "stream",
     "text": [
      "/tmp/ipykernel_11416/2057767111.py:17: FutureWarning: You are using `torch.load` with `weights_only=False` (the current default value), which uses the default pickle module implicitly. It is possible to construct malicious pickle data which will execute arbitrary code during unpickling (See https://github.com/pytorch/pytorch/blob/main/SECURITY.md#untrusted-models for more details). In a future release, the default value for `weights_only` will be flipped to `True`. This limits the functions that could be executed during unpickling. Arbitrary objects will no longer be allowed to be loaded via this mode unless they are explicitly allowlisted by the user via `torch.serialization.add_safe_globals`. We recommend you start setting `weights_only=True` for any use case where you don't have full control of the loaded file. Please open an issue on GitHub for any issues related to this experimental feature.\n",
      "  tensor = torch.load(name)\n"
     ]
    }
   ],
   "source": [
    "## 例4：saving tensor to disk\n",
    "\n",
    "## 错误的方式\n",
    "\n",
    "import uuid\n",
    "import os\n",
    "import tempfile\n",
    "tmp_dir_obj = tempfile.TemporaryDirectory()\n",
    "tmp_dir = tmp_dir_obj.name\n",
    "\n",
    "def pack_hook(tensor):\n",
    "    name = os.path.join(tmp_dir, str(uuid.uuid4()))\n",
    "    torch.save(tensor, name)\n",
    "    return name\n",
    "\n",
    "def unpack_hook(name):\n",
    "    tensor = torch.load(name)\n",
    "    os.remove(name)  # 如果这里remove，那么unpack就不能被call第二次\n",
    "    return tensor\n",
    "\n",
    "x = torch.ones(5, requires_grad=True)\n",
    "with torch.autograd.graph.saved_tensors_hooks(pack_hook, unpack_hook):\n",
    "    y = x.pow(2)\n",
    "print(y.grad_fn._saved_self)      # 每执行一次就会unpack一次\n",
    "try:\n",
    "    print(y.grad_fn._saved_self)  # 第二次会失败\n",
    "    print(\"Double access succeeded!\")\n",
    "except:\n",
    "    print(\"Double access failed!\")"
   ]
  },
  {
   "cell_type": "code",
   "execution_count": 39,
   "id": "3b639dba",
   "metadata": {
    "ExecuteTime": {
     "end_time": "2024-08-13T03:55:22.454366Z",
     "start_time": "2024-08-13T03:55:22.451027Z"
    }
   },
   "outputs": [],
   "source": [
    "## 正确的方式：利用pytorch自动释放saved data的机制\n",
    "#  pytorch自动释放不再需要的object，即这里的SelfDeletingTempFile object\n",
    "\n",
    "class SelfDeletingTempFile():\n",
    "    def __init__(self):\n",
    "        self.name = os.path.join(tmp_dir, str(uuid.uuid4()))\n",
    "\n",
    "    def __del__(self):\n",
    "        os.remove(self.name)\n",
    "\n",
    "def pack_hook(tensor):\n",
    "    temp_file = SelfDeletingTempFile()\n",
    "    torch.save(tensor, temp_file.name)\n",
    "    return temp_file\n",
    "\n",
    "def unpack_hook(temp_file):\n",
    "    return torch.load(temp_file.name)"
   ]
  },
  {
   "cell_type": "code",
   "execution_count": 40,
   "id": "a96fd760",
   "metadata": {
    "ExecuteTime": {
     "end_time": "2024-08-13T03:55:22.479973Z",
     "start_time": "2024-08-13T03:55:22.455505Z"
    }
   },
   "outputs": [],
   "source": [
    "# 只转存size >= 1000的tensor\n",
    "SAVE_ON_DISK_THRESHOLD = 1000\n",
    "\n",
    "def pack_hook(x):\n",
    "    if x.numel() < SAVE_ON_DISK_THRESHOLD:\n",
    "        return x\n",
    "    temp_file = SelfDeletingTempFile()\n",
    "    torch.save(tensor, temp_file.name)\n",
    "    return temp_file\n",
    "\n",
    "def unpack_hook(tensor_or_sctf):\n",
    "    if isinstance(tensor_or_sctf, torch.Tensor):\n",
    "        return tensor_or_sctf\n",
    "    return torch.load(tensor_or_sctf.name)\n",
    "\n",
    "class SaveToDisk(nn.Module):\n",
    "    def __init__(self, module):\n",
    "        super().__init__()\n",
    "        self.module = module\n",
    "\n",
    "    def forward(self, *args, **kwargs):\n",
    "        with torch.autograd.graph.saved_tensors_hooks(pack_hook, unpack_hook):\n",
    "            return self.module(*args, **kwargs)\n",
    "\n",
    "net = nn.DataParallel(SaveToDisk(Model()))"
   ]
  },
  {
   "cell_type": "markdown",
   "id": "6f1c4664",
   "metadata": {},
   "source": [
    "上面例子方式定义的Hook是thread-local的，当与DataParallel一起用的时候要用上例中的方式，不能定义成下面的方式："
   ]
  },
  {
   "cell_type": "code",
   "execution_count": 41,
   "id": "e086a5f9",
   "metadata": {
    "ExecuteTime": {
     "end_time": "2024-08-13T03:55:22.483382Z",
     "start_time": "2024-08-13T03:55:22.481313Z"
    }
   },
   "outputs": [],
   "source": [
    "# net = nn.DataParallel(model)\n",
    "# with torch.autograd.graph.saved_tensors_hooks(pack_hook, unpack_hook):\n",
    "#     output = net(input)"
   ]
  }
 ],
 "metadata": {
  "kernelspec": {
   "display_name": "Python [conda env:231n] *",
   "language": "python",
   "name": "conda-env-231n-py"
  },
  "language_info": {
   "codemirror_mode": {
    "name": "ipython",
    "version": 3
   },
   "file_extension": ".py",
   "mimetype": "text/x-python",
   "name": "python",
   "nbconvert_exporter": "python",
   "pygments_lexer": "ipython3",
   "version": "3.10.12"
  }
 },
 "nbformat": 4,
 "nbformat_minor": 5
}
