{
 "cells": [
  {
   "cell_type": "code",
   "execution_count": 1,
   "id": "5c0155ec-05ed-4da6-9e47-dc5a42e2ef50",
   "metadata": {
    "ExecuteTime": {
     "end_time": "2024-07-22T14:54:07.347771Z",
     "start_time": "2024-07-22T14:54:07.251151Z"
    }
   },
   "outputs": [],
   "source": [
    "import numpy as np"
   ]
  },
  {
   "cell_type": "markdown",
   "id": "1a2b50a8-d389-4090-bf23-1f1e6e2fadc1",
   "metadata": {},
   "source": [
    "## numpy array的基本操作: indexing (含slicing)"
   ]
  },
  {
   "cell_type": "markdown",
   "id": "ae445d64",
   "metadata": {},
   "source": [
    "### I. 普通索引"
   ]
  },
  {
   "cell_type": "markdown",
   "id": "cccd915c",
   "metadata": {},
   "source": [
    "#### I.1 index是简单的tuple：$ind = (i_{dim1}, i_{dim2}, ..., i_{dimN})$\n",
    "1. 每个dim一个index，反向索引时index用负数\n",
    "2. 多维索引用‘,‘隔开\n",
    "3. 索引维度d<=原array维度D，如果d==D，那么每个维度都根据索引取值；如果d<D，那么原array的最后(D-d)个维度取所有数据,这时候做的是dim index。"
   ]
  },
  {
   "cell_type": "code",
   "execution_count": 2,
   "id": "a75f61bc-76e2-44b5-bf2f-8ed919213c32",
   "metadata": {
    "ExecuteTime": {
     "end_time": "2024-07-22T14:54:07.356435Z",
     "start_time": "2024-07-22T14:54:07.350461Z"
    }
   },
   "outputs": [
    {
     "data": {
      "text/plain": [
       "array([  0,   1,   8,  27,  64, 125, 216, 343, 512, 729])"
      ]
     },
     "execution_count": 2,
     "metadata": {},
     "output_type": "execute_result"
    }
   ],
   "source": [
    "# 每个dim一个index，反向索引时index用负数\n",
    "a = np.arange(10)**3\n",
    "a"
   ]
  },
  {
   "cell_type": "code",
   "execution_count": 3,
   "id": "44d8b24d",
   "metadata": {
    "ExecuteTime": {
     "end_time": "2024-07-22T14:54:07.362563Z",
     "start_time": "2024-07-22T14:54:07.359640Z"
    }
   },
   "outputs": [
    {
     "data": {
      "text/plain": [
       "(8, 512)"
      ]
     },
     "execution_count": 3,
     "metadata": {},
     "output_type": "execute_result"
    }
   ],
   "source": [
    "a[2], a[-2]"
   ]
  },
  {
   "cell_type": "code",
   "execution_count": 4,
   "id": "fb1b459c",
   "metadata": {
    "ExecuteTime": {
     "end_time": "2024-07-22T14:54:07.366261Z",
     "start_time": "2024-07-22T14:54:07.363604Z"
    }
   },
   "outputs": [
    {
     "data": {
      "text/plain": [
       "array([[  0,   1,   8,  27,  64],\n",
       "       [125, 216, 343, 512, 729]])"
      ]
     },
     "execution_count": 4,
     "metadata": {},
     "output_type": "execute_result"
    }
   ],
   "source": [
    "a.shape = (2, 5)\n",
    "a"
   ]
  },
  {
   "cell_type": "code",
   "execution_count": 5,
   "id": "c588c6ba",
   "metadata": {
    "ExecuteTime": {
     "end_time": "2024-07-22T14:54:07.370199Z",
     "start_time": "2024-07-22T14:54:07.367400Z"
    }
   },
   "outputs": [
    {
     "data": {
      "text/plain": [
       "(512, 512)"
      ]
     },
     "execution_count": 5,
     "metadata": {},
     "output_type": "execute_result"
    }
   ],
   "source": [
    "a[1, 3], a[1, -2] # 这里index是(1, 3), (1, -2)"
   ]
  },
  {
   "cell_type": "code",
   "execution_count": 6,
   "id": "50458307-ceab-46c1-88b9-ea475561c4ad",
   "metadata": {
    "ExecuteTime": {
     "end_time": "2024-07-22T14:54:07.373488Z",
     "start_time": "2024-07-22T14:54:07.371234Z"
    }
   },
   "outputs": [],
   "source": [
    "# 如果d<D，那么原array的最后(D-d)个维度取所有数据。\n",
    "b = np.array([[ 0,  1,  2,  3],\n",
    "       [10, 11, 12, 13],\n",
    "       [20, 21, 22, 23],\n",
    "       [30, 31, 32, 33],\n",
    "       [40, 41, 42, 43]])"
   ]
  },
  {
   "cell_type": "code",
   "execution_count": 7,
   "id": "1df672fe-cbbf-4c09-b3f1-200a0c98f6fd",
   "metadata": {
    "ExecuteTime": {
     "end_time": "2024-07-22T14:54:07.377261Z",
     "start_time": "2024-07-22T14:54:07.374520Z"
    }
   },
   "outputs": [
    {
     "data": {
      "text/plain": [
       "(23, array([ 1, 11, 21, 31, 41]))"
      ]
     },
     "execution_count": 7,
     "metadata": {},
     "output_type": "execute_result"
    }
   ],
   "source": [
    "b[2, 3], b[:5, 1]"
   ]
  },
  {
   "cell_type": "markdown",
   "id": "9c217a4b-df66-4394-befd-26d667c59999",
   "metadata": {},
   "source": [
    "#### I.2 basic slicing: index是slice obj或者slice obj与int构成的tuple\n",
    "<font color=green>slice obj指的是'(start:stop:step)'</font>\n",
    "1. 每个维度都用一组start:stop:step, 各个维度之间用','隔开，反向时step取负数\n",
    "2. basic slicing是view而非copy，改变slice中的value会同时改变原array中对应位置的值。\n",
    "3. 直接用index取单个元素，提出来的是该元素本身的数据类型；如果用start:stop:step，即使实际上提取的也是一个元素，但是得到的是array\n",
    "4. 如果slice得到结果之后原array不需要使用，最好用copy()。这样可以释放原array占用的空间。"
   ]
  },
  {
   "cell_type": "code",
   "execution_count": 8,
   "id": "1bd4bd9f-286e-4936-86db-855632d87c44",
   "metadata": {
    "ExecuteTime": {
     "end_time": "2024-07-22T14:54:07.380885Z",
     "start_time": "2024-07-22T14:54:07.378232Z"
    }
   },
   "outputs": [
    {
     "data": {
      "text/plain": [
       "array([  0,   1,   8,  27,  64, 125, 216, 343, 512, 729])"
      ]
     },
     "execution_count": 8,
     "metadata": {},
     "output_type": "execute_result"
    }
   ],
   "source": [
    "a = np.arange(10)**3\n",
    "a"
   ]
  },
  {
   "cell_type": "code",
   "execution_count": 9,
   "id": "f5ee3d31",
   "metadata": {
    "ExecuteTime": {
     "end_time": "2024-07-22T14:54:07.385648Z",
     "start_time": "2024-07-22T14:54:07.383306Z"
    }
   },
   "outputs": [
    {
     "data": {
      "text/plain": [
       "array([ 0,  8, 64])"
      ]
     },
     "execution_count": 9,
     "metadata": {},
     "output_type": "execute_result"
    }
   ],
   "source": [
    "# 每个维度都用一组start:stop:step\n",
    "a[:6:2]"
   ]
  },
  {
   "cell_type": "code",
   "execution_count": 10,
   "id": "fea10d03",
   "metadata": {
    "ExecuteTime": {
     "end_time": "2024-07-22T14:54:07.389468Z",
     "start_time": "2024-07-22T14:54:07.386897Z"
    }
   },
   "outputs": [
    {
     "data": {
      "text/plain": [
       "(array([], dtype=int64), array([512, 343, 216]))"
      ]
     },
     "execution_count": 10,
     "metadata": {},
     "output_type": "execute_result"
    }
   ],
   "source": [
    "a[-8:5:-1], a[-2:5:-1] # 前一种方式没有提到任何东西"
   ]
  },
  {
   "cell_type": "code",
   "execution_count": 11,
   "id": "8f29b671-def2-4a71-9e4b-d0c727a85471",
   "metadata": {
    "ExecuteTime": {
     "end_time": "2024-07-22T14:54:07.393119Z",
     "start_time": "2024-07-22T14:54:07.390488Z"
    }
   },
   "outputs": [
    {
     "data": {
      "text/plain": [
       "array([729, 512, 343, 216, 125,  64,  27,   8,   1,   0])"
      ]
     },
     "execution_count": 11,
     "metadata": {},
     "output_type": "execute_result"
    }
   ],
   "source": [
    "# reversed a\n",
    "a[::-1] "
   ]
  },
  {
   "cell_type": "code",
   "execution_count": 12,
   "id": "967e387b",
   "metadata": {
    "ExecuteTime": {
     "end_time": "2024-07-22T14:54:07.396884Z",
     "start_time": "2024-07-22T14:54:07.394172Z"
    }
   },
   "outputs": [
    {
     "data": {
      "text/plain": [
       "array([1000,    1, 1000,   27, 1000,  125,  216,  343,  512,  729])"
      ]
     },
     "execution_count": 12,
     "metadata": {},
     "output_type": "execute_result"
    }
   ],
   "source": [
    "# 改变slice中的value会同时改变原array中对应位置的值\n",
    "# 利用这个性质可以结合mask来改变array中的data value\n",
    "a[:6:2] = 1000\n",
    "a"
   ]
  },
  {
   "cell_type": "code",
   "execution_count": 13,
   "id": "75c9169a-0c07-4347-8e08-3e2b9e4e579e",
   "metadata": {
    "ExecuteTime": {
     "end_time": "2024-07-22T14:54:07.400926Z",
     "start_time": "2024-07-22T14:54:07.398038Z"
    }
   },
   "outputs": [
    {
     "data": {
      "text/plain": [
       "(216, array([216]))"
      ]
     },
     "execution_count": 13,
     "metadata": {},
     "output_type": "execute_result"
    }
   ],
   "source": [
    "# 直接用index取单个元素，提出来的是该元素本身的数据类型；\n",
    "# 如果用start:stop:step，即使实际上提取的也是一个元素，但是得到的是array\n",
    "a[6], a[6:7]"
   ]
  },
  {
   "cell_type": "code",
   "execution_count": 14,
   "id": "990998e1",
   "metadata": {
    "ExecuteTime": {
     "end_time": "2024-07-22T14:54:07.405133Z",
     "start_time": "2024-07-22T14:54:07.402160Z"
    }
   },
   "outputs": [
    {
     "data": {
      "text/plain": [
       "(2, 2, 1)"
      ]
     },
     "execution_count": 14,
     "metadata": {},
     "output_type": "execute_result"
    }
   ],
   "source": [
    "# 用int作为index取出来的结果维度比原array少1\n",
    "# 用slice作为index取出来的和原array的维度一样\n",
    "x = np.array([[[5], [7]], [[9], [10]]])\n",
    "x.shape"
   ]
  },
  {
   "cell_type": "code",
   "execution_count": 15,
   "id": "09d7fa53",
   "metadata": {
    "ExecuteTime": {
     "end_time": "2024-07-22T14:54:07.409145Z",
     "start_time": "2024-07-22T14:54:07.406286Z"
    }
   },
   "outputs": [
    {
     "data": {
      "text/plain": [
       "(array([[ 9],\n",
       "        [10]]),\n",
       " array([[[ 9],\n",
       "         [10]]]))"
      ]
     },
     "execution_count": 15,
     "metadata": {},
     "output_type": "execute_result"
    }
   ],
   "source": [
    "x[1], x[1:2]"
   ]
  },
  {
   "cell_type": "code",
   "execution_count": 16,
   "id": "ff2779b7-ba81-4f70-b932-a797db930e47",
   "metadata": {
    "ExecuteTime": {
     "end_time": "2024-07-22T14:54:07.526228Z",
     "start_time": "2024-07-22T14:54:07.410373Z"
    }
   },
   "outputs": [],
   "source": [
    "a = np.arange(int(1e8))\n",
    "b = a[:100].copy()\n",
    "del a  # the memory of ``a`` can be released."
   ]
  },
  {
   "cell_type": "markdown",
   "id": "c47ceff7",
   "metadata": {},
   "source": [
    "#### I.3 dimension index\n",
    "1. 在tuple做index的普通indexing中，如果index的维度d<原array的维度D，那么原array的最后(D-d)个维度取所有数据,这时候做的是dim index。\n",
    "2. 如果要提取后面的维度，缺省前面或者中间的维度，用‘...’。x[1, 2, ...] 相当于x[1, 2, :, :, :],x[4, ..., 5, :] 相当于x[4, :, :, 5, :]"
   ]
  },
  {
   "cell_type": "code",
   "execution_count": 17,
   "id": "18c292ff",
   "metadata": {
    "ExecuteTime": {
     "end_time": "2024-07-22T14:54:07.530258Z",
     "start_time": "2024-07-22T14:54:07.527653Z"
    }
   },
   "outputs": [],
   "source": [
    "b = np.array([[ 0,  1,  2,  3],\n",
    "       [10, 11, 12, 13],\n",
    "       [20, 21, 22, 23],\n",
    "       [30, 31, 32, 33],\n",
    "       [40, 41, 42, 43]])"
   ]
  },
  {
   "cell_type": "code",
   "execution_count": 18,
   "id": "6437c393",
   "metadata": {
    "ExecuteTime": {
     "end_time": "2024-07-22T14:54:07.545387Z",
     "start_time": "2024-07-22T14:54:07.531354Z"
    }
   },
   "outputs": [
    {
     "data": {
      "text/plain": [
       "array([10, 11, 12, 13])"
      ]
     },
     "execution_count": 18,
     "metadata": {},
     "output_type": "execute_result"
    }
   ],
   "source": [
    "# 索引维度d=1，元数据维度D=2，取整个dim2\n",
    "b[1]"
   ]
  },
  {
   "cell_type": "code",
   "execution_count": 19,
   "id": "28b27c94-95d5-47e9-b37a-802d3fe8c1bb",
   "metadata": {
    "ExecuteTime": {
     "end_time": "2024-07-22T14:54:07.551653Z",
     "start_time": "2024-07-22T14:54:07.546459Z"
    }
   },
   "outputs": [
    {
     "data": {
      "text/plain": [
       "array([40, 41, 42, 43])"
      ]
     },
     "execution_count": 19,
     "metadata": {},
     "output_type": "execute_result"
    }
   ],
   "source": [
    "b[-1]   # the last row，相当于b[-1, :]"
   ]
  },
  {
   "cell_type": "code",
   "execution_count": 20,
   "id": "eda9caf4-0cab-4b39-ade7-b8d052e09943",
   "metadata": {
    "ExecuteTime": {
     "end_time": "2024-07-22T14:54:07.558209Z",
     "start_time": "2024-07-22T14:54:07.552724Z"
    }
   },
   "outputs": [
    {
     "data": {
      "text/plain": [
       "(2, 2, 3)"
      ]
     },
     "execution_count": 20,
     "metadata": {},
     "output_type": "execute_result"
    }
   ],
   "source": [
    "# 索引维度d=2，元数据维度D=3，可以用'...'来表示缺省的维度\n",
    "c = np.array([[[  0,  1,  2], \n",
    "               [ 10, 12, 13]],\n",
    "              [[100, 101, 102],\n",
    "               [110, 112, 113]]])\n",
    "c.shape"
   ]
  },
  {
   "cell_type": "code",
   "execution_count": 21,
   "id": "def314e0-3b05-4b10-abe2-f35551e97b7a",
   "metadata": {
    "ExecuteTime": {
     "end_time": "2024-07-22T14:54:07.564303Z",
     "start_time": "2024-07-22T14:54:07.559244Z"
    }
   },
   "outputs": [
    {
     "data": {
      "text/plain": [
       "array([[100, 101, 102],\n",
       "       [110, 112, 113]])"
      ]
     },
     "execution_count": 21,
     "metadata": {},
     "output_type": "execute_result"
    }
   ],
   "source": [
    "# 取整个dim2和dim3\n",
    "c[1, ...]  # same as c[1, :, :] or c[1]"
   ]
  },
  {
   "cell_type": "code",
   "execution_count": 22,
   "id": "4cd04783-f92e-49c2-b1bd-6b4845246bac",
   "metadata": {
    "ExecuteTime": {
     "end_time": "2024-07-22T14:54:07.570475Z",
     "start_time": "2024-07-22T14:54:07.565338Z"
    }
   },
   "outputs": [
    {
     "data": {
      "text/plain": [
       "array([[  2,  13],\n",
       "       [102, 113]])"
      ]
     },
     "execution_count": 22,
     "metadata": {},
     "output_type": "execute_result"
    }
   ],
   "source": [
    "# 取整个dim1和dim2\n",
    "c[..., 2]  # same as c[:, :, 2]"
   ]
  },
  {
   "cell_type": "markdown",
   "id": "1e8bfd17",
   "metadata": {},
   "source": [
    "### II. advanced indexing\n",
    "1. 如果index是一下情况，会触发advanced indexing规则：\\\n",
    "(1) non-tuple sequence \\\n",
    "(2) index本身是int array \\\n",
    "(3) tuple中至少一个元素是sequence或者ndarray\n",
    "2. 有两种类型的advanced indexing：整数索引和布尔索引"
   ]
  },
  {
   "cell_type": "markdown",
   "id": "016aa8c3",
   "metadata": {},
   "source": [
    "#### II.1 单个integer array index\n",
    "1. 单个int array或int list作为dim index，能同时索引该dim中的多个元素。\n",
    "   - N维原array的index形如(ind1, ind2, ..., indN),逗号分隔N个ind\n",
    "     - tuple做index时，每个ind都是一个integer，对应索引原array中对应dim的1个元素\n",
    "     - array或list做index时，一个ind是一个array或者list，整个array索引原array中对应dim。\n",
    "   - 索引方式是，int array的位置决定索引的dim，int array中的单个int element用于索引1次该dim中的元素（如果原array是多维，索引到的元素可能是整个后续维度的data）\n",
    "2. 可以利用多次索引同一dim的功能改变原array的元素排序"
   ]
  },
  {
   "cell_type": "code",
   "execution_count": 23,
   "id": "5f524852",
   "metadata": {
    "ExecuteTime": {
     "end_time": "2024-07-22T14:54:07.576403Z",
     "start_time": "2024-07-22T14:54:07.571541Z"
    }
   },
   "outputs": [
    {
     "data": {
      "text/plain": [
       "array([  0,   1,   8,  27,  64, 125, 216, 343, 512, 729])"
      ]
     },
     "execution_count": 23,
     "metadata": {},
     "output_type": "execute_result"
    }
   ],
   "source": [
    "a = np.arange(10)**3\n",
    "a"
   ]
  },
  {
   "cell_type": "code",
   "execution_count": 24,
   "id": "8169cbdc",
   "metadata": {
    "ExecuteTime": {
     "end_time": "2024-07-22T14:54:07.582308Z",
     "start_time": "2024-07-22T14:54:07.577476Z"
    }
   },
   "outputs": [
    {
     "data": {
      "text/plain": [
       "(array([ 8,  8, 27, 64]), array([ 8,  8, 27, 64]))"
      ]
     },
     "execution_count": 24,
     "metadata": {},
     "output_type": "execute_result"
    }
   ],
   "source": [
    "# 直接用tuple不能同时索引一个dim中的多个元素\n",
    "# a[2, 3, 4] # Error, too many indices for array\n",
    "\n",
    "# 例1：作为dim index索引一个dim中的多个元素\n",
    "ind_a = np.array([2, 2, 3, 4])\n",
    "a[ind_a], a[[2, 2, 3, 4]]"
   ]
  },
  {
   "cell_type": "code",
   "execution_count": 25,
   "id": "092755a6",
   "metadata": {
    "ExecuteTime": {
     "end_time": "2024-07-22T14:54:07.587678Z",
     "start_time": "2024-07-22T14:54:07.583747Z"
    }
   },
   "outputs": [
    {
     "data": {
      "text/plain": [
       "array([[0, 1],\n",
       "       [2, 3],\n",
       "       [4, 5]])"
      ]
     },
     "execution_count": 25,
     "metadata": {},
     "output_type": "execute_result"
    }
   ],
   "source": [
    "b = np.arange(6).reshape(3, 2)\n",
    "b"
   ]
  },
  {
   "cell_type": "code",
   "execution_count": 26,
   "id": "52269d99",
   "metadata": {
    "ExecuteTime": {
     "end_time": "2024-07-22T14:54:07.592870Z",
     "start_time": "2024-07-22T14:54:07.589225Z"
    }
   },
   "outputs": [
    {
     "data": {
      "text/plain": [
       "array([[2, 3],\n",
       "       [4, 5]])"
      ]
     },
     "execution_count": 26,
     "metadata": {},
     "output_type": "execute_result"
    }
   ],
   "source": [
    "# 例2：dim index\n",
    "# array作为index时，其elements对应提取原array某个dim的整个维度\n",
    "b[np.array([1, -1])] # 作为dim1的index，提取dim1第2、3个元素"
   ]
  },
  {
   "cell_type": "code",
   "execution_count": 27,
   "id": "ece89d95",
   "metadata": {
    "ExecuteTime": {
     "end_time": "2024-07-22T14:54:07.601801Z",
     "start_time": "2024-07-22T14:54:07.598157Z"
    }
   },
   "outputs": [
    {
     "data": {
      "text/plain": [
       "array([[[ 0,  1],\n",
       "        [ 2,  3],\n",
       "        [ 4,  5]],\n",
       "\n",
       "       [[ 6,  7],\n",
       "        [ 8,  9],\n",
       "        [10, 11]]])"
      ]
     },
     "execution_count": 27,
     "metadata": {},
     "output_type": "execute_result"
    }
   ],
   "source": [
    "c = np.arange(12).reshape(2, 3, 2)\n",
    "c"
   ]
  },
  {
   "cell_type": "code",
   "execution_count": 28,
   "id": "97338ed3",
   "metadata": {
    "ExecuteTime": {
     "end_time": "2024-07-22T14:54:07.607259Z",
     "start_time": "2024-07-22T14:54:07.603282Z"
    }
   },
   "outputs": [
    {
     "data": {
      "text/plain": [
       "(array([[2, 3],\n",
       "        [4, 5]]),\n",
       " array([[2, 3],\n",
       "        [4, 5]]))"
      ]
     },
     "execution_count": 28,
     "metadata": {},
     "output_type": "execute_result"
    }
   ],
   "source": [
    "# array和list作为dim2的index，提取dim2中的第2、3个元素\n",
    "c[0, np.array([1, 2])], c[0, [1, 2]] "
   ]
  },
  {
   "cell_type": "code",
   "execution_count": 29,
   "id": "28abd122-0541-47ea-94e0-1605744682a2",
   "metadata": {
    "ExecuteTime": {
     "end_time": "2024-07-22T14:54:07.612305Z",
     "start_time": "2024-07-22T14:54:07.608922Z"
    }
   },
   "outputs": [
    {
     "data": {
      "text/plain": [
       "array([[0, 1, 2],\n",
       "       [3, 4, 5]])"
      ]
     },
     "execution_count": 29,
     "metadata": {},
     "output_type": "execute_result"
    }
   ],
   "source": [
    "# 例3：改变元素排序\n",
    "a = np.arange(6).reshape(2, 3)\n",
    "a"
   ]
  },
  {
   "cell_type": "code",
   "execution_count": 30,
   "id": "e3d29b6d-b0b8-4e54-a83f-ff6028ce669c",
   "metadata": {
    "ExecuteTime": {
     "end_time": "2024-07-22T14:54:07.617282Z",
     "start_time": "2024-07-22T14:54:07.613955Z"
    }
   },
   "outputs": [
    {
     "data": {
      "text/plain": [
       "array([[3, 4, 5],\n",
       "       [0, 1, 2]])"
      ]
     },
     "execution_count": 30,
     "metadata": {},
     "output_type": "execute_result"
    }
   ],
   "source": [
    "ind_move_dim1 = [1, 0] # 改变第一个维度\n",
    "a[ind_move_dim1]"
   ]
  },
  {
   "cell_type": "code",
   "execution_count": 31,
   "id": "1a4430c5-708a-43b3-bc4c-894f722356e1",
   "metadata": {
    "ExecuteTime": {
     "end_time": "2024-07-22T14:54:07.622435Z",
     "start_time": "2024-07-22T14:54:07.618776Z"
    }
   },
   "outputs": [
    {
     "data": {
      "text/plain": [
       "array([[2, 1, 0],\n",
       "       [5, 4, 3]])"
      ]
     },
     "execution_count": 31,
     "metadata": {},
     "output_type": "execute_result"
    }
   ],
   "source": [
    "a[:,[2, 1, 0]]       # 改变第二个维度"
   ]
  },
  {
   "cell_type": "markdown",
   "id": "5d209786",
   "metadata": {},
   "source": [
    "#### II.2 多个integer array index\n",
    "如果多个index array作为index，要么index array的数量和原array的维度数相同，要么符合broadcast规则。\n",
    "1. 原array的维度数为D，如果index array的数量也是D，且每个index array自身是1维。他们会以zip方式，每一组D个元素定位原始array的1个基本元素\n",
    "2. 原array的维度数为D，如果index array的数量也是D，且每个index array自身至少是2维。\n",
    "   - 当每个index array维度相同时，他们也是zip提取原array的基本元素。只是提取数量与index array的结构相同。\n",
    "   - 当每个index array维度不同时，要符合broadcast规则，做了broadcast之后，再zip提取原array的基本元素"
   ]
  },
  {
   "cell_type": "code",
   "execution_count": 32,
   "id": "47e67c60-df91-40a0-a09b-412731811728",
   "metadata": {
    "ExecuteTime": {
     "end_time": "2024-07-22T14:54:07.628401Z",
     "start_time": "2024-07-22T14:54:07.624157Z"
    }
   },
   "outputs": [
    {
     "data": {
      "text/plain": [
       "(2, (5, 3))"
      ]
     },
     "execution_count": 32,
     "metadata": {},
     "output_type": "execute_result"
    }
   ],
   "source": [
    "palette = np.array([[0, 0, 0],    \n",
    "                    [254, 0, 0],  \n",
    "                    [0, 253, 0],  \n",
    "                    [0, 0, 252],  \n",
    "                    [251, 205, 225]])\n",
    "palette.ndim, palette.shape"
   ]
  },
  {
   "cell_type": "code",
   "execution_count": 33,
   "id": "17895ff0-9e6d-4f46-96bb-983e7823482c",
   "metadata": {
    "ExecuteTime": {
     "end_time": "2024-07-22T14:54:07.634754Z",
     "start_time": "2024-07-22T14:54:07.630127Z"
    }
   },
   "outputs": [
    {
     "data": {
      "text/plain": [
       "(array([[[  0,   0,   0],\n",
       "         [254,   0,   0],\n",
       "         [  0, 253,   0],\n",
       "         [  0,   0,   0]],\n",
       " \n",
       "        [[  0,   0,   0],\n",
       "         [  0,   0, 252],\n",
       "         [251, 205, 225],\n",
       "         [  0,   0,   0]]]),\n",
       " (2, 4),\n",
       " (2, 4, 3))"
      ]
     },
     "execution_count": 33,
     "metadata": {},
     "output_type": "execute_result"
    }
   ],
   "source": [
    "# 例1：单一index\n",
    "# 如果一个index是array，即使有多维也是单一index\n",
    "# 每个元素都检索原始array的dim1\n",
    "ind = np.array([[0, 1, 2, 0],   \n",
    "                [0, 3, 4, 0]])\n",
    "x = palette[ind]\n",
    "x, ind.shape, x.shape"
   ]
  },
  {
   "cell_type": "code",
   "execution_count": 34,
   "id": "5a048d41-c47a-4171-ba35-8acca9e8e8f1",
   "metadata": {
    "ExecuteTime": {
     "end_time": "2024-07-22T14:54:07.640873Z",
     "start_time": "2024-07-22T14:54:07.636339Z"
    }
   },
   "outputs": [
    {
     "data": {
      "text/plain": [
       "array([  0,   0, 225,   0])"
      ]
     },
     "execution_count": 34,
     "metadata": {},
     "output_type": "execute_result"
    }
   ],
   "source": [
    "# 例2：index array数量与原array维度数相同，且index array是1维\n",
    "dim1_ind = np.array([0, 3, 4, 0])  # 元素分别是dim1和dim2的index\n",
    "dim2_ind = np.array([0, 1, 2, 0])  \n",
    "y = palette[dim1_ind, dim2_ind]\n",
    "y       # 提取出来的结果数量取决于index array的element数量"
   ]
  },
  {
   "cell_type": "code",
   "execution_count": 35,
   "id": "347a390c-32c4-44ad-a9f3-8140dae5414d",
   "metadata": {
    "ExecuteTime": {
     "end_time": "2024-07-22T14:54:07.646473Z",
     "start_time": "2024-07-22T14:54:07.642471Z"
    }
   },
   "outputs": [
    {
     "data": {
      "text/plain": [
       "array([[[  0,   0,   0],\n",
       "        [  0,   0, 252],\n",
       "        [251, 205, 225],\n",
       "        [  0,   0,   0]],\n",
       "\n",
       "       [[  0,   0,   0],\n",
       "        [254,   0,   0],\n",
       "        [  0, 253,   0],\n",
       "        [  0,   0,   0]]])"
      ]
     },
     "execution_count": 35,
     "metadata": {},
     "output_type": "execute_result"
    }
   ],
   "source": [
    "# 如果把他们合并成一个list，和index是单一array一样，提取原始array的dim1\n",
    "ind_2D = [dim1_ind, dim2_ind]     \n",
    "palette[ind_2D]"
   ]
  },
  {
   "cell_type": "code",
   "execution_count": 36,
   "id": "ac7c18f3-fed5-4be6-8cbc-e102c7868734",
   "metadata": {
    "ExecuteTime": {
     "end_time": "2024-07-22T14:54:08.072282Z",
     "start_time": "2024-07-22T14:54:07.647992Z"
    }
   },
   "outputs": [
    {
     "ename": "NameError",
     "evalue": "name 'ind_2D_tuple' is not defined",
     "output_type": "error",
     "traceback": [
      "\u001b[0;31m---------------------------------------------------------------------------\u001b[0m",
      "\u001b[0;31mNameError\u001b[0m                                 Traceback (most recent call last)",
      "Cell \u001b[0;32mIn[36], line 2\u001b[0m\n\u001b[1;32m      1\u001b[0m \u001b[38;5;66;03m# 但如果把他们合并成一个tuple, 此时和两个index效果一致\u001b[39;00m\n\u001b[0;32m----> 2\u001b[0m palette[\u001b[43mind_2D_tuple\u001b[49m]\n\u001b[1;32m      3\u001b[0m ind_2D_tuple \u001b[38;5;241m=\u001b[39m (dim1_ind, dim2_ind)\n",
      "\u001b[0;31mNameError\u001b[0m: name 'ind_2D_tuple' is not defined"
     ]
    }
   ],
   "source": [
    "# 但如果把他们合并成一个tuple, 此时和两个index效果一致\n",
    "palette[ind_2D_tuple]\n",
    "ind_2D_tuple = (dim1_ind, dim2_ind) "
   ]
  },
  {
   "cell_type": "code",
   "execution_count": null,
   "id": "0eeae036-d4c5-4256-a149-b372e7a41b72",
   "metadata": {
    "ExecuteTime": {
     "end_time": "2024-07-22T14:54:08.073747Z",
     "start_time": "2024-07-22T14:54:08.073738Z"
    }
   },
   "outputs": [],
   "source": [
    "# 例3：index array数量与原array维度数相同，是多维矩阵，shape相同\n",
    "row_ind = np.array([0, 1, 2])\n",
    "col_ind = np.array([2, 1, 0])\n",
    "row_ind_2D = row_ind[:,np.newaxis] # 相当于row_ind.reshape(3, 1)\n",
    "col_ind_2D = col_ind[np.newaxis, :] # 相当于col_ind.reshape(1, 3)\n",
    "row_ind_2D, col_ind_2D"
   ]
  },
  {
   "cell_type": "code",
   "execution_count": null,
   "id": "ec94bc6c",
   "metadata": {
    "ExecuteTime": {
     "end_time": "2024-07-22T14:54:08.074789Z",
     "start_time": "2024-07-22T14:54:08.074781Z"
    }
   },
   "outputs": [],
   "source": [
    "row = row_ind_2D[:, (0, 0, 0)]    \n",
    "col = col_ind_2D[[0, 0, 0], :]  \n",
    "row, col"
   ]
  },
  {
   "cell_type": "code",
   "execution_count": null,
   "id": "3a01cf4a-65ad-4861-8d83-f98aa7936f0f",
   "metadata": {
    "ExecuteTime": {
     "end_time": "2024-07-22T14:54:08.075718Z",
     "start_time": "2024-07-22T14:54:08.075710Z"
    }
   },
   "outputs": [],
   "source": [
    "palette[row, col] "
   ]
  },
  {
   "cell_type": "code",
   "execution_count": null,
   "id": "f3a3a028-f99c-4b5e-859b-590489af21d3",
   "metadata": {
    "ExecuteTime": {
     "end_time": "2024-07-22T14:54:08.076662Z",
     "start_time": "2024-07-22T14:54:08.076654Z"
    }
   },
   "outputs": [],
   "source": [
    "# 例4：broadcast\n",
    "# index array数量与原array维度数相同，是多维矩阵，shape不同\n",
    "row_ind = np.array([0, 1, 2])\n",
    "col_ind = np.array([2, 1, 0])"
   ]
  },
  {
   "cell_type": "code",
   "execution_count": null,
   "id": "d39f5f3f-35b6-4298-812d-38c44ee977a3",
   "metadata": {
    "ExecuteTime": {
     "end_time": "2024-07-22T14:54:08.077523Z",
     "start_time": "2024-07-22T14:54:08.077515Z"
    }
   },
   "outputs": [],
   "source": [
    "# 两个index是多维矩阵，形状不同，broadcast扩展成相同的形状\n",
    "# 扩展完后，提取原array元素的方式与index形状相同时一致\n",
    "palette[row_ind_2D, col_ind_2D] "
   ]
  },
  {
   "cell_type": "markdown",
   "id": "e8de858a-aaa6-4101-b98b-5fc0d2f5878c",
   "metadata": {},
   "source": [
    "#### II.3 常见用途\n",
    " - 用mask=argmax, argmin等方式定位特征元素的位置，然后用index[mask]提取特征元素\n",
    " - 用boolean函数做mask，然后用index[mask]提取特征元素"
   ]
  },
  {
   "cell_type": "code",
   "execution_count": null,
   "id": "a66fe7db-b809-46f4-b5d8-b1f2d67e326c",
   "metadata": {
    "ExecuteTime": {
     "end_time": "2024-07-22T14:54:08.078838Z",
     "start_time": "2024-07-22T14:54:08.078829Z"
    }
   },
   "outputs": [],
   "source": [
    "# 例1：索引和mask配合\n",
    "a1 = np.arange(10)**3\n",
    "mask = np.array([[3, 4], [9, 7]])\n",
    "a1[mask]"
   ]
  },
  {
   "cell_type": "code",
   "execution_count": null,
   "id": "a5e42bda-b47f-4e66-9342-b5f88b4d2c75",
   "metadata": {
    "ExecuteTime": {
     "end_time": "2024-07-22T14:54:08.079602Z",
     "start_time": "2024-07-22T14:54:08.079594Z"
    }
   },
   "outputs": [],
   "source": [
    "# 例2：配合argmax得到的特征mask提取元素\n",
    "time = np.arange(5)*2 + 12# 从12点到20点举行了5场比赛\n",
    "data = np.sin(np.arange(20)).reshape(5, 4)**2  # 5个时点4人成绩\n",
    "time, data"
   ]
  },
  {
   "cell_type": "code",
   "execution_count": null,
   "id": "3fd1578e-5437-4d5d-a26a-636f1c2826d6",
   "metadata": {
    "ExecuteTime": {
     "end_time": "2024-07-22T14:54:08.080796Z",
     "start_time": "2024-07-22T14:54:08.080788Z"
    }
   },
   "outputs": [],
   "source": [
    "ind = data.argmax(axis=0) # 每个人最好的成绩发生在第几场\n",
    "ind"
   ]
  },
  {
   "cell_type": "code",
   "execution_count": null,
   "id": "2a9796ba-f98c-4104-8cc1-7ad46dec6f5f",
   "metadata": {
    "ExecuteTime": {
     "end_time": "2024-07-22T14:54:08.082183Z",
     "start_time": "2024-07-22T14:54:08.082175Z"
    }
   },
   "outputs": [],
   "source": [
    "best_time = time[ind]    # 查出这些场次对应的具体时间\n",
    "best_time"
   ]
  }
 ],
 "metadata": {
  "kernelspec": {
   "display_name": "cs224nhw",
   "language": "python",
   "name": "cs224nhw"
  },
  "language_info": {
   "codemirror_mode": {
    "name": "ipython",
    "version": 3
   },
   "file_extension": ".py",
   "mimetype": "text/x-python",
   "name": "python",
   "nbconvert_exporter": "python",
   "pygments_lexer": "ipython3",
   "version": "3.10.13"
  }
 },
 "nbformat": 4,
 "nbformat_minor": 5
}
