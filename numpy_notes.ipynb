{
 "cells": [
  {
   "cell_type": "code",
   "execution_count": 1,
   "id": "5c0155ec-05ed-4da6-9e47-dc5a42e2ef50",
   "metadata": {},
   "outputs": [],
   "source": [
    "import numpy as np\n",
    "import matplotlib.pyplot as plt\n",
    "import sys"
   ]
  },
  {
   "cell_type": "markdown",
   "id": "1a2b50a8-d389-4090-bf23-1f1e6e2fadc1",
   "metadata": {},
   "source": [
    "## I. numpy array的六类基本操作"
   ]
  },
  {
   "cell_type": "markdown",
   "id": "70e2dc9e-7155-4dc3-bf50-b825c9065914",
   "metadata": {},
   "source": [
    "### 第1类操作：创建\n",
    "1. 有3种常用的创建方式：\\\n",
    "   (1) 直接用sequence \\\n",
    "   (2) 指定shape和初始值 \\\n",
    "   (3) 用arange或者linspace设置起始值和分割数量\n",
    "2. 创建时可以直接指定数据类型 \\\n",
    "   <font color=orange>如果不指定，整数默认是int64，浮点数默认是float64</font>"
   ]
  },
  {
   "cell_type": "markdown",
   "id": "5a49b1fb-1e59-4755-a43e-8f4c5e324703",
   "metadata": {},
   "source": [
    "#### 创建例子\n",
    "1. 直接用sequence创建\n",
    " - <font color=orange>array transforms sequences of sequences into two-dimensional arrays, sequences of sequences of sequences into three-dimensional arrays, and so on.</font>"
   ]
  },
  {
   "cell_type": "code",
   "execution_count": 2,
   "id": "78124707-3696-41ae-b728-006c0b997060",
   "metadata": {},
   "outputs": [],
   "source": [
    "a = np.array([1, 2, 3, 4])\n",
    "# a = np.array(1, 2, 3, 4)    # WRONG 要用sequence"
   ]
  },
  {
   "cell_type": "code",
   "execution_count": 3,
   "id": "50bad883-6609-40ed-8fd8-3a1af35d37ca",
   "metadata": {},
   "outputs": [
    {
     "data": {
      "text/plain": [
       "array([[1.5, 2. , 3. ],\n",
       "       [4. , 5. , 6. ]])"
      ]
     },
     "execution_count": 3,
     "metadata": {},
     "output_type": "execute_result"
    }
   ],
   "source": [
    "b = np.array([(1.5, 2, 3), (4, 5, 6)])\n",
    "b"
   ]
  },
  {
   "cell_type": "code",
   "execution_count": 4,
   "id": "9c6c047f-ca20-4dfe-bb6b-3bf87f0cf30c",
   "metadata": {},
   "outputs": [
    {
     "data": {
      "text/plain": [
       "(dtype('float32'), dtype('float64'), dtype('int64'))"
      ]
     },
     "execution_count": 4,
     "metadata": {},
     "output_type": "execute_result"
    }
   ],
   "source": [
    "c = np.array([[1, 2], [3, 4]], dtype=np.float32)\n",
    "c.dtype, b.dtype, a.dtype"
   ]
  },
  {
   "cell_type": "markdown",
   "id": "c0b59e92-0bbd-4ddf-a072-777f9859ea99",
   "metadata": {},
   "source": [
    "2. 指定shape来初始化矩阵 \\\n",
    "   (1) np.zeros, np.ones, np.empty \\\n",
    "   (2) np.zeros_like, np.ones_like, np.empty_like \\\n",
    "   (3) 默认数据类型是float64，可以直接指定类型"
   ]
  },
  {
   "cell_type": "code",
   "execution_count": 5,
   "id": "021e109b-34e4-4d1d-b0f0-a660c900ed53",
   "metadata": {},
   "outputs": [
    {
     "data": {
      "text/plain": [
       "(array([[0, 0, 0],\n",
       "        [0, 0, 0]], dtype=int16),\n",
       " array([[1.5, 2. , 3. ],\n",
       "        [4. , 5. , 6. ]]))"
      ]
     },
     "execution_count": 5,
     "metadata": {},
     "output_type": "execute_result"
    }
   ],
   "source": [
    "x, y = np.zeros((2, 3), dtype=np.int16), np.empty((2, 3))\n",
    "x, y"
   ]
  },
  {
   "cell_type": "code",
   "execution_count": 6,
   "id": "cedff1ce-0a75-46fd-9c3b-dc6993a48266",
   "metadata": {},
   "outputs": [
    {
     "data": {
      "text/plain": [
       "array([[1, 1, 1],\n",
       "       [1, 1, 1]], dtype=int16)"
      ]
     },
     "execution_count": 6,
     "metadata": {},
     "output_type": "execute_result"
    }
   ],
   "source": [
    "z = np.ones_like(y, dtype=np.int16)\n",
    "z"
   ]
  },
  {
   "cell_type": "markdown",
   "id": "722bed5a-6911-46ef-8d8d-cbc574003880",
   "metadata": {},
   "source": [
    "3. 设置起始值和分割数量 \\\n",
    "   (1) arange(start, stop, step)，生成的数据范围是[start, stop) \\\n",
    "   (2) linspace(start, stop, number_of_point)，生成的数据范围是[start, stop]\n",
    "    - <font color=orange>arange能提前知道前后两个point之间的step size，不知道生成的point数量。linspace直接指定生成的point数量</font>"
   ]
  },
  {
   "cell_type": "code",
   "execution_count": 7,
   "id": "39d249df-9d6c-44ba-b48b-94ded7de1c46",
   "metadata": {},
   "outputs": [
    {
     "data": {
      "text/plain": [
       "(array([ 0,  5, 10, 15]), array([20, 15, 10,  5]))"
      ]
     },
     "execution_count": 7,
     "metadata": {},
     "output_type": "execute_result"
    }
   ],
   "source": [
    "p, q = np.arange(0, 20, 5), np.arange(20, 0, -5) # reverse的时候，step size要设为负数\n",
    "p, q"
   ]
  },
  {
   "cell_type": "code",
   "execution_count": 8,
   "id": "17f84856-53ce-4077-b3b7-9e2bfb5eec98",
   "metadata": {},
   "outputs": [
    {
     "data": {
      "text/plain": [
       "(array([0.  , 0.25, 0.5 , 0.75, 1.  , 1.25, 1.5 , 1.75, 2.  ]),\n",
       " array([0.    , 0.2856, 0.5713, 0.857 , 1.143 , 1.429 , 1.714 , 2.    ],\n",
       "       dtype=float16))"
      ]
     },
     "execution_count": 8,
     "metadata": {},
     "output_type": "execute_result"
    }
   ],
   "source": [
    "s, t = np.linspace(0, 2, 9), np.linspace(0, 2, 8, dtype=np.float16)\n",
    "s, t"
   ]
  },
  {
   "cell_type": "code",
   "execution_count": 9,
   "id": "1e6443ac-a566-407d-ac93-4fc4e02ac0d3",
   "metadata": {},
   "outputs": [],
   "source": [
    "# linspace常用于函数自变量取值范围分割\n",
    "x = np.linspace(0, 2*np.pi, 100)\n",
    "f = np.sin(s)"
   ]
  },
  {
   "cell_type": "markdown",
   "id": "8caf7892-3363-40a2-914d-d365cc22e068",
   "metadata": {},
   "source": [
    "4. 打印numpy array"
   ]
  },
  {
   "cell_type": "code",
   "execution_count": 10,
   "id": "55b1c2fa-bbce-43e2-a06e-6cd91b37a37c",
   "metadata": {},
   "outputs": [
    {
     "name": "stdout",
     "output_type": "stream",
     "text": [
      "[[ 0  1  2  3  4]\n",
      " [ 5  6  7  8  9]\n",
      " [10 11 12 13 14]\n",
      " [15 16 17 18 19]\n",
      " [20 21 22 23 24]\n",
      " [25 26 27 28 29]\n",
      " [30 31 32 33 34]\n",
      " [35 36 37 38 39]\n",
      " [40 41 42 43 44]\n",
      " [45 46 47 48 49]]\n"
     ]
    }
   ],
   "source": [
    "# 当array太大的时候，默认的print会省略一部分内容。如果想打印全部，可以用np.set_printoptions()\n",
    "np.set_printoptions(threshold=sys.maxsize)\n",
    "print(np.arange(50).reshape(10, 5))"
   ]
  },
  {
   "cell_type": "code",
   "execution_count": 11,
   "id": "ca3e27ae-1610-4a7e-9180-c43add96f6a8",
   "metadata": {},
   "outputs": [
    {
     "name": "stdout",
     "output_type": "stream",
     "text": [
      "[[ 0  1  2  3  4]\n",
      " [ 5  6  7  8  9]\n",
      " [10 11 12 13 14]\n",
      " ...\n",
      " [35 36 37 38 39]\n",
      " [40 41 42 43 44]\n",
      " [45 46 47 48 49]]\n"
     ]
    }
   ],
   "source": [
    "# 通常还是设置为只打印部分\n",
    "np.set_printoptions(threshold=10)\n",
    "print(np.arange(50).reshape(10, 5))"
   ]
  },
  {
   "cell_type": "markdown",
   "id": "e66835ef-53dd-4995-80e1-ef08785c718c",
   "metadata": {},
   "source": [
    "### 第2类操作：属性\n",
    "1. 属性不是函数，是实例的变量\n",
    "2. 主要的属性有：\\\n",
    "   (1) A.ndim，A.dtype，A.shape \\\n",
    "   (2) A.size是number of elements, A.itemsize是byte size of one elements \\\n",
    "   (3) A.data是数据存储地址"
   ]
  },
  {
   "cell_type": "code",
   "execution_count": 12,
   "id": "b3bb6095-2b69-41bd-b36a-31c2366cb480",
   "metadata": {},
   "outputs": [
    {
     "name": "stdout",
     "output_type": "stream",
     "text": [
      "2 (2, 3) 6\n",
      "float64 8\n",
      "<memory at 0x70294721b370>\n"
     ]
    }
   ],
   "source": [
    "a = np.array([[1., 0., 0.],[0., 1., 2.]])\n",
    "print(a.ndim, a.shape, a.size)\n",
    "print(a.dtype, a.itemsize)\n",
    "print(a.data)"
   ]
  },
  {
   "cell_type": "markdown",
   "id": "3b6222e1-ccd9-4cdd-a27e-bddb2093ff69",
   "metadata": {},
   "source": [
    "### 第3类操作：索引 indexing\n",
    "1. 每个dim一个index，反向索引时index用负数\n",
    "2. 多维索引用‘,‘隔开\n",
    "3. fancy indexing"
   ]
  },
  {
   "cell_type": "code",
   "execution_count": null,
   "id": "a75f61bc-76e2-44b5-bf2f-8ed919213c32",
   "metadata": {},
   "outputs": [],
   "source": []
  },
  {
   "cell_type": "code",
   "execution_count": null,
   "id": "1bd4bd9f-286e-4936-86db-855632d87c44",
   "metadata": {},
   "outputs": [],
   "source": []
  },
  {
   "cell_type": "code",
   "execution_count": null,
   "id": "8f29b671-def2-4a71-9e4b-d0c727a85471",
   "metadata": {},
   "outputs": [],
   "source": []
  },
  {
   "cell_type": "markdown",
   "id": "9c217a4b-df66-4394-befd-26d667c59999",
   "metadata": {},
   "source": [
    "### 第4类操作：切片 slicing\n",
    "1. 每个维度都用一组start:stop:step, 各个维度之间用','隔开，反向时step取负数\n",
    "2. slice是引用而非复制，改变slice中的value会同时改变原array中对应位置的值。"
   ]
  },
  {
   "cell_type": "code",
   "execution_count": null,
   "id": "ff2779b7-ba81-4f70-b932-a797db930e47",
   "metadata": {},
   "outputs": [],
   "source": []
  },
  {
   "cell_type": "code",
   "execution_count": null,
   "id": "a70cc3bc-c9fb-4f29-9deb-ab99f9f42be9",
   "metadata": {},
   "outputs": [],
   "source": []
  },
  {
   "cell_type": "code",
   "execution_count": null,
   "id": "6e049564-3edb-4f0c-98a0-6e2133276fb3",
   "metadata": {},
   "outputs": [],
   "source": []
  },
  {
   "cell_type": "markdown",
   "id": "4f0ce3c9-dc48-440f-b973-fcf537124855",
   "metadata": {},
   "source": [
    "### 第5类操作：变形 reshaping\n",
    "1. 用A.reshape(dim1, dim2, ..., dimN)\n",
    "注：\n",
    "1. reshape前后的size要一样，二维条件下size = row * column\n",
    "2. reshape得到的新array可能是复制，也可能是引用，系统会尽可能处理成复制，但是要看内存分配的连续性。如果要copy就直接用reshape().copy()\n",
    "3. 一维numpy array的shape是(n,)，在broadcast规则中，会被扩展为(1, n)。但它不同于二维shape取(1, n)的场景。"
   ]
  },
  {
   "cell_type": "code",
   "execution_count": 13,
   "id": "3e936cb4-38a1-4665-bd2d-351d51bd99d0",
   "metadata": {},
   "outputs": [
    {
     "name": "stdout",
     "output_type": "stream",
     "text": [
      "[0 1 2 3 4] [[0 1 2 3 4]]\n",
      "(5,) (1, 5)\n"
     ]
    }
   ],
   "source": [
    "a = np.arange(5)\n",
    "b = np.arange(5).reshape(1, -1)\n",
    "print(a, b)\n",
    "print(a.shape, b.shape)"
   ]
  },
  {
   "cell_type": "markdown",
   "id": "481695f6-7b7b-4928-8f54-a386b3705bfc",
   "metadata": {},
   "source": [
    "### 第6类操作：合并分割 joining and splitting"
   ]
  },
  {
   "cell_type": "markdown",
   "id": "55fdab04-337b-4e28-9bc4-0d7c306f3017",
   "metadata": {
    "jp-MarkdownHeadingCollapsed": true
   },
   "source": [
    "## II. 数学运算\n",
    "numpy中针对ndarray的运算基本都是用universal functions来执行的。这些universal function的特点是：\n",
    "1. operate element-wise on arrays。比如$A*2$是将A中每个元素都*2\n",
    "2. 支持broadcasting\n",
    "3. 支持type casting\n",
    "- <font color=norange>本质上，ufunc是一般function的一个wrapper，把一般function运算改造成了适用于矩阵的运算。</font>"
   ]
  },
  {
   "cell_type": "markdown",
   "id": "dd93111b-1bd0-4cf0-9f01-d507876e688f",
   "metadata": {},
   "source": [
    "### II.1 数学运算的基本规则"
   ]
  },
  {
   "cell_type": "markdown",
   "id": "ae4431b0-6ba9-4b20-b397-1c21bc7fd20e",
   "metadata": {},
   "source": [
    "1. 数学运算符在numpy中基本都已经处理成了universal function。所以一般数学运算在numpy array上都是elementwise的。"
   ]
  },
  {
   "cell_type": "code",
   "execution_count": 19,
   "id": "2cee144a-be44-4577-957e-45badbb4aee1",
   "metadata": {},
   "outputs": [
    {
     "data": {
      "text/plain": [
       "array([ True,  True, False, False])"
      ]
     },
     "execution_count": 19,
     "metadata": {},
     "output_type": "execute_result"
    }
   ],
   "source": [
    "# elementwise\n",
    "a = np.array([20, 30, 40, 50])\n",
    "a < 35"
   ]
  },
  {
   "cell_type": "code",
   "execution_count": 20,
   "id": "7809d7df-c853-48fa-84f8-36879ccdc587",
   "metadata": {},
   "outputs": [
    {
     "data": {
      "text/plain": [
       "array([0, 1, 4, 9])"
      ]
     },
     "execution_count": 20,
     "metadata": {},
     "output_type": "execute_result"
    }
   ],
   "source": [
    "b = np.arange(4)\n",
    "b ** 2"
   ]
  },
  {
   "cell_type": "code",
   "execution_count": 22,
   "id": "688c61db-51bb-41ac-8a14-979954537008",
   "metadata": {},
   "outputs": [
    {
     "data": {
      "text/plain": [
       "array([20, 29, 38, 47])"
      ]
     },
     "execution_count": 22,
     "metadata": {},
     "output_type": "execute_result"
    }
   ],
   "source": [
    "a - b"
   ]
  },
  {
   "cell_type": "markdown",
   "id": "3e282b23-edea-40fd-881c-bd23f602c0e2",
   "metadata": {},
   "source": [
    "2. 正常执行数学expression之后，会生成新的numpy array。但如果用的是+=,-=等operator，那么不会生成新的array，等号左边的变量的变化是in place的。\\\n",
    "   <font color=deeppink>**要注意数据类型变化**：\n",
    "   - 如果两个operant的dtype不一样，会自动做数据类型变换，规则是upcasting，resulting array的类型是更general or precise的那种\n",
    "   - 如果是+=,-=等operator，发生的是in place赋值，那么要注意左边operant的数据类型无法自动upcast。</font>"
   ]
  },
  {
   "cell_type": "code",
   "execution_count": 50,
   "id": "ff77e53b-bb94-4211-bf25-3ff7f87cb12c",
   "metadata": {},
   "outputs": [
    {
     "name": "stdout",
     "output_type": "stream",
     "text": [
      "int16 float64 int16\n",
      "float64\n"
     ]
    }
   ],
   "source": [
    "# dtype\n",
    "b = np.random.randn(6)\n",
    "a, c = np.ones(6, dtype=np.int16), np.ones(6, dtype=np.int16)\n",
    "print(a.dtype, b.dtype, c.dtype)\n",
    "b += a\n",
    "print(b.dtype)"
   ]
  },
  {
   "cell_type": "code",
   "execution_count": 53,
   "id": "ea8cec91-6c48-4f82-94fe-2f96a2d72951",
   "metadata": {},
   "outputs": [],
   "source": [
    "# c += b # 报错，UFuncTypeError: Cannot cast ufunc 'add' output from dtype('float64') to dtype('int16') "
   ]
  },
  {
   "cell_type": "markdown",
   "id": "2b5ae5d1-7255-4a7b-a652-4f040e4b43c8",
   "metadata": {},
   "source": [
    "3. 二元运算的时候，两个operator array的shape要一样。如果不一样，那么要遵守broadcast规则的要求 \\\n",
    "   <font color=norange>**broadcast的两个规则**：\n",
    "   - 如果两个矩阵的ndims不同，运算的时候自动将它的最左边缺的维度上的size扩展为1，使两个矩阵的ndims相同。比如：一个shape是(n,)的array A与另一个二维array B做运算，会先扩展为(1, n)\n",
    "   - 两个ndims相同的array做运算，如果它们的shape不同，那么不同的维度上至少其中一个的size必须为1，在size=1的维度上copy，直到两个array的size相同。如果前面例子中array B的shape是(3, n)，那么A会在第一个维度上自我复制，扩展为形状是(3, n)后再跟B做elementwise的运算。</font>"
   ]
  },
  {
   "cell_type": "markdown",
   "id": "f971f840-4b6b-4471-8ba7-2daa4de188e1",
   "metadata": {},
   "source": [
    "### II.2 常见ufun运算"
   ]
  },
  {
   "cell_type": "markdown",
   "id": "a1718d9c-0207-4b5f-a108-9a82f9debc06",
   "metadata": {},
   "source": [
    "1. 一般数学运算：+, -, *, /, //, %, **"
   ]
  },
  {
   "cell_type": "code",
   "execution_count": 56,
   "id": "927546b9-2235-41cd-b212-86555ec59080",
   "metadata": {},
   "outputs": [
    {
     "name": "stdout",
     "output_type": "stream",
     "text": [
      "[[1 0]\n",
      " [1 2]]\n",
      "[[0 0]\n",
      " [1 0]]\n"
     ]
    }
   ],
   "source": [
    "A = np.array([[2, 0],\n",
    "              [3, 4]])\n",
    "print(A // 2)\n",
    "print(A % 2)"
   ]
  },
  {
   "cell_type": "markdown",
   "id": "026a6ace-3e02-4129-9d24-2239164c97f6",
   "metadata": {},
   "source": [
    "2. 三角运算：sin, cos, tan, arcsin, arccos, arctan, sinh, cosh, tanh ...\n",
    "3. 比较运算：>, >=, <, <=, ==, !=\n",
    "4. 位运算和逻辑运算：&(and), |(or), ^(xor)和~(not)\n",
    "   - 如果operant是int类型，上述operator会执行位运算\n",
    "   - 如果operant是boolean类型，上述operator会执行逻辑运算。\n",
    "   - <font color=norange>逻辑运算经常用来做mask</font>"
   ]
  },
  {
   "cell_type": "code",
   "execution_count": 58,
   "id": "6bd23420-b4ac-45f9-9c92-88d02fd7b6ea",
   "metadata": {},
   "outputs": [
    {
     "name": "stdout",
     "output_type": "stream",
     "text": [
      "[-2 -3 -4 -5] [False  True False  True]\n"
     ]
    }
   ],
   "source": [
    "B = np.array([1, 2, 3, 4])\n",
    "b = np.array([True, False, True, False])\n",
    "print(~B, ~b)"
   ]
  },
  {
   "cell_type": "code",
   "execution_count": 60,
   "id": "b0691abb-02ef-462d-b786-dbb295b59663",
   "metadata": {},
   "outputs": [
    {
     "name": "stdout",
     "output_type": "stream",
     "text": [
      "[9 4 5] [12  3]\n"
     ]
    }
   ],
   "source": [
    "c = np.array([9, 12, 3, 4, 5])\n",
    "mask = (c > 3) & (c < 10)\n",
    "print(c[mask], c[~mask])"
   ]
  },
  {
   "cell_type": "markdown",
   "id": "413b837b-4f84-4e16-9e7b-dca7378fb365",
   "metadata": {},
   "source": [
    "4. 统计摘要: \\\n",
    "   (1) 返回value：sum, min, max, std, var, mean, median, percentile\\\n",
    "   (2) 返回value index：argmin, argmax\\\n",
    "   (3) any, all：范围boolean scalar\\\n",
    "   (4) prod：返回所有元素相乘的结果scalar"
   ]
  },
  {
   "cell_type": "code",
   "execution_count": 96,
   "id": "51377447-8f65-4bd8-b2d7-2c8ed446d273",
   "metadata": {},
   "outputs": [
    {
     "data": {
      "text/plain": [
       "array([[-2.24023379,  0.52662732, -1.30715231],\n",
       "       [-0.31281616,  1.01358176,  0.08734413]])"
      ]
     },
     "execution_count": 96,
     "metadata": {},
     "output_type": "execute_result"
    }
   ],
   "source": [
    "a = np.random.randn(2, 3)\n",
    "a"
   ]
  },
  {
   "cell_type": "code",
   "execution_count": 97,
   "id": "94ae7f7f-f425-4737-a935-03506c28b749",
   "metadata": {},
   "outputs": [
    {
     "data": {
      "text/plain": [
       "(-2.2326490561549606, 1.0135817611107882)"
      ]
     },
     "execution_count": 97,
     "metadata": {},
     "output_type": "execute_result"
    }
   ],
   "source": [
    "a.sum(), a.max()"
   ]
  },
  {
   "cell_type": "code",
   "execution_count": 106,
   "id": "695653ce-b2f0-482f-96e3-f1b4609f79f3",
   "metadata": {},
   "outputs": [
    {
     "data": {
      "text/plain": [
       "array([-2.55304995,  1.54020908, -1.21980818])"
      ]
     },
     "execution_count": 106,
     "metadata": {},
     "output_type": "execute_result"
    }
   ],
   "source": [
    "# 指定axia：规则被指定的dim会被reduce掉\n",
    "a.sum(axis=0)"
   ]
  },
  {
   "cell_type": "code",
   "execution_count": 99,
   "id": "4c5c9d0f-fb00-411d-bb2b-f261013c5164",
   "metadata": {},
   "outputs": [
    {
     "data": {
      "text/plain": [
       "(True, False)"
      ]
     },
     "execution_count": 99,
     "metadata": {},
     "output_type": "execute_result"
    }
   ],
   "source": [
    "np.any(a>0), np.all(a>0)"
   ]
  },
  {
   "cell_type": "code",
   "execution_count": 101,
   "id": "4ab86a7a-d1c6-4bb1-b67d-4857349bb988",
   "metadata": {},
   "outputs": [
    {
     "data": {
      "text/plain": [
       "array([6, 8, 9, 7, 2])"
      ]
     },
     "execution_count": 101,
     "metadata": {},
     "output_type": "execute_result"
    }
   ],
   "source": [
    "b = np.arange(10)\n",
    "c = np.random.choice(b, size=5, replace=True)\n",
    "c"
   ]
  },
  {
   "cell_type": "code",
   "execution_count": 105,
   "id": "d5c8d0bf-16c7-44a5-bf79-60c5ab18aad8",
   "metadata": {},
   "outputs": [
    {
     "data": {
      "text/plain": [
       "(2, 4, 2.64)"
      ]
     },
     "execution_count": 105,
     "metadata": {},
     "output_type": "execute_result"
    }
   ],
   "source": [
    "c.argmax(), c.argmin(), np.percentile(c, 4)"
   ]
  },
  {
   "cell_type": "markdown",
   "id": "d84c68ff-fc03-4dc8-aeca-5a98e454128a",
   "metadata": {},
   "source": [
    "5. 2种规则不同的矩阵inner product \\\n",
    "   (1) matmul, 也就是@ \\\n",
    "   (2) dot\n",
    "- 在两个二维矩阵求内积的时候他们效果一样，两者的差异是：\n",
    "  - matmul不能用scalar做乘法。 比如不能用：A @ 2\n",
    "  - matmul中，Stacks of matrices are broadcast together as if the matrices were elements, respecting the signature (n,k),(k,m)->(n,m)"
   ]
  },
  {
   "cell_type": "code",
   "execution_count": 86,
   "id": "c89e1465-f1f6-4977-a7b0-09e776ad4eb5",
   "metadata": {},
   "outputs": [
    {
     "data": {
      "text/plain": [
       "(array([[ True,  True,  True],\n",
       "        [ True,  True,  True]]),\n",
       " (2, 3))"
      ]
     },
     "execution_count": 86,
     "metadata": {},
     "output_type": "execute_result"
    }
   ],
   "source": [
    "x = np.ones([2, 4])\n",
    "y = np.ones([4, 3])\n",
    "z = x @ y\n",
    "w = np.dot(x, y)\n",
    "z==w, z.shape"
   ]
  },
  {
   "cell_type": "code",
   "execution_count": 89,
   "id": "31703bdf-fbd4-4f0b-9e91-ef94e927d4fe",
   "metadata": {},
   "outputs": [
    {
     "data": {
      "text/plain": [
       "(6, 5, 2, 3)"
      ]
     },
     "execution_count": 89,
     "metadata": {},
     "output_type": "execute_result"
    }
   ],
   "source": [
    "a = np.ones([6, 5, 2, 4])\n",
    "b = np.ones([6, 5, 4, 3])\n",
    "c = a @ b # 在最后两个维度上做(2, 4),(4, 3)的inner product，前面的维度视为stack\n",
    "c.shape"
   ]
  },
  {
   "cell_type": "code",
   "execution_count": 90,
   "id": "45b0dd56-6720-41c8-a748-d20ced71cd8e",
   "metadata": {},
   "outputs": [
    {
     "data": {
      "text/plain": [
       "(6, 5, 2, 6, 5, 3)"
      ]
     },
     "execution_count": 90,
     "metadata": {},
     "output_type": "execute_result"
    }
   ],
   "source": [
    "d = np.dot(a, b)\n",
    "d.shape"
   ]
  },
  {
   "cell_type": "markdown",
   "id": "5f4fce70-6c74-491b-81b8-88d6936e6381",
   "metadata": {},
   "source": [
    "5. ufunc提供的一些功能性method \\\n",
    "   (1) reduce：在指定维度上执行ufunc运算，同时将该维度reduce掉 \\\n",
    "   (2) accumulate：在指定维度上执行ufunc运算，该维度上保留运算执行到每个elements时候的中间值 \\\n",
    "   (3) outer：外积运算   "
   ]
  },
  {
   "cell_type": "code",
   "execution_count": 62,
   "id": "00ca37a1-fd3b-45c0-a7e7-1c93574654c1",
   "metadata": {},
   "outputs": [
    {
     "data": {
      "text/plain": [
       "(10, 30)"
      ]
     },
     "execution_count": 62,
     "metadata": {},
     "output_type": "execute_result"
    }
   ],
   "source": [
    "a = np.array([2,3,5])\n",
    "np.add.reduce(a), np.multiply.reduce(a)"
   ]
  },
  {
   "cell_type": "code",
   "execution_count": 63,
   "id": "076999d5-bee4-4c6a-9321-ee4673492c59",
   "metadata": {},
   "outputs": [
    {
     "data": {
      "text/plain": [
       "(array([ 6,  9, 15]), array([ 30, 240]))"
      ]
     },
     "execution_count": 63,
     "metadata": {},
     "output_type": "execute_result"
    }
   ],
   "source": [
    "b = np.array([[2,3,5],\n",
    "              [4, 6, 10]])\n",
    "np.add.reduce(b, axis=0), np.multiply.reduce(b, axis=1)"
   ]
  },
  {
   "cell_type": "code",
   "execution_count": 64,
   "id": "8a93b730-d13c-4f1b-bc6f-d755862a5d17",
   "metadata": {},
   "outputs": [
    {
     "data": {
      "text/plain": [
       "(array([ 2,  5, 10]), array([ 2,  6, 30]))"
      ]
     },
     "execution_count": 64,
     "metadata": {},
     "output_type": "execute_result"
    }
   ],
   "source": [
    "a = np.array([2,3,5])\n",
    "np.add.accumulate(a), np.multiply.accumulate(a)"
   ]
  },
  {
   "cell_type": "markdown",
   "id": "bfccd862-6c5b-4bff-a42f-306a443aa47e",
   "metadata": {},
   "source": []
  },
  {
   "cell_type": "markdown",
   "id": "60b276bd-46ac-4855-8739-58a865e354d7",
   "metadata": {},
   "source": []
  }
 ],
 "metadata": {
  "kernelspec": {
   "display_name": "cs224nhw",
   "language": "python",
   "name": "cs224nhw"
  },
  "language_info": {
   "codemirror_mode": {
    "name": "ipython",
    "version": 3
   },
   "file_extension": ".py",
   "mimetype": "text/x-python",
   "name": "python",
   "nbconvert_exporter": "python",
   "pygments_lexer": "ipython3",
   "version": "3.10.13"
  }
 },
 "nbformat": 4,
 "nbformat_minor": 5
}
