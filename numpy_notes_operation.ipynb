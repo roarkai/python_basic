{
 "cells": [
  {
   "cell_type": "code",
   "execution_count": 1,
   "id": "5c0155ec-05ed-4da6-9e47-dc5a42e2ef50",
   "metadata": {
    "ExecuteTime": {
     "end_time": "2024-07-22T07:48:06.006529Z",
     "start_time": "2024-07-22T07:48:05.634528Z"
    }
   },
   "outputs": [],
   "source": [
    "import numpy as np\n",
    "import matplotlib.pyplot as plt\n",
    "import sys"
   ]
  },
  {
   "cell_type": "markdown",
   "id": "55fdab04-337b-4e28-9bc4-0d7c306f3017",
   "metadata": {},
   "source": [
    "## II. 数学运算\n",
    "numpy中针对ndarray的运算基本都是用universal functions来执行的。这些universal function的特点是：\n",
    "1. operate element-wise on arrays。比如$A*2$是将A中每个元素都*2\n",
    "2. 支持broadcasting\n",
    "3. 支持type casting\n",
    "- <font color=norange>本质上，ufunc是一般function的一个wrapper，把一般function运算改造成了适用于矩阵的运算。</font>"
   ]
  },
  {
   "cell_type": "markdown",
   "id": "dd93111b-1bd0-4cf0-9f01-d507876e688f",
   "metadata": {},
   "source": [
    "### II.1 数学运算的基本规则"
   ]
  },
  {
   "cell_type": "markdown",
   "id": "ae4431b0-6ba9-4b20-b397-1c21bc7fd20e",
   "metadata": {},
   "source": [
    "1. 数学运算符在numpy中基本都已经处理成了universal function。所以一般数学运算在numpy array上都是elementwise的。"
   ]
  },
  {
   "cell_type": "code",
   "execution_count": 60,
   "id": "2cee144a-be44-4577-957e-45badbb4aee1",
   "metadata": {
    "ExecuteTime": {
     "end_time": "2024-07-22T07:48:06.487391Z",
     "start_time": "2024-07-22T07:48:06.483299Z"
    }
   },
   "outputs": [
    {
     "data": {
      "text/plain": [
       "array([ True,  True, False, False])"
      ]
     },
     "execution_count": 60,
     "metadata": {},
     "output_type": "execute_result"
    }
   ],
   "source": [
    "# elementwise\n",
    "a = np.array([20, 30, 40, 50])\n",
    "a < 35"
   ]
  },
  {
   "cell_type": "code",
   "execution_count": 61,
   "id": "7809d7df-c853-48fa-84f8-36879ccdc587",
   "metadata": {
    "ExecuteTime": {
     "end_time": "2024-07-22T07:48:06.492664Z",
     "start_time": "2024-07-22T07:48:06.489114Z"
    }
   },
   "outputs": [
    {
     "data": {
      "text/plain": [
       "array([0, 1, 4, 9])"
      ]
     },
     "execution_count": 61,
     "metadata": {},
     "output_type": "execute_result"
    }
   ],
   "source": [
    "b = np.arange(4)\n",
    "b ** 2"
   ]
  },
  {
   "cell_type": "code",
   "execution_count": 62,
   "id": "688c61db-51bb-41ac-8a14-979954537008",
   "metadata": {
    "ExecuteTime": {
     "end_time": "2024-07-22T07:48:06.497264Z",
     "start_time": "2024-07-22T07:48:06.494054Z"
    }
   },
   "outputs": [
    {
     "data": {
      "text/plain": [
       "array([20, 29, 38, 47])"
      ]
     },
     "execution_count": 62,
     "metadata": {},
     "output_type": "execute_result"
    }
   ],
   "source": [
    "a - b"
   ]
  },
  {
   "cell_type": "markdown",
   "id": "3e282b23-edea-40fd-881c-bd23f602c0e2",
   "metadata": {},
   "source": [
    "2. 正常执行数学expression之后，会生成新的numpy array。但如果用的是+=,-=等operator，那么不会生成新的array，等号左边的变量的变化是in place的。\\\n",
    "   <font color=deeppink>**要注意数据类型变化**：\n",
    "   - 如果两个operant的dtype不一样，会自动做数据类型变换，规则是upcasting，resulting array的类型是更general or precise的那种\n",
    "   - 如果是+=,-=等operator，发生的是in place赋值，那么要注意左边operant的数据类型无法自动upcast。</font>"
   ]
  },
  {
   "cell_type": "code",
   "execution_count": 63,
   "id": "ff77e53b-bb94-4211-bf25-3ff7f87cb12c",
   "metadata": {
    "ExecuteTime": {
     "end_time": "2024-07-22T07:48:06.502394Z",
     "start_time": "2024-07-22T07:48:06.498811Z"
    }
   },
   "outputs": [
    {
     "name": "stdout",
     "output_type": "stream",
     "text": [
      "int16 float64 int16\n",
      "float64\n"
     ]
    }
   ],
   "source": [
    "# dtype\n",
    "b = np.random.randn(6)\n",
    "a, c = np.ones(6, dtype=np.int16), np.ones(6, dtype=np.int16)\n",
    "print(a.dtype, b.dtype, c.dtype)\n",
    "b += a\n",
    "print(b.dtype)"
   ]
  },
  {
   "cell_type": "code",
   "execution_count": 64,
   "id": "ea8cec91-6c48-4f82-94fe-2f96a2d72951",
   "metadata": {
    "ExecuteTime": {
     "end_time": "2024-07-22T07:48:06.506014Z",
     "start_time": "2024-07-22T07:48:06.503841Z"
    }
   },
   "outputs": [],
   "source": [
    "# c += b # 报错，UFuncTypeError: Cannot cast ufunc 'add' output from dtype('float64') to dtype('int16') "
   ]
  },
  {
   "cell_type": "markdown",
   "id": "2b5ae5d1-7255-4a7b-a652-4f040e4b43c8",
   "metadata": {},
   "source": [
    "3. 二元运算的时候，两个operator array的shape要一样。如果不一样，那么要遵守broadcast规则的要求 \\\n",
    "   <font color=norange>**broadcast的两个规则**：\n",
    "   - 如果两个矩阵的ndims不同，运算的时候自动将它的最左边缺的维度上的size扩展为1，使两个矩阵的ndims相同。比如：一个shape是(n,)的array A与另一个二维array B做运算，会先扩展为(1, n)\n",
    "   - 两个ndims相同的array做运算，如果它们的shape不同，那么不同的维度上至少其中一个的size必须为1，在size=1的维度上copy，直到两个array的size相同。如果前面例子中array B的shape是(3, n)，那么A会在第一个维度上自我复制，扩展为形状是(3, n)后再跟B做elementwise的运算。</font>"
   ]
  },
  {
   "cell_type": "markdown",
   "id": "f971f840-4b6b-4471-8ba7-2daa4de188e1",
   "metadata": {},
   "source": [
    "### II.2 常见ufun运算"
   ]
  },
  {
   "cell_type": "markdown",
   "id": "a1718d9c-0207-4b5f-a108-9a82f9debc06",
   "metadata": {},
   "source": [
    "1. 一般数学运算：+, -, *, /, //, %, **"
   ]
  },
  {
   "cell_type": "code",
   "execution_count": 65,
   "id": "927546b9-2235-41cd-b212-86555ec59080",
   "metadata": {
    "ExecuteTime": {
     "end_time": "2024-07-22T07:48:06.510696Z",
     "start_time": "2024-07-22T07:48:06.507360Z"
    }
   },
   "outputs": [
    {
     "name": "stdout",
     "output_type": "stream",
     "text": [
      "[[1 0]\n",
      " [1 2]]\n",
      "[[0 0]\n",
      " [1 0]]\n"
     ]
    }
   ],
   "source": [
    "A = np.array([[2, 0],\n",
    "              [3, 4]])\n",
    "print(A // 2)\n",
    "print(A % 2)"
   ]
  },
  {
   "cell_type": "markdown",
   "id": "026a6ace-3e02-4129-9d24-2239164c97f6",
   "metadata": {},
   "source": [
    "2. 三角运算：sin, cos, tan, arcsin, arccos, arctan, sinh, cosh, tanh ...\n",
    "3. 比较运算：>, >=, <, <=, ==, !=\n",
    "4. 位运算和逻辑运算：&(and), |(or), ^(xor)和~(not)\n",
    "   - 如果operant是int类型，上述operator会执行位运算\n",
    "   - 如果operant是boolean类型，上述operator会执行逻辑运算。\n",
    "   - <font color=norange>逻辑运算经常用来做mask</font>"
   ]
  },
  {
   "cell_type": "code",
   "execution_count": 66,
   "id": "6bd23420-b4ac-45f9-9c92-88d02fd7b6ea",
   "metadata": {
    "ExecuteTime": {
     "end_time": "2024-07-22T07:48:06.515257Z",
     "start_time": "2024-07-22T07:48:06.512200Z"
    }
   },
   "outputs": [
    {
     "name": "stdout",
     "output_type": "stream",
     "text": [
      "[-2 -3 -4 -5] [False  True False  True]\n"
     ]
    }
   ],
   "source": [
    "B = np.array([1, 2, 3, 4])\n",
    "b = np.array([True, False, True, False])\n",
    "print(~B, ~b)"
   ]
  },
  {
   "cell_type": "code",
   "execution_count": 67,
   "id": "b0691abb-02ef-462d-b786-dbb295b59663",
   "metadata": {
    "ExecuteTime": {
     "end_time": "2024-07-22T07:48:06.519680Z",
     "start_time": "2024-07-22T07:48:06.516626Z"
    }
   },
   "outputs": [
    {
     "name": "stdout",
     "output_type": "stream",
     "text": [
      "[9 4 5] [12  3]\n"
     ]
    }
   ],
   "source": [
    "c = np.array([9, 12, 3, 4, 5])\n",
    "mask = (c > 3) & (c < 10)\n",
    "print(c[mask], c[~mask])"
   ]
  },
  {
   "cell_type": "markdown",
   "id": "413b837b-4f84-4e16-9e7b-dca7378fb365",
   "metadata": {},
   "source": [
    "4. 统计摘要: \\\n",
    "   (1) 返回value：sum, min, max, std, var, mean, median, percentile\\\n",
    "   (2) 返回value index：argmin, argmax\\\n",
    "   (3) any, all：范围boolean scalar\\\n",
    "   (4) prod：返回所有元素相乘的结果scalar \\\n",
    "   (5) unique: 去重"
   ]
  },
  {
   "cell_type": "code",
   "execution_count": 68,
   "id": "51377447-8f65-4bd8-b2d7-2c8ed446d273",
   "metadata": {
    "ExecuteTime": {
     "end_time": "2024-07-22T07:48:06.524706Z",
     "start_time": "2024-07-22T07:48:06.521061Z"
    }
   },
   "outputs": [
    {
     "data": {
      "text/plain": [
       "array([[ 0.410696  ,  2.43154337, -0.09841513],\n",
       "       [-0.23911424, -1.6777795 , -0.42242518]])"
      ]
     },
     "execution_count": 68,
     "metadata": {},
     "output_type": "execute_result"
    }
   ],
   "source": [
    "a = np.random.randn(2, 3)\n",
    "a"
   ]
  },
  {
   "cell_type": "code",
   "execution_count": 69,
   "id": "94ae7f7f-f425-4737-a935-03506c28b749",
   "metadata": {
    "ExecuteTime": {
     "end_time": "2024-07-22T07:48:06.530967Z",
     "start_time": "2024-07-22T07:48:06.526051Z"
    }
   },
   "outputs": [
    {
     "data": {
      "text/plain": [
       "(0.40450531535672407, 2.4315433670732034)"
      ]
     },
     "execution_count": 69,
     "metadata": {},
     "output_type": "execute_result"
    }
   ],
   "source": [
    "# 常用统计函数\n",
    "a.sum(), a.max()"
   ]
  },
  {
   "cell_type": "code",
   "execution_count": 70,
   "id": "695653ce-b2f0-482f-96e3-f1b4609f79f3",
   "metadata": {
    "ExecuteTime": {
     "end_time": "2024-07-22T07:48:06.535750Z",
     "start_time": "2024-07-22T07:48:06.532355Z"
    }
   },
   "outputs": [
    {
     "data": {
      "text/plain": [
       "array([ 0.17158176,  0.75376386, -0.52084031])"
      ]
     },
     "execution_count": 70,
     "metadata": {},
     "output_type": "execute_result"
    }
   ],
   "source": [
    "# 指定axia：规则被指定的dim会被reduce掉\n",
    "a.sum(axis=0)"
   ]
  },
  {
   "cell_type": "code",
   "execution_count": 71,
   "id": "4c5c9d0f-fb00-411d-bb2b-f261013c5164",
   "metadata": {
    "ExecuteTime": {
     "end_time": "2024-07-22T07:48:06.540478Z",
     "start_time": "2024-07-22T07:48:06.537111Z"
    }
   },
   "outputs": [
    {
     "data": {
      "text/plain": [
       "(True, False)"
      ]
     },
     "execution_count": 71,
     "metadata": {},
     "output_type": "execute_result"
    }
   ],
   "source": [
    "# any，all\n",
    "np.any(a>0), np.all(a>0)"
   ]
  },
  {
   "cell_type": "code",
   "execution_count": 72,
   "id": "4ab86a7a-d1c6-4bb1-b67d-4857349bb988",
   "metadata": {
    "ExecuteTime": {
     "end_time": "2024-07-22T07:48:06.545539Z",
     "start_time": "2024-07-22T07:48:06.541961Z"
    }
   },
   "outputs": [
    {
     "data": {
      "text/plain": [
       "array([9, 2, 3, 2, 2])"
      ]
     },
     "execution_count": 72,
     "metadata": {},
     "output_type": "execute_result"
    }
   ],
   "source": [
    "b = np.arange(10)\n",
    "c = np.random.choice(b, size=5, replace=True)\n",
    "c"
   ]
  },
  {
   "cell_type": "code",
   "execution_count": 73,
   "id": "d5c8d0bf-16c7-44a5-bf79-60c5ab18aad8",
   "metadata": {
    "ExecuteTime": {
     "end_time": "2024-07-22T07:48:06.550623Z",
     "start_time": "2024-07-22T07:48:06.546939Z"
    }
   },
   "outputs": [
    {
     "data": {
      "text/plain": [
       "(0, 1, 2.0)"
      ]
     },
     "execution_count": 73,
     "metadata": {},
     "output_type": "execute_result"
    }
   ],
   "source": [
    "# 返回index\n",
    "c.argmax(), c.argmin(), np.percentile(c, 4)"
   ]
  },
  {
   "cell_type": "code",
   "execution_count": 74,
   "id": "f5a6b34b",
   "metadata": {
    "ExecuteTime": {
     "end_time": "2024-07-22T07:48:06.555965Z",
     "start_time": "2024-07-22T07:48:06.552101Z"
    }
   },
   "outputs": [
    {
     "data": {
      "text/plain": [
       "(array([[11, 11, 12, 13],\n",
       "        [14, 12, 13, 11]]),\n",
       " array([11, 12, 13, 14]))"
      ]
     },
     "execution_count": 74,
     "metadata": {},
     "output_type": "execute_result"
    }
   ],
   "source": [
    "# 提取唯一值：unique\n",
    "a = np.array([11, 11, 12, 13, 14, 12, 13, 11]).reshape(2, -1)\n",
    "a, np.unique(a)"
   ]
  },
  {
   "cell_type": "code",
   "execution_count": 75,
   "id": "fefcc433",
   "metadata": {
    "ExecuteTime": {
     "end_time": "2024-07-22T07:48:06.561153Z",
     "start_time": "2024-07-22T07:48:06.557276Z"
    }
   },
   "outputs": [
    {
     "data": {
      "text/plain": [
       "(array([11, 12, 13, 14]), array([0, 2, 3, 4]))"
      ]
     },
     "execution_count": 75,
     "metadata": {},
     "output_type": "execute_result"
    }
   ],
   "source": [
    "# 如果要返回index，给unique函数设置参数\n",
    "uni_value, uni_ind = np.unique(a, return_index=True) # 返回的index是unique value首次出现的位置\n",
    "uni_value, uni_ind\n",
    "# 当原始array是多维矩阵时，可以提取唯一的row，col等，可以设置axis=0，axis=1参数"
   ]
  },
  {
   "cell_type": "markdown",
   "id": "d84c68ff-fc03-4dc8-aeca-5a98e454128a",
   "metadata": {},
   "source": [
    "5. 2种规则不同的矩阵inner product \\\n",
    "   (1) matmul, 也就是@ \\\n",
    "   (2) dot\n",
    "- 在两个二维矩阵求内积的时候他们效果一样，两者的差异是：\n",
    "  - matmul不能用scalar做乘法。 比如不能用：A @ 2\n",
    "  - matmul中，Stacks of matrices are broadcast together as if the matrices were elements, respecting the signature (n,k),(k,m)->(n,m)"
   ]
  },
  {
   "cell_type": "code",
   "execution_count": 76,
   "id": "c89e1465-f1f6-4977-a7b0-09e776ad4eb5",
   "metadata": {
    "ExecuteTime": {
     "end_time": "2024-07-22T07:48:06.566679Z",
     "start_time": "2024-07-22T07:48:06.562520Z"
    }
   },
   "outputs": [
    {
     "data": {
      "text/plain": [
       "(array([[ True,  True,  True],\n",
       "        [ True,  True,  True]]),\n",
       " (2, 3))"
      ]
     },
     "execution_count": 76,
     "metadata": {},
     "output_type": "execute_result"
    }
   ],
   "source": [
    "x = np.ones([2, 4])\n",
    "y = np.ones([4, 3])\n",
    "z = x @ y\n",
    "w = np.dot(x, y)\n",
    "z==w, z.shape"
   ]
  },
  {
   "cell_type": "code",
   "execution_count": 77,
   "id": "31703bdf-fbd4-4f0b-9e91-ef94e927d4fe",
   "metadata": {
    "ExecuteTime": {
     "end_time": "2024-07-22T07:48:06.571921Z",
     "start_time": "2024-07-22T07:48:06.568076Z"
    }
   },
   "outputs": [
    {
     "data": {
      "text/plain": [
       "(6, 5, 2, 3)"
      ]
     },
     "execution_count": 77,
     "metadata": {},
     "output_type": "execute_result"
    }
   ],
   "source": [
    "a = np.ones([6, 5, 2, 4])\n",
    "b = np.ones([6, 5, 4, 3])\n",
    "c = a @ b # 在最后两个维度上做(2, 4),(4, 3)的inner product，前面的维度视为stack\n",
    "c.shape"
   ]
  },
  {
   "cell_type": "code",
   "execution_count": 78,
   "id": "45b0dd56-6720-41c8-a748-d20ced71cd8e",
   "metadata": {
    "ExecuteTime": {
     "end_time": "2024-07-22T07:48:06.576756Z",
     "start_time": "2024-07-22T07:48:06.573330Z"
    }
   },
   "outputs": [
    {
     "data": {
      "text/plain": [
       "(6, 5, 2, 6, 5, 3)"
      ]
     },
     "execution_count": 78,
     "metadata": {},
     "output_type": "execute_result"
    }
   ],
   "source": [
    "d = np.dot(a, b)\n",
    "d.shape"
   ]
  },
  {
   "cell_type": "markdown",
   "id": "5f4fce70-6c74-491b-81b8-88d6936e6381",
   "metadata": {},
   "source": [
    "5. ufunc提供的一些功能性method \\\n",
    "   (1) reduce：在指定维度上执行ufunc运算，同时将该维度reduce掉 \\\n",
    "   (2) accumulate：在指定维度上执行ufunc运算，该维度上保留运算执行到每个elements时候的中间值 \\\n",
    "   (3) outer：外积运算   "
   ]
  },
  {
   "cell_type": "code",
   "execution_count": 79,
   "id": "00ca37a1-fd3b-45c0-a7e7-1c93574654c1",
   "metadata": {
    "ExecuteTime": {
     "end_time": "2024-07-22T07:48:06.581741Z",
     "start_time": "2024-07-22T07:48:06.578151Z"
    }
   },
   "outputs": [
    {
     "data": {
      "text/plain": [
       "(10, 30)"
      ]
     },
     "execution_count": 79,
     "metadata": {},
     "output_type": "execute_result"
    }
   ],
   "source": [
    "a = np.array([2,3,5])\n",
    "np.add.reduce(a), np.multiply.reduce(a)"
   ]
  },
  {
   "cell_type": "code",
   "execution_count": 80,
   "id": "076999d5-bee4-4c6a-9321-ee4673492c59",
   "metadata": {
    "ExecuteTime": {
     "end_time": "2024-07-22T07:48:06.587135Z",
     "start_time": "2024-07-22T07:48:06.583123Z"
    }
   },
   "outputs": [
    {
     "data": {
      "text/plain": [
       "(array([ 6,  9, 15]), array([ 30, 240]))"
      ]
     },
     "execution_count": 80,
     "metadata": {},
     "output_type": "execute_result"
    }
   ],
   "source": [
    "b = np.array([[2,3,5],\n",
    "              [4, 6, 10]])\n",
    "np.add.reduce(b, axis=0), np.multiply.reduce(b, axis=1)"
   ]
  },
  {
   "cell_type": "code",
   "execution_count": 81,
   "id": "8a93b730-d13c-4f1b-bc6f-d755862a5d17",
   "metadata": {
    "ExecuteTime": {
     "end_time": "2024-07-22T07:48:06.592223Z",
     "start_time": "2024-07-22T07:48:06.588513Z"
    }
   },
   "outputs": [
    {
     "data": {
      "text/plain": [
       "(array([ 2,  5, 10]), array([ 2,  6, 30]))"
      ]
     },
     "execution_count": 81,
     "metadata": {},
     "output_type": "execute_result"
    }
   ],
   "source": [
    "a = np.array([2,3,5])\n",
    "np.add.accumulate(a), np.multiply.accumulate(a)"
   ]
  }
 ],
 "metadata": {
  "kernelspec": {
   "display_name": "cs224nhw",
   "language": "python",
   "name": "cs224nhw"
  },
  "language_info": {
   "codemirror_mode": {
    "name": "ipython",
    "version": 3
   },
   "file_extension": ".py",
   "mimetype": "text/x-python",
   "name": "python",
   "nbconvert_exporter": "python",
   "pygments_lexer": "ipython3",
   "version": "3.10.13"
  }
 },
 "nbformat": 4,
 "nbformat_minor": 5
}
