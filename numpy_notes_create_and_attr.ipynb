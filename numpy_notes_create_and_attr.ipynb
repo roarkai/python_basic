{
 "cells": [
  {
   "cell_type": "code",
   "execution_count": 1,
   "id": "5c0155ec-05ed-4da6-9e47-dc5a42e2ef50",
   "metadata": {
    "ExecuteTime": {
     "end_time": "2024-07-22T07:48:06.006529Z",
     "start_time": "2024-07-22T07:48:05.634528Z"
    }
   },
   "outputs": [],
   "source": [
    "import numpy as np\n",
    "import matplotlib.pyplot as plt\n",
    "import sys"
   ]
  },
  {
   "cell_type": "markdown",
   "id": "1a2b50a8-d389-4090-bf23-1f1e6e2fadc1",
   "metadata": {},
   "source": [
    "## I. numpy array的六类基本操作"
   ]
  },
  {
   "cell_type": "markdown",
   "id": "70e2dc9e-7155-4dc3-bf50-b825c9065914",
   "metadata": {},
   "source": [
    "### 第1类操作：创建\n",
    "1. 有3种常用的创建方式：\\\n",
    "   (1) 直接用sequence \\\n",
    "   (2) 指定shape和初始值 \\\n",
    "   (3) 用arange或者linspace设置起始值和分割数量\n",
    "2. 创建时可以直接指定数据类型 \\\n",
    "   <font color=orange>如果不指定，整数默认是int64，浮点数默认是float64</font>"
   ]
  },
  {
   "cell_type": "markdown",
   "id": "5a49b1fb-1e59-4755-a43e-8f4c5e324703",
   "metadata": {
    "jp-MarkdownHeadingCollapsed": true
   },
   "source": [
    "#### 创建例子\n",
    "1. 直接用sequence创建\n",
    " - <font color=orange>array transforms sequences of sequences into two-dimensional arrays, sequences of sequences of sequences into three-dimensional arrays, and so on.</font>"
   ]
  },
  {
   "cell_type": "code",
   "execution_count": 2,
   "id": "78124707-3696-41ae-b728-006c0b997060",
   "metadata": {
    "ExecuteTime": {
     "end_time": "2024-07-22T07:48:06.011881Z",
     "start_time": "2024-07-22T07:48:06.008571Z"
    }
   },
   "outputs": [],
   "source": [
    "a = np.array([1, 2, 3, 4])\n",
    "# a = np.array(1, 2, 3, 4)    # WRONG 要用sequence"
   ]
  },
  {
   "cell_type": "code",
   "execution_count": 3,
   "id": "50bad883-6609-40ed-8fd8-3a1af35d37ca",
   "metadata": {
    "ExecuteTime": {
     "end_time": "2024-07-22T07:48:06.027396Z",
     "start_time": "2024-07-22T07:48:06.013612Z"
    }
   },
   "outputs": [
    {
     "data": {
      "text/plain": [
       "array([[1.5, 2. , 3. ],\n",
       "       [4. , 5. , 6. ]])"
      ]
     },
     "execution_count": 3,
     "metadata": {},
     "output_type": "execute_result"
    }
   ],
   "source": [
    "b = np.array([(1.5, 2, 3), (4, 5, 6)])\n",
    "b"
   ]
  },
  {
   "cell_type": "code",
   "execution_count": 4,
   "id": "9c6c047f-ca20-4dfe-bb6b-3bf87f0cf30c",
   "metadata": {
    "ExecuteTime": {
     "end_time": "2024-07-22T07:48:06.034797Z",
     "start_time": "2024-07-22T07:48:06.029376Z"
    }
   },
   "outputs": [
    {
     "data": {
      "text/plain": [
       "(dtype('float32'), dtype('float64'), dtype('int64'))"
      ]
     },
     "execution_count": 4,
     "metadata": {},
     "output_type": "execute_result"
    }
   ],
   "source": [
    "c = np.array([[1, 2], [3, 4]], dtype=np.float32)\n",
    "c.dtype, b.dtype, a.dtype"
   ]
  },
  {
   "cell_type": "markdown",
   "id": "c0b59e92-0bbd-4ddf-a072-777f9859ea99",
   "metadata": {},
   "source": [
    "2. 指定shape来初始化矩阵 \\\n",
    "   (1) np.zeros, np.ones, np.empty \\\n",
    "   (2) np.zeros_like, np.ones_like, np.empty_like \\\n",
    "   (3) 默认数据类型是float64，可以直接指定类型"
   ]
  },
  {
   "cell_type": "code",
   "execution_count": 5,
   "id": "021e109b-34e4-4d1d-b0f0-a660c900ed53",
   "metadata": {
    "ExecuteTime": {
     "end_time": "2024-07-22T07:48:06.041368Z",
     "start_time": "2024-07-22T07:48:06.036128Z"
    }
   },
   "outputs": [
    {
     "data": {
      "text/plain": [
       "(array([[0, 0, 0],\n",
       "        [0, 0, 0]], dtype=int16),\n",
       " array([[1.5, 2. , 3. ],\n",
       "        [4. , 5. , 6. ]]))"
      ]
     },
     "execution_count": 5,
     "metadata": {},
     "output_type": "execute_result"
    }
   ],
   "source": [
    "x, y = np.zeros((2, 3), dtype=np.int16), np.empty((2, 3))\n",
    "x, y"
   ]
  },
  {
   "cell_type": "code",
   "execution_count": 6,
   "id": "cedff1ce-0a75-46fd-9c3b-dc6993a48266",
   "metadata": {
    "ExecuteTime": {
     "end_time": "2024-07-22T07:48:06.047036Z",
     "start_time": "2024-07-22T07:48:06.043088Z"
    }
   },
   "outputs": [
    {
     "data": {
      "text/plain": [
       "array([[1, 1, 1],\n",
       "       [1, 1, 1]], dtype=int16)"
      ]
     },
     "execution_count": 6,
     "metadata": {},
     "output_type": "execute_result"
    }
   ],
   "source": [
    "z = np.ones_like(y, dtype=np.int16)\n",
    "z"
   ]
  },
  {
   "cell_type": "markdown",
   "id": "722bed5a-6911-46ef-8d8d-cbc574003880",
   "metadata": {},
   "source": [
    "3. 设置起始值和分割数量 \\\n",
    "   (1) arange(start, stop, step)，生成的数据范围是[start, stop) \\\n",
    "   (2) linspace(start, stop, number_of_point)，生成的数据范围是[start, stop]\n",
    "    - <font color=orange>arange能提前知道前后两个point之间的step size，不知道生成的point数量。linspace直接指定生成的point数量</font>"
   ]
  },
  {
   "cell_type": "code",
   "execution_count": 7,
   "id": "39d249df-9d6c-44ba-b48b-94ded7de1c46",
   "metadata": {
    "ExecuteTime": {
     "end_time": "2024-07-22T07:48:06.053156Z",
     "start_time": "2024-07-22T07:48:06.048372Z"
    }
   },
   "outputs": [
    {
     "data": {
      "text/plain": [
       "(array([ 0,  5, 10, 15]), array([20, 15, 10,  5]))"
      ]
     },
     "execution_count": 7,
     "metadata": {},
     "output_type": "execute_result"
    }
   ],
   "source": [
    "p, q = np.arange(0, 20, 5), np.arange(20, 0, -5) # reverse的时候，step size要设为负数\n",
    "p, q"
   ]
  },
  {
   "cell_type": "code",
   "execution_count": 8,
   "id": "17f84856-53ce-4077-b3b7-9e2bfb5eec98",
   "metadata": {
    "ExecuteTime": {
     "end_time": "2024-07-22T07:48:06.060996Z",
     "start_time": "2024-07-22T07:48:06.055259Z"
    }
   },
   "outputs": [
    {
     "data": {
      "text/plain": [
       "(array([0.  , 0.25, 0.5 , 0.75, 1.  , 1.25, 1.5 , 1.75, 2.  ]),\n",
       " array([0.    , 0.2856, 0.5713, 0.857 , 1.143 , 1.429 , 1.714 , 2.    ],\n",
       "       dtype=float16))"
      ]
     },
     "execution_count": 8,
     "metadata": {},
     "output_type": "execute_result"
    }
   ],
   "source": [
    "s, t = np.linspace(0, 2, 9), np.linspace(0, 2, 8, dtype=np.float16)\n",
    "s, t"
   ]
  },
  {
   "cell_type": "code",
   "execution_count": 9,
   "id": "1e6443ac-a566-407d-ac93-4fc4e02ac0d3",
   "metadata": {
    "ExecuteTime": {
     "end_time": "2024-07-22T07:48:06.066618Z",
     "start_time": "2024-07-22T07:48:06.063012Z"
    }
   },
   "outputs": [],
   "source": [
    "# linspace常用于函数自变量取值范围分割\n",
    "x = np.linspace(0, 2*np.pi, 100)\n",
    "f = np.sin(s)"
   ]
  },
  {
   "cell_type": "markdown",
   "id": "8caf7892-3363-40a2-914d-d365cc22e068",
   "metadata": {},
   "source": [
    "4. 打印numpy array"
   ]
  },
  {
   "cell_type": "code",
   "execution_count": 10,
   "id": "55b1c2fa-bbce-43e2-a06e-6cd91b37a37c",
   "metadata": {
    "ExecuteTime": {
     "end_time": "2024-07-22T07:48:06.075810Z",
     "start_time": "2024-07-22T07:48:06.070867Z"
    }
   },
   "outputs": [
    {
     "name": "stdout",
     "output_type": "stream",
     "text": [
      "[[ 0  1  2  3  4]\n",
      " [ 5  6  7  8  9]\n",
      " [10 11 12 13 14]\n",
      " [15 16 17 18 19]\n",
      " [20 21 22 23 24]\n",
      " [25 26 27 28 29]\n",
      " [30 31 32 33 34]\n",
      " [35 36 37 38 39]\n",
      " [40 41 42 43 44]\n",
      " [45 46 47 48 49]]\n"
     ]
    }
   ],
   "source": [
    "# 当array太大的时候，默认的print会省略一部分内容。如果想打印全部，可以用np.set_printoptions()\n",
    "np.set_printoptions(threshold=sys.maxsize)\n",
    "print(np.arange(50).reshape(10, 5))"
   ]
  },
  {
   "cell_type": "code",
   "execution_count": 11,
   "id": "ca3e27ae-1610-4a7e-9180-c43add96f6a8",
   "metadata": {
    "ExecuteTime": {
     "end_time": "2024-07-22T07:48:06.081963Z",
     "start_time": "2024-07-22T07:48:06.077475Z"
    }
   },
   "outputs": [
    {
     "name": "stdout",
     "output_type": "stream",
     "text": [
      "[[ 0  1  2  3  4]\n",
      " [ 5  6  7  8  9]\n",
      " [10 11 12 13 14]\n",
      " ...\n",
      " [35 36 37 38 39]\n",
      " [40 41 42 43 44]\n",
      " [45 46 47 48 49]]\n"
     ]
    }
   ],
   "source": [
    "# 通常还是设置为只打印部分\n",
    "np.set_printoptions(threshold=10)\n",
    "print(np.arange(50).reshape(10, 5))"
   ]
  },
  {
   "cell_type": "markdown",
   "id": "e66835ef-53dd-4995-80e1-ef08785c718c",
   "metadata": {},
   "source": [
    "### 第2类操作：属性\n",
    "1. 属性不是函数，是实例的变量\n",
    "2. 主要的属性有：\\\n",
    "   (1) A.ndim，A.dtype，A.shape \\\n",
    "   (2) A.size是number of elements, A.itemsize是byte size of one elements \\\n",
    "   (3) A.data是数据存储地址"
   ]
  },
  {
   "cell_type": "code",
   "execution_count": 12,
   "id": "b3bb6095-2b69-41bd-b36a-31c2366cb480",
   "metadata": {
    "ExecuteTime": {
     "end_time": "2024-07-22T07:48:06.088693Z",
     "start_time": "2024-07-22T07:48:06.083762Z"
    }
   },
   "outputs": [
    {
     "name": "stdout",
     "output_type": "stream",
     "text": [
      "2 (2, 3) 6\n",
      "float64 8\n",
      "<memory at 0x76d1d2513850>\n"
     ]
    }
   ],
   "source": [
    "a = np.array([[1., 0., 0.],[0., 1., 2.]])\n",
    "print(a.ndim, a.shape, a.size)\n",
    "print(a.dtype, a.itemsize)\n",
    "print(a.data)"
   ]
  }
 ],
 "metadata": {
  "kernelspec": {
   "display_name": "cs224nhw",
   "language": "python",
   "name": "cs224nhw"
  },
  "language_info": {
   "codemirror_mode": {
    "name": "ipython",
    "version": 3
   },
   "file_extension": ".py",
   "mimetype": "text/x-python",
   "name": "python",
   "nbconvert_exporter": "python",
   "pygments_lexer": "ipython3",
   "version": "3.10.13"
  }
 },
 "nbformat": 4,
 "nbformat_minor": 5
}
